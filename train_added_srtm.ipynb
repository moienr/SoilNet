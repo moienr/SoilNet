{
 "cells": [
  {
   "cell_type": "code",
   "execution_count": 1,
   "metadata": {},
   "outputs": [],
   "source": [
    "from train_utils import *\n",
    "import torch\n",
    "from torch.utils.data import DataLoader\n",
    "from dataset.dataset_loader import SNDataset, myNormalize, myToTensor, Augmentations\n",
    "from torchvision import transforms"
   ]
  },
  {
   "cell_type": "code",
   "execution_count": 2,
   "metadata": {},
   "outputs": [
    {
     "data": {
      "text/plain": [
       "'Nafiseh'"
      ]
     },
     "execution_count": 2,
     "metadata": {},
     "output_type": "execute_result"
    }
   ],
   "source": [
    "import os\n",
    "os.getcwd()\n",
    "\n",
    "NAFISEH = \"Nafiseh\"\n",
    "MOIEN = \"Moien\"\n",
    "\n",
    "if \"d:\" in os.getcwd():\n",
    "    USER = MOIEN\n",
    "elif \"c:\" in os.getcwd():\n",
    "    USER = NAFISEH\n",
    "else:\n",
    "    raise Exception(\"Unknown user\")\n",
    "\n",
    "USER"
   ]
  },
  {
   "cell_type": "code",
   "execution_count": 3,
   "metadata": {},
   "outputs": [
    {
     "data": {
      "text/plain": [
       "'cuda'"
      ]
     },
     "execution_count": 3,
     "metadata": {},
     "output_type": "execute_result"
    }
   ],
   "source": [
    "# Setup device-agnostic code\n",
    "device = \"cuda\" if torch.cuda.is_available() else \"cpu\"\n",
    "device"
   ]
  },
  {
   "cell_type": "code",
   "execution_count": 4,
   "metadata": {},
   "outputs": [],
   "source": [
    "#mynorm = myNormalize(img_bands_min_max =[[(0,7),(0,1)], [(7,12),(-1,1)], [(12), (-4,2963)], [(13), (0, 90)]], oc_min = 0, oc_max = 200)\n",
    "mynorm = myNormalize(img_bands_min_max =[[(0,7),(0,1)], [(7,12),(-1,1)]], oc_min = 0, oc_max = 90)\n",
    "my_to_tensor = myToTensor()\n",
    "my_augmentation = Augmentations()\n",
    "train_transform = transforms.Compose([mynorm, my_to_tensor,my_augmentation])\n",
    "test_transform = transforms.Compose([mynorm, my_to_tensor])"
   ]
  },
  {
   "cell_type": "code",
   "execution_count": 5,
   "metadata": {},
   "outputs": [],
   "source": [
    "bands = [0,1,2,3,4,5,6,7,8,9,10,11]\n",
    "if USER == MOIEN:\n",
    "    train_ds = SNDataset('D:\\python\\SoilNet\\dataset\\l8_images\\\\train\\\\','D:\\python\\SoilNet\\dataset\\LUCAS_2015_all.csv',l8_bands=bands, transform=train_transform)\n",
    "elif USER == NAFISEH:\n",
    "    train_ds = SNDataset('C:\\\\Users\\\\nkakhani\\\\_Multimodal\\\\SoilNet-1\\\\dataset\\\\l8_images\\\\train',\\\n",
    "                        'C:\\\\Users\\\\nkakhani\\\\_Multimodal\\\\SoilNet-1\\\\dataset\\\\LUCAS_2015_all.csv',l8_bands=bands, transform=train_transform) #Nafiseh \n",
    "if USER == MOIEN:\n",
    "    test_ds = SNDataset('D:\\python\\SoilNet\\dataset\\l8_images\\\\test\\\\','D:\\python\\SoilNet\\dataset\\LUCAS_2015_all.csv',l8_bands=bands, transform=test_transform)\n",
    "elif USER == NAFISEH:\n",
    "    test_ds = SNDataset('C:\\\\Users\\\\nkakhani\\\\_Multimodal\\\\SoilNet-1\\\\dataset\\\\l8_images\\\\test',\\\n",
    "                        'C:\\\\Users\\\\nkakhani\\\\_Multimodal\\\\SoilNet-1\\\\dataset\\\\LUCAS_2015_all.csv',l8_bands=bands, transform=test_transform) #Nafiseh "
   ]
  },
  {
   "cell_type": "code",
   "execution_count": 6,
   "metadata": {},
   "outputs": [],
   "source": [
    "# CONFIG\n",
    "NUM_WORKERS = 6 if USER == NAFISEH else 2\n",
    "TRAIN_BATCH_SIZE = 32 if USER == NAFISEH else 4\n",
    "TEST_BATCH_SIZE = 32 if USER == NAFISEH else 4\n",
    "LEARNING_RATE = 1e-4 if USER == NAFISEH else 1e-4\n",
    "NUM_EPOCHS = 100 if USER == NAFISEH else 10\n",
    "LR_SCHEDULER = \"step\" # step, plateau or None\n",
    "USE_SPATIAL_ATTENTION = False"
   ]
  },
  {
   "cell_type": "code",
   "execution_count": 7,
   "metadata": {},
   "outputs": [],
   "source": [
    "train_dl = DataLoader(train_ds, batch_size=TRAIN_BATCH_SIZE, shuffle=True, num_workers=NUM_WORKERS)\n",
    "test_dl = DataLoader(test_ds, batch_size=TEST_BATCH_SIZE, shuffle=False, num_workers=NUM_WORKERS)"
   ]
  },
  {
   "cell_type": "code",
   "execution_count": 8,
   "metadata": {},
   "outputs": [],
   "source": [
    "from soilnet.soil_net import SoilNetFC, ResNet"
   ]
  },
  {
   "cell_type": "code",
   "execution_count": 9,
   "metadata": {},
   "outputs": [],
   "source": [
    "#model = SoilNetFC(cnn_in_channels=12, regresor_input_from_cnn=1024, hidden_size=128).to(device)\n",
    "if USE_SPATIAL_ATTENTION:\n",
    "    model = ResNet(resnet_architecture=\"101+GLAM\",cnn_in_channels=12, regresor_input_from_cnn=1024, hidden_size=128).to(device)\n",
    "else:\n",
    "    model = ResNet(resnet_architecture=\"101\",cnn_in_channels=12, regresor_input_from_cnn=1024, hidden_size=128).to(device)"
   ]
  },
  {
   "cell_type": "code",
   "execution_count": 10,
   "metadata": {},
   "outputs": [],
   "source": [
    "# # Get image and label from custom DataLoader\n",
    "# img_custom, label_custom = next(iter(train_dl))\n",
    "# print(f\"Image shape: {img_custom.shape} -> [batch_size, color_channels, height, width]\")\n",
    "# print(f\"Label shape: {label_custom.shape}\")\n",
    "# img_gpu = img_custom.to(device)\n",
    "# print(img_gpu.device, img_gpu.shape)\n",
    "# print(img_gpu.shape)\n",
    "# y = model(img_gpu)\n",
    "# y.detach()"
   ]
  },
  {
   "cell_type": "code",
   "execution_count": 11,
   "metadata": {},
   "outputs": [
    {
     "name": "stdout",
     "output_type": "stream",
     "text": [
      "Adjusting learning rate of group 0 to 1.0000e-04.\n",
      "\u001b[92m Epoch 1\n",
      "------------------------------- \u001b[0m\n"
     ]
    },
    {
     "name": "stderr",
     "output_type": "stream",
     "text": [
      "100%|██████████| 478/478 [00:42<00:00, 11.25it/s, Train_Loss=0.263]\n"
     ]
    },
    {
     "name": "stdout",
     "output_type": "stream",
     "text": [
      "\u001b[96m Epoch 1 Results: |  train_loss: 0.26349242570884057 |  test_loss: 0.2484048628350244  \u001b[0m\n",
      "\n",
      "Adjusting learning rate of group 0 to 1.0000e-04.\n",
      "\u001b[92m Epoch 2\n",
      "------------------------------- \u001b[0m\n"
     ]
    },
    {
     "name": "stderr",
     "output_type": "stream",
     "text": [
      "100%|██████████| 478/478 [00:38<00:00, 12.54it/s, Train_Loss=0.25] \n"
     ]
    },
    {
     "name": "stdout",
     "output_type": "stream",
     "text": [
      "\u001b[96m Epoch 2 Results: |  train_loss: 0.24970765449262564 |  test_loss: 0.24577721246402628  \u001b[0m\n",
      "\n",
      "Adjusting learning rate of group 0 to 1.0000e-04.\n",
      "\u001b[92m Epoch 3\n",
      "------------------------------- \u001b[0m\n"
     ]
    },
    {
     "name": "stderr",
     "output_type": "stream",
     "text": [
      "100%|██████████| 478/478 [00:38<00:00, 12.52it/s, Train_Loss=0.247]\n"
     ]
    },
    {
     "name": "stdout",
     "output_type": "stream",
     "text": [
      "\u001b[96m Epoch 3 Results: |  train_loss: 0.24681403484803363 |  test_loss: 0.23871180665318983  \u001b[0m\n",
      "\n",
      "Adjusting learning rate of group 0 to 1.0000e-04.\n",
      "\u001b[92m Epoch 4\n",
      "------------------------------- \u001b[0m\n"
     ]
    },
    {
     "name": "stderr",
     "output_type": "stream",
     "text": [
      "100%|██████████| 478/478 [00:38<00:00, 12.54it/s, Train_Loss=0.244]\n"
     ]
    },
    {
     "name": "stdout",
     "output_type": "stream",
     "text": [
      "\u001b[96m Epoch 4 Results: |  train_loss: 0.24385769609128083 |  test_loss: 0.23705755500462802  \u001b[0m\n",
      "\n",
      "Adjusting learning rate of group 0 to 1.0000e-04.\n",
      "\u001b[92m Epoch 5\n",
      "------------------------------- \u001b[0m\n"
     ]
    },
    {
     "name": "stderr",
     "output_type": "stream",
     "text": [
      "100%|██████████| 478/478 [00:38<00:00, 12.53it/s, Train_Loss=0.242]\n"
     ]
    },
    {
     "name": "stdout",
     "output_type": "stream",
     "text": [
      "\u001b[96m Epoch 5 Results: |  train_loss: 0.24183535564955808 |  test_loss: 0.2570382528496485  \u001b[0m\n",
      "\n",
      "Adjusting learning rate of group 0 to 1.0000e-04.\n",
      "\u001b[92m Epoch 6\n",
      "------------------------------- \u001b[0m\n"
     ]
    },
    {
     "name": "stderr",
     "output_type": "stream",
     "text": [
      "100%|██████████| 478/478 [00:39<00:00, 12.11it/s, Train_Loss=0.241]\n"
     ]
    },
    {
     "name": "stdout",
     "output_type": "stream",
     "text": [
      "\u001b[96m Epoch 6 Results: |  train_loss: 0.24062992167896805 |  test_loss: 0.23388618829041502  \u001b[0m\n",
      "\n",
      "Adjusting learning rate of group 0 to 1.0000e-04.\n",
      "\u001b[92m Epoch 7\n",
      "------------------------------- \u001b[0m\n"
     ]
    },
    {
     "name": "stderr",
     "output_type": "stream",
     "text": [
      "100%|██████████| 478/478 [00:39<00:00, 12.13it/s, Train_Loss=0.239]\n"
     ]
    },
    {
     "name": "stdout",
     "output_type": "stream",
     "text": [
      "\u001b[96m Epoch 7 Results: |  train_loss: 0.23903505281237378 |  test_loss: 0.2334267764630979  \u001b[0m\n",
      "\n",
      "Adjusting learning rate of group 0 to 1.0000e-04.\n",
      "\u001b[92m Epoch 8\n",
      "------------------------------- \u001b[0m\n"
     ]
    },
    {
     "name": "stderr",
     "output_type": "stream",
     "text": [
      "100%|██████████| 478/478 [00:39<00:00, 12.21it/s, Train_Loss=0.238]\n"
     ]
    },
    {
     "name": "stdout",
     "output_type": "stream",
     "text": [
      "\u001b[96m Epoch 8 Results: |  train_loss: 0.23754972437685004 |  test_loss: 0.23291392526487364  \u001b[0m\n",
      "\n",
      "Adjusting learning rate of group 0 to 1.0000e-04.\n",
      "\u001b[92m Epoch 9\n",
      "------------------------------- \u001b[0m\n"
     ]
    },
    {
     "name": "stderr",
     "output_type": "stream",
     "text": [
      "100%|██████████| 478/478 [00:39<00:00, 12.22it/s, Train_Loss=0.238]\n"
     ]
    },
    {
     "name": "stdout",
     "output_type": "stream",
     "text": [
      "\u001b[96m Epoch 9 Results: |  train_loss: 0.2381446330056031 |  test_loss: 0.23471224960619516  \u001b[0m\n",
      "\n",
      "Adjusting learning rate of group 0 to 1.0000e-04.\n",
      "\u001b[92m Epoch 10\n",
      "------------------------------- \u001b[0m\n"
     ]
    },
    {
     "name": "stderr",
     "output_type": "stream",
     "text": [
      "100%|██████████| 478/478 [00:38<00:00, 12.28it/s, Train_Loss=0.238]\n"
     ]
    },
    {
     "name": "stdout",
     "output_type": "stream",
     "text": [
      "\u001b[96m Epoch 10 Results: |  train_loss: 0.23771930040175945 |  test_loss: 0.26017603267283335  \u001b[0m\n",
      "\n",
      "Adjusting learning rate of group 0 to 2.0000e-05.\n",
      "\u001b[92m Epoch 11\n",
      "------------------------------- \u001b[0m\n"
     ]
    },
    {
     "name": "stderr",
     "output_type": "stream",
     "text": [
      "100%|██████████| 478/478 [00:38<00:00, 12.55it/s, Train_Loss=0.233]\n"
     ]
    },
    {
     "name": "stdout",
     "output_type": "stream",
     "text": [
      "\u001b[96m Epoch 11 Results: |  train_loss: 0.23312573802022254 |  test_loss: 0.22811008957180665  \u001b[0m\n",
      "\n",
      "Adjusting learning rate of group 0 to 2.0000e-05.\n",
      "\u001b[92m Epoch 12\n",
      "------------------------------- \u001b[0m\n"
     ]
    },
    {
     "name": "stderr",
     "output_type": "stream",
     "text": [
      "100%|██████████| 478/478 [00:38<00:00, 12.55it/s, Train_Loss=0.232]\n"
     ]
    },
    {
     "name": "stdout",
     "output_type": "stream",
     "text": [
      "\u001b[96m Epoch 12 Results: |  train_loss: 0.2324750258832796 |  test_loss: 0.227973615329196  \u001b[0m\n",
      "\n",
      "Adjusting learning rate of group 0 to 2.0000e-05.\n",
      "\u001b[92m Epoch 13\n",
      "------------------------------- \u001b[0m\n"
     ]
    },
    {
     "name": "stderr",
     "output_type": "stream",
     "text": [
      "100%|██████████| 478/478 [00:38<00:00, 12.50it/s, Train_Loss=0.232]\n"
     ]
    },
    {
     "name": "stdout",
     "output_type": "stream",
     "text": [
      "\u001b[96m Epoch 13 Results: |  train_loss: 0.2316870119843523 |  test_loss: 0.2287582788262924  \u001b[0m\n",
      "\n",
      "Adjusting learning rate of group 0 to 2.0000e-05.\n",
      "\u001b[92m Epoch 14\n",
      "------------------------------- \u001b[0m\n"
     ]
    },
    {
     "name": "stderr",
     "output_type": "stream",
     "text": [
      "100%|██████████| 478/478 [00:38<00:00, 12.55it/s, Train_Loss=0.231]\n"
     ]
    },
    {
     "name": "stdout",
     "output_type": "stream",
     "text": [
      "\u001b[96m Epoch 14 Results: |  train_loss: 0.23125532889839995 |  test_loss: 0.2303602941279864  \u001b[0m\n",
      "\n",
      "Adjusting learning rate of group 0 to 2.0000e-05.\n",
      "\u001b[92m Epoch 15\n",
      "------------------------------- \u001b[0m\n"
     ]
    },
    {
     "name": "stderr",
     "output_type": "stream",
     "text": [
      "100%|██████████| 478/478 [00:37<00:00, 12.60it/s, Train_Loss=0.23] \n"
     ]
    },
    {
     "name": "stdout",
     "output_type": "stream",
     "text": [
      "\u001b[96m Epoch 15 Results: |  train_loss: 0.230375934127235 |  test_loss: 0.2266167346252142  \u001b[0m\n",
      "\n",
      "Adjusting learning rate of group 0 to 2.0000e-05.\n",
      "\u001b[92m Epoch 16\n",
      "------------------------------- \u001b[0m\n"
     ]
    },
    {
     "name": "stderr",
     "output_type": "stream",
     "text": [
      "100%|██████████| 478/478 [01:12<00:00,  6.59it/s, Train_Loss=0.229]\n"
     ]
    },
    {
     "name": "stdout",
     "output_type": "stream",
     "text": [
      "\u001b[96m Epoch 16 Results: |  train_loss: 0.229250739963733 |  test_loss: 0.22998881590192335  \u001b[0m\n",
      "\n",
      "Adjusting learning rate of group 0 to 2.0000e-05.\n",
      "\u001b[92m Epoch 17\n",
      "------------------------------- \u001b[0m\n"
     ]
    },
    {
     "name": "stderr",
     "output_type": "stream",
     "text": [
      "100%|██████████| 478/478 [01:18<00:00,  6.08it/s, Train_Loss=0.229]\n"
     ]
    },
    {
     "name": "stdout",
     "output_type": "stream",
     "text": [
      "\u001b[96m Epoch 17 Results: |  train_loss: 0.22913380023325836 |  test_loss: 0.22885684587442093  \u001b[0m\n",
      "\n",
      "Adjusting learning rate of group 0 to 2.0000e-05.\n",
      "\u001b[92m Epoch 18\n",
      "------------------------------- \u001b[0m\n"
     ]
    },
    {
     "name": "stderr",
     "output_type": "stream",
     "text": [
      "100%|██████████| 478/478 [01:18<00:00,  6.08it/s, Train_Loss=0.229]\n"
     ]
    },
    {
     "name": "stdout",
     "output_type": "stream",
     "text": [
      "\u001b[96m Epoch 18 Results: |  train_loss: 0.2285784603910965 |  test_loss: 0.22936447628223114  \u001b[0m\n",
      "\n",
      "Adjusting learning rate of group 0 to 2.0000e-05.\n",
      "\u001b[92m Epoch 19\n",
      "------------------------------- \u001b[0m\n"
     ]
    },
    {
     "name": "stderr",
     "output_type": "stream",
     "text": [
      "100%|██████████| 478/478 [01:19<00:00,  5.98it/s, Train_Loss=0.229]\n"
     ]
    },
    {
     "name": "stdout",
     "output_type": "stream",
     "text": [
      "\u001b[96m Epoch 19 Results: |  train_loss: 0.22857208997322925 |  test_loss: 0.23494398496011748  \u001b[0m\n",
      "\n",
      "Adjusting learning rate of group 0 to 2.0000e-05.\n",
      "\u001b[92m Epoch 20\n",
      "------------------------------- \u001b[0m\n"
     ]
    },
    {
     "name": "stderr",
     "output_type": "stream",
     "text": [
      "100%|██████████| 478/478 [01:18<00:00,  6.11it/s, Train_Loss=0.228]\n"
     ]
    },
    {
     "name": "stdout",
     "output_type": "stream",
     "text": [
      "\u001b[96m Epoch 20 Results: |  train_loss: 0.22809685012286676 |  test_loss: 0.22812887520468147  \u001b[0m\n",
      "\n",
      "Adjusting learning rate of group 0 to 4.0000e-06.\n",
      "\u001b[92m Epoch 21\n",
      "------------------------------- \u001b[0m\n"
     ]
    },
    {
     "name": "stderr",
     "output_type": "stream",
     "text": [
      "100%|██████████| 478/478 [01:18<00:00,  6.08it/s, Train_Loss=0.225]\n"
     ]
    },
    {
     "name": "stdout",
     "output_type": "stream",
     "text": [
      "\u001b[96m Epoch 21 Results: |  train_loss: 0.22518987314596337 |  test_loss: 0.22513120170057255  \u001b[0m\n",
      "\n",
      "Adjusting learning rate of group 0 to 4.0000e-06.\n",
      "\u001b[92m Epoch 22\n",
      "------------------------------- \u001b[0m\n"
     ]
    },
    {
     "name": "stderr",
     "output_type": "stream",
     "text": [
      "100%|██████████| 478/478 [01:18<00:00,  6.06it/s, Train_Loss=0.225]\n"
     ]
    },
    {
     "name": "stdout",
     "output_type": "stream",
     "text": [
      "\u001b[96m Epoch 22 Results: |  train_loss: 0.22511905160533832 |  test_loss: 0.22591188044226082  \u001b[0m\n",
      "\n",
      "Adjusting learning rate of group 0 to 4.0000e-06.\n",
      "\u001b[92m Epoch 23\n",
      "------------------------------- \u001b[0m\n"
     ]
    },
    {
     "name": "stderr",
     "output_type": "stream",
     "text": [
      "100%|██████████| 478/478 [01:18<00:00,  6.08it/s, Train_Loss=0.224]\n"
     ]
    },
    {
     "name": "stdout",
     "output_type": "stream",
     "text": [
      "\u001b[96m Epoch 23 Results: |  train_loss: 0.2243922398928319 |  test_loss: 0.22679019458320018  \u001b[0m\n",
      "\n",
      "Adjusting learning rate of group 0 to 4.0000e-06.\n",
      "\u001b[92m Epoch 24\n",
      "------------------------------- \u001b[0m\n"
     ]
    },
    {
     "name": "stderr",
     "output_type": "stream",
     "text": [
      "100%|██████████| 478/478 [01:18<00:00,  6.06it/s, Train_Loss=0.224]\n"
     ]
    },
    {
     "name": "stdout",
     "output_type": "stream",
     "text": [
      "\u001b[96m Epoch 24 Results: |  train_loss: 0.22437413582367877 |  test_loss: 0.2266146044117691  \u001b[0m\n",
      "\n",
      "Adjusting learning rate of group 0 to 4.0000e-06.\n",
      "\u001b[92m Epoch 25\n",
      "------------------------------- \u001b[0m\n"
     ]
    },
    {
     "name": "stderr",
     "output_type": "stream",
     "text": [
      "100%|██████████| 478/478 [01:18<00:00,  6.06it/s, Train_Loss=0.224]\n"
     ]
    },
    {
     "name": "stdout",
     "output_type": "stream",
     "text": [
      "\u001b[96m Epoch 25 Results: |  train_loss: 0.22411892360473776 |  test_loss: 0.22604433963768675  \u001b[0m\n",
      "\n",
      "Adjusting learning rate of group 0 to 4.0000e-06.\n",
      "\u001b[92m Epoch 26\n",
      "------------------------------- \u001b[0m\n"
     ]
    },
    {
     "name": "stderr",
     "output_type": "stream",
     "text": [
      "100%|██████████| 478/478 [01:18<00:00,  6.08it/s, Train_Loss=0.224]\n"
     ]
    },
    {
     "name": "stdout",
     "output_type": "stream",
     "text": [
      "\u001b[96m Epoch 26 Results: |  train_loss: 0.223954468155007 |  test_loss: 0.2265140277734638  \u001b[0m\n",
      "\n",
      "Adjusting learning rate of group 0 to 4.0000e-06.\n",
      "\u001b[92m Epoch 27\n",
      "------------------------------- \u001b[0m\n"
     ]
    },
    {
     "name": "stderr",
     "output_type": "stream",
     "text": [
      "100%|██████████| 478/478 [01:19<00:00,  6.02it/s, Train_Loss=0.224]\n"
     ]
    },
    {
     "name": "stdout",
     "output_type": "stream",
     "text": [
      "\u001b[96m Epoch 27 Results: |  train_loss: 0.22390946736520304 |  test_loss: 0.22636977240551998  \u001b[0m\n",
      "\n",
      "Adjusting learning rate of group 0 to 4.0000e-06.\n",
      "\u001b[92m Epoch 28\n",
      "------------------------------- \u001b[0m\n"
     ]
    },
    {
     "name": "stderr",
     "output_type": "stream",
     "text": [
      "100%|██████████| 478/478 [01:18<00:00,  6.07it/s, Train_Loss=0.223]\n"
     ]
    },
    {
     "name": "stdout",
     "output_type": "stream",
     "text": [
      "\u001b[96m Epoch 28 Results: |  train_loss: 0.22306702984302113 |  test_loss: 0.22645269443083854  \u001b[0m\n",
      "\n",
      "Adjusting learning rate of group 0 to 4.0000e-06.\n",
      "\u001b[92m Epoch 29\n",
      "------------------------------- \u001b[0m\n"
     ]
    },
    {
     "name": "stderr",
     "output_type": "stream",
     "text": [
      "100%|██████████| 478/478 [01:18<00:00,  6.06it/s, Train_Loss=0.223]\n"
     ]
    },
    {
     "name": "stdout",
     "output_type": "stream",
     "text": [
      "\u001b[96m Epoch 29 Results: |  train_loss: 0.2227049707181783 |  test_loss: 0.22621464625979862  \u001b[0m\n",
      "\n",
      "Adjusting learning rate of group 0 to 4.0000e-06.\n",
      "\u001b[92m Epoch 30\n",
      "------------------------------- \u001b[0m\n"
     ]
    },
    {
     "name": "stderr",
     "output_type": "stream",
     "text": [
      "100%|██████████| 478/478 [01:18<00:00,  6.07it/s, Train_Loss=0.223]\n"
     ]
    },
    {
     "name": "stdout",
     "output_type": "stream",
     "text": [
      "\u001b[96m Epoch 30 Results: |  train_loss: 0.22269553048964824 |  test_loss: 0.22543150077771096  \u001b[0m\n",
      "\n",
      "Adjusting learning rate of group 0 to 8.0000e-07.\n",
      "\u001b[92m Epoch 31\n",
      "------------------------------- \u001b[0m\n"
     ]
    },
    {
     "name": "stderr",
     "output_type": "stream",
     "text": [
      "100%|██████████| 478/478 [01:18<00:00,  6.07it/s, Train_Loss=0.223]\n"
     ]
    },
    {
     "name": "stdout",
     "output_type": "stream",
     "text": [
      "\u001b[96m Epoch 31 Results: |  train_loss: 0.22330741606122778 |  test_loss: 0.2262161388775728  \u001b[0m\n",
      "\n",
      "Adjusting learning rate of group 0 to 8.0000e-07.\n",
      "\u001b[92m Epoch 32\n",
      "------------------------------- \u001b[0m\n"
     ]
    },
    {
     "name": "stderr",
     "output_type": "stream",
     "text": [
      "100%|██████████| 478/478 [01:19<00:00,  6.05it/s, Train_Loss=0.223]\n"
     ]
    },
    {
     "name": "stdout",
     "output_type": "stream",
     "text": [
      "\u001b[96m Epoch 32 Results: |  train_loss: 0.22252457966116182 |  test_loss: 0.22575848941167775  \u001b[0m\n",
      "\n",
      "Adjusting learning rate of group 0 to 8.0000e-07.\n",
      "\u001b[92m Epoch 33\n",
      "------------------------------- \u001b[0m\n"
     ]
    },
    {
     "name": "stderr",
     "output_type": "stream",
     "text": [
      "100%|██████████| 478/478 [01:18<00:00,  6.08it/s, Train_Loss=0.222]\n"
     ]
    },
    {
     "name": "stdout",
     "output_type": "stream",
     "text": [
      "\u001b[96m Epoch 33 Results: |  train_loss: 0.2224766123244952 |  test_loss: 0.22580191607240344  \u001b[0m\n",
      "\n",
      "Adjusting learning rate of group 0 to 8.0000e-07.\n",
      "\u001b[92m Epoch 34\n",
      "------------------------------- \u001b[0m\n"
     ]
    },
    {
     "name": "stderr",
     "output_type": "stream",
     "text": [
      "100%|██████████| 478/478 [01:18<00:00,  6.10it/s, Train_Loss=0.222]\n"
     ]
    },
    {
     "name": "stdout",
     "output_type": "stream",
     "text": [
      "\u001b[96m Epoch 34 Results: |  train_loss: 0.22231594175412067 |  test_loss: 0.2266581608322415  \u001b[0m\n",
      "\n",
      "Adjusting learning rate of group 0 to 8.0000e-07.\n",
      "\u001b[92m Epoch 35\n",
      "------------------------------- \u001b[0m\n"
     ]
    },
    {
     "name": "stderr",
     "output_type": "stream",
     "text": [
      "100%|██████████| 478/478 [01:19<00:00,  6.03it/s, Train_Loss=0.222]\n"
     ]
    },
    {
     "name": "stdout",
     "output_type": "stream",
     "text": [
      "\u001b[96m Epoch 35 Results: |  train_loss: 0.221709897578012 |  test_loss: 0.22646989526539824  \u001b[0m\n",
      "\n",
      "Adjusting learning rate of group 0 to 8.0000e-07.\n",
      "\u001b[92m Epoch 36\n",
      "------------------------------- \u001b[0m\n"
     ]
    },
    {
     "name": "stderr",
     "output_type": "stream",
     "text": [
      "100%|██████████| 478/478 [01:18<00:00,  6.08it/s, Train_Loss=0.222]\n"
     ]
    },
    {
     "name": "stdout",
     "output_type": "stream",
     "text": [
      "\u001b[96m Epoch 36 Results: |  train_loss: 0.22194118303671542 |  test_loss: 0.22649293507102633  \u001b[0m\n",
      "\n",
      "Adjusting learning rate of group 0 to 8.0000e-07.\n",
      "\u001b[92m Epoch 37\n",
      "------------------------------- \u001b[0m\n"
     ]
    },
    {
     "name": "stderr",
     "output_type": "stream",
     "text": [
      "100%|██████████| 478/478 [01:19<00:00,  6.05it/s, Train_Loss=0.221]\n"
     ]
    },
    {
     "name": "stdout",
     "output_type": "stream",
     "text": [
      "\u001b[96m Epoch 37 Results: |  train_loss: 0.2213189850666533 |  test_loss: 0.2258722127897896  \u001b[0m\n",
      "\n",
      "Adjusting learning rate of group 0 to 8.0000e-07.\n",
      "\u001b[92m Epoch 38\n",
      "------------------------------- \u001b[0m\n"
     ]
    },
    {
     "name": "stderr",
     "output_type": "stream",
     "text": [
      "100%|██████████| 478/478 [01:19<00:00,  6.05it/s, Train_Loss=0.223]\n"
     ]
    },
    {
     "name": "stdout",
     "output_type": "stream",
     "text": [
      "\u001b[96m Epoch 38 Results: |  train_loss: 0.2228370367794855 |  test_loss: 0.22600417692948432  \u001b[0m\n",
      "\n",
      "Adjusting learning rate of group 0 to 8.0000e-07.\n",
      "\u001b[92m Epoch 39\n",
      "------------------------------- \u001b[0m\n"
     ]
    },
    {
     "name": "stderr",
     "output_type": "stream",
     "text": [
      "100%|██████████| 478/478 [01:18<00:00,  6.06it/s, Train_Loss=0.223]\n"
     ]
    },
    {
     "name": "stdout",
     "output_type": "stream",
     "text": [
      "\u001b[96m Epoch 39 Results: |  train_loss: 0.2226736814438299 |  test_loss: 0.2259029406156853  \u001b[0m\n",
      "\n",
      "Adjusting learning rate of group 0 to 8.0000e-07.\n",
      "\u001b[92m Epoch 40\n",
      "------------------------------- \u001b[0m\n"
     ]
    },
    {
     "name": "stderr",
     "output_type": "stream",
     "text": [
      "100%|██████████| 478/478 [01:19<00:00,  6.04it/s, Train_Loss=0.221]\n"
     ]
    },
    {
     "name": "stdout",
     "output_type": "stream",
     "text": [
      "\u001b[96m Epoch 40 Results: |  train_loss: 0.22143281301070455 |  test_loss: 0.225601390819915  \u001b[0m\n",
      "\n",
      "Adjusting learning rate of group 0 to 1.6000e-07.\n",
      "\u001b[92m Epoch 41\n",
      "------------------------------- \u001b[0m\n"
     ]
    },
    {
     "name": "stderr",
     "output_type": "stream",
     "text": [
      "100%|██████████| 478/478 [01:18<00:00,  6.07it/s, Train_Loss=0.223]\n"
     ]
    },
    {
     "name": "stdout",
     "output_type": "stream",
     "text": [
      "\u001b[96m Epoch 41 Results: |  train_loss: 0.22250127811062784 |  test_loss: 0.2255454949327629  \u001b[0m\n",
      "\n",
      "Adjusting learning rate of group 0 to 1.6000e-07.\n",
      "\u001b[92m Epoch 42\n",
      "------------------------------- \u001b[0m\n"
     ]
    },
    {
     "name": "stderr",
     "output_type": "stream",
     "text": [
      "100%|██████████| 478/478 [01:18<00:00,  6.08it/s, Train_Loss=0.222]\n"
     ]
    },
    {
     "name": "stdout",
     "output_type": "stream",
     "text": [
      "\u001b[96m Epoch 42 Results: |  train_loss: 0.2223397670742358 |  test_loss: 0.22594844239906672  \u001b[0m\n",
      "\n",
      "Adjusting learning rate of group 0 to 1.6000e-07.\n",
      "\u001b[92m Epoch 43\n",
      "------------------------------- \u001b[0m\n"
     ]
    },
    {
     "name": "stderr",
     "output_type": "stream",
     "text": [
      "100%|██████████| 478/478 [01:20<00:00,  5.97it/s, Train_Loss=0.223]\n"
     ]
    },
    {
     "name": "stdout",
     "output_type": "stream",
     "text": [
      "\u001b[96m Epoch 43 Results: |  train_loss: 0.22252347273557255 |  test_loss: 0.2270500222153037  \u001b[0m\n",
      "\n",
      "Adjusting learning rate of group 0 to 1.6000e-07.\n",
      "\u001b[92m Epoch 44\n",
      "------------------------------- \u001b[0m\n"
     ]
    },
    {
     "name": "stderr",
     "output_type": "stream",
     "text": [
      "100%|██████████| 478/478 [01:18<00:00,  6.08it/s, Train_Loss=0.222]\n"
     ]
    },
    {
     "name": "stdout",
     "output_type": "stream",
     "text": [
      "\u001b[96m Epoch 44 Results: |  train_loss: 0.22204735045901902 |  test_loss: 0.22615964879302214  \u001b[0m\n",
      "\n",
      "Adjusting learning rate of group 0 to 1.6000e-07.\n",
      "\u001b[92m Epoch 45\n",
      "------------------------------- \u001b[0m\n"
     ]
    },
    {
     "name": "stderr",
     "output_type": "stream",
     "text": [
      "100%|██████████| 478/478 [01:19<00:00,  6.01it/s, Train_Loss=0.222]\n"
     ]
    },
    {
     "name": "stdout",
     "output_type": "stream",
     "text": [
      "\u001b[96m Epoch 45 Results: |  train_loss: 0.22234674281280908 |  test_loss: 0.2252660500307153  \u001b[0m\n",
      "\n",
      "Adjusting learning rate of group 0 to 1.6000e-07.\n",
      "\u001b[92m Epoch 46\n",
      "------------------------------- \u001b[0m\n"
     ]
    },
    {
     "name": "stderr",
     "output_type": "stream",
     "text": [
      "100%|██████████| 478/478 [01:18<00:00,  6.06it/s, Train_Loss=0.222]\n"
     ]
    },
    {
     "name": "stdout",
     "output_type": "stream",
     "text": [
      "\u001b[96m Epoch 46 Results: |  train_loss: 0.22183740017429057 |  test_loss: 0.22604607654749043  \u001b[0m\n",
      "\n",
      "Adjusting learning rate of group 0 to 1.6000e-07.\n",
      "\u001b[92m Epoch 47\n",
      "------------------------------- \u001b[0m\n"
     ]
    },
    {
     "name": "stderr",
     "output_type": "stream",
     "text": [
      "100%|██████████| 478/478 [01:19<00:00,  6.05it/s, Train_Loss=0.223]\n"
     ]
    },
    {
     "name": "stdout",
     "output_type": "stream",
     "text": [
      "\u001b[96m Epoch 47 Results: |  train_loss: 0.22250710873548954 |  test_loss: 0.2260945334921788  \u001b[0m\n",
      "\n",
      "Adjusting learning rate of group 0 to 1.6000e-07.\n",
      "\u001b[92m Epoch 48\n",
      "------------------------------- \u001b[0m\n"
     ]
    },
    {
     "name": "stderr",
     "output_type": "stream",
     "text": [
      "100%|██████████| 478/478 [01:19<00:00,  6.01it/s, Train_Loss=0.222]\n"
     ]
    },
    {
     "name": "stdout",
     "output_type": "stream",
     "text": [
      "\u001b[96m Epoch 48 Results: |  train_loss: 0.22224397318258446 |  test_loss: 0.22583359626740435  \u001b[0m\n",
      "\n",
      "Adjusting learning rate of group 0 to 1.6000e-07.\n",
      "\u001b[92m Epoch 49\n",
      "------------------------------- \u001b[0m\n"
     ]
    },
    {
     "name": "stderr",
     "output_type": "stream",
     "text": [
      "100%|██████████| 478/478 [01:18<00:00,  6.09it/s, Train_Loss=0.221]\n"
     ]
    },
    {
     "name": "stdout",
     "output_type": "stream",
     "text": [
      "\u001b[96m Epoch 49 Results: |  train_loss: 0.22139146693331427 |  test_loss: 0.22556984593180845  \u001b[0m\n",
      "\n",
      "Adjusting learning rate of group 0 to 1.6000e-07.\n",
      "\u001b[92m Epoch 50\n",
      "------------------------------- \u001b[0m\n"
     ]
    },
    {
     "name": "stderr",
     "output_type": "stream",
     "text": [
      "100%|██████████| 478/478 [01:18<00:00,  6.05it/s, Train_Loss=0.222]\n"
     ]
    },
    {
     "name": "stdout",
     "output_type": "stream",
     "text": [
      "\u001b[96m Epoch 50 Results: |  train_loss: 0.22199154691965511 |  test_loss: 0.2254704085797289  \u001b[0m\n",
      "\n",
      "Adjusting learning rate of group 0 to 3.2000e-08.\n",
      "\u001b[92m Epoch 51\n",
      "------------------------------- \u001b[0m\n"
     ]
    },
    {
     "name": "stderr",
     "output_type": "stream",
     "text": [
      "100%|██████████| 478/478 [01:19<00:00,  6.04it/s, Train_Loss=0.221]\n"
     ]
    },
    {
     "name": "stdout",
     "output_type": "stream",
     "text": [
      "\u001b[96m Epoch 51 Results: |  train_loss: 0.22114413337602776 |  test_loss: 0.225636753722699  \u001b[0m\n",
      "\n",
      "Adjusting learning rate of group 0 to 3.2000e-08.\n",
      "\u001b[92m Epoch 52\n",
      "------------------------------- \u001b[0m\n"
     ]
    },
    {
     "name": "stderr",
     "output_type": "stream",
     "text": [
      "100%|██████████| 478/478 [01:19<00:00,  6.02it/s, Train_Loss=0.223]\n"
     ]
    },
    {
     "name": "stdout",
     "output_type": "stream",
     "text": [
      "\u001b[96m Epoch 52 Results: |  train_loss: 0.22260698919266336 |  test_loss: 0.2258981606059701  \u001b[0m\n",
      "\n",
      "Adjusting learning rate of group 0 to 3.2000e-08.\n",
      "\u001b[92m Epoch 53\n",
      "------------------------------- \u001b[0m\n"
     ]
    },
    {
     "name": "stderr",
     "output_type": "stream",
     "text": [
      "100%|██████████| 478/478 [01:19<00:00,  6.03it/s, Train_Loss=0.222]\n"
     ]
    },
    {
     "name": "stdout",
     "output_type": "stream",
     "text": [
      "\u001b[96m Epoch 53 Results: |  train_loss: 0.22238509221368755 |  test_loss: 0.2259022263932402  \u001b[0m\n",
      "\n",
      "Adjusting learning rate of group 0 to 3.2000e-08.\n",
      "\u001b[92m Epoch 54\n",
      "------------------------------- \u001b[0m\n"
     ]
    },
    {
     "name": "stderr",
     "output_type": "stream",
     "text": [
      "100%|██████████| 478/478 [01:18<00:00,  6.06it/s, Train_Loss=0.222]\n"
     ]
    },
    {
     "name": "stdout",
     "output_type": "stream",
     "text": [
      "\u001b[96m Epoch 54 Results: |  train_loss: 0.2222617051903174 |  test_loss: 0.2256292909057471  \u001b[0m\n",
      "\n",
      "Adjusting learning rate of group 0 to 3.2000e-08.\n",
      "\u001b[92m Epoch 55\n",
      "------------------------------- \u001b[0m\n"
     ]
    },
    {
     "name": "stderr",
     "output_type": "stream",
     "text": [
      "100%|██████████| 478/478 [01:20<00:00,  5.94it/s, Train_Loss=0.222]\n"
     ]
    },
    {
     "name": "stdout",
     "output_type": "stream",
     "text": [
      "\u001b[96m Epoch 55 Results: |  train_loss: 0.2221528060703098 |  test_loss: 0.22641724424205556  \u001b[0m\n",
      "\n",
      "Adjusting learning rate of group 0 to 3.2000e-08.\n",
      "\u001b[92m Epoch 56\n",
      "------------------------------- \u001b[0m\n"
     ]
    },
    {
     "name": "stderr",
     "output_type": "stream",
     "text": [
      "100%|██████████| 478/478 [01:21<00:00,  5.88it/s, Train_Loss=0.222]\n"
     ]
    },
    {
     "name": "stdout",
     "output_type": "stream",
     "text": [
      "\u001b[96m Epoch 56 Results: |  train_loss: 0.2219259949969946 |  test_loss: 0.22619342401514958  \u001b[0m\n",
      "\n",
      "Adjusting learning rate of group 0 to 3.2000e-08.\n",
      "\u001b[92m Epoch 57\n",
      "------------------------------- \u001b[0m\n"
     ]
    },
    {
     "name": "stderr",
     "output_type": "stream",
     "text": [
      "100%|██████████| 478/478 [01:19<00:00,  6.02it/s, Train_Loss=0.222]\n"
     ]
    },
    {
     "name": "stdout",
     "output_type": "stream",
     "text": [
      "\u001b[96m Epoch 57 Results: |  train_loss: 0.22220484557012135 |  test_loss: 0.225936155412754  \u001b[0m\n",
      "\n",
      "Adjusting learning rate of group 0 to 3.2000e-08.\n",
      "\u001b[92m Epoch 58\n",
      "------------------------------- \u001b[0m\n"
     ]
    },
    {
     "name": "stderr",
     "output_type": "stream",
     "text": [
      "100%|██████████| 478/478 [01:19<00:00,  6.02it/s, Train_Loss=0.222]\n"
     ]
    },
    {
     "name": "stdout",
     "output_type": "stream",
     "text": [
      "\u001b[96m Epoch 58 Results: |  train_loss: 0.22241098913812238 |  test_loss: 0.22643135961172353  \u001b[0m\n",
      "\n",
      "Adjusting learning rate of group 0 to 3.2000e-08.\n",
      "\u001b[92m Epoch 59\n",
      "------------------------------- \u001b[0m\n"
     ]
    },
    {
     "name": "stderr",
     "output_type": "stream",
     "text": [
      "100%|██████████| 478/478 [01:19<00:00,  6.02it/s, Train_Loss=0.222]\n"
     ]
    },
    {
     "name": "stdout",
     "output_type": "stream",
     "text": [
      "\u001b[96m Epoch 59 Results: |  train_loss: 0.22173266948267006 |  test_loss: 0.22500360539577302  \u001b[0m\n",
      "\n",
      "Adjusting learning rate of group 0 to 3.2000e-08.\n",
      "\u001b[92m Epoch 60\n",
      "------------------------------- \u001b[0m\n"
     ]
    },
    {
     "name": "stderr",
     "output_type": "stream",
     "text": [
      "100%|██████████| 478/478 [01:19<00:00,  6.02it/s, Train_Loss=0.222]\n"
     ]
    },
    {
     "name": "stdout",
     "output_type": "stream",
     "text": [
      "\u001b[96m Epoch 60 Results: |  train_loss: 0.22189130942691818 |  test_loss: 0.22546369462770266  \u001b[0m\n",
      "\n",
      "Adjusting learning rate of group 0 to 6.4000e-09.\n",
      "\u001b[92m Epoch 61\n",
      "------------------------------- \u001b[0m\n"
     ]
    },
    {
     "name": "stderr",
     "output_type": "stream",
     "text": [
      "100%|██████████| 478/478 [01:19<00:00,  6.00it/s, Train_Loss=0.222]\n"
     ]
    },
    {
     "name": "stdout",
     "output_type": "stream",
     "text": [
      "\u001b[96m Epoch 61 Results: |  train_loss: 0.22241222019848964 |  test_loss: 0.22540127980883104  \u001b[0m\n",
      "\n",
      "Adjusting learning rate of group 0 to 6.4000e-09.\n",
      "\u001b[92m Epoch 62\n",
      "------------------------------- \u001b[0m\n"
     ]
    },
    {
     "name": "stderr",
     "output_type": "stream",
     "text": [
      "100%|██████████| 478/478 [01:19<00:00,  6.04it/s, Train_Loss=0.222]\n"
     ]
    },
    {
     "name": "stdout",
     "output_type": "stream",
     "text": [
      "\u001b[96m Epoch 62 Results: |  train_loss: 0.2223154741288728 |  test_loss: 0.22604978769800088  \u001b[0m\n",
      "\n",
      "Adjusting learning rate of group 0 to 6.4000e-09.\n",
      "\u001b[92m Epoch 63\n",
      "------------------------------- \u001b[0m\n"
     ]
    },
    {
     "name": "stderr",
     "output_type": "stream",
     "text": [
      "100%|██████████| 478/478 [01:19<00:00,  6.05it/s, Train_Loss=0.222]\n"
     ]
    },
    {
     "name": "stdout",
     "output_type": "stream",
     "text": [
      "\u001b[96m Epoch 63 Results: |  train_loss: 0.2217353716430305 |  test_loss: 0.2258841033182005  \u001b[0m\n",
      "\n",
      "Adjusting learning rate of group 0 to 6.4000e-09.\n",
      "\u001b[92m Epoch 64\n",
      "------------------------------- \u001b[0m\n"
     ]
    },
    {
     "name": "stderr",
     "output_type": "stream",
     "text": [
      "100%|██████████| 478/478 [01:19<00:00,  5.99it/s, Train_Loss=0.222]\n"
     ]
    },
    {
     "name": "stdout",
     "output_type": "stream",
     "text": [
      "\u001b[96m Epoch 64 Results: |  train_loss: 0.2218965267037747 |  test_loss: 0.22624287830434575  \u001b[0m\n",
      "\n",
      "Adjusting learning rate of group 0 to 6.4000e-09.\n",
      "\u001b[92m Epoch 65\n",
      "------------------------------- \u001b[0m\n"
     ]
    },
    {
     "name": "stderr",
     "output_type": "stream",
     "text": [
      "100%|██████████| 478/478 [01:19<00:00,  5.98it/s, Train_Loss=0.222]\n"
     ]
    },
    {
     "name": "stdout",
     "output_type": "stream",
     "text": [
      "\u001b[96m Epoch 65 Results: |  train_loss: 0.22196932476808837 |  test_loss: 0.2273786911455384  \u001b[0m\n",
      "\n",
      "Adjusting learning rate of group 0 to 6.4000e-09.\n",
      "\u001b[92m Epoch 66\n",
      "------------------------------- \u001b[0m\n"
     ]
    },
    {
     "name": "stderr",
     "output_type": "stream",
     "text": [
      "100%|██████████| 478/478 [01:19<00:00,  6.02it/s, Train_Loss=0.223]\n"
     ]
    },
    {
     "name": "stdout",
     "output_type": "stream",
     "text": [
      "\u001b[96m Epoch 66 Results: |  train_loss: 0.2233340823438377 |  test_loss: 0.22600117902251055  \u001b[0m\n",
      "\n",
      "Adjusting learning rate of group 0 to 6.4000e-09.\n",
      "\u001b[92m Epoch 67\n",
      "------------------------------- \u001b[0m\n"
     ]
    },
    {
     "name": "stderr",
     "output_type": "stream",
     "text": [
      "100%|██████████| 478/478 [01:19<00:00,  6.02it/s, Train_Loss=0.222]\n"
     ]
    },
    {
     "name": "stdout",
     "output_type": "stream",
     "text": [
      "\u001b[96m Epoch 67 Results: |  train_loss: 0.22157996002912023 |  test_loss: 0.22585244134177257  \u001b[0m\n",
      "\n",
      "Adjusting learning rate of group 0 to 6.4000e-09.\n",
      "\u001b[92m Epoch 68\n",
      "------------------------------- \u001b[0m\n"
     ]
    },
    {
     "name": "stderr",
     "output_type": "stream",
     "text": [
      "100%|██████████| 478/478 [01:19<00:00,  6.04it/s, Train_Loss=0.222]\n"
     ]
    },
    {
     "name": "stdout",
     "output_type": "stream",
     "text": [
      "\u001b[96m Epoch 68 Results: |  train_loss: 0.22218374845622474 |  test_loss: 0.22625860060653546  \u001b[0m\n",
      "\n",
      "Adjusting learning rate of group 0 to 6.4000e-09.\n",
      "\u001b[92m Epoch 69\n",
      "------------------------------- \u001b[0m\n"
     ]
    },
    {
     "name": "stderr",
     "output_type": "stream",
     "text": [
      "100%|██████████| 478/478 [01:19<00:00,  5.99it/s, Train_Loss=0.222]\n"
     ]
    },
    {
     "name": "stdout",
     "output_type": "stream",
     "text": [
      "\u001b[96m Epoch 69 Results: |  train_loss: 0.22244514596636825 |  test_loss: 0.2257242395277441  \u001b[0m\n",
      "\n",
      "Adjusting learning rate of group 0 to 6.4000e-09.\n",
      "\u001b[92m Epoch 70\n",
      "------------------------------- \u001b[0m\n"
     ]
    },
    {
     "name": "stderr",
     "output_type": "stream",
     "text": [
      "100%|██████████| 478/478 [01:19<00:00,  6.02it/s, Train_Loss=0.222]\n"
     ]
    },
    {
     "name": "stdout",
     "output_type": "stream",
     "text": [
      "\u001b[96m Epoch 70 Results: |  train_loss: 0.2215288507140331 |  test_loss: 0.22589248048998142  \u001b[0m\n",
      "\n",
      "Adjusting learning rate of group 0 to 1.2800e-09.\n",
      "\u001b[92m Epoch 71\n",
      "------------------------------- \u001b[0m\n"
     ]
    },
    {
     "name": "stderr",
     "output_type": "stream",
     "text": [
      "100%|██████████| 478/478 [01:19<00:00,  6.05it/s, Train_Loss=0.222]\n"
     ]
    },
    {
     "name": "stdout",
     "output_type": "stream",
     "text": [
      "\u001b[96m Epoch 71 Results: |  train_loss: 0.2218184538777902 |  test_loss: 0.22603998425668173  \u001b[0m\n",
      "\n",
      "Adjusting learning rate of group 0 to 1.2800e-09.\n",
      "\u001b[92m Epoch 72\n",
      "------------------------------- \u001b[0m\n"
     ]
    },
    {
     "name": "stderr",
     "output_type": "stream",
     "text": [
      "100%|██████████| 478/478 [01:19<00:00,  6.00it/s, Train_Loss=0.222]\n"
     ]
    },
    {
     "name": "stdout",
     "output_type": "stream",
     "text": [
      "\u001b[96m Epoch 72 Results: |  train_loss: 0.22207542571188515 |  test_loss: 0.2257358326311529  \u001b[0m\n",
      "\n",
      "Adjusting learning rate of group 0 to 1.2800e-09.\n",
      "\u001b[92m Epoch 73\n",
      "------------------------------- \u001b[0m\n"
     ]
    },
    {
     "name": "stderr",
     "output_type": "stream",
     "text": [
      "100%|██████████| 478/478 [01:19<00:00,  5.98it/s, Train_Loss=0.222]\n"
     ]
    },
    {
     "name": "stdout",
     "output_type": "stream",
     "text": [
      "\u001b[96m Epoch 73 Results: |  train_loss: 0.22185532196919788 |  test_loss: 0.2258184409707132  \u001b[0m\n",
      "\n",
      "Adjusting learning rate of group 0 to 1.2800e-09.\n",
      "\u001b[92m Epoch 74\n",
      "------------------------------- \u001b[0m\n"
     ]
    },
    {
     "name": "stderr",
     "output_type": "stream",
     "text": [
      "100%|██████████| 478/478 [01:19<00:00,  6.01it/s, Train_Loss=0.222]\n"
     ]
    },
    {
     "name": "stdout",
     "output_type": "stream",
     "text": [
      "\u001b[96m Epoch 74 Results: |  train_loss: 0.2217998613435853 |  test_loss: 0.22541247759639782  \u001b[0m\n",
      "\n",
      "Adjusting learning rate of group 0 to 1.2800e-09.\n",
      "\u001b[92m Epoch 75\n",
      "------------------------------- \u001b[0m\n"
     ]
    },
    {
     "name": "stderr",
     "output_type": "stream",
     "text": [
      "100%|██████████| 478/478 [01:19<00:00,  6.03it/s, Train_Loss=0.222]\n"
     ]
    },
    {
     "name": "stdout",
     "output_type": "stream",
     "text": [
      "\u001b[96m Epoch 75 Results: |  train_loss: 0.22248544799608166 |  test_loss: 0.22571589504062695  \u001b[0m\n",
      "\n",
      "Adjusting learning rate of group 0 to 1.2800e-09.\n",
      "\u001b[92m Epoch 76\n",
      "------------------------------- \u001b[0m\n"
     ]
    },
    {
     "name": "stderr",
     "output_type": "stream",
     "text": [
      "100%|██████████| 478/478 [01:19<00:00,  6.02it/s, Train_Loss=0.223]\n"
     ]
    },
    {
     "name": "stdout",
     "output_type": "stream",
     "text": [
      "\u001b[96m Epoch 76 Results: |  train_loss: 0.22296682860561992 |  test_loss: 0.22563407586438813  \u001b[0m\n",
      "\n",
      "Adjusting learning rate of group 0 to 1.2800e-09.\n",
      "\u001b[92m Epoch 77\n",
      "------------------------------- \u001b[0m\n"
     ]
    },
    {
     "name": "stderr",
     "output_type": "stream",
     "text": [
      "100%|██████████| 478/478 [01:19<00:00,  5.98it/s, Train_Loss=0.222]\n"
     ]
    },
    {
     "name": "stdout",
     "output_type": "stream",
     "text": [
      "\u001b[96m Epoch 77 Results: |  train_loss: 0.2222292561193141 |  test_loss: 0.2266746416796733  \u001b[0m\n",
      "\n",
      "Adjusting learning rate of group 0 to 1.2800e-09.\n",
      "\u001b[92m Epoch 78\n",
      "------------------------------- \u001b[0m\n"
     ]
    },
    {
     "name": "stderr",
     "output_type": "stream",
     "text": [
      "100%|██████████| 478/478 [01:20<00:00,  5.95it/s, Train_Loss=0.222]\n"
     ]
    },
    {
     "name": "stdout",
     "output_type": "stream",
     "text": [
      "\u001b[96m Epoch 78 Results: |  train_loss: 0.22227660416933284 |  test_loss: 0.22584932020110807  \u001b[0m\n",
      "\n",
      "Adjusting learning rate of group 0 to 1.2800e-09.\n",
      "\u001b[92m Epoch 79\n",
      "------------------------------- \u001b[0m\n"
     ]
    },
    {
     "name": "stderr",
     "output_type": "stream",
     "text": [
      "100%|██████████| 478/478 [01:19<00:00,  6.03it/s, Train_Loss=0.222]\n"
     ]
    },
    {
     "name": "stdout",
     "output_type": "stream",
     "text": [
      "\u001b[96m Epoch 79 Results: |  train_loss: 0.22157173293592042 |  test_loss: 0.22631841326934576  \u001b[0m\n",
      "\n",
      "Adjusting learning rate of group 0 to 1.2800e-09.\n",
      "\u001b[92m Epoch 80\n",
      "------------------------------- \u001b[0m\n"
     ]
    },
    {
     "name": "stderr",
     "output_type": "stream",
     "text": [
      "100%|██████████| 478/478 [01:20<00:00,  5.95it/s, Train_Loss=0.222]\n"
     ]
    },
    {
     "name": "stdout",
     "output_type": "stream",
     "text": [
      "\u001b[96m Epoch 80 Results: |  train_loss: 0.22151172697294705 |  test_loss: 0.22561309024365278  \u001b[0m\n",
      "\n",
      "Adjusting learning rate of group 0 to 2.5600e-10.\n",
      "\u001b[92m Epoch 81\n",
      "------------------------------- \u001b[0m\n"
     ]
    },
    {
     "name": "stderr",
     "output_type": "stream",
     "text": [
      "100%|██████████| 478/478 [01:19<00:00,  5.98it/s, Train_Loss=0.222]\n"
     ]
    },
    {
     "name": "stdout",
     "output_type": "stream",
     "text": [
      "\u001b[96m Epoch 81 Results: |  train_loss: 0.22242951884117584 |  test_loss: 0.2257438057313  \u001b[0m\n",
      "\n",
      "Adjusting learning rate of group 0 to 2.5600e-10.\n",
      "\u001b[92m Epoch 82\n",
      "------------------------------- \u001b[0m\n"
     ]
    },
    {
     "name": "stderr",
     "output_type": "stream",
     "text": [
      "100%|██████████| 478/478 [01:22<00:00,  5.82it/s, Train_Loss=0.223]\n"
     ]
    },
    {
     "name": "stdout",
     "output_type": "stream",
     "text": [
      "\u001b[96m Epoch 82 Results: |  train_loss: 0.2229509508572363 |  test_loss: 0.22611086277196007  \u001b[0m\n",
      "\n",
      "Adjusting learning rate of group 0 to 2.5600e-10.\n",
      "\u001b[92m Epoch 83\n",
      "------------------------------- \u001b[0m\n"
     ]
    },
    {
     "name": "stderr",
     "output_type": "stream",
     "text": [
      "100%|██████████| 478/478 [01:20<00:00,  5.90it/s, Train_Loss=0.222]\n"
     ]
    },
    {
     "name": "stdout",
     "output_type": "stream",
     "text": [
      "\u001b[96m Epoch 83 Results: |  train_loss: 0.22179974038855302 |  test_loss: 0.22554859383045323  \u001b[0m\n",
      "\n",
      "Adjusting learning rate of group 0 to 2.5600e-10.\n",
      "\u001b[92m Epoch 84\n",
      "------------------------------- \u001b[0m\n"
     ]
    },
    {
     "name": "stderr",
     "output_type": "stream",
     "text": [
      "100%|██████████| 478/478 [01:21<00:00,  5.87it/s, Train_Loss=0.223]\n"
     ]
    },
    {
     "name": "stdout",
     "output_type": "stream",
     "text": [
      "\u001b[96m Epoch 84 Results: |  train_loss: 0.22289620408453203 |  test_loss: 0.22552303273747437  \u001b[0m\n",
      "\n",
      "Adjusting learning rate of group 0 to 2.5600e-10.\n",
      "\u001b[92m Epoch 85\n",
      "------------------------------- \u001b[0m\n"
     ]
    },
    {
     "name": "stderr",
     "output_type": "stream",
     "text": [
      "100%|██████████| 478/478 [01:21<00:00,  5.87it/s, Train_Loss=0.221]\n"
     ]
    },
    {
     "name": "stdout",
     "output_type": "stream",
     "text": [
      "\u001b[96m Epoch 85 Results: |  train_loss: 0.22081112347262674 |  test_loss: 0.22573517866595819  \u001b[0m\n",
      "\n",
      "Adjusting learning rate of group 0 to 2.5600e-10.\n",
      "\u001b[92m Epoch 86\n",
      "------------------------------- \u001b[0m\n"
     ]
    },
    {
     "name": "stderr",
     "output_type": "stream",
     "text": [
      "100%|██████████| 478/478 [01:21<00:00,  5.86it/s, Train_Loss=0.222]\n"
     ]
    },
    {
     "name": "stdout",
     "output_type": "stream",
     "text": [
      "\u001b[96m Epoch 86 Results: |  train_loss: 0.2219788778152426 |  test_loss: 0.2256038172075348  \u001b[0m\n",
      "\n",
      "Adjusting learning rate of group 0 to 2.5600e-10.\n",
      "\u001b[92m Epoch 87\n",
      "------------------------------- \u001b[0m\n"
     ]
    },
    {
     "name": "stderr",
     "output_type": "stream",
     "text": [
      "100%|██████████| 478/478 [01:15<00:00,  6.32it/s, Train_Loss=0.222]\n"
     ]
    },
    {
     "name": "stdout",
     "output_type": "stream",
     "text": [
      "\u001b[96m Epoch 87 Results: |  train_loss: 0.22157036977582398 |  test_loss: 0.22549599795228373  \u001b[0m\n",
      "\n",
      "Adjusting learning rate of group 0 to 2.5600e-10.\n",
      "\u001b[92m Epoch 88\n",
      "------------------------------- \u001b[0m\n"
     ]
    },
    {
     "name": "stderr",
     "output_type": "stream",
     "text": [
      "100%|██████████| 478/478 [01:18<00:00,  6.05it/s, Train_Loss=0.222]\n"
     ]
    },
    {
     "name": "stdout",
     "output_type": "stream",
     "text": [
      "\u001b[96m Epoch 88 Results: |  train_loss: 0.2217879740825258 |  test_loss: 0.22669080960272003  \u001b[0m\n",
      "\n",
      "Adjusting learning rate of group 0 to 2.5600e-10.\n",
      "\u001b[92m Epoch 89\n",
      "------------------------------- \u001b[0m\n"
     ]
    },
    {
     "name": "stderr",
     "output_type": "stream",
     "text": [
      "100%|██████████| 478/478 [01:18<00:00,  6.12it/s, Train_Loss=0.223]\n"
     ]
    },
    {
     "name": "stdout",
     "output_type": "stream",
     "text": [
      "\u001b[96m Epoch 89 Results: |  train_loss: 0.2226022678937872 |  test_loss: 0.22611118733447833  \u001b[0m\n",
      "\n",
      "Adjusting learning rate of group 0 to 2.5600e-10.\n",
      "\u001b[92m Epoch 90\n",
      "------------------------------- \u001b[0m\n"
     ]
    },
    {
     "name": "stderr",
     "output_type": "stream",
     "text": [
      "100%|██████████| 478/478 [01:18<00:00,  6.06it/s, Train_Loss=0.221]\n"
     ]
    },
    {
     "name": "stdout",
     "output_type": "stream",
     "text": [
      "\u001b[96m Epoch 90 Results: |  train_loss: 0.22143061343720769 |  test_loss: 0.22570735596827346  \u001b[0m\n",
      "\n",
      "Adjusting learning rate of group 0 to 5.1200e-11.\n",
      "\u001b[92m Epoch 91\n",
      "------------------------------- \u001b[0m\n"
     ]
    },
    {
     "name": "stderr",
     "output_type": "stream",
     "text": [
      "100%|██████████| 478/478 [01:18<00:00,  6.12it/s, Train_Loss=0.222]\n"
     ]
    },
    {
     "name": "stdout",
     "output_type": "stream",
     "text": [
      "\u001b[96m Epoch 91 Results: |  train_loss: 0.222232557459107 |  test_loss: 0.22574258117127594  \u001b[0m\n",
      "\n",
      "Adjusting learning rate of group 0 to 5.1200e-11.\n",
      "\u001b[92m Epoch 92\n",
      "------------------------------- \u001b[0m\n"
     ]
    },
    {
     "name": "stderr",
     "output_type": "stream",
     "text": [
      "100%|██████████| 478/478 [01:18<00:00,  6.10it/s, Train_Loss=0.222]\n"
     ]
    },
    {
     "name": "stdout",
     "output_type": "stream",
     "text": [
      "\u001b[96m Epoch 92 Results: |  train_loss: 0.2221748352237825 |  test_loss: 0.22624828089980314  \u001b[0m\n",
      "\n",
      "Adjusting learning rate of group 0 to 5.1200e-11.\n",
      "\u001b[92m Epoch 93\n",
      "------------------------------- \u001b[0m\n"
     ]
    },
    {
     "name": "stderr",
     "output_type": "stream",
     "text": [
      "100%|██████████| 478/478 [01:18<00:00,  6.10it/s, Train_Loss=0.222]\n"
     ]
    },
    {
     "name": "stdout",
     "output_type": "stream",
     "text": [
      "\u001b[96m Epoch 93 Results: |  train_loss: 0.2219122896072256 |  test_loss: 0.2257021946737366  \u001b[0m\n",
      "\n",
      "Adjusting learning rate of group 0 to 5.1200e-11.\n",
      "\u001b[92m Epoch 94\n",
      "------------------------------- \u001b[0m\n"
     ]
    },
    {
     "name": "stderr",
     "output_type": "stream",
     "text": [
      "100%|██████████| 478/478 [01:18<00:00,  6.10it/s, Train_Loss=0.222]\n"
     ]
    },
    {
     "name": "stdout",
     "output_type": "stream",
     "text": [
      "\u001b[96m Epoch 94 Results: |  train_loss: 0.22236246995970793 |  test_loss: 0.2257562105673073  \u001b[0m\n",
      "\n",
      "Adjusting learning rate of group 0 to 5.1200e-11.\n",
      "\u001b[92m Epoch 95\n",
      "------------------------------- \u001b[0m\n"
     ]
    },
    {
     "name": "stderr",
     "output_type": "stream",
     "text": [
      "100%|██████████| 478/478 [01:18<00:00,  6.08it/s, Train_Loss=0.222]\n"
     ]
    },
    {
     "name": "stdout",
     "output_type": "stream",
     "text": [
      "\u001b[96m Epoch 95 Results: |  train_loss: 0.22199004006310985 |  test_loss: 0.22596732304044012  \u001b[0m\n",
      "\n",
      "Adjusting learning rate of group 0 to 5.1200e-11.\n",
      "\u001b[92m Epoch 96\n",
      "------------------------------- \u001b[0m\n"
     ]
    },
    {
     "name": "stderr",
     "output_type": "stream",
     "text": [
      "100%|██████████| 478/478 [01:18<00:00,  6.12it/s, Train_Loss=0.221]\n"
     ]
    },
    {
     "name": "stdout",
     "output_type": "stream",
     "text": [
      "\u001b[96m Epoch 96 Results: |  train_loss: 0.22130579209913767 |  test_loss: 0.2257501577047536  \u001b[0m\n",
      "\n",
      "Adjusting learning rate of group 0 to 5.1200e-11.\n",
      "\u001b[92m Epoch 97\n",
      "------------------------------- \u001b[0m\n"
     ]
    },
    {
     "name": "stderr",
     "output_type": "stream",
     "text": [
      "100%|██████████| 478/478 [01:18<00:00,  6.11it/s, Train_Loss=0.221]\n"
     ]
    },
    {
     "name": "stdout",
     "output_type": "stream",
     "text": [
      "\u001b[96m Epoch 97 Results: |  train_loss: 0.22133377066591295 |  test_loss: 0.22594066312278274  \u001b[0m\n",
      "\n",
      "Adjusting learning rate of group 0 to 5.1200e-11.\n",
      "\u001b[92m Epoch 98\n",
      "------------------------------- \u001b[0m\n"
     ]
    },
    {
     "name": "stderr",
     "output_type": "stream",
     "text": [
      "100%|██████████| 478/478 [01:18<00:00,  6.07it/s, Train_Loss=0.221]\n"
     ]
    },
    {
     "name": "stdout",
     "output_type": "stream",
     "text": [
      "\u001b[96m Epoch 98 Results: |  train_loss: 0.22109929796417388 |  test_loss: 0.2261105268976114  \u001b[0m\n",
      "\n",
      "Adjusting learning rate of group 0 to 5.1200e-11.\n",
      "\u001b[92m Epoch 99\n",
      "------------------------------- \u001b[0m\n"
     ]
    },
    {
     "name": "stderr",
     "output_type": "stream",
     "text": [
      "100%|██████████| 478/478 [01:17<00:00,  6.15it/s, Train_Loss=0.222]\n"
     ]
    },
    {
     "name": "stdout",
     "output_type": "stream",
     "text": [
      "\u001b[96m Epoch 99 Results: |  train_loss: 0.22238105438867872 |  test_loss: 0.22646186778145114  \u001b[0m\n",
      "\n",
      "Adjusting learning rate of group 0 to 5.1200e-11.\n"
     ]
    }
   ],
   "source": [
    "results = train(model, train_dl, test_dl, torch.optim.Adam(model.parameters(), lr=LEARNING_RATE), RMSELoss(), epochs=NUM_EPOCHS, lr_scheduler=LR_SCHEDULER)"
   ]
  },
  {
   "attachments": {},
   "cell_type": "markdown",
   "metadata": {},
   "source": [
    "somehow the test_loss is smaller than train_loss -> could be due to small smaple dataset"
   ]
  },
  {
   "cell_type": "code",
   "execution_count": 12,
   "metadata": {},
   "outputs": [],
   "source": [
    "%matplotlib inline"
   ]
  },
  {
   "cell_type": "code",
   "execution_count": 13,
   "metadata": {},
   "outputs": [
    {
     "data": {
      "image/png": "[encoded data removed]",
      "text/plain": [
       "<Figure size 640x480 with 1 Axes>"
      ]
     },
     "metadata": {},
     "output_type": "display_data"
    }
   ],
   "source": [
    "plot_losses(results)"
   ]
  },
  {
   "cell_type": "code",
   "execution_count": null,
   "metadata": {},
   "outputs": [],
   "source": []
  }
 ],
 "metadata": {
  "kernelspec": {
   "display_name": "pytorchGPU",
   "language": "python",
   "name": "python3"
  },
  "language_info": {
   "codemirror_mode": {
    "name": "ipython",
    "version": 3
   },
   "file_extension": ".py",
   "mimetype": "text/x-python",
   "name": "python",
   "nbconvert_exporter": "python",
   "pygments_lexer": "ipython3",
   "version": "3.9.16"
  },
  "orig_nbformat": 4,
  "vscode": {
   "interpreter": {
    "hash": "5c74e58d50e1361e9a22e65e4f4b85ac48544f43f48a101259d9c47c27371742"
   }
  }
 },
 "nbformat": 4,
 "nbformat_minor": 2
}

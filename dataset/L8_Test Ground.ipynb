{
 "cells": [
  {
   "cell_type": "code",
   "execution_count": 1,
   "metadata": {},
   "outputs": [],
   "source": [
    "import ee\n",
    "import geemap"
   ]
  },
  {
   "cell_type": "code",
   "execution_count": 2,
   "metadata": {},
   "outputs": [],
   "source": [
    "Map = geemap.Map()"
   ]
  },
  {
   "cell_type": "code",
   "execution_count": 3,
   "metadata": {},
   "outputs": [],
   "source": [
    "ee.Initialize()"
   ]
  },
  {
   "cell_type": "code",
   "execution_count": 4,
   "metadata": {},
   "outputs": [],
   "source": [
    "from utils.utils import correct_image_shape, milsec2date, read_csv\n",
    "from utils.ee_utils import *"
   ]
  },
  {
   "cell_type": "code",
   "execution_count": 5,
   "metadata": {},
   "outputs": [
    {
     "data": {
      "application/vnd.jupyter.widget-view+json": {
       "model_id": "9831615c7d954cab993628eb0c04a2e8",
       "version_major": 2,
       "version_minor": 0
      },
      "text/plain": [
       "Map(center=[20, 0], controls=(WidgetControl(options=['position', 'transparent_bg'], widget=HBox(children=(Togg…"
      ]
     },
     "metadata": {},
     "output_type": "display_data"
    }
   ],
   "source": [
    "# roi = get_square_roi(52.37962731,7.164954376, roi_size=1920, return_gee_object=True)\n",
    "roi = get_square_roi(53.10515397,13.30088236, roi_size=1920, return_gee_object=True)\n",
    "Map = geemap.Map(zoom=12)\n",
    "Map.addLayer(roi)\n",
    "Map.centerObject(roi)\n",
    "Map"
   ]
  },
  {
   "cell_type": "code",
   "execution_count": null,
   "metadata": {},
   "outputs": [],
   "source": []
  },
  {
   "cell_type": "code",
   "execution_count": 6,
   "metadata": {},
   "outputs": [
    {
     "name": "stdout",
     "output_type": "stream",
     "text": [
      "4\n",
      "Date: ['2015-04-10', '2015-10-03', '2015-06-04', '2015-10-10']\n"
     ]
    }
   ],
   "source": [
    "l8 = ee.ImageCollection('LANDSAT/LC08/C02/T1_L2') \\\n",
    "                .filterDate('2015-01-01', '2015-12-31') \\\n",
    "                .filter(ee.Filter.lt('CLOUD_COVER',10)) \\\n",
    "                .filterBounds(roi) \\\n",
    "                #.filter(ee.Filter.contains('.geo', roi)) #this line checks if the scene completly covers the roi, which mean roi is in the scene\n",
    "print(l8.size().getInfo())\n",
    "print('Date:',milsec2date(l8.aggregate_array('system:time_start').getInfo()))"
   ]
  },
  {
   "cell_type": "code",
   "execution_count": 7,
   "metadata": {},
   "outputs": [],
   "source": [
    "l8_img = l8.median().clip(roi).multiply(2.75e-05).add(-0.2)\n",
    "bands = ['SR_B1','SR_B2','SR_B3','SR_B4','SR_B5','SR_B6','SR_B7']\n",
    "l8_img = l8_img.select(bands)"
   ]
  },
  {
   "cell_type": "code",
   "execution_count": 8,
   "metadata": {},
   "outputs": [
    {
     "data": {
      "application/vnd.jupyter.widget-view+json": {
       "model_id": "5312a011e25340868ce234598f7c8af3",
       "version_major": 2,
       "version_minor": 0
      },
      "text/plain": [
       "l8.tif: |          | 0.00/653k (raw) [  0.0%] in 00:00 (eta:     ?)"
      ]
     },
     "metadata": {},
     "output_type": "display_data"
    },
    {
     "name": "stderr",
     "output_type": "stream",
     "text": [
      "There is no STAC entry for: None\n"
     ]
    }
   ],
   "source": [
    "geemap.download_ee_image(l8_img, \"l8.tif\",crs='EPSG:3857', scale=30,region = roi)"
   ]
  },
  {
   "cell_type": "code",
   "execution_count": 9,
   "metadata": {},
   "outputs": [
    {
     "name": "stdout",
     "output_type": "stream",
     "text": [
      "(7, 108, 108)\n",
      "(108, 108, 7)\n",
      "0.0039949999999999986 0.42569375000000004\n"
     ]
    }
   ],
   "source": [
    "from skimage import io\n",
    "import numpy as np\n",
    "l8_np = io.imread('l8.tif')\n",
    "print(l8_np.shape)\n",
    "l8_np = correct_image_shape(l8_np)\n",
    "print(l8_np.shape)\n",
    "print(np.min(l8_np),np.max(l8_np))"
   ]
  },
  {
   "cell_type": "code",
   "execution_count": 10,
   "metadata": {},
   "outputs": [
    {
     "data": {
      "text/plain": [
       "<matplotlib.image.AxesImage at 0x142436766d0>"
      ]
     },
     "execution_count": 10,
     "metadata": {},
     "output_type": "execute_result"
    },
    {
     "data": {
      "image/png": "[encoded data removed]",
      "text/plain": [
       "<Figure size 640x480 with 1 Axes>"
      ]
     },
     "metadata": {},
     "output_type": "display_data"
    }
   ],
   "source": [
    "import matplotlib.pyplot as plt\n",
    "plt.imshow(l8_np[:,:,[3,2,1]])"
   ]
  },
  {
   "cell_type": "code",
   "execution_count": 11,
   "metadata": {},
   "outputs": [
    {
     "data": {
      "text/html": [
       "<div>\n",
       "<style scoped>\n",
       "    .dataframe tbody tr th:only-of-type {\n",
       "        vertical-align: middle;\n",
       "    }\n",
       "\n",
       "    .dataframe tbody tr th {\n",
       "        vertical-align: top;\n",
       "    }\n",
       "\n",
       "    .dataframe thead th {\n",
       "        text-align: right;\n",
       "    }\n",
       "</style>\n",
       "<table border=\"1\" class=\"dataframe\">\n",
       "  <thead>\n",
       "    <tr style=\"text-align: right;\">\n",
       "      <th></th>\n",
       "      <th>Piont_id</th>\n",
       "      <th>long</th>\n",
       "      <th>lat</th>\n",
       "    </tr>\n",
       "  </thead>\n",
       "  <tbody>\n",
       "    <tr>\n",
       "      <th>0</th>\n",
       "      <td>40463116</td>\n",
       "      <td>6.072879</td>\n",
       "      <td>51.088722</td>\n",
       "    </tr>\n",
       "    <tr>\n",
       "      <th>1</th>\n",
       "      <td>40463188</td>\n",
       "      <td>6.016994</td>\n",
       "      <td>51.734784</td>\n",
       "    </tr>\n",
       "    <tr>\n",
       "      <th>2</th>\n",
       "      <td>40523090</td>\n",
       "      <td>6.177697</td>\n",
       "      <td>50.858239</td>\n",
       "    </tr>\n",
       "    <tr>\n",
       "      <th>3</th>\n",
       "      <td>40523108</td>\n",
       "      <td>6.164374</td>\n",
       "      <td>51.019789</td>\n",
       "    </tr>\n",
       "    <tr>\n",
       "      <th>4</th>\n",
       "      <td>40543118</td>\n",
       "      <td>6.185448</td>\n",
       "      <td>51.110477</td>\n",
       "    </tr>\n",
       "    <tr>\n",
       "      <th>...</th>\n",
       "      <td>...</td>\n",
       "      <td>...</td>\n",
       "      <td>...</td>\n",
       "    </tr>\n",
       "    <tr>\n",
       "      <th>1681</th>\n",
       "      <td>46543152</td>\n",
       "      <td>14.786924</td>\n",
       "      <td>51.380586</td>\n",
       "    </tr>\n",
       "    <tr>\n",
       "      <th>1682</th>\n",
       "      <td>46563124</td>\n",
       "      <td>14.789346</td>\n",
       "      <td>51.128352</td>\n",
       "    </tr>\n",
       "    <tr>\n",
       "      <th>1683</th>\n",
       "      <td>46603108</td>\n",
       "      <td>14.831361</td>\n",
       "      <td>50.982524</td>\n",
       "    </tr>\n",
       "    <tr>\n",
       "      <th>1684</th>\n",
       "      <td>46623118</td>\n",
       "      <td>14.869216</td>\n",
       "      <td>51.070995</td>\n",
       "    </tr>\n",
       "    <tr>\n",
       "      <th>1685</th>\n",
       "      <td>46643144</td>\n",
       "      <td>14.922565</td>\n",
       "      <td>51.302893</td>\n",
       "    </tr>\n",
       "  </tbody>\n",
       "</table>\n",
       "<p>1686 rows × 3 columns</p>\n",
       "</div>"
      ],
      "text/plain": [
       "      Piont_id       long        lat\n",
       "0     40463116   6.072879  51.088722\n",
       "1     40463188   6.016994  51.734784\n",
       "2     40523090   6.177697  50.858239\n",
       "3     40523108   6.164374  51.019789\n",
       "4     40543118   6.185448  51.110477\n",
       "...        ...        ...        ...\n",
       "1681  46543152  14.786924  51.380586\n",
       "1682  46563124  14.789346  51.128352\n",
       "1683  46603108  14.831361  50.982524\n",
       "1684  46623118  14.869216  51.070995\n",
       "1685  46643144  14.922565  51.302893\n",
       "\n",
       "[1686 rows x 3 columns]"
      ]
     },
     "execution_count": 11,
     "metadata": {},
     "output_type": "execute_result"
    }
   ],
   "source": [
    "df = read_csv(\"LUCAS_2015_Germany.csv\")\n",
    "df"
   ]
  },
  {
   "cell_type": "code",
   "execution_count": 12,
   "metadata": {},
   "outputs": [
    {
     "name": "stdout",
     "output_type": "stream",
     "text": [
      "Point 0 -> Date: ['2015-01-07', '2015-03-12', '2015-07-11', '2015-08-03', '2015-09-29', '2015-09-29', '2015-12-09']\n",
      "Point 1 -> Date: ['2015-01-07', '2015-03-12', '2015-08-03', '2015-09-29', '2015-12-09']\n",
      "Point 2 -> Date: ['2015-07-11', '2015-09-29', '2015-09-29']\n",
      "Point 3 -> Date: ['2015-01-07', '2015-03-12', '2015-07-11', '2015-08-03', '2015-09-29', '2015-09-29', '2015-12-09']\n"
     ]
    }
   ],
   "source": [
    "for index, row in df.iterrows():\n",
    "    print(f'Point {index}' , end=\" -> \")\n",
    "    loop_roi = get_square_roi(row['lat'],row['long'], roi_size=1920, return_gee_object=True)\n",
    "    l8 = ee.ImageCollection('LANDSAT/LC08/C02/T1_L2') \\\n",
    "                .filterDate('2015-01-01', '2015-12-31') \\\n",
    "                .filter(ee.Filter.lt('CLOUD_COVER',10)) \\\n",
    "                .filterBounds(loop_roi).sort('system:time_start')\n",
    "                #.filter(ee.Filter.contains('.geo', loop_roi)) #this line checks if the scene completly covers the roi, which mean roi is in the scene\n",
    "    #print(l8.size().getInfo())\n",
    "    print('Date:',milsec2date(l8.aggregate_array('system:time_start').getInfo()))\n",
    "    \n",
    "    if index == 3:\n",
    "        break"
   ]
  },
  {
   "cell_type": "code",
   "execution_count": 13,
   "metadata": {},
   "outputs": [
    {
     "name": "stdout",
     "output_type": "stream",
     "text": [
      "14\n",
      "Date: ['2015-06-29', '2015-10-26', '2015-08-07', '2015-09-17', '2015-05-03', '2015-07-06', '2015-02-05', '2015-09-01', '2015-08-16', '2015-06-13', '2015-05-19', '2015-02-21', '2015-07-15', '2015-11-27']\n"
     ]
    }
   ],
   "source": [
    "l8_c = ee.ImageCollection('LANDSAT/LC08/C02/T1_L2') \\\n",
    "                .filterDate('2015-01-01', '2015-12-31') \\\n",
    "                .filter(ee.Filter.gt('CLOUD_COVER',20)) \\\n",
    "                .filter(ee.Filter.lt('CLOUD_COVER',60)) \\\n",
    "                .filterBounds(roi).sort('CLOUD_COVER', True)\n",
    "                #.filter(ee.Filter.contains('.geo', roi)) #this line checks if the scene completly covers the roi, which mean roi is in the scene\n",
    "print(l8_c.size().getInfo())\n",
    "print('Date:',milsec2date(l8_c.aggregate_array('system:time_start').getInfo()))"
   ]
  },
  {
   "cell_type": "code",
   "execution_count": 14,
   "metadata": {},
   "outputs": [
    {
     "name": "stdout",
     "output_type": "stream",
     "text": [
      "['QA_PIXEL']\n"
     ]
    },
    {
     "data": {
      "application/vnd.jupyter.widget-view+json": {
       "model_id": "f064951ad77042cdb1acb5d2b560bec1",
       "version_major": 2,
       "version_minor": 0
      },
      "text/plain": [
       "Map(center=[20, 0], controls=(WidgetControl(options=['position', 'transparent_bg'], widget=HBox(children=(Togg…"
      ]
     },
     "metadata": {},
     "output_type": "display_data"
    }
   ],
   "source": [
    "Map = geemap.Map()\n",
    "\n",
    "l8_c_img = l8_c.first()\n",
    "qa = l8_c_img.select('QA_PIXEL')\n",
    "rgb = l8_c_img.select('SR_B4','SR_B3','SR_B2').multiply(2.75e-05).add(-0.2)\n",
    "#cloud = qa.bitwiseAnd(1<<2).And(qa.bitwiseAnd(1<<6)).Or(qa.bitwiseAnd(1<<7))\n",
    "\n",
    "# Define the cloud, cloud shadow, and snow/ice bits.\n",
    "cloud = get_cloud_mask(l8_c_img)[0]\n",
    "print(cloud.bandNames().getInfo())\n",
    "cloudShadow = get_cloud_mask(l8_c_img)[1]\n",
    "\n",
    "mask = cloud.where(cloud, 1)\n",
    "mask = mask.where(cloudShadow, 2)\n",
    "\n",
    "#Display the cloud mask on the map\n",
    "Map.addLayer(mask, {'min': 0, 'max': 1, 'palette': ['000000', 'red', 'blue']}, 'Mask')\n",
    "\n",
    "visualization = {\n",
    "  'bands': ['SR_B4', 'SR_B3', 'SR_B2'],\n",
    "  'min': 0.0,\n",
    "  'max': 0.3,\n",
    "}\n",
    "\n",
    "maskedImage = rgb.updateMask(cloud.Not())\n",
    "Map.addLayer(maskedImage.clip(roi), visualization, 'masked')\n",
    "Map.centerObject(roi)\n",
    "Map"
   ]
  },
  {
   "cell_type": "code",
   "execution_count": 15,
   "metadata": {},
   "outputs": [
    {
     "name": "stdout",
     "output_type": "stream",
     "text": [
      "['QA_PIXEL_count', 'QA_PIXEL_sum']\n",
      "Ratio of ones to total pixels: 0.2416948710059392\n"
     ]
    }
   ],
   "source": [
    "masked_cliped = cloud.clip(roi)\n",
    "\n",
    "# Compute the number of ones and total number of pixels in the mask\n",
    "stats = masked_cliped.reduceRegion(\n",
    "    reducer=ee.Reducer.sum().combine(\n",
    "        reducer2=ee.Reducer.count(),\n",
    "        sharedInputs=True\n",
    "    ),\n",
    "    geometry=masked_cliped.geometry(),\n",
    "    scale=30,\n",
    "    maxPixels=1e9\n",
    ")\n",
    "\n",
    "print(stats.keys().getInfo())\n",
    "# Extract the number of ones and total number of pixels from the result\n",
    "ones = stats.get('QA_PIXEL_sum')\n",
    "total = stats.get('QA_PIXEL_count')\n",
    "\n",
    "# Compute the ratio of ones to total pixels\n",
    "ratio = ee.Number(ones).divide(total)\n",
    "\n",
    "# Print the ratio to the console\n",
    "print('Ratio of ones to total pixels:', ratio.getInfo())\n"
   ]
  },
  {
   "cell_type": "code",
   "execution_count": 16,
   "metadata": {},
   "outputs": [
    {
     "name": "stdout",
     "output_type": "stream",
     "text": [
      "24.16948710059392\n"
     ]
    }
   ],
   "source": [
    "print(get_mask_ones_ratio(masked_cliped).getInfo())"
   ]
  },
  {
   "cell_type": "code",
   "execution_count": 17,
   "metadata": {},
   "outputs": [
    {
     "name": "stdout",
     "output_type": "stream",
     "text": [
      "14\n",
      "14\n"
     ]
    }
   ],
   "source": [
    "l8_c = ee.ImageCollection('LANDSAT/LC08/C02/T1_L2') \\\n",
    "                .filterDate('2015-01-01', '2015-12-31') \\\n",
    "                .filter(ee.Filter.gt('CLOUD_COVER',20)) \\\n",
    "                .filter(ee.Filter.lt('CLOUD_COVER',60)) \\\n",
    "                .filterBounds(roi).sort('CLOUD_COVER', True)\n",
    "                #.filter(ee.Filter.contains('.geo', roi)) #this line checks if the scene completly covers the roi, which mean roi is in the scene\n",
    "print(l8_c.size().getInfo())\n",
    "lc8_cliped = l8_c.map(lambda img: img.clip(roi))\n",
    "# lc8_cloud_masks = lc8_cliped.map(lambda img: get_cloud_mask(img)[0])\n",
    "# print(lc8_cloud_masks.first().bandNames().getInfo())\n",
    "lc8_cliped_w_ratio = lc8_cliped.map(lambda img: img.set('roi_cloud_ratio', get_mask_ones_ratio(get_cloud_mask(img)[0])))\n",
    "print(lc8_cliped_w_ratio.size().getInfo())\n"
   ]
  },
  {
   "cell_type": "code",
   "execution_count": 18,
   "metadata": {},
   "outputs": [
    {
     "data": {
      "text/plain": [
       "{'roi_cloud_ratio': 24.16948710059392,\n",
       " 'system:footprint': {'type': 'Polygon',\n",
       "  'coordinates': [[[13.286610021424805, 53.09651837788573],\n",
       "    [13.31520065740954, 53.09651837788574],\n",
       "    [13.315200657409541, 53.11379288131346],\n",
       "    [13.286610021424805, 53.11379288131346],\n",
       "    [13.286610021424805, 53.09651837788573]]]},\n",
       " 'DATA_SOURCE_ELEVATION': 'GLS2000',\n",
       " 'WRS_TYPE': 2,\n",
       " 'REFLECTANCE_ADD_BAND_1': -0.2,\n",
       " 'REFLECTANCE_ADD_BAND_2': -0.2,\n",
       " 'DATUM': 'WGS84',\n",
       " 'REFLECTANCE_ADD_BAND_3': -0.2,\n",
       " 'REFLECTANCE_ADD_BAND_4': -0.2,\n",
       " 'REFLECTANCE_ADD_BAND_5': -0.2,\n",
       " 'REFLECTANCE_ADD_BAND_6': -0.2,\n",
       " 'REFLECTANCE_ADD_BAND_7': -0.2,\n",
       " 'REFLECTIVE_SAMPLES': 8051,\n",
       " 'GROUND_CONTROL_POINTS_VERSION': 5,\n",
       " 'SUN_AZIMUTH': 150.25124739,\n",
       " 'DATA_SOURCE_TIRS_STRAY_LIGHT_CORRECTION': 'TIRS',\n",
       " 'UTM_ZONE': 33,\n",
       " 'DATE_ACQUIRED': '2015-06-29',\n",
       " 'ELLIPSOID': 'WGS84',\n",
       " 'system:time_end': 1435572116023,\n",
       " 'DATA_SOURCE_PRESSURE': 'Calculated',\n",
       " 'LANDSAT_PRODUCT_ID': 'LC08_L2SP_193023_20150629_20200909_02_T1',\n",
       " 'STATION_ID': 'LGN',\n",
       " 'TEMPERATURE_ADD_BAND_ST_B10': 149,\n",
       " 'DATA_SOURCE_REANALYSIS': 'GEOS-5 FP-IT',\n",
       " 'REFLECTANCE_MULT_BAND_7': 2.75e-05,\n",
       " 'system:time_start': 1435572116023,\n",
       " 'REFLECTANCE_MULT_BAND_6': 2.75e-05,\n",
       " 'L1_PROCESSING_LEVEL': 'L1TP',\n",
       " 'PROCESSING_SOFTWARE_VERSION': 'LPGS_15.3.1c',\n",
       " 'L1_DATE_PRODUCT_GENERATED': '2020-09-09T05:24:31Z',\n",
       " 'ORIENTATION': 'NORTH_UP',\n",
       " 'REFLECTANCE_MULT_BAND_1': 2.75e-05,\n",
       " 'WRS_ROW': 23,\n",
       " 'REFLECTANCE_MULT_BAND_3': 2.75e-05,\n",
       " 'REFLECTANCE_MULT_BAND_2': 2.75e-05,\n",
       " 'TARGET_WRS_ROW': 23,\n",
       " 'REFLECTANCE_MULT_BAND_5': 2.75e-05,\n",
       " 'REFLECTANCE_MULT_BAND_4': 2.75e-05,\n",
       " 'THERMAL_LINES': 8141,\n",
       " 'TIRS_SSM_POSITION_STATUS': 'NOMINAL',\n",
       " 'GRID_CELL_SIZE_THERMAL': 30,\n",
       " 'IMAGE_QUALITY_TIRS': 9,\n",
       " 'TRUNCATION_OLI': 'UPPER',\n",
       " 'NADIR_OFFNADIR': 'NADIR',\n",
       " 'CLOUD_COVER': 20.28,\n",
       " 'REQUEST_ID': 'L2',\n",
       " 'EARTH_SUN_DISTANCE': 1.0165844,\n",
       " 'GEOMETRIC_RMSE_VERIFY': 4.454,\n",
       " 'TIRS_SSM_MODEL': 'ACTUAL',\n",
       " 'COLLECTION_CATEGORY': 'T1',\n",
       " 'SCENE_CENTER_TIME': '10:01:56.0236230Z',\n",
       " 'GRID_CELL_SIZE_REFLECTIVE': 30,\n",
       " 'SUN_ELEVATION': 57.50067731,\n",
       " 'ALGORITHM_SOURCE_SURFACE_TEMPERATURE': 'st_1.3.0',\n",
       " 'TEMPERATURE_MAXIMUM_BAND_ST_B10': 372.999941,\n",
       " 'CLOUD_COVER_LAND': 20.25,\n",
       " 'GEOMETRIC_RMSE_MODEL': 8.105,\n",
       " 'ROLL_ANGLE': -0.001,\n",
       " 'COLLECTION_NUMBER': 2,\n",
       " 'DATE_PRODUCT_GENERATED': 1599629682000,\n",
       " 'L1_REQUEST_ID': 'L2',\n",
       " 'DATA_SOURCE_OZONE': 'MODIS',\n",
       " 'SATURATION_BAND_1': 'Y',\n",
       " 'DATA_SOURCE_WATER_VAPOR': 'MODIS',\n",
       " 'SATURATION_BAND_2': 'Y',\n",
       " 'SATURATION_BAND_3': 'Y',\n",
       " 'IMAGE_QUALITY_OLI': 9,\n",
       " 'SATURATION_BAND_4': 'Y',\n",
       " 'LANDSAT_SCENE_ID': 'LC81930232015180LGN01',\n",
       " 'SATURATION_BAND_5': 'Y',\n",
       " 'MAP_PROJECTION': 'UTM',\n",
       " 'SATURATION_BAND_6': 'Y',\n",
       " 'SENSOR_ID': 'OLI_TIRS',\n",
       " 'SATURATION_BAND_7': 'Y',\n",
       " 'SATURATION_BAND_8': 'N',\n",
       " 'WRS_PATH': 193,\n",
       " 'SATURATION_BAND_9': 'N',\n",
       " 'TARGET_WRS_PATH': 193,\n",
       " 'L1_PROCESSING_SOFTWARE_VERSION': 'LPGS_15.3.1c',\n",
       " 'TEMPERATURE_MULT_BAND_ST_B10': 0.00341802,\n",
       " 'L1_LANDSAT_PRODUCT_ID': 'LC08_L1TP_193023_20150629_20200909_02_T1',\n",
       " 'PROCESSING_LEVEL': 'L2SP',\n",
       " 'ALGORITHM_SOURCE_SURFACE_REFLECTANCE': 'LaSRC_1.5.0',\n",
       " 'GROUND_CONTROL_POINTS_MODEL': 481,\n",
       " 'SPACECRAFT_ID': 'LANDSAT_8',\n",
       " 'TEMPERATURE_MINIMUM_BAND_ST_B10': 149.003418,\n",
       " 'GEOMETRIC_RMSE_MODEL_Y': 6.189,\n",
       " 'REFLECTIVE_LINES': 8141,\n",
       " 'GEOMETRIC_RMSE_MODEL_X': 5.232,\n",
       " 'THERMAL_SAMPLES': 8051,\n",
       " 'system:asset_size': 973602162,\n",
       " 'DATA_SOURCE_AIR_TEMPERATURE': 'MODIS',\n",
       " 'GROUND_CONTROL_POINTS_VERIFY': 106,\n",
       " 'system:index': 'LC08_193023_20150629'}"
      ]
     },
     "execution_count": 18,
     "metadata": {},
     "output_type": "execute_result"
    }
   ],
   "source": [
    "lc8_cliped_w_ratio.first().getInfo()['properties']"
   ]
  },
  {
   "cell_type": "code",
   "execution_count": 19,
   "metadata": {},
   "outputs": [
    {
     "data": {
      "text/plain": [
       "[0,\n",
       " 0,\n",
       " 0.8154550455465115,\n",
       " 1.3389634460749473,\n",
       " 16.19012987981688,\n",
       " 24.147389816601866,\n",
       " 24.16948710059392,\n",
       " 28.201262435549584,\n",
       " 54.791847314294195,\n",
       " 64.4150746366069,\n",
       " 71.90973238383248,\n",
       " 97.01473956083262,\n",
       " 97.01473956083262,\n",
       " 97.53962198609274]"
      ]
     },
     "execution_count": 19,
     "metadata": {},
     "output_type": "execute_result"
    }
   ],
   "source": [
    "lc8_cliped_w_ratio.sort('roi_cloud_ratio', True).aggregate_array('roi_cloud_ratio').getInfo()"
   ]
  },
  {
   "cell_type": "code",
   "execution_count": 20,
   "metadata": {},
   "outputs": [],
   "source": [
    "# picking images where `roi_cloud_ratio` is less than 0.1\n",
    "lc8_cliped_w_ratio_filtered=lc8_cliped_w_ratio.filter(ee.Filter.lt('roi_cloud_ratio',0.1)) "
   ]
  },
  {
   "cell_type": "code",
   "execution_count": 21,
   "metadata": {},
   "outputs": [
    {
     "data": {
      "text/plain": [
       "[0, 0]"
      ]
     },
     "execution_count": 21,
     "metadata": {},
     "output_type": "execute_result"
    }
   ],
   "source": [
    "lc8_cliped_w_ratio_filtered.aggregate_array('roi_cloud_ratio').getInfo()"
   ]
  },
  {
   "cell_type": "code",
   "execution_count": 22,
   "metadata": {},
   "outputs": [],
   "source": [
    "from typing import List\n",
    "def get_mean_ndvi(image, bands: List[str] = ['SR_B5', 'SR_B4']):\n",
    "    \"\"\"\n",
    "    Returns the mean NDVI of the given image.\n",
    "    \"\"\"\n",
    "    # Compute NDVI\n",
    "    ndvi = image.normalizedDifference(bands)\n",
    "    \n",
    "    # Compute mean of NDVI\n",
    "    mean_ndvi = ndvi.reduceRegion(\n",
    "        reducer=ee.Reducer.mean(),\n",
    "        geometry=image.geometry(),\n",
    "        scale=image.projection().nominalScale(),\n",
    "        maxPixels=1e13\n",
    "    ).get('nd')\n",
    "    \n",
    "    return mean_ndvi"
   ]
  },
  {
   "cell_type": "code",
   "execution_count": 23,
   "metadata": {},
   "outputs": [
    {
     "name": "stdout",
     "output_type": "stream",
     "text": [
      "2\n",
      "2\n"
     ]
    }
   ],
   "source": [
    "print(lc8_cliped_w_ratio_filtered.size().getInfo())\n",
    "lc8_cliped = lc8_cliped_w_ratio_filtered.map(lambda img: img.clip(roi))\n",
    "lc8_cliped_w_mean_ndvi = lc8_cliped.map(lambda img: img.set('roi_mean_ndvi', get_mean_ndvi(img)))\n",
    "print(lc8_cliped_w_mean_ndvi.size().getInfo())"
   ]
  },
  {
   "cell_type": "code",
   "execution_count": 24,
   "metadata": {},
   "outputs": [
    {
     "data": {
      "text/plain": [
       "[0.21000259523269463, 0.1427387437355121]"
      ]
     },
     "execution_count": 24,
     "metadata": {},
     "output_type": "execute_result"
    }
   ],
   "source": [
    "lc8_cliped_w_mean_ndvi.aggregate_array('roi_mean_ndvi').getInfo()"
   ]
  },
  {
   "cell_type": "code",
   "execution_count": 25,
   "metadata": {},
   "outputs": [
    {
     "name": "stdout",
     "output_type": "stream",
     "text": [
      "0.21000259523269463\n",
      "0.1427387437355121\n"
     ]
    },
    {
     "data": {
      "application/vnd.jupyter.widget-view+json": {
       "model_id": "692ce246277a4fc096a82626145d87c3",
       "version_major": 2,
       "version_minor": 0
      },
      "text/plain": [
       "Map(center=[20, 0], controls=(WidgetControl(options=['position', 'transparent_bg'], widget=HBox(children=(Togg…"
      ]
     },
     "metadata": {},
     "output_type": "display_data"
    }
   ],
   "source": [
    "Map = geemap.Map()\n",
    "# sort lc8_cliped_w_mean_ndvi based on roi_mean_ndvi\n",
    "lc8_cliped_w_mean_ndvi_sorted_ascending = lc8_cliped_w_mean_ndvi.sort('roi_mean_ndvi', False)\n",
    "print(lc8_cliped_w_mean_ndvi_sorted_ascending.first().getInfo()['properties']['roi_mean_ndvi'])\n",
    "lc8_cliped_w_mean_ndvi_sorted_descending = lc8_cliped_w_mean_ndvi.sort('roi_mean_ndvi', True)\n",
    "print(lc8_cliped_w_mean_ndvi_sorted_descending.first().getInfo()['properties']['roi_mean_ndvi'])\n",
    "visualization = {\n",
    "  'bands': ['SR_B4', 'SR_B3', 'SR_B2'],\n",
    "\n",
    "}\n",
    "Map.addLayer(lc8_cliped_w_mean_ndvi_sorted_ascending.first(), visualization, 'highest mean NDVI')\n",
    "\n",
    "Map.addLayer(lc8_cliped_w_mean_ndvi_sorted_descending.first(), visualization, 'image with lowest mean NDVI')\n",
    "Map.addLayer(lc8_cliped_w_mean_ndvi_sorted_descending.first().mask().select(0).clip(roi),  {'min': 0, 'max': 1, 'palette': ['000000', 'blue']}, 'mask')\n",
    "\n",
    "Map.centerObject(roi)\n",
    "Map"
   ]
  },
  {
   "cell_type": "code",
   "execution_count": null,
   "metadata": {},
   "outputs": [],
   "source": []
  },
  {
   "cell_type": "code",
   "execution_count": 26,
   "metadata": {},
   "outputs": [
    {
     "ename": "NameError",
     "evalue": "name 'get_nulls_ratio' is not defined",
     "output_type": "error",
     "traceback": [
      "\u001b[1;31m---------------------------------------------------------------------------\u001b[0m",
      "\u001b[1;31mNameError\u001b[0m                                 Traceback (most recent call last)",
      "Cell \u001b[1;32mIn[26], line 1\u001b[0m\n\u001b[1;32m----> 1\u001b[0m get_nulls_ratio(lc8_cliped_w_mean_ndvi_sorted_descending\u001b[39m.\u001b[39mfirst(),roi)\u001b[39m.\u001b[39mgetInfo()\n",
      "\u001b[1;31mNameError\u001b[0m: name 'get_nulls_ratio' is not defined"
     ]
    }
   ],
   "source": [
    "get_nulls_ratio(lc8_cliped_w_mean_ndvi_sorted_descending.first(),roi).getInfo()"
   ]
  },
  {
   "cell_type": "code",
   "execution_count": null,
   "metadata": {},
   "outputs": [
    {
     "name": "stdout",
     "output_type": "stream",
     "text": [
      "SR_B1_count \n",
      " SR_B1_sum\n"
     ]
    }
   ],
   "source": [
    "mask = lc8_cliped_w_mean_ndvi_sorted_descending.first().mask().select(0).clip(roi)\n",
    "stats = mask.reduceRegion(\n",
    "    reducer=ee.Reducer.sum().combine(\n",
    "        reducer2=ee.Reducer.count(),\n",
    "        sharedInputs=True\n",
    "    ),\n",
    "    geometry=mask.geometry(),\n",
    "    scale=30,\n",
    "    maxPixels=1e9\n",
    ")\n",
    "print(stats.keys().get(0).getInfo(), \"\\n\",\n",
    "stats.keys().get(1).getInfo())\n"
   ]
  },
  {
   "cell_type": "code",
   "execution_count": null,
   "metadata": {},
   "outputs": [
    {
     "data": {
      "text/plain": [
       "[0.12796924562306547,\n",
       " 0.18674043965551856,\n",
       " 0.23953914383505753,\n",
       " 0.30064084727372414,\n",
       " 0.4198177989192243]"
      ]
     },
     "execution_count": 86,
     "metadata": {},
     "output_type": "execute_result"
    }
   ],
   "source": [
    "lc8_cliped_w_mean_ndvi_sorted_descending.aggregate_array('roi_mean_ndvi').getInfo()"
   ]
  },
  {
   "cell_type": "code",
   "execution_count": null,
   "metadata": {},
   "outputs": [],
   "source": [
    "from utils.ee_utils import add_mineral_indices"
   ]
  }
 ],
 "metadata": {
  "kernelspec": {
   "display_name": "geemap",
   "language": "python",
   "name": "python3"
  },
  "language_info": {
   "codemirror_mode": {
    "name": "ipython",
    "version": 3
   },
   "file_extension": ".py",
   "mimetype": "text/x-python",
   "name": "python",
   "nbconvert_exporter": "python",
   "pygments_lexer": "ipython3",
   "version": "3.9.16"
  },
  "orig_nbformat": 4
 },
 "nbformat": 4,
 "nbformat_minor": 2
}

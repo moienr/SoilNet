{
 "cells": [
  {
   "cell_type": "code",
   "execution_count": 2,
   "metadata": {},
   "outputs": [],
   "source": [
    "import ee\n",
    "import geemap"
   ]
  },
  {
   "cell_type": "code",
   "execution_count": 5,
   "metadata": {},
   "outputs": [],
   "source": [
    "Map = geemap.Map()"
   ]
  },
  {
   "cell_type": "code",
   "execution_count": 6,
   "metadata": {},
   "outputs": [],
   "source": [
    "ee.Initialize()"
   ]
  },
  {
   "cell_type": "code",
   "execution_count": 7,
   "metadata": {},
   "outputs": [],
   "source": [
    "def get_square_roi(lat, lon):\n",
    "    # Convert the lat-long point to an EE geometry object\n",
    "    point = ee.Geometry.Point(lon, lat)\n",
    "    \n",
    "    # Define the size of the ROI in meters\n",
    "    roi_size = 1280\n",
    "    \n",
    "    # Create a square buffer around the point with the given size\n",
    "    roi = point.buffer(roi_size/2).bounds().getInfo()['coordinates']\n",
    "    \n",
    "    # Define the visualization parameters for the map\n",
    "    vis_params = {'color': 'red'}\n",
    "    \n",
    "    # Create a map centered on the point with the square ROI overlaid\n",
    "    roi_map = geemap.Map(center=[lat, lon], zoom=15)\n",
    "    roi_map.addLayer(point, {}, 'Center point')\n",
    "    roi_map.addLayer(ee.Geometry.Polygon(roi), vis_params, 'ROI')\n",
    "    \n",
    "    # Return the square ROI as a list of coordinates\n",
    "    return roi"
   ]
  },
  {
   "cell_type": "code",
   "execution_count": 8,
   "metadata": {},
   "outputs": [
    {
     "data": {
      "application/vnd.jupyter.widget-view+json": {
       "model_id": "9add1d74d7f9409b968845bb90ef5f43",
       "version_major": 2,
       "version_minor": 0
      },
      "text/plain": [
       "Map(center=[20, 0], controls=(WidgetControl(options=['position', 'transparent_bg'], widget=HBox(children=(Togg…"
      ]
     },
     "metadata": {},
     "output_type": "display_data"
    }
   ],
   "source": [
    "roi = get_square_roi(32, 53)\n",
    "roi = ee.Geometry.Polygon(roi, None, False)\n",
    "Map = geemap.Map(zoom=12)\n",
    "Map.addLayer(roi)\n",
    "Map.centerObject(roi)\n",
    "Map"
   ]
  },
  {
   "cell_type": "code",
   "execution_count": 9,
   "metadata": {},
   "outputs": [],
   "source": [
    "s2 = ee.ImageCollection('COPERNICUS/S2_SR') \\\n",
    "                .filterDate('2021-07-15', '2021-08-15') \\\n",
    "                .filter(ee.Filter.lt('CLOUDY_PIXEL_PERCENTAGE',10)) \\\n",
    "                .filter(ee.Filter.lt('SNOW_ICE_PERCENTAGE',10)) \\\n",
    "                .filterBounds(roi) \\\n",
    "                .filter(ee.Filter.contains('.geo', roi)) #this line checks if the scene completly covers the roi, which mean roi is in the scene"
   ]
  },
  {
   "cell_type": "code",
   "execution_count": 10,
   "metadata": {},
   "outputs": [],
   "source": [
    "s2_img = s2.median().clip(roi).multiply(0.0001)\n",
    "bands = ['B1','B2','B3','B4']\n",
    "s2_img = s2_img.select(bands)"
   ]
  },
  {
   "cell_type": "code",
   "execution_count": 11,
   "metadata": {},
   "outputs": [
    {
     "data": {
      "application/vnd.jupyter.widget-view+json": {
       "model_id": "698553c6862b4160a7b399591fb14d85",
       "version_major": 2,
       "version_minor": 0
      },
      "text/plain": [
       "s2.tif: |          | 0.00/734k (raw) [  0.0%] in 00:00 (eta:     ?)"
      ]
     },
     "metadata": {},
     "output_type": "display_data"
    },
    {
     "name": "stderr",
     "output_type": "stream",
     "text": [
      "There is no STAC entry for: None\n"
     ]
    }
   ],
   "source": [
    "geemap.download_ee_image(s2_img, \"s2.tif\",crs='EPSG:3857', scale=10,region = roi)"
   ]
  },
  {
   "cell_type": "code",
   "execution_count": 12,
   "metadata": {},
   "outputs": [
    {
     "name": "stdout",
     "output_type": "stream",
     "text": [
      "(152, 151, 4)\n"
     ]
    }
   ],
   "source": [
    "from skimage import io\n",
    "s2_np = io.imread('s2.tif')\n",
    "print(s2_np.shape)"
   ]
  },
  {
   "cell_type": "code",
   "execution_count": null,
   "metadata": {},
   "outputs": [],
   "source": [
    "def download_sentinel2_image(lat, lon):\n",
    "    # Initialize Earth Engine\n",
    "    ee.Initialize()\n",
    "\n",
    "    # Create a point geometry for the given lat/lon coordinates\n",
    "    point = ee.Geometry.Point(lon, lat)\n",
    "\n",
    "    # Load Sentinel-2 imagery for the given point and filter by date\n",
    "    s2 = ee.ImageCollection('COPERNICUS/S2_SR')\\\n",
    "        .filterBounds(point)\\\n",
    "        .filterDate('2019-01-01', '2021-12-31')\\\n",
    "        .sort('CLOUD_COVERAGE_ASSESSMENT')\\\n",
    "        .first()\n",
    "\n",
    "    # Select the red, green, and blue bands\n",
    "    s2_rgb = s2.select('B4', 'B3', 'B2')\n",
    "\n",
    "    # Get the image URL and download the image as a TIFF file\n",
    "    url = s2_rgb.getDownloadUrl({\n",
    "        'scale': 10,\n",
    "        'region': point.buffer(64).bounds().getInfo()['coordinates'],\n",
    "        'filePerBand': False,\n",
    "        'format': 'tiff'\n",
    "    })\n",
    "\n",
    "    geemap.download_from_url(url, file_path='./sentinel2_image.tif')\n",
    "    print('Sentinel-2 image downloaded successfully!')"
   ]
  },
  {
   "cell_type": "code",
   "execution_count": null,
   "metadata": {},
   "outputs": [],
   "source": [
    "download_sentinel2_image(32, 53)"
   ]
  }
 ],
 "metadata": {
  "kernelspec": {
   "display_name": "geemap",
   "language": "python",
   "name": "python3"
  },
  "language_info": {
   "codemirror_mode": {
    "name": "ipython",
    "version": 3
   },
   "file_extension": ".py",
   "mimetype": "text/x-python",
   "name": "python",
   "nbconvert_exporter": "python",
   "pygments_lexer": "ipython3",
   "version": "3.9.16"
  },
  "orig_nbformat": 4
 },
 "nbformat": 4,
 "nbformat_minor": 2
}

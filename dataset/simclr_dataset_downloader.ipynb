{
 "cells": [
  {
   "cell_type": "code",
   "execution_count": null,
   "metadata": {},
   "outputs": [],
   "source": [
    "import ee\n",
    "import geemap\n",
    "import math "
   ]
  },
  {
   "cell_type": "code",
   "execution_count": null,
   "metadata": {},
   "outputs": [],
   "source": [
    "Map = geemap.Map()"
   ]
  },
  {
   "cell_type": "code",
   "execution_count": null,
   "metadata": {},
   "outputs": [],
   "source": [
    "print('Hello world')"
   ]
  },
  {
   "cell_type": "code",
   "execution_count": null,
   "metadata": {},
   "outputs": [],
   "source": [
    "ee.Initialize()"
   ]
  },
  {
   "cell_type": "code",
   "execution_count": null,
   "metadata": {},
   "outputs": [],
   "source": [
    "from utils.utils import *\n",
    "from utils.ee_utils import *\n",
    "from utils.utils import TextColors as c"
   ]
  },
  {
   "cell_type": "code",
   "execution_count": null,
   "metadata": {},
   "outputs": [],
   "source": [
    "df = read_csv(\"simclr/simclr_LUCAS_large.csv\")\n",
    "\n",
    "# Omit the first 24,471 records\n",
    "df = df.iloc[7588:]\n",
    "\n",
    "df\n"
   ]
  },
  {
   "cell_type": "code",
   "execution_count": null,
   "metadata": {},
   "outputs": [],
   "source": [
    "# create_folder_if_not_exists('l8_images_simclr_RaCA')\n",
    "# DFOLDER = 'l8_images_simclr_RaCA//'\n",
    "\n",
    "create_folder_if_not_exists('l8_images_simclr_LUCAS')\n",
    "DFOLDER = 'l8_images_simclr_LUCAS//'"
   ]
  },
  {
   "cell_type": "code",
   "execution_count": null,
   "metadata": {},
   "outputs": [],
   "source": [
    "# Config\n",
    "IMAGE_COLLECTION = ee.ImageCollection('LANDSAT/LC08/C02/T1_L2')\n",
    "WINTER_RANGES = [('2020-01-01', '2020-02-28'), ('2020-11-01', '2020-12-31')]\n",
    "NONE_WINTER_RANGES = (WINTER_RANGES[0][1], WINTER_RANGES[1][0])\n",
    "#Required Landsat bands and RS indices\n",
    "BANDS = ['SR_B1','SR_B2','SR_B3','SR_B4','SR_B5','SR_B6','SR_B7',\n",
    "         'clayIndex','ferrousIndex','carbonateIndex','rockOutcropIndex','NDVI','elevation','slopePCT']"
   ]
  },
  {
   "cell_type": "code",
   "execution_count": null,
   "metadata": {},
   "outputs": [],
   "source": [
    "winter_ragne_1 = ee.Filter.date(WINTER_RANGES[0][0], WINTER_RANGES[0][1])\n",
    "winter_range_2 = ee.Filter.date(WINTER_RANGES[1][0], WINTER_RANGES[1][1])\n",
    "winter_range_filter = ee.Filter.Or(winter_ragne_1, winter_range_2)\n",
    "\n",
    "non_winter_range_filter = ee.Filter.date(NONE_WINTER_RANGES[0], NONE_WINTER_RANGES[1])\n",
    "\n",
    "for index, row in df.iterrows():\n",
    "    print(f'{c.BOLD} Point {int(row[\"Piont_id\"])} {c.ENDC}' , end=\" Cheking for Winter Image -> \")\n",
    "    loop_roi = get_square_roi(row['lat'],row['long'], roi_size=1920, return_gee_object=True)\n",
    "    \n",
    "    # FIRST: Checkig if we can find an image in the WINTER_RANGE\n",
    "    l8 = IMAGE_COLLECTION.filter(winter_range_filter)\\\n",
    "                         .filterBounds(loop_roi).sort('system:time_start')\n",
    "    if l8.size().getInfo() > 0:                     \n",
    "        #clip the image collection to the roi                     \n",
    "        l8 = l8.map(lambda img: img.clip(loop_roi))\n",
    "        topoBands = add_topo().clip(loop_roi)\n",
    "        \n",
    "        # discard images with high null pixels\n",
    "        l8 = l8.map(lambda img: img.set('not_null_pixels', get_not_nulls_ratio(img,loop_roi)))\n",
    "        l8 = l8.filter(ee.Filter.gt('not_null_pixels',0.7))\n",
    "        \n",
    "        # Ratiometric correction\n",
    "        l8 = l8.map(lambda img: radiometric_correction(img))\n",
    "        # add roi cloud cover and cloud shadow property # the index 2 is for the combination of cloud and cloud shadow mask\n",
    "        l8 = l8.map(lambda img: img.set('roi_cloud_cover', get_mask_ones_ratio(get_cloud_mask(img)[2])))\n",
    "        l8 = l8.filter(ee.Filter.lt('roi_cloud_cover',10)) \n",
    "        \n",
    "        # add roi snow cover property\n",
    "        l8 = l8.map(lambda img: img.set('roi_snow_cover', get_mask_ones_ratio(get_snow_mask(img))))\n",
    "        l8 = l8.filter(ee.Filter.lt('roi_snow_cover',10)) \n",
    "\n",
    "    if l8.size().getInfo() > 0:\n",
    "        print (f'{c.OKGREEN} Found {c.ENDC}')\n",
    "        l8_image = add_mineral_indices(l8.sort('system:time_start').first()).addBands(topoBands)\n",
    "        # print('Band names:', l8_image.bandNames().getInfo())\n",
    "\n",
    "    else: # if we can't find an image in the WINTER_RANGE, we check the NONE_WINTER_RANGE\n",
    "        print (f'{c.FAIL} Not Found {c.ENDC}', end=\" Cheking for None Winter Image -> \")\n",
    "        l8 = IMAGE_COLLECTION.filter(non_winter_range_filter)\\\n",
    "                             .filterBounds(loop_roi).sort('system:time_start')\n",
    "                             \n",
    "        #clip the image collection to the roi                     \n",
    "        l8 = l8.map(lambda img: img.clip(loop_roi))\n",
    "                    \n",
    "        # discard images with high null pixels\n",
    "        l8 = l8.map(lambda img: img.set('not_null_pixels', get_not_nulls_ratio(img,loop_roi)))\n",
    "        l8 = l8.filter(ee.Filter.gt('not_null_pixels',0.7))\n",
    "\n",
    "        # Ratiometric correction\n",
    "        l8 = l8.map(lambda img: radiometric_correction(img))\n",
    "        \n",
    "        # add roi cloud cover and cloud shadow property # the index 2 is for the combination of cloud and cloud shadow mask\n",
    "        l8 = l8.map(lambda img: img.set('roi_cloud_cover', get_mask_ones_ratio(get_cloud_mask(img)[2])))\n",
    "        l8 = l8.filter(ee.Filter.lt('roi_cloud_cover',10)) \n",
    "        \n",
    "        # add roi snow cover property\n",
    "        l8 = l8.map(lambda img: img.set('roi_snow_cover', get_mask_ones_ratio(get_snow_mask(img))))\n",
    "        l8 = l8.filter(ee.Filter.lt('roi_snow_cover',10)) \n",
    "        \n",
    "        l8 = l8.map(lambda img: img.set('roi_mean_ndvi', get_mean_ndvi(img)))  \n",
    "        \n",
    "        if l8.size().getInfo() > 0:\n",
    "            print(f'{c.OKGREEN} Found {c.ENDC}')\n",
    "            l8_image = add_mineral_indices(l8.sort('roi_mean_ndvi').first()).addBands(topoBands)\n",
    "            # print('Band names:', l8_image.bandNames().getInfo())\n",
    "        else:\n",
    "            print(f'{c.FAIL} No Image Found For this ROI! {c.ENDC}')\n",
    "\n",
    "    if l8.size().getInfo() > 0:    \n",
    "        date = ee.Date(l8_image.get('system:time_start')).format('YYMMdd').getInfo()\n",
    "        name = f\"{int(row['Piont_id'])}_{date}.tif\"\n",
    "        geemap.download_ee_image(l8_image.select(BANDS), DFOLDER+ name,crs='EPSG:3857', scale=30, region = loop_roi)\n",
    "                       \n",
    "    #print('Date:',milsec2date(l8.aggregate_array('system:time_start').getInfo()))\n",
    "    \n",
    "    # if index == 20:\n",
    "    #     break"
   ]
  },
  {
   "cell_type": "code",
   "execution_count": null,
   "metadata": {},
   "outputs": [],
   "source": [
    "sdf = (123,)\n",
    "len(sdf)"
   ]
  },
  {
   "cell_type": "markdown",
   "metadata": {},
   "source": [
    "## Testing some outputs"
   ]
  },
  {
   "cell_type": "code",
   "execution_count": null,
   "metadata": {},
   "outputs": [],
   "source": [
    "date = ee.Date(l8_image.get('system:time_start')).format('YYMMdd').getInfo()\n",
    "date"
   ]
  },
  {
   "cell_type": "code",
   "execution_count": null,
   "metadata": {},
   "outputs": [],
   "source": [
    "Map = geemap.Map()\n",
    "# l8_c_img = l8.sort('roi_mean_ndvi',True).first()\n",
    "l8_c_img = l8.sort('system:time_start',True).first()\n",
    "print(l8_c_img.get('roi_mean_ndvi').getInfo())\n",
    "visualization = {\n",
    "  'bands': ['SR_B4', 'SR_B3', 'SR_B2'],\n",
    "  'min': 0.0,\n",
    "  'max': 0.3,\n",
    "}\n",
    "\n",
    "cloud = get_cloud_mask(l8_c_img)[2]\n",
    "\n",
    "\n",
    "Map.addLayer(cloud, {'min': 0, 'max': 1, 'palette': ['black','red']}, 'cloud')\n",
    "Map.addLayer(l8_c_img, visualization, 'rgb')\n",
    "Map.centerObject(loop_roi)\n",
    "Map"
   ]
  },
  {
   "cell_type": "code",
   "execution_count": null,
   "metadata": {},
   "outputs": [],
   "source": []
  }
 ],
 "metadata": {
  "kernelspec": {
   "display_name": "geemap",
   "language": "python",
   "name": "python3"
  },
  "language_info": {
   "codemirror_mode": {
    "name": "ipython",
    "version": 3
   },
   "file_extension": ".py",
   "mimetype": "text/x-python",
   "name": "python",
   "nbconvert_exporter": "python",
   "pygments_lexer": "ipython3",
   "version": "3.9.16"
  },
  "vscode": {
   "interpreter": {
    "hash": "3bd38b858981f1e9cd68139c3154e421d5aec162b00fbb2323643b90bba82a61"
   }
  }
 },
 "nbformat": 4,
 "nbformat_minor": 4
}

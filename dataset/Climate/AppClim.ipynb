{
 "cells": [
  {
   "cell_type": "code",
   "execution_count": 7,
   "metadata": {},
   "outputs": [],
   "source": [
    "import os\n",
    "import pandas as pd"
   ]
  },
  {
   "cell_type": "code",
   "execution_count": 2,
   "metadata": {},
   "outputs": [],
   "source": [
    "def aggregate_csv_files(folder_path, output_path_template, x_values):\n",
    "\n",
    "    \"\"\"\n",
    "    Aggregate all .csv files in a folder into a single file for specified values of x.\n",
    "\n",
    "    Args:\n",
    "        folder_path (str): The path to the folder containing the .csv files.\n",
    "        output_path (str): The path to the output file to create.\n",
    "        x_values (list): A list of values of x to aggregate files for.\n",
    "\n",
    "    Returns:\n",
    "        None\n",
    "    \"\"\"\n",
    "\n",
    "\n",
    "    for x in x_values:\n",
    "        csv_files = [f for f in os.listdir(folder_path) if f.endswith('.csv') and f.startswith(str(x))]\n",
    "        csv_files.sort(key=lambda x: int(''.join(filter(str.isdigit, x))))\n",
    "        print(csv_files)\n",
    "        df = pd.concat([pd.read_csv(os.path.join(folder_path, f)) for f in csv_files], ignore_index=True, axis = 0)\n",
    "        output_path = output_path_template.format(x)  # Insert x value into output file name\n",
    "        print(output_path)\n",
    "        df.to_csv(output_path, index=False)"
   ]
  },
  {
   "cell_type": "code",
   "execution_count": 10,
   "metadata": {},
   "outputs": [
    {
     "name": "stdout",
     "output_type": "stream",
     "text": [
      "['srad_0.csv', 'srad_1000.csv', 'srad_2000.csv', 'srad_3000.csv', 'srad_4000.csv', 'srad_5000.csv', 'srad_6000.csv', 'srad_7000.csv', 'srad_8000.csv', 'srad_9000.csv', 'srad_10000.csv', 'srad_11000.csv', 'srad_12000.csv', 'srad_13000.csv', 'srad_14000.csv', 'srad_15000.csv', 'srad_16000.csv', 'srad_17000.csv', 'srad_18000.csv', 'srad_19000.csv', 'srad_20000.csv', 'srad_21000.csv']\n",
      "C:\\Users\\nkakhani\\_Multimodal\\_srad.csv\n"
     ]
    }
   ],
   "source": [
    "folder_path = ...\n",
    "output_path_template = ...\n",
    "\n",
    "# x_values = ['aet', 'def', 'pdsi', 'pet', 'pr', 'ro', 'soil', 'srad', 'swe', 'tmmn', 'tmmx', 'vap', 'vpd', 'vs']  # Example x values\n",
    "# x_values = ['srad']  # Example x values\n",
    "\n",
    "aggregate_csv_files(folder_path, output_path_template, x_values)"
   ]
  }
 ],
 "metadata": {
  "kernelspec": {
   "display_name": "EarthEngine",
   "language": "python",
   "name": "python3"
  },
  "language_info": {
   "codemirror_mode": {
    "name": "ipython",
    "version": 3
   },
   "file_extension": ".py",
   "mimetype": "text/x-python",
   "name": "python",
   "nbconvert_exporter": "python",
   "pygments_lexer": "ipython3",
   "version": "3.8.13"
  },
  "orig_nbformat": 4
 },
 "nbformat": 4,
 "nbformat_minor": 2
}

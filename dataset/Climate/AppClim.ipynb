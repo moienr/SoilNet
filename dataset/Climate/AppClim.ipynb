{
 "cells": [
  {
   "cell_type": "code",
   "execution_count": 1,
   "metadata": {},
   "outputs": [],
   "source": [
    "import os\n",
    "import pandas as pd"
   ]
  },
  {
   "cell_type": "code",
   "execution_count": 2,
   "metadata": {},
   "outputs": [],
   "source": [
    "# def aggregate_csv_files(folder_path, output_path_template, x_values):\n",
    "\n",
    "#     \"\"\"\n",
    "#     Aggregate all .csv files in a folder into a single file for specified values of x.\n",
    "\n",
    "#     Args:\n",
    "#         folder_path (str): The path to the folder containing the .csv files.\n",
    "#         output_path (str): The path to the output file to create.\n",
    "#         x_values (list): A list of values of x to aggregate files for.\n",
    "\n",
    "#     Returns:\n",
    "#         None\n",
    "#     \"\"\"\n",
    "\n",
    "\n",
    "#     for x in x_values:\n",
    "#         csv_files = [f for f in os.listdir(folder_path) if f.endswith('.csv') and f.startswith(str(x))]\n",
    "#         csv_files.sort(key=lambda x: int(''.join(filter(str.isdigit, x))))\n",
    "#         print(csv_files)\n",
    "#         df = pd.concat([pd.read_csv(os.path.join(folder_path, f)) for f in csv_files], ignore_index=True, axis = 0)\n",
    "#         output_path = output_path_template.format(x)  # Insert x value into output file name\n",
    "#         print(output_path)\n",
    "#         df.to_csv(output_path, index=False)\n",
    "\n",
    "\n",
    "def aggregate_csv_files(folder_path, output_path_template, x_values):\n",
    "    \"\"\"\n",
    "    Aggregate all .csv files in a folder into a single file for specified values of x.\n",
    "\n",
    "    Args:\n",
    "        folder_path (str): The path to the folder containing the .csv files.\n",
    "        output_path_template (str): The path template for the output file to create. It should include a placeholder for the 'x' value.\n",
    "        x_values (list): A list of values of x to aggregate files for.\n",
    "\n",
    "    Returns:\n",
    "        aggregated_counts (dict): A dictionary mapping each 'x' value to the number of CSV files aggregated.\n",
    "    \"\"\"\n",
    "    import os\n",
    "    import pandas as pd\n",
    "\n",
    "    aggregated_counts = {}\n",
    "\n",
    "    for x in x_values:\n",
    "        # Filter and sort CSV files based on their names\n",
    "        csv_files = [f for f in os.listdir(folder_path) if f.endswith('.csv') and f.startswith(str(x))]\n",
    "        csv_files.sort(key=lambda x: int(''.join(filter(str.isdigit, x))))\n",
    "\n",
    "        # Check if the number of CSV files is correct\n",
    "        expected_count = int(36)  # Assuming that the expected count is the 'x' value\n",
    "        actual_count = len(csv_files)\n",
    "\n",
    "        if actual_count != expected_count:\n",
    "            raise ValueError(f\"Error for x={x}: Expected {expected_count} CSV files, but found {actual_count}.\")\n",
    "\n",
    "        # Concatenate data from CSV files into a single DataFrame\n",
    "        df = pd.concat([pd.read_csv(os.path.join(folder_path, f)) for f in csv_files], ignore_index=True, axis=0)\n",
    "\n",
    "        # Construct the output path by inserting the 'x' value into the output file template\n",
    "        output_path = output_path_template.format(x)\n",
    "\n",
    "        # Save the aggregated DataFrame to a new CSV file\n",
    "        df.to_csv(output_path, index=False)\n",
    "\n",
    "        # Store the number of aggregated files for this 'x' in the dictionary\n",
    "        aggregated_counts[x] = actual_count\n",
    "\n",
    "    return aggregated_counts\n"
   ]
  },
  {
   "cell_type": "code",
   "execution_count": 3,
   "metadata": {},
   "outputs": [
    {
     "data": {
      "text/plain": [
       "{'aet': 36,\n",
       " 'def': 36,\n",
       " 'pdsi': 36,\n",
       " 'pet': 36,\n",
       " 'pr': 36,\n",
       " 'ro': 36,\n",
       " 'soil': 36,\n",
       " 'srad': 36,\n",
       " 'swe': 36,\n",
       " 'tmmn': 36,\n",
       " 'tmmx': 36,\n",
       " 'vap': 36,\n",
       " 'vpd': 36}"
      ]
     },
     "execution_count": 3,
     "metadata": {},
     "output_type": "execute_result"
    }
   ],
   "source": [
    "folder_path = 'C:\\\\Users\\\\nkakhani\\\\_Multimodal\\\\SoilNet-7\\\\SoilNet-PreRelease\\\\dataset\\\\Climate'\n",
    "output_path_template = 'C:\\\\Users\\\\nkakhani\\\\_Multimodal\\\\SoilNet-7\\\\SoilNet-PreRelease_{}.csv'\n",
    "\n",
    "\n",
    "climate_values = ['aet', 'def', 'pdsi', 'pet', 'pr', 'ro', 'soil', 'srad', 'swe', 'tmmn', 'tmmx', 'vap', 'vpd']  # Example x values\n",
    "# x_values = ['srad']  # Example x values\n",
    "\n",
    "aggregate_csv_files(folder_path, output_path_template, climate_values)"
   ]
  }
 ],
 "metadata": {
  "kernelspec": {
   "display_name": "EarthEngine",
   "language": "python",
   "name": "python3"
  },
  "language_info": {
   "codemirror_mode": {
    "name": "ipython",
    "version": 3
   },
   "file_extension": ".py",
   "mimetype": "text/x-python",
   "name": "python",
   "nbconvert_exporter": "python",
   "pygments_lexer": "ipython3",
   "version": "3.8.13"
  },
  "orig_nbformat": 4
 },
 "nbformat": 4,
 "nbformat_minor": 2
}

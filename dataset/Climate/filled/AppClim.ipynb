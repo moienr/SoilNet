{
 "cells": [
  {
   "cell_type": "code",
   "execution_count": 36,
   "metadata": {},
   "outputs": [],
   "source": [
    "import os\n",
    "import pandas as pd"
   ]
  },
  {
   "cell_type": "code",
   "execution_count": 34,
   "metadata": {},
   "outputs": [],
   "source": [
    "def aggregate_csv_files(folder_path, output_path_template, x_values):\n",
    "\n",
    "    \"\"\"\n",
    "    Aggregate all .csv files in a folder into a single file for specified values of x.\n",
    "\n",
    "    Args:\n",
    "        folder_path (str): The path to the folder containing the .csv files.\n",
    "        output_path (str): The path to the output file to create.\n",
    "        x_values (list): A list of values of x to aggregate files for.\n",
    "\n",
    "    Returns:\n",
    "        None\n",
    "    \"\"\"\n",
    "\n",
    "\n",
    "    for x in x_values:\n",
    "        csv_files = [f for f in os.listdir(folder_path) if f.endswith('.csv') and f.startswith(str(x))]\n",
    "        csv_files.sort(key=lambda x: int(''.join(filter(str.isdigit, x))))\n",
    "        print(csv_files)\n",
    "        df = pd.concat([pd.read_csv(os.path.join(folder_path, f)) for f in csv_files], ignore_index=True, axis = 0)\n",
    "        output_path = output_path_template.format(x)  # Insert x value into output file name\n",
    "        print(output_path)\n",
    "        df.to_csv(output_path, index=False)"
   ]
  },
  {
   "cell_type": "code",
   "execution_count": 37,
   "metadata": {},
   "outputs": [
    {
     "name": "stdout",
     "output_type": "stream",
     "text": [
      "aet\n",
      "['aet_0.csv', 'aet_1000.csv', 'aet_2000.csv', 'aet_3000.csv', 'aet_4000.csv', 'aet_5000.csv', 'aet_6000.csv', 'aet_7000.csv', 'aet_8000.csv', 'aet_9000.csv', 'aet_10000.csv', 'aet_11000.csv', 'aet_12000.csv', 'aet_13000.csv', 'aet_14000.csv', 'aet_15000.csv', 'aet_16000.csv', 'aet_17000.csv', 'aet_18000.csv', 'aet_19000.csv', 'aet_20000.csv', 'aet_21000.csv']\n",
      "C:\\Users\\nkakhani\\_Multimodal\\_aet.csv\n",
      "def\n",
      "['def_0.csv', 'def_1000.csv', 'def_2000.csv', 'def_3000.csv', 'def_4000.csv', 'def_5000.csv', 'def_6000.csv', 'def_7000.csv', 'def_8000.csv', 'def_9000.csv', 'def_10000.csv', 'def_11000.csv', 'def_12000.csv', 'def_13000.csv', 'def_14000.csv', 'def_15000.csv', 'def_16000.csv', 'def_17000.csv', 'def_18000.csv', 'def_19000.csv', 'def_20000.csv', 'def_21000.csv']\n",
      "C:\\Users\\nkakhani\\_Multimodal\\_def.csv\n",
      "pdsi\n",
      "['pdsi_0.csv', 'pdsi_1000.csv', 'pdsi_2000.csv', 'pdsi_3000.csv', 'pdsi_4000.csv', 'pdsi_5000.csv', 'pdsi_6000.csv', 'pdsi_7000.csv', 'pdsi_8000.csv', 'pdsi_9000.csv', 'pdsi_10000.csv', 'pdsi_11000.csv', 'pdsi_12000.csv', 'pdsi_13000.csv', 'pdsi_14000.csv', 'pdsi_15000.csv', 'pdsi_16000.csv', 'pdsi_17000.csv', 'pdsi_18000.csv', 'pdsi_19000.csv', 'pdsi_20000.csv', 'pdsi_21000.csv']\n",
      "C:\\Users\\nkakhani\\_Multimodal\\_pdsi.csv\n",
      "pet\n",
      "['pet_0.csv', 'pet_1000.csv', 'pet_2000.csv', 'pet_3000.csv', 'pet_4000.csv', 'pet_5000.csv', 'pet_6000.csv', 'pet_7000.csv', 'pet_8000.csv', 'pet_9000.csv', 'pet_10000.csv', 'pet_11000.csv', 'pet_12000.csv', 'pet_13000.csv', 'pet_14000.csv', 'pet_15000.csv', 'pet_16000.csv', 'pet_17000.csv', 'pet_18000.csv', 'pet_19000.csv', 'pet_20000.csv', 'pet_21000.csv']\n",
      "C:\\Users\\nkakhani\\_Multimodal\\_pet.csv\n",
      "pr\n",
      "['pr_0.csv', 'pr_1000.csv', 'pr_2000.csv', 'pr_3000.csv', 'pr_4000.csv', 'pr_5000.csv', 'pr_6000.csv', 'pr_7000.csv', 'pr_8000.csv', 'pr_9000.csv', 'pr_10000.csv', 'pr_11000.csv', 'pr_12000.csv', 'pr_13000.csv', 'pr_14000.csv', 'pr_15000.csv', 'pr_16000.csv', 'pr_17000.csv', 'pr_18000.csv', 'pr_19000.csv', 'pr_20000.csv', 'pr_21000.csv']\n",
      "C:\\Users\\nkakhani\\_Multimodal\\_pr.csv\n",
      "ro\n",
      "['ro_0.csv', 'ro_1000.csv', 'ro_2000.csv', 'ro_3000.csv', 'ro_4000.csv', 'ro_5000.csv', 'ro_6000.csv', 'ro_7000.csv', 'ro_8000.csv', 'ro_9000.csv', 'ro_10000.csv', 'ro_11000.csv', 'ro_12000.csv', 'ro_13000.csv', 'ro_14000.csv', 'ro_15000.csv', 'ro_16000.csv', 'ro_17000.csv', 'ro_18000.csv', 'ro_19000.csv', 'ro_20000.csv', 'ro_21000.csv']\n",
      "C:\\Users\\nkakhani\\_Multimodal\\_ro.csv\n",
      "soil\n",
      "['soil_0.csv', 'soil_1000.csv', 'soil_2000.csv', 'soil_3000.csv', 'soil_4000.csv', 'soil_5000.csv', 'soil_6000.csv', 'soil_7000.csv', 'soil_8000.csv', 'soil_9000.csv', 'soil_10000.csv', 'soil_11000.csv', 'soil_12000.csv', 'soil_13000.csv', 'soil_14000.csv', 'soil_15000.csv', 'soil_16000.csv', 'soil_17000.csv', 'soil_18000.csv', 'soil_19000.csv', 'soil_20000.csv', 'soil_21000.csv']\n",
      "C:\\Users\\nkakhani\\_Multimodal\\_soil.csv\n",
      "srad\n",
      "['srad_0.csv', 'srad_1000.csv', 'srad_2000.csv', 'srad_3000.csv', 'srad_4000.csv', 'srad_5000.csv', 'srad_6000.csv', 'srad_7000.csv', 'srad_8000.csv', 'srad_9000.csv', 'srad_10000.csv', 'srad_11000.csv', 'srad_12000.csv', 'srad_13000.csv', 'srad_14000.csv', 'srad_15000.csv', 'srad_17000.csv', 'srad_18000.csv', 'srad_19000.csv', 'srad_20000.csv', 'srad_21000.csv']\n",
      "C:\\Users\\nkakhani\\_Multimodal\\_srad.csv\n",
      "swe\n",
      "['swe_0.csv', 'swe_1000.csv', 'swe_2000.csv', 'swe_3000.csv', 'swe_4000.csv', 'swe_5000.csv', 'swe_6000.csv', 'swe_7000.csv', 'swe_8000.csv', 'swe_9000.csv', 'swe_10000.csv', 'swe_11000.csv', 'swe_12000.csv', 'swe_13000.csv', 'swe_14000.csv', 'swe_15000.csv', 'swe_16000.csv', 'swe_17000.csv', 'swe_18000.csv', 'swe_19000.csv', 'swe_20000.csv', 'swe_21000.csv']\n",
      "C:\\Users\\nkakhani\\_Multimodal\\_swe.csv\n",
      "tmmn\n",
      "['tmmn_0.csv', 'tmmn_1000.csv', 'tmmn_2000.csv', 'tmmn_3000.csv', 'tmmn_4000.csv', 'tmmn_5000.csv', 'tmmn_6000.csv', 'tmmn_7000.csv', 'tmmn_8000.csv', 'tmmn_9000.csv', 'tmmn_10000.csv', 'tmmn_11000.csv', 'tmmn_12000.csv', 'tmmn_13000.csv', 'tmmn_14000.csv', 'tmmn_15000.csv', 'tmmn_16000.csv', 'tmmn_17000.csv', 'tmmn_18000.csv', 'tmmn_19000.csv', 'tmmn_20000.csv', 'tmmn_21000.csv']\n",
      "C:\\Users\\nkakhani\\_Multimodal\\_tmmn.csv\n",
      "tmmx\n",
      "['tmmx_0.csv', 'tmmx_1000.csv', 'tmmx_2000.csv', 'tmmx_3000.csv', 'tmmx_4000.csv', 'tmmx_5000.csv', 'tmmx_6000.csv', 'tmmx_7000.csv', 'tmmx_8000.csv', 'tmmx_9000.csv', 'tmmx_10000.csv', 'tmmx_11000.csv', 'tmmx_12000.csv', 'tmmx_13000.csv', 'tmmx_14000.csv', 'tmmx_15000.csv', 'tmmx_16000.csv', 'tmmx_17000.csv', 'tmmx_18000.csv', 'tmmx_19000.csv', 'tmmx_20000.csv', 'tmmx_21000.csv']\n",
      "C:\\Users\\nkakhani\\_Multimodal\\_tmmx.csv\n",
      "vap\n",
      "['vap_0.csv', 'vap_1000.csv', 'vap_2000.csv', 'vap_3000.csv', 'vap_4000.csv', 'vap_5000.csv', 'vap_6000.csv', 'vap_7000.csv', 'vap_8000.csv', 'vap_9000.csv', 'vap_10000.csv', 'vap_11000.csv', 'vap_12000.csv', 'vap_13000.csv', 'vap_14000.csv', 'vap_15000.csv', 'vap_16000.csv', 'vap_17000.csv', 'vap_18000.csv', 'vap_19000.csv', 'vap_20000.csv', 'vap_21000.csv']\n",
      "C:\\Users\\nkakhani\\_Multimodal\\_vap.csv\n",
      "vpd\n",
      "['vpd_0.csv', 'vpd_1000.csv', 'vpd_2000.csv', 'vpd_3000.csv', 'vpd_4000.csv', 'vpd_5000.csv', 'vpd_6000.csv', 'vpd_7000.csv', 'vpd_8000.csv', 'vpd_9000.csv', 'vpd_10000.csv', 'vpd_11000.csv', 'vpd_12000.csv', 'vpd_13000.csv', 'vpd_14000.csv', 'vpd_15000.csv', 'vpd_16000.csv', 'vpd_17000.csv', 'vpd_18000.csv', 'vpd_20000.csv', 'vpd_21000.csv']\n",
      "C:\\Users\\nkakhani\\_Multimodal\\_vpd.csv\n",
      "vs\n",
      "['vs_0.csv', 'vs_1000.csv', 'vs_2000.csv', 'vs_3000.csv', 'vs_4000.csv', 'vs_5000.csv', 'vs_6000.csv', 'vs_7000.csv', 'vs_8000.csv', 'vs_10000.csv', 'vs_11000.csv', 'vs_12000.csv', 'vs_14000.csv', 'vs_15000.csv', 'vs_17000.csv', 'vs_18000.csv', 'vs_19000.csv', 'vs_20000.csv', 'vs_21000.csv']\n",
      "C:\\Users\\nkakhani\\_Multimodal\\_vs.csv\n"
     ]
    }
   ],
   "source": [
    "folder_path = 'C:\\\\Users\\\\nkakhani\\\\_Multimodal\\\\SoilNet-1\\\\dataset\\\\Climate'\n",
    "output_path_template = 'C:\\\\Users\\\\nkakhani\\\\_Multimodal\\\\_{}.csv'\n",
    "\n",
    "x_values = ['aet', 'def', 'pdsi', 'pet', 'pr', 'ro', 'soil', 'srad', 'swe', 'tmmn', 'tmmx', 'vap', 'vpd', 'vs']  # Example x values\n",
    "aggregate_csv_files(folder_path, output_path, x_values)"
   ]
  }
 ],
 "metadata": {
  "kernelspec": {
   "display_name": "EarthEngine",
   "language": "python",
   "name": "python3"
  },
  "language_info": {
   "codemirror_mode": {
    "name": "ipython",
    "version": 3
   },
   "file_extension": ".py",
   "mimetype": "text/x-python",
   "name": "python",
   "nbconvert_exporter": "python",
   "pygments_lexer": "ipython3",
   "version": "3.8.13"
  },
  "orig_nbformat": 4
 },
 "nbformat": 4,
 "nbformat_minor": 2
}

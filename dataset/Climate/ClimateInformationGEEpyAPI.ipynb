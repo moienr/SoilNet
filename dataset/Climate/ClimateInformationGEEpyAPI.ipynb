{
 "cells": [
  {
   "attachments": {},
   "cell_type": "markdown",
   "id": "8a0e9cf9-c0f3-4c9c-aaa8-8a72918d972b",
   "metadata": {},
   "source": [
    "This code exports Climate features for the LUCAS samples<br>\n",
    "Data: https://developers.google.com/earth-engine/datasets/catalog/IDAHO_EPSCOR_TERRACLIMATE<br>\n",
    "Author: Nafiseh Kakhani, University of Tuebingen<br>\n",
    "Date: 04/04/2023<br>\n",
    "Project: Multi-modal deep learning for SOC estimation "
   ]
  },
  {
   "cell_type": "code",
   "execution_count": 6,
   "id": "f6c36d4a-2530-47a2-a061-19387f95f71c",
   "metadata": {},
   "outputs": [],
   "source": [
    "import ee\n",
    "import geemap"
   ]
  },
  {
   "cell_type": "code",
   "execution_count": 7,
   "id": "a96cb202-9bfb-4e32-b598-de92ca1a3f33",
   "metadata": {},
   "outputs": [
    {
     "data": {
      "text/html": [
       "<p>To authorize access needed by Earth Engine, open the following\n",
       "        URL in a web browser and follow the instructions:</p>\n",
       "        <p><a href=https://code.earthengine.google.com/client-auth?scopes=https%3A//www.googleapis.com/auth/earthengine%20https%3A//www.googleapis.com/auth/devstorage.full_control&request_id=BQ3J2eznGZ3f4oNc2Z-KpRiuyVd_78Qf-kRrLBcoflI&tc=3UJSfpHCH4orYEvgB345oXiC_eQexMCHufuNvrIIh0I&cc=lFFC1NsjiGDWiqGIvtcNt4VpL7rL0p7TQhv_A0yxdw8>https://code.earthengine.google.com/client-auth?scopes=https%3A//www.googleapis.com/auth/earthengine%20https%3A//www.googleapis.com/auth/devstorage.full_control&request_id=BQ3J2eznGZ3f4oNc2Z-KpRiuyVd_78Qf-kRrLBcoflI&tc=3UJSfpHCH4orYEvgB345oXiC_eQexMCHufuNvrIIh0I&cc=lFFC1NsjiGDWiqGIvtcNt4VpL7rL0p7TQhv_A0yxdw8</a></p>\n",
       "        <p>The authorization workflow will generate a code, which you should paste in the box below.</p>\n",
       "        "
      ],
      "text/plain": [
       "<IPython.core.display.HTML object>"
      ]
     },
     "metadata": {},
     "output_type": "display_data"
    },
    {
     "name": "stdout",
     "output_type": "stream",
     "text": [
      "\n",
      "Successfully saved authorization token.\n"
     ]
    }
   ],
   "source": [
    "# ee.Authenticate()"
   ]
  },
  {
   "cell_type": "code",
   "execution_count": 8,
   "id": "0704e6d2-c6b3-43f7-a83c-aafe84152953",
   "metadata": {},
   "outputs": [],
   "source": [
    "ee.Initialize()"
   ]
  },
  {
   "cell_type": "code",
   "execution_count": 9,
   "id": "03c8d17b-c9fd-4131-b952-e3ebc7ab279d",
   "metadata": {},
   "outputs": [
    {
     "name": "stdout",
     "output_type": "stream",
     "text": [
      "Generating URL ...\n",
      "Downloading data from https://earthengine.googleapis.com/v1alpha/projects/earthengine-legacy/tables/6f27a3ca2b2d5306778950c935e97680-3a9f47b94d29fa5f32e266e254eda278:getFeatures\n",
      "Please wait ...\n",
      "Data downloaded to c:\\Users\\nkakhani\\_Multimodal\\SoilNet-3\\SoilNet\\dataset\\Climate\\vpd_0.csv\n",
      "Generating URL ...\n",
      "Downloading data from https://earthengine.googleapis.com/v1alpha/projects/earthengine-legacy/tables/5cd74d87bbb31e986aba959715011bff-66e165f2454cc065e9b2648bfcb2a876:getFeatures\n",
      "Please wait ...\n",
      "Data downloaded to c:\\Users\\nkakhani\\_Multimodal\\SoilNet-3\\SoilNet\\dataset\\Climate\\vpd_1000.csv\n",
      "Generating URL ...\n",
      "Downloading data from https://earthengine.googleapis.com/v1alpha/projects/earthengine-legacy/tables/bc84087e2f3814e205e7f74c4e0be7a6-b0754fb68e2806e3b75b9ca7823ca97b:getFeatures\n",
      "Please wait ...\n",
      "Data downloaded to c:\\Users\\nkakhani\\_Multimodal\\SoilNet-3\\SoilNet\\dataset\\Climate\\vpd_2000.csv\n",
      "Generating URL ...\n",
      "Downloading data from https://earthengine.googleapis.com/v1alpha/projects/earthengine-legacy/tables/ee679125bffba2baaaaf2f942de8c24d-69774aa0bf9de9c857cb3e8fdff145bb:getFeatures\n",
      "Please wait ...\n",
      "Data downloaded to c:\\Users\\nkakhani\\_Multimodal\\SoilNet-3\\SoilNet\\dataset\\Climate\\vpd_3000.csv\n",
      "Generating URL ...\n",
      "Downloading data from https://earthengine.googleapis.com/v1alpha/projects/earthengine-legacy/tables/597fe2a0c3c6cdc062ac6f3956e8b106-a13e2b42ebd58f08f2f1fbd66c3c3531:getFeatures\n",
      "Please wait ...\n",
      "Data downloaded to c:\\Users\\nkakhani\\_Multimodal\\SoilNet-3\\SoilNet\\dataset\\Climate\\vpd_4000.csv\n",
      "Generating URL ...\n",
      "Downloading data from https://earthengine.googleapis.com/v1alpha/projects/earthengine-legacy/tables/e7a6f4f0fd73a5dd9ff8c1e567a676dd-492520d036531ba5eddefbe38da08e06:getFeatures\n",
      "Please wait ...\n",
      "Data downloaded to c:\\Users\\nkakhani\\_Multimodal\\SoilNet-3\\SoilNet\\dataset\\Climate\\vpd_5000.csv\n",
      "Generating URL ...\n",
      "Downloading data from https://earthengine.googleapis.com/v1alpha/projects/earthengine-legacy/tables/e301b14b17a4a2044bf48635d6043c6e-d41c07ae3b5d1a6dc07e47e57d264035:getFeatures\n",
      "Please wait ...\n",
      "Data downloaded to c:\\Users\\nkakhani\\_Multimodal\\SoilNet-3\\SoilNet\\dataset\\Climate\\vpd_6000.csv\n",
      "Generating URL ...\n",
      "Downloading data from https://earthengine.googleapis.com/v1alpha/projects/earthengine-legacy/tables/b44af66b9c567fef253bceb83df07391-7cbed9b7555dc6db54d9b6a8f4e5f9aa:getFeatures\n",
      "Please wait ...\n",
      "Data downloaded to c:\\Users\\nkakhani\\_Multimodal\\SoilNet-3\\SoilNet\\dataset\\Climate\\vpd_7000.csv\n",
      "Generating URL ...\n",
      "Downloading data from https://earthengine.googleapis.com/v1alpha/projects/earthengine-legacy/tables/0ef5bd1504f22e7e1ba49d17b8c134ec-df94b22e74a2795a952eb7c17b1b25ae:getFeatures\n",
      "Please wait ...\n",
      "Data downloaded to c:\\Users\\nkakhani\\_Multimodal\\SoilNet-3\\SoilNet\\dataset\\Climate\\vpd_8000.csv\n",
      "Generating URL ...\n",
      "Downloading data from https://earthengine.googleapis.com/v1alpha/projects/earthengine-legacy/tables/db406a5e3a8045d414205be5697f3e62-1b847b93a6d817316133aef9e64cb16e:getFeatures\n",
      "Please wait ...\n",
      "Data downloaded to c:\\Users\\nkakhani\\_Multimodal\\SoilNet-3\\SoilNet\\dataset\\Climate\\vpd_9000.csv\n",
      "Generating URL ...\n",
      "Downloading data from https://earthengine.googleapis.com/v1alpha/projects/earthengine-legacy/tables/3b3e8bc78391c2f9924e84325f107869-b741e29890dc57b3f10fcce4042fd147:getFeatures\n",
      "Please wait ...\n",
      "Data downloaded to c:\\Users\\nkakhani\\_Multimodal\\SoilNet-3\\SoilNet\\dataset\\Climate\\vpd_10000.csv\n",
      "Generating URL ...\n",
      "Downloading data from https://earthengine.googleapis.com/v1alpha/projects/earthengine-legacy/tables/7c627d250de2c2edac232ac8efc5afdb-80cf3a9e41cc347c493111b507b7c4ef:getFeatures\n",
      "Please wait ...\n",
      "Data downloaded to c:\\Users\\nkakhani\\_Multimodal\\SoilNet-3\\SoilNet\\dataset\\Climate\\vpd_11000.csv\n",
      "Generating URL ...\n",
      "Downloading data from https://earthengine.googleapis.com/v1alpha/projects/earthengine-legacy/tables/e44a0cccbc35ad7ae938dc05d07ab1e8-c802f4d342297cac85740afb57017528:getFeatures\n",
      "Please wait ...\n",
      "Data downloaded to c:\\Users\\nkakhani\\_Multimodal\\SoilNet-3\\SoilNet\\dataset\\Climate\\vpd_12000.csv\n",
      "Generating URL ...\n",
      "Downloading data from https://earthengine.googleapis.com/v1alpha/projects/earthengine-legacy/tables/51334be9a44021ac340dc0a1c8297c8a-069672f7e5c7c44a0ac7a4fe41e38f9b:getFeatures\n",
      "Please wait ...\n",
      "Data downloaded to c:\\Users\\nkakhani\\_Multimodal\\SoilNet-3\\SoilNet\\dataset\\Climate\\vpd_13000.csv\n",
      "Generating URL ...\n",
      "Downloading data from https://earthengine.googleapis.com/v1alpha/projects/earthengine-legacy/tables/42f88fdaa0bee7f90a3f02166bc0c904-a4baa2e8141525d647981cc33637e4b8:getFeatures\n",
      "Please wait ...\n",
      "Data downloaded to c:\\Users\\nkakhani\\_Multimodal\\SoilNet-3\\SoilNet\\dataset\\Climate\\vpd_14000.csv\n",
      "Generating URL ...\n",
      "Downloading data from https://earthengine.googleapis.com/v1alpha/projects/earthengine-legacy/tables/e60f8213a33298c5313ddcbaaee76463-da71d38f56f7684586e05518bc782d97:getFeatures\n",
      "Please wait ...\n",
      "Data downloaded to c:\\Users\\nkakhani\\_Multimodal\\SoilNet-3\\SoilNet\\dataset\\Climate\\vpd_15000.csv\n",
      "Generating URL ...\n",
      "Downloading data from https://earthengine.googleapis.com/v1alpha/projects/earthengine-legacy/tables/b44088003914e6d646b2dfd6ab8d9a45-839866b36c05ef91c5d886a64a790bfa:getFeatures\n",
      "Please wait ...\n",
      "Data downloaded to c:\\Users\\nkakhani\\_Multimodal\\SoilNet-3\\SoilNet\\dataset\\Climate\\vpd_16000.csv\n",
      "Generating URL ...\n",
      "Downloading data from https://earthengine.googleapis.com/v1alpha/projects/earthengine-legacy/tables/7f045dcec18cbba7df272900a04dbc45-b9223473681ab64f61a5604dc827db9d:getFeatures\n",
      "Please wait ...\n",
      "Data downloaded to c:\\Users\\nkakhani\\_Multimodal\\SoilNet-3\\SoilNet\\dataset\\Climate\\vpd_17000.csv\n",
      "Generating URL ...\n",
      "Downloading data from https://earthengine.googleapis.com/v1alpha/projects/earthengine-legacy/tables/e2dc22f3ef6c0186e244c0c973cd627f-eb431bada432ee2cd371d3da4dc0a5e3:getFeatures\n",
      "Please wait ...\n",
      "Data downloaded to c:\\Users\\nkakhani\\_Multimodal\\SoilNet-3\\SoilNet\\dataset\\Climate\\vpd_18000.csv\n",
      "Generating URL ...\n",
      "Downloading data from https://earthengine.googleapis.com/v1alpha/projects/earthengine-legacy/tables/fa9b6c887524190c224bcf0a6637b04d-a14807b839488cd771a170c6b43b6ecb:getFeatures\n",
      "Please wait ...\n",
      "Data downloaded to c:\\Users\\nkakhani\\_Multimodal\\SoilNet-3\\SoilNet\\dataset\\Climate\\vpd_19000.csv\n",
      "Generating URL ...\n",
      "Downloading data from https://earthengine.googleapis.com/v1alpha/projects/earthengine-legacy/tables/4997cf19c9307e517937ee65e1778014-0c901675bdab9a1beaa290c02c570400:getFeatures\n",
      "Please wait ...\n",
      "Data downloaded to c:\\Users\\nkakhani\\_Multimodal\\SoilNet-3\\SoilNet\\dataset\\Climate\\vpd_20000.csv\n",
      "Generating URL ...\n",
      "Downloading data from https://earthengine.googleapis.com/v1alpha/projects/earthengine-legacy/tables/05a0e82a9696ee9cf0d3e956828d92ac-63863fe376680bc34ef954e5f6f89fd0:getFeatures\n",
      "Please wait ...\n",
      "Data downloaded to c:\\Users\\nkakhani\\_Multimodal\\SoilNet-3\\SoilNet\\dataset\\Climate\\vpd_21000.csv\n"
     ]
    }
   ],
   "source": [
    "#Import samples\n",
    "region = ee.FeatureCollection(\"projects/ee-nfskhn/assets/LUCAS_2015\") #Add your feature collection here\n",
    "Desired_bands = ['aet', 'def', 'pdsi', 'pet', 'pr', 'ro', 'soil', 'srad', 'swe', 'tmmn', 'tmmx', 'vap', 'vpd', 'vs']\n",
    "# Desired_bands = ['vpd']\n",
    "\n",
    "x = 0 #This needs to be inside a for-loop \n",
    "Climatefeature = ee.ImageCollection('IDAHO_EPSCOR/TERRACLIMATE').select(Desired_bands[x]);\n",
    "bandName = ee.Image(Climatefeature.first()).bandNames().get(0)\n",
    "startDate = ee.Date('2010-01-01') # set analysis start time\n",
    "endDate = ee.Date('2014-12-30') # set analysis end time\n",
    "\n",
    "# calculate the number of months to process\n",
    "nMonths = ee.Number(endDate.difference(startDate,'month')).round()\n",
    "\n",
    "# get a list of time strings to pass into a dictionary later on\n",
    "monList = ee.List(ee.List.sequence(0,nMonths).map(lambda n:\n",
    "          startDate.advance(n,'month').format('YYYMMdd')))\n",
    "\n",
    "# print(monList.getInfo())\n",
    "\n",
    "def map_climate(feature):\n",
    "    # map over each month\n",
    "    def map_month(n):\n",
    "        # calculate the offset from startDate\n",
    "        ini = startDate.advance(n,'month')\n",
    "        # advance just one month\n",
    "        end = ini.advance(1,'month')\n",
    "        # filter and reduce\n",
    "        data = Climatefeature.filterDate(ini,end).mean().reduceRegion(\n",
    "            reducer=ee.Reducer.mean(),\n",
    "            geometry=feature.geometry(),\n",
    "            scale=1000\n",
    "        )\n",
    "        # get the value and check that it has data\n",
    "        val = ee.Number(data.get(bandName))\n",
    "        val = ee.Number(ee.Algorithms.If(val,val,-999))\n",
    "        # return zonal mean\n",
    "        return val\n",
    "    timeSeries = ee.List.sequence(0,nMonths).map(map_month)\n",
    "    # create new dictionary with date strings and values\n",
    "    timeDict = ee.Dictionary.fromLists(monList,ee.List(timeSeries))\n",
    "    # return feature with a timeseries property and results\n",
    "    return feature.set(timeDict).setGeometry(None) # set the geometry to None to speed up the process\n",
    "\n",
    "pointsList = region.toList(region.size())\n",
    "\n",
    "#We need to break the large files in to chuncks \n",
    "chunk = 1000 #every 1000 points will be processed (to be checked) \n",
    "end = pointsList.size().getInfo()\n",
    "\n",
    "#we set the end number of for loop manually\n",
    "for i in range(0, end, chunk):\n",
    "            subset = ee.FeatureCollection(region.toList(chunk, i)).map(map_climate)\n",
    "            name = f\"{Desired_bands[x]}_{i}.csv\"\n",
    "            geemap.ee_to_csv(subset, filename = name)"
   ]
  },
  {
   "cell_type": "code",
   "execution_count": null,
   "id": "ec266d6c-2bf8-4516-94c2-571817bc96ac",
   "metadata": {},
   "outputs": [],
   "source": []
  }
 ],
 "metadata": {
  "kernelspec": {
   "display_name": "Python 3 (ipykernel)",
   "language": "python",
   "name": "python3"
  },
  "language_info": {
   "codemirror_mode": {
    "name": "ipython",
    "version": 3
   },
   "file_extension": ".py",
   "mimetype": "text/x-python",
   "name": "python",
   "nbconvert_exporter": "python",
   "pygments_lexer": "ipython3",
   "version": "3.8.13"
  }
 },
 "nbformat": 4,
 "nbformat_minor": 5
}

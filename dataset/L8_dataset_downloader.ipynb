{
 "cells": [
  {
   "cell_type": "code",
   "execution_count": 1,
   "metadata": {},
   "outputs": [],
   "source": [
    "import ee\n",
    "import geemap"
   ]
  },
  {
   "cell_type": "code",
   "execution_count": 2,
   "metadata": {},
   "outputs": [],
   "source": [
    "Map = geemap.Map()"
   ]
  },
  {
   "cell_type": "code",
   "execution_count": 3,
   "metadata": {},
   "outputs": [],
   "source": [
    "ee.Initialize()"
   ]
  },
  {
   "cell_type": "code",
   "execution_count": 4,
   "metadata": {},
   "outputs": [],
   "source": [
    "from utils.utils import *\n",
    "from utils.ee_utils import *\n",
    "from utils.utils import TextColors as c"
   ]
  },
  {
   "cell_type": "code",
   "execution_count": 11,
   "metadata": {},
   "outputs": [
    {
     "data": {
      "text/html": [
       "<div>\n",
       "<style scoped>\n",
       "    .dataframe tbody tr th:only-of-type {\n",
       "        vertical-align: middle;\n",
       "    }\n",
       "\n",
       "    .dataframe tbody tr th {\n",
       "        vertical-align: top;\n",
       "    }\n",
       "\n",
       "    .dataframe thead th {\n",
       "        text-align: right;\n",
       "    }\n",
       "</style>\n",
       "<table border=\"1\" class=\"dataframe\">\n",
       "  <thead>\n",
       "    <tr style=\"text-align: right;\">\n",
       "      <th></th>\n",
       "      <th>Piont_id</th>\n",
       "      <th>long</th>\n",
       "      <th>lat</th>\n",
       "    </tr>\n",
       "  </thead>\n",
       "  <tbody>\n",
       "    <tr>\n",
       "      <th>0</th>\n",
       "      <td>40463116</td>\n",
       "      <td>6.072879</td>\n",
       "      <td>51.088722</td>\n",
       "    </tr>\n",
       "    <tr>\n",
       "      <th>1</th>\n",
       "      <td>40463188</td>\n",
       "      <td>6.016994</td>\n",
       "      <td>51.734784</td>\n",
       "    </tr>\n",
       "    <tr>\n",
       "      <th>2</th>\n",
       "      <td>40523090</td>\n",
       "      <td>6.177697</td>\n",
       "      <td>50.858239</td>\n",
       "    </tr>\n",
       "    <tr>\n",
       "      <th>3</th>\n",
       "      <td>40523108</td>\n",
       "      <td>6.164374</td>\n",
       "      <td>51.019789</td>\n",
       "    </tr>\n",
       "    <tr>\n",
       "      <th>4</th>\n",
       "      <td>40543118</td>\n",
       "      <td>6.185448</td>\n",
       "      <td>51.110477</td>\n",
       "    </tr>\n",
       "    <tr>\n",
       "      <th>...</th>\n",
       "      <td>...</td>\n",
       "      <td>...</td>\n",
       "      <td>...</td>\n",
       "    </tr>\n",
       "    <tr>\n",
       "      <th>1681</th>\n",
       "      <td>46543152</td>\n",
       "      <td>14.786924</td>\n",
       "      <td>51.380586</td>\n",
       "    </tr>\n",
       "    <tr>\n",
       "      <th>1682</th>\n",
       "      <td>46563124</td>\n",
       "      <td>14.789346</td>\n",
       "      <td>51.128352</td>\n",
       "    </tr>\n",
       "    <tr>\n",
       "      <th>1683</th>\n",
       "      <td>46603108</td>\n",
       "      <td>14.831361</td>\n",
       "      <td>50.982524</td>\n",
       "    </tr>\n",
       "    <tr>\n",
       "      <th>1684</th>\n",
       "      <td>46623118</td>\n",
       "      <td>14.869216</td>\n",
       "      <td>51.070995</td>\n",
       "    </tr>\n",
       "    <tr>\n",
       "      <th>1685</th>\n",
       "      <td>46643144</td>\n",
       "      <td>14.922565</td>\n",
       "      <td>51.302893</td>\n",
       "    </tr>\n",
       "  </tbody>\n",
       "</table>\n",
       "<p>1686 rows × 3 columns</p>\n",
       "</div>"
      ],
      "text/plain": [
       "      Piont_id       long        lat\n",
       "0     40463116   6.072879  51.088722\n",
       "1     40463188   6.016994  51.734784\n",
       "2     40523090   6.177697  50.858239\n",
       "3     40523108   6.164374  51.019789\n",
       "4     40543118   6.185448  51.110477\n",
       "...        ...        ...        ...\n",
       "1681  46543152  14.786924  51.380586\n",
       "1682  46563124  14.789346  51.128352\n",
       "1683  46603108  14.831361  50.982524\n",
       "1684  46623118  14.869216  51.070995\n",
       "1685  46643144  14.922565  51.302893\n",
       "\n",
       "[1686 rows x 3 columns]"
      ]
     },
     "execution_count": 11,
     "metadata": {},
     "output_type": "execute_result"
    }
   ],
   "source": [
    "df = read_csv(\"LUCAS_2015_Germany.csv\")\n",
    "df"
   ]
  },
  {
   "cell_type": "code",
   "execution_count": 12,
   "metadata": {},
   "outputs": [],
   "source": [
    "# Config\n",
    "IMAGE_COLLECTION = ee.ImageCollection('LANDSAT/LC08/C02/T1_L2')\n",
    "WINTER_RANGES = [('2015-01-01', '2015-02-28'), ('2015-11-01', '2015-12-31')]\n",
    "NONE_WINTER_RANGES = (WINTER_RANGES[0][1], WINTER_RANGES[1][0])\n",
    "#Required Landsat bands and RS indices\n",
    "BANDS = ['SR_B1','SR_B2','SR_B3','SR_B4','SR_B5','SR_B6','SR_B7','clayIndex','ferrousIndex','carbonateIndex','rockOutcropIndex', 'NDVI']\n"
   ]
  },
  {
   "cell_type": "code",
   "execution_count": 27,
   "metadata": {},
   "outputs": [
    {
     "name": "stdout",
     "output_type": "stream",
     "text": [
      "\u001b[1m Point 40463116 \u001b[0m Cheking for Winter Image -> \u001b[92m Found \u001b[0m\n"
     ]
    },
    {
     "data": {
      "application/vnd.jupyter.widget-view+json": {
       "model_id": "a92135940d36468782bd059e40ae2126",
       "version_major": 2,
       "version_minor": 0
      },
      "text/plain": [
       "l8.tif: |          | 0.00/594k (raw) [  0.0%] in 00:00 (eta:     ?)"
      ]
     },
     "metadata": {},
     "output_type": "display_data"
    },
    {
     "name": "stdout",
     "output_type": "stream",
     "text": [
      "\u001b[1m Point 40463188 \u001b[0m Cheking for Winter Image -> \u001b[92m Found \u001b[0m\n"
     ]
    },
    {
     "data": {
      "application/vnd.jupyter.widget-view+json": {
       "model_id": "f6f33aa17f734d619fd9700db0aa6ab8",
       "version_major": 2,
       "version_minor": 0
      },
      "text/plain": [
       "l8.tif: |          | 0.00/606k (raw) [  0.0%] in 00:00 (eta:     ?)"
      ]
     },
     "metadata": {},
     "output_type": "display_data"
    },
    {
     "name": "stdout",
     "output_type": "stream",
     "text": [
      "\u001b[1m Point 40523090 \u001b[0m Cheking for Winter Image -> \u001b[91m Not Found \u001b[0m Cheking for None Winter Image -> \u001b[92m Found \u001b[0m\n"
     ]
    },
    {
     "data": {
      "application/vnd.jupyter.widget-view+json": {
       "model_id": "a1a2b0aa1cbe4470a25bff6c48d1742b",
       "version_major": 2,
       "version_minor": 0
      },
      "text/plain": [
       "l8.tif: |          | 0.00/583k (raw) [  0.0%] in 00:00 (eta:     ?)"
      ]
     },
     "metadata": {},
     "output_type": "display_data"
    },
    {
     "name": "stdout",
     "output_type": "stream",
     "text": [
      "\u001b[1m Point 40523108 \u001b[0m Cheking for Winter Image -> \u001b[92m Found \u001b[0m\n"
     ]
    },
    {
     "data": {
      "application/vnd.jupyter.widget-view+json": {
       "model_id": "e5eba65015fd45d6b1c3a31968cfd685",
       "version_major": 2,
       "version_minor": 0
      },
      "text/plain": [
       "l8.tif: |          | 0.00/588k (raw) [  0.0%] in 00:00 (eta:     ?)"
      ]
     },
     "metadata": {},
     "output_type": "display_data"
    },
    {
     "name": "stdout",
     "output_type": "stream",
     "text": [
      "\u001b[1m Point 40543118 \u001b[0m Cheking for Winter Image -> \u001b[92m Found \u001b[0m\n"
     ]
    },
    {
     "data": {
      "application/vnd.jupyter.widget-view+json": {
       "model_id": "62009ff1fb804a74b403f41c72deab28",
       "version_major": 2,
       "version_minor": 0
      },
      "text/plain": [
       "l8.tif: |          | 0.00/594k (raw) [  0.0%] in 00:00 (eta:     ?)"
      ]
     },
     "metadata": {},
     "output_type": "display_data"
    },
    {
     "name": "stdout",
     "output_type": "stream",
     "text": [
      "\u001b[1m Point 40563018 \u001b[0m Cheking for Winter Image -> \u001b[91m Not Found \u001b[0m Cheking for None Winter Image -> \u001b[92m Found \u001b[0m\n"
     ]
    },
    {
     "data": {
      "application/vnd.jupyter.widget-view+json": {
       "model_id": "531d8f8ed7324ce188d43389b4a05eb8",
       "version_major": 2,
       "version_minor": 0
      },
      "text/plain": [
       "l8.tif: |          | 0.00/571k (raw) [  0.0%] in 00:00 (eta:     ?)"
      ]
     },
     "metadata": {},
     "output_type": "display_data"
    }
   ],
   "source": [
    "winter_ragne_1 = ee.Filter.date(WINTER_RANGES[0][0], WINTER_RANGES[0][1])\n",
    "winter_range_2 = ee.Filter.date(WINTER_RANGES[1][0], WINTER_RANGES[1][1])\n",
    "winter_range_filter = ee.Filter.Or(winter_ragne_1, winter_range_2)\n",
    "\n",
    "non_winter_range_filter = ee.Filter.date(NONE_WINTER_RANGES[0], NONE_WINTER_RANGES[1])\n",
    "\n",
    "for index, row in df.iterrows():\n",
    "    print(f'{c.BOLD} Point {int(row[\"Piont_id\"])} {c.ENDC}' , end=\" Cheking for Winter Image -> \")\n",
    "    loop_roi = get_square_roi(row['lat'],row['long'], roi_size=1920, return_gee_object=True)\n",
    "    \n",
    "    # FIRST: Checkig if we can find an image in the WINTER_RANGE\n",
    "    l8 = IMAGE_COLLECTION.filter(winter_range_filter)\\\n",
    "                         .filterBounds(loop_roi).sort('system:time_start')\n",
    "    if l8.size().getInfo() > 0:                     \n",
    "        #clip the image collection to the roi                     \n",
    "        l8 = l8.map(lambda img: img.clip(loop_roi))\n",
    "        \n",
    "        # discard images with high null pixels\n",
    "        l8 = l8.map(lambda img: img.set('not_null_pixels', get_not_nulls_ratio(img,loop_roi)))\n",
    "        l8 = l8.filter(ee.Filter.gt('not_null_pixels',0.7))\n",
    "        \n",
    "        # Ratiometric correction\n",
    "        l8 = l8.map(lambda img: radiometric_correction(img))\n",
    "        # add roi cloud cover and cloud shadow property # the index 2 is for the combination of cloud and cloud shadow mask\n",
    "        l8 = l8.map(lambda img: img.set('roi_cloud_cover', get_mask_ones_ratio(get_cloud_mask(img)[2])))\n",
    "        l8 = l8.filter(ee.Filter.lt('roi_cloud_cover',10)) \n",
    "        \n",
    "        # add roi snow cover property\n",
    "        l8 = l8.map(lambda img: img.set('roi_snow_cover', get_mask_ones_ratio(get_snow_mask(img))))\n",
    "        l8 = l8.filter(ee.Filter.lt('roi_snow_cover',10)) \n",
    "\n",
    "    if l8.size().getInfo() > 0:\n",
    "        print (f'{c.OKGREEN} Found {c.ENDC}')\n",
    "        l8_image = add_mineral_indices(l8.sort('system:time_start').first())\n",
    "\n",
    "    else: # if we can't find an image in the WINTER_RANGE, we check the NONE_WINTER_RANGE\n",
    "        print (f'{c.FAIL} Not Found {c.ENDC}', end=\" Cheking for None Winter Image -> \")\n",
    "        l8 = IMAGE_COLLECTION.filter(non_winter_range_filter)\\\n",
    "                             .filterBounds(loop_roi).sort('system:time_start')\n",
    "                             \n",
    "        #clip the image collection to the roi                     \n",
    "        l8 = l8.map(lambda img: img.clip(loop_roi))\n",
    "                    \n",
    "        # discard images with high null pixels\n",
    "        l8 = l8.map(lambda img: img.set('not_null_pixels', get_not_nulls_ratio(img,loop_roi)))\n",
    "        l8 = l8.filter(ee.Filter.gt('not_null_pixels',0.7))\n",
    "\n",
    "        # Ratiometric correction\n",
    "        l8 = l8.map(lambda img: radiometric_correction(img))\n",
    "        \n",
    "        # add roi cloud cover and cloud shadow property # the index 2 is for the combination of cloud and cloud shadow mask\n",
    "        l8 = l8.map(lambda img: img.set('roi_cloud_cover', get_mask_ones_ratio(get_cloud_mask(img)[2])))\n",
    "        l8 = l8.filter(ee.Filter.lt('roi_cloud_cover',10)) \n",
    "        \n",
    "        # add roi snow cover property\n",
    "        l8 = l8.map(lambda img: img.set('roi_snow_cover', get_mask_ones_ratio(get_snow_mask(img))))\n",
    "        l8 = l8.filter(ee.Filter.lt('roi_snow_cover',10)) \n",
    "        \n",
    "        l8 = l8.map(lambda img: img.set('roi_mean_ndvi', get_mean_ndvi(img)))  \n",
    "        \n",
    "        if l8.size().getInfo() > 0:\n",
    "            print(f'{c.OKGREEN} Found {c.ENDC}')\n",
    "            l8_image = add_mineral_indices(l8.sort('roi_mean_ndvi').first())\n",
    "        else:\n",
    "            print(f'{c.FAIL} No Image Found For this ROI! {c.ENDC}')\n",
    "\n",
    "    if l8.size().getInfo() > 0:    \n",
    "        geemap.download_ee_image(l8_image.select(BANDS), \"l8.tif\",crs='EPSG:3857', scale=30,region = loop_roi)\n",
    "                       \n",
    "    #print('Date:',milsec2date(l8.aggregate_array('system:time_start').getInfo()))\n",
    "    \n",
    "    if index == 5:\n",
    "        break"
   ]
  },
  {
   "attachments": {},
   "cell_type": "markdown",
   "metadata": {},
   "source": [
    "## Testing some outputs"
   ]
  },
  {
   "cell_type": "code",
   "execution_count": 14,
   "metadata": {},
   "outputs": [
    {
     "name": "stdout",
     "output_type": "stream",
     "text": [
      "None\n"
     ]
    },
    {
     "data": {
      "application/vnd.jupyter.widget-view+json": {
       "model_id": "e76f446f4cb647fdb1d6959d0523d66e",
       "version_major": 2,
       "version_minor": 0
      },
      "text/plain": [
       "Map(center=[20, 0], controls=(WidgetControl(options=['position', 'transparent_bg'], widget=HBox(children=(Togg…"
      ]
     },
     "metadata": {},
     "output_type": "display_data"
    }
   ],
   "source": [
    "Map = geemap.Map()\n",
    "# l8_c_img = l8.sort('roi_mean_ndvi',True).first()\n",
    "l8_c_img = l8.sort('system:time_start',True).first()\n",
    "print(l8_c_img.get('roi_mean_ndvi').getInfo())\n",
    "visualization = {\n",
    "  'bands': ['SR_B4', 'SR_B3', 'SR_B2'],\n",
    "  'min': 0.0,\n",
    "  'max': 0.3,\n",
    "}\n",
    "\n",
    "cloud = get_cloud_mask(l8_c_img)[2]\n",
    "\n",
    "\n",
    "Map.addLayer(cloud, {'min': 0, 'max': 1, 'palette': ['black','red']}, 'cloud')\n",
    "Map.addLayer(l8_c_img, visualization, 'rgb')\n",
    "Map.centerObject(loop_roi)\n",
    "Map"
   ]
  }
 ],
 "metadata": {
  "kernelspec": {
   "display_name": "geemap",
   "language": "python",
   "name": "python3"
  },
  "language_info": {
   "codemirror_mode": {
    "name": "ipython",
    "version": 3
   },
   "file_extension": ".py",
   "mimetype": "text/x-python",
   "name": "python",
   "nbconvert_exporter": "python",
   "pygments_lexer": "ipython3",
   "version": "3.9.16"
  },
  "orig_nbformat": 4
 },
 "nbformat": 4,
 "nbformat_minor": 2
}

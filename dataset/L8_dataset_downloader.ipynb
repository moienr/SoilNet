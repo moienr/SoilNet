{
 "cells": [
  {
   "cell_type": "code",
   "execution_count": 1,
   "metadata": {},
   "outputs": [],
   "source": [
    "import ee\n",
    "import geemap\n",
    "import math "
   ]
  },
  {
   "cell_type": "code",
   "execution_count": 2,
   "metadata": {},
   "outputs": [],
   "source": [
    "Map = geemap.Map()"
   ]
  },
  {
   "cell_type": "code",
   "execution_count": 1,
   "metadata": {},
   "outputs": [
    {
     "name": "stdout",
     "output_type": "stream",
     "text": [
      "Hello world\n"
     ]
    }
   ],
   "source": [
    "print('Hello world')"
   ]
  },
  {
   "cell_type": "code",
   "execution_count": 3,
   "metadata": {},
   "outputs": [],
   "source": [
    "ee.Initialize()"
   ]
  },
  {
   "cell_type": "code",
   "execution_count": 4,
   "metadata": {},
   "outputs": [],
   "source": [
    "from utils.utils import *\n",
    "from utils.ee_utils import *\n",
    "from utils.utils import TextColors as c"
   ]
  },
  {
   "cell_type": "code",
   "execution_count": 5,
   "metadata": {},
   "outputs": [
    {
     "data": {
      "text/html": [
       "<div>\n",
       "<style scoped>\n",
       "    .dataframe tbody tr th:only-of-type {\n",
       "        vertical-align: middle;\n",
       "    }\n",
       "\n",
       "    .dataframe tbody tr th {\n",
       "        vertical-align: top;\n",
       "    }\n",
       "\n",
       "    .dataframe thead th {\n",
       "        text-align: right;\n",
       "    }\n",
       "</style>\n",
       "<table border=\"1\" class=\"dataframe\">\n",
       "  <thead>\n",
       "    <tr style=\"text-align: right;\">\n",
       "      <th></th>\n",
       "      <th>Piont_id</th>\n",
       "      <th>long</th>\n",
       "      <th>lat</th>\n",
       "    </tr>\n",
       "  </thead>\n",
       "  <tbody>\n",
       "    <tr>\n",
       "      <th>0</th>\n",
       "      <td>26581768</td>\n",
       "      <td>-8.775252</td>\n",
       "      <td>37.139104</td>\n",
       "    </tr>\n",
       "    <tr>\n",
       "      <th>1</th>\n",
       "      <td>26581792</td>\n",
       "      <td>-8.833728</td>\n",
       "      <td>37.349747</td>\n",
       "    </tr>\n",
       "    <tr>\n",
       "      <th>2</th>\n",
       "      <td>26581954</td>\n",
       "      <td>-9.242092</td>\n",
       "      <td>38.768531</td>\n",
       "    </tr>\n",
       "    <tr>\n",
       "      <th>3</th>\n",
       "      <td>26601784</td>\n",
       "      <td>-8.792255</td>\n",
       "      <td>37.283972</td>\n",
       "    </tr>\n",
       "    <tr>\n",
       "      <th>4</th>\n",
       "      <td>26601978</td>\n",
       "      <td>-9.282250</td>\n",
       "      <td>38.982827</td>\n",
       "    </tr>\n",
       "    <tr>\n",
       "      <th>...</th>\n",
       "      <td>...</td>\n",
       "      <td>...</td>\n",
       "      <td>...</td>\n",
       "    </tr>\n",
       "    <tr>\n",
       "      <th>21854</th>\n",
       "      <td>64881666</td>\n",
       "      <td>33.907085</td>\n",
       "      <td>34.989242</td>\n",
       "    </tr>\n",
       "    <tr>\n",
       "      <th>21855</th>\n",
       "      <td>64901668</td>\n",
       "      <td>33.933925</td>\n",
       "      <td>35.000901</td>\n",
       "    </tr>\n",
       "    <tr>\n",
       "      <th>21856</th>\n",
       "      <td>64901672</td>\n",
       "      <td>33.945599</td>\n",
       "      <td>35.035389</td>\n",
       "    </tr>\n",
       "    <tr>\n",
       "      <th>21857</th>\n",
       "      <td>64961676</td>\n",
       "      <td>34.020365</td>\n",
       "      <td>35.053061</td>\n",
       "    </tr>\n",
       "    <tr>\n",
       "      <th>21858</th>\n",
       "      <td>64981672</td>\n",
       "      <td>34.029660</td>\n",
       "      <td>35.012976</td>\n",
       "    </tr>\n",
       "  </tbody>\n",
       "</table>\n",
       "<p>21859 rows × 3 columns</p>\n",
       "</div>"
      ],
      "text/plain": [
       "       Piont_id       long        lat\n",
       "0      26581768  -8.775252  37.139104\n",
       "1      26581792  -8.833728  37.349747\n",
       "2      26581954  -9.242092  38.768531\n",
       "3      26601784  -8.792255  37.283972\n",
       "4      26601978  -9.282250  38.982827\n",
       "...         ...        ...        ...\n",
       "21854  64881666  33.907085  34.989242\n",
       "21855  64901668  33.933925  35.000901\n",
       "21856  64901672  33.945599  35.035389\n",
       "21857  64961676  34.020365  35.053061\n",
       "21858  64981672  34.029660  35.012976\n",
       "\n",
       "[21859 rows x 3 columns]"
      ]
     },
     "execution_count": 5,
     "metadata": {},
     "output_type": "execute_result"
    }
   ],
   "source": [
    "df = read_csv(\"LUCAS_2015_all.csv\")\n",
    "df"
   ]
  },
  {
   "cell_type": "code",
   "execution_count": 6,
   "metadata": {},
   "outputs": [
    {
     "name": "stdout",
     "output_type": "stream",
     "text": [
      "Folder \"l8_images\" already exists in the current working directory.\n"
     ]
    }
   ],
   "source": [
    "create_folder_if_not_exists('l8_images')"
   ]
  },
  {
   "cell_type": "code",
   "execution_count": 7,
   "metadata": {},
   "outputs": [],
   "source": [
    "# Config\n",
    "IMAGE_COLLECTION = ...\n",
    "WINTER_RANGES = [('2015-01-01', '2015-02-28'), ('2015-11-01', '2015-12-31')]\n",
    "NONE_WINTER_RANGES = (WINTER_RANGES[0][1], WINTER_RANGES[1][0])\n",
    "#Required Landsat bands and RS indices\n",
    "BANDS = ['SR_B1','SR_B2','SR_B3','SR_B4','SR_B5','SR_B6','SR_B7','clayIndex',\n",
    "         'ferrousIndex','carbonateIndex','rockOutcropIndex','NDVI','elevation','slopePCT']\n",
    "DFOLDER = 'l8_images//'\n"
   ]
  },
  {
   "cell_type": "code",
   "execution_count": 10,
   "metadata": {},
   "outputs": [
    {
     "name": "stdout",
     "output_type": "stream",
     "text": [
      "\u001b[1m Point 26581768 \u001b[0m Cheking for Winter Image -> \u001b[92m Found \u001b[0m\n"
     ]
    },
    {
     "data": {
      "application/vnd.jupyter.widget-view+json": {
       "model_id": "349314eb372a4482a0dbb6bd098cadef",
       "version_major": 2,
       "version_minor": 0
      },
      "text/plain": [
       "26581768_150101.tif: |          | 0.00/744k (raw) [  0.0%] in 00:00 (eta:     ?)"
      ]
     },
     "metadata": {},
     "output_type": "display_data"
    },
    {
     "name": "stdout",
     "output_type": "stream",
     "text": [
      "\u001b[1m Point 26581792 \u001b[0m Cheking for Winter Image -> \u001b[92m Found \u001b[0m\n"
     ]
    },
    {
     "data": {
      "application/vnd.jupyter.widget-view+json": {
       "model_id": "450f555932ad47ef92233942c2551890",
       "version_major": 2,
       "version_minor": 0
      },
      "text/plain": [
       "26581792_150101.tif: |          | 0.00/744k (raw) [  0.0%] in 00:00 (eta:     ?)"
      ]
     },
     "metadata": {},
     "output_type": "display_data"
    },
    {
     "name": "stdout",
     "output_type": "stream",
     "text": [
      "\u001b[1m Point 26581954 \u001b[0m Cheking for Winter Image -> \u001b[92m Found \u001b[0m\n"
     ]
    },
    {
     "data": {
      "application/vnd.jupyter.widget-view+json": {
       "model_id": "5edcd9ee087b444d99079a4f1eda7b6e",
       "version_major": 2,
       "version_minor": 0
      },
      "text/plain": [
       "26581954_150101.tif: |          | 0.00/762k (raw) [  0.0%] in 00:00 (eta:     ?)"
      ]
     },
     "metadata": {},
     "output_type": "display_data"
    },
    {
     "name": "stdout",
     "output_type": "stream",
     "text": [
      "\u001b[1m Point 26601784 \u001b[0m Cheking for Winter Image -> \u001b[92m Found \u001b[0m\n"
     ]
    },
    {
     "data": {
      "application/vnd.jupyter.widget-view+json": {
       "model_id": "6ed018e5b41841e3977d004495025724",
       "version_major": 2,
       "version_minor": 0
      },
      "text/plain": [
       "26601784_150101.tif: |          | 0.00/744k (raw) [  0.0%] in 00:00 (eta:     ?)"
      ]
     },
     "metadata": {},
     "output_type": "display_data"
    },
    {
     "name": "stdout",
     "output_type": "stream",
     "text": [
      "\u001b[1m Point 26601978 \u001b[0m Cheking for Winter Image -> \u001b[92m Found \u001b[0m\n"
     ]
    },
    {
     "data": {
      "application/vnd.jupyter.widget-view+json": {
       "model_id": "7469418bb9384a73a479b461459aa94d",
       "version_major": 2,
       "version_minor": 0
      },
      "text/plain": [
       "26601978_150101.tif: |          | 0.00/781k (raw) [  0.0%] in 00:00 (eta:     ?)"
      ]
     },
     "metadata": {},
     "output_type": "display_data"
    },
    {
     "name": "stdout",
     "output_type": "stream",
     "text": [
      "\u001b[1m Point 26701780 \u001b[0m Cheking for Winter Image -> \u001b[92m Found \u001b[0m\n"
     ]
    },
    {
     "data": {
      "application/vnd.jupyter.widget-view+json": {
       "model_id": "c2ceba3bf3cc46e2a21da06b5c2eb4a1",
       "version_major": 2,
       "version_minor": 0
      },
      "text/plain": [
       "26701780_150101.tif: |          | 0.00/744k (raw) [  0.0%] in 00:00 (eta:     ?)"
      ]
     },
     "metadata": {},
     "output_type": "display_data"
    },
    {
     "name": "stdout",
     "output_type": "stream",
     "text": [
      "\u001b[1m Point 26702014 \u001b[0m Cheking for Winter Image -> \u001b[92m Found \u001b[0m\n"
     ]
    },
    {
     "data": {
      "application/vnd.jupyter.widget-view+json": {
       "model_id": "ab202eacfb0644949ab9dab70565986c",
       "version_major": 2,
       "version_minor": 0
      },
      "text/plain": [
       "26702014_150101.tif: |          | 0.00/790k (raw) [  0.0%] in 00:00 (eta:     ?)"
      ]
     },
     "metadata": {},
     "output_type": "display_data"
    },
    {
     "name": "stdout",
     "output_type": "stream",
     "text": [
      "\u001b[1m Point 26741814 \u001b[0m Cheking for Winter Image -> \u001b[92m Found \u001b[0m\n"
     ]
    },
    {
     "data": {
      "application/vnd.jupyter.widget-view+json": {
       "model_id": "2e8067b2982d4846b149c8b02071ac54",
       "version_major": 2,
       "version_minor": 0
      },
      "text/plain": [
       "26741814_150101.tif: |          | 0.00/753k (raw) [  0.0%] in 00:00 (eta:     ?)"
      ]
     },
     "metadata": {},
     "output_type": "display_data"
    },
    {
     "name": "stdout",
     "output_type": "stream",
     "text": [
      "\u001b[1m Point 26741986 \u001b[0m Cheking for Winter Image -> \u001b[92m Found \u001b[0m\n"
     ]
    },
    {
     "data": {
      "application/vnd.jupyter.widget-view+json": {
       "model_id": "2c5c50f09715466785973fb0449034a7",
       "version_major": 2,
       "version_minor": 0
      },
      "text/plain": [
       "26741986_150101.tif: |          | 0.00/781k (raw) [  0.0%] in 00:00 (eta:     ?)"
      ]
     },
     "metadata": {},
     "output_type": "display_data"
    },
    {
     "name": "stdout",
     "output_type": "stream",
     "text": [
      "\u001b[1m Point 26761768 \u001b[0m Cheking for Winter Image -> \u001b[92m Found \u001b[0m\n"
     ]
    },
    {
     "data": {
      "application/vnd.jupyter.widget-view+json": {
       "model_id": "cc722d5c38694acfa40314529b9f3ed1",
       "version_major": 2,
       "version_minor": 0
      },
      "text/plain": [
       "26761768_150101.tif: |          | 0.00/735k (raw) [  0.0%] in 00:00 (eta:     ?)"
      ]
     },
     "metadata": {},
     "output_type": "display_data"
    },
    {
     "name": "stdout",
     "output_type": "stream",
     "text": [
      "\u001b[1m Point 26761786 \u001b[0m Cheking for Winter Image -> \u001b[92m Found \u001b[0m\n"
     ]
    },
    {
     "data": {
      "application/vnd.jupyter.widget-view+json": {
       "model_id": "b78e3f1c52234879922953ada3ceb904",
       "version_major": 2,
       "version_minor": 0
      },
      "text/plain": [
       "26761786_150101.tif: |          | 0.00/735k (raw) [  0.0%] in 00:00 (eta:     ?)"
      ]
     },
     "metadata": {},
     "output_type": "display_data"
    },
    {
     "name": "stdout",
     "output_type": "stream",
     "text": [
      "\u001b[1m Point 26761804 \u001b[0m Cheking for Winter Image -> \u001b[92m Found \u001b[0m\n"
     ]
    },
    {
     "data": {
      "application/vnd.jupyter.widget-view+json": {
       "model_id": "5667e6e4b2e54f3dae50475d54421668",
       "version_major": 2,
       "version_minor": 0
      },
      "text/plain": [
       "26761804_150101.tif: |          | 0.00/744k (raw) [  0.0%] in 00:00 (eta:     ?)"
      ]
     },
     "metadata": {},
     "output_type": "display_data"
    },
    {
     "name": "stdout",
     "output_type": "stream",
     "text": [
      "\u001b[1m Point 26761864 \u001b[0m Cheking for Winter Image -> \u001b[92m Found \u001b[0m\n"
     ]
    },
    {
     "data": {
      "application/vnd.jupyter.widget-view+json": {
       "model_id": "d1962f050eee4b1abb36e06cd0d20d48",
       "version_major": 2,
       "version_minor": 0
      },
      "text/plain": [
       "26761864_150101.tif: |          | 0.00/753k (raw) [  0.0%] in 00:00 (eta:     ?)"
      ]
     },
     "metadata": {},
     "output_type": "display_data"
    },
    {
     "name": "stdout",
     "output_type": "stream",
     "text": [
      "\u001b[1m Point 26761998 \u001b[0m Cheking for Winter Image -> \u001b[92m Found \u001b[0m\n"
     ]
    },
    {
     "data": {
      "application/vnd.jupyter.widget-view+json": {
       "model_id": "2dee297f4c7d4b748665fb471e5e11da",
       "version_major": 2,
       "version_minor": 0
      },
      "text/plain": [
       "26761998_150101.tif: |          | 0.00/781k (raw) [  0.0%] in 00:00 (eta:     ?)"
      ]
     },
     "metadata": {},
     "output_type": "display_data"
    },
    {
     "name": "stdout",
     "output_type": "stream",
     "text": [
      "\u001b[1m Point 26762002 \u001b[0m Cheking for Winter Image -> \u001b[92m Found \u001b[0m\n"
     ]
    },
    {
     "data": {
      "application/vnd.jupyter.widget-view+json": {
       "model_id": "5ea4f3ef15e14e4aa67f36784b785738",
       "version_major": 2,
       "version_minor": 0
      },
      "text/plain": [
       "26762002_150101.tif: |          | 0.00/790k (raw) [  0.0%] in 00:00 (eta:     ?)"
      ]
     },
     "metadata": {},
     "output_type": "display_data"
    },
    {
     "name": "stdout",
     "output_type": "stream",
     "text": [
      "\u001b[1m Point 26781816 \u001b[0m Cheking for Winter Image -> \u001b[92m Found \u001b[0m\n"
     ]
    },
    {
     "data": {
      "application/vnd.jupyter.widget-view+json": {
       "model_id": "02bc600d4b724db39008b6354eead985",
       "version_major": 2,
       "version_minor": 0
      },
      "text/plain": [
       "26781816_150101.tif: |          | 0.00/744k (raw) [  0.0%] in 00:00 (eta:     ?)"
      ]
     },
     "metadata": {},
     "output_type": "display_data"
    },
    {
     "name": "stdout",
     "output_type": "stream",
     "text": [
      "\u001b[1m Point 26802028 \u001b[0m Cheking for Winter Image -> \u001b[92m Found \u001b[0m\n"
     ]
    },
    {
     "data": {
      "application/vnd.jupyter.widget-view+json": {
       "model_id": "bf8324f4b84444de97b9cee29b27b302",
       "version_major": 2,
       "version_minor": 0
      },
      "text/plain": [
       "26802028_150101.tif: |          | 0.00/790k (raw) [  0.0%] in 00:00 (eta:     ?)"
      ]
     },
     "metadata": {},
     "output_type": "display_data"
    },
    {
     "name": "stdout",
     "output_type": "stream",
     "text": [
      "\u001b[1m Point 26821846 \u001b[0m Cheking for Winter Image -> \u001b[92m Found \u001b[0m\n"
     ]
    },
    {
     "data": {
      "application/vnd.jupyter.widget-view+json": {
       "model_id": "3ca8f2f541314e648b965611ae775f77",
       "version_major": 2,
       "version_minor": 0
      },
      "text/plain": [
       "26821846_150101.tif: |          | 0.00/753k (raw) [  0.0%] in 00:00 (eta:     ?)"
      ]
     },
     "metadata": {},
     "output_type": "display_data"
    },
    {
     "name": "stdout",
     "output_type": "stream",
     "text": [
      "\u001b[1m Point 26841758 \u001b[0m Cheking for Winter Image -> \u001b[92m Found \u001b[0m\n"
     ]
    },
    {
     "data": {
      "application/vnd.jupyter.widget-view+json": {
       "model_id": "a0f17d51307048389e649142bae753fc",
       "version_major": 2,
       "version_minor": 0
      },
      "text/plain": [
       "26841758_150101.tif: |          | 0.00/735k (raw) [  0.0%] in 00:00 (eta:     ?)"
      ]
     },
     "metadata": {},
     "output_type": "display_data"
    },
    {
     "name": "stdout",
     "output_type": "stream",
     "text": [
      "\u001b[1m Point 26841764 \u001b[0m Cheking for Winter Image -> \u001b[92m Found \u001b[0m\n"
     ]
    },
    {
     "data": {
      "application/vnd.jupyter.widget-view+json": {
       "model_id": "22884ad46933441681fdd7826c436856",
       "version_major": 2,
       "version_minor": 0
      },
      "text/plain": [
       "26841764_150101.tif: |          | 0.00/735k (raw) [  0.0%] in 00:00 (eta:     ?)"
      ]
     },
     "metadata": {},
     "output_type": "display_data"
    },
    {
     "name": "stdout",
     "output_type": "stream",
     "text": [
      "\u001b[1m Point 26841826 \u001b[0m Cheking for Winter Image -> \u001b[92m Found \u001b[0m\n"
     ]
    },
    {
     "data": {
      "application/vnd.jupyter.widget-view+json": {
       "model_id": "e9516082598644e7b65c17916cf20829",
       "version_major": 2,
       "version_minor": 0
      },
      "text/plain": [
       "26841826_150101.tif: |          | 0.00/753k (raw) [  0.0%] in 00:00 (eta:     ?)"
      ]
     },
     "metadata": {},
     "output_type": "display_data"
    }
   ],
   "source": [
    "winter_ragne_1 = ee.Filter.date(WINTER_RANGES[0][0], WINTER_RANGES[0][1])\n",
    "winter_range_2 = ee.Filter.date(WINTER_RANGES[1][0], WINTER_RANGES[1][1])\n",
    "winter_range_filter = ee.Filter.Or(winter_ragne_1, winter_range_2)\n",
    "\n",
    "non_winter_range_filter = ee.Filter.date(NONE_WINTER_RANGES[0], NONE_WINTER_RANGES[1])\n",
    "\n",
    "for index, row in df.iterrows():\n",
    "    print(f'{c.BOLD} Point {int(row[\"Piont_id\"])} {c.ENDC}' , end=\" Cheking for Winter Image -> \")\n",
    "    loop_roi = get_square_roi(row['lat'],row['long'], roi_size=1920, return_gee_object=True)\n",
    "    \n",
    "    # FIRST: Checkig if we can find an image in the WINTER_RANGE\n",
    "    l8 = IMAGE_COLLECTION.filter(winter_range_filter)\\\n",
    "                         .filterBounds(loop_roi).sort('system:time_start')\n",
    "    if l8.size().getInfo() > 0:                     \n",
    "        #clip the image collection to the roi                     \n",
    "        l8 = l8.map(lambda img: img.clip(loop_roi))\n",
    "        topoBands = add_topo().clip(loop_roi)\n",
    "        \n",
    "        # discard images with high null pixels\n",
    "        l8 = l8.map(lambda img: img.set('not_null_pixels', get_not_nulls_ratio(img,loop_roi)))\n",
    "        l8 = l8.filter(ee.Filter.gt('not_null_pixels',0.7))\n",
    "        \n",
    "        # Ratiometric correction\n",
    "        l8 = l8.map(lambda img: radiometric_correction(img))\n",
    "        # add roi cloud cover and cloud shadow property # the index 2 is for the combination of cloud and cloud shadow mask\n",
    "        l8 = l8.map(lambda img: img.set('roi_cloud_cover', get_mask_ones_ratio(get_cloud_mask(img)[2])))\n",
    "        l8 = l8.filter(ee.Filter.lt('roi_cloud_cover',10)) \n",
    "        \n",
    "        # add roi snow cover property\n",
    "        l8 = l8.map(lambda img: img.set('roi_snow_cover', get_mask_ones_ratio(get_snow_mask(img))))\n",
    "        l8 = l8.filter(ee.Filter.lt('roi_snow_cover',10)) \n",
    "\n",
    "    if l8.size().getInfo() > 0:\n",
    "        print (f'{c.OKGREEN} Found {c.ENDC}')\n",
    "        l8_image = add_mineral_indices(l8.sort('system:time_start').first()).addBands(topoBands)\n",
    "        # print('Band names:', l8_image.bandNames().getInfo())\n",
    "\n",
    "    else: # if we can't find an image in the WINTER_RANGE, we check the NONE_WINTER_RANGE\n",
    "        print (f'{c.FAIL} Not Found {c.ENDC}', end=\" Cheking for None Winter Image -> \")\n",
    "        l8 = IMAGE_COLLECTION.filter(non_winter_range_filter)\\\n",
    "                             .filterBounds(loop_roi).sort('system:time_start')\n",
    "                             \n",
    "        #clip the image collection to the roi                     \n",
    "        l8 = l8.map(lambda img: img.clip(loop_roi))\n",
    "                    \n",
    "        # discard images with high null pixels\n",
    "        l8 = l8.map(lambda img: img.set('not_null_pixels', get_not_nulls_ratio(img,loop_roi)))\n",
    "        l8 = l8.filter(ee.Filter.gt('not_null_pixels',0.7))\n",
    "\n",
    "        # Ratiometric correction\n",
    "        l8 = l8.map(lambda img: radiometric_correction(img))\n",
    "        \n",
    "        # add roi cloud cover and cloud shadow property # the index 2 is for the combination of cloud and cloud shadow mask\n",
    "        l8 = l8.map(lambda img: img.set('roi_cloud_cover', get_mask_ones_ratio(get_cloud_mask(img)[2])))\n",
    "        l8 = l8.filter(ee.Filter.lt('roi_cloud_cover',10)) \n",
    "        \n",
    "        # add roi snow cover property\n",
    "        l8 = l8.map(lambda img: img.set('roi_snow_cover', get_mask_ones_ratio(get_snow_mask(img))))\n",
    "        l8 = l8.filter(ee.Filter.lt('roi_snow_cover',10)) \n",
    "        \n",
    "        l8 = l8.map(lambda img: img.set('roi_mean_ndvi', get_mean_ndvi(img)))  \n",
    "        \n",
    "        if l8.size().getInfo() > 0:\n",
    "            print(f'{c.OKGREEN} Found {c.ENDC}')\n",
    "            l8_image = add_mineral_indices(l8.sort('roi_mean_ndvi').first()).addBands(topoBands)\n",
    "            # print('Band names:', l8_image.bandNames().getInfo())\n",
    "        else:\n",
    "            print(f'{c.FAIL} No Image Found For this ROI! {c.ENDC}')\n",
    "\n",
    "    if l8.size().getInfo() > 0:    \n",
    "        date = ee.Date(l8_image.get('system:time_start')).format('YYMMdd').getInfo()\n",
    "        name = f\"{int(row['Piont_id'])}_{date}.tif\"\n",
    "        geemap.download_ee_image(l8_image.select(BANDS), DFOLDER+ name,crs='EPSG:3857', scale=30, region = loop_roi)\n",
    "                       \n",
    "    #print('Date:',milsec2date(l8.aggregate_array('system:time_start').getInfo()))\n",
    "    \n",
    "    if index == 20:\n",
    "        break"
   ]
  },
  {
   "cell_type": "code",
   "execution_count": 11,
   "metadata": {},
   "outputs": [
    {
     "data": {
      "text/plain": [
       "1"
      ]
     },
     "execution_count": 11,
     "metadata": {},
     "output_type": "execute_result"
    }
   ],
   "source": [
    "sdf = (123,)\n",
    "len(sdf)"
   ]
  },
  {
   "cell_type": "markdown",
   "metadata": {},
   "source": [
    "## Testing some outputs"
   ]
  },
  {
   "cell_type": "code",
   "execution_count": null,
   "metadata": {},
   "outputs": [
    {
     "data": {
      "text/plain": [
       "'150101'"
      ]
     },
     "execution_count": 23,
     "metadata": {},
     "output_type": "execute_result"
    }
   ],
   "source": [
    "date = ee.Date(l8_image.get('system:time_start')).format('YYMMdd').getInfo()\n",
    "date"
   ]
  },
  {
   "cell_type": "code",
   "execution_count": null,
   "metadata": {},
   "outputs": [
    {
     "name": "stdout",
     "output_type": "stream",
     "text": [
      "None\n"
     ]
    },
    {
     "data": {
      "application/vnd.jupyter.widget-view+json": {
       "model_id": "49dccd8da3f745d8a76e936496309bc5",
       "version_major": 2,
       "version_minor": 0
      },
      "text/plain": [
       "Map(center=[20, 0], controls=(WidgetControl(options=['position', 'transparent_bg'], widget=HBox(children=(Togg…"
      ]
     },
     "metadata": {},
     "output_type": "display_data"
    }
   ],
   "source": [
    "Map = geemap.Map()\n",
    "# l8_c_img = l8.sort('roi_mean_ndvi',True).first()\n",
    "l8_c_img = l8.sort('system:time_start',True).first()\n",
    "print(l8_c_img.get('roi_mean_ndvi').getInfo())\n",
    "visualization = {\n",
    "  'bands': ['SR_B4', 'SR_B3', 'SR_B2'],\n",
    "  'min': 0.0,\n",
    "  'max': 0.3,\n",
    "}\n",
    "\n",
    "cloud = get_cloud_mask(l8_c_img)[2]\n",
    "\n",
    "\n",
    "Map.addLayer(cloud, {'min': 0, 'max': 1, 'palette': ['black','red']}, 'cloud')\n",
    "Map.addLayer(l8_c_img, visualization, 'rgb')\n",
    "Map.centerObject(loop_roi)\n",
    "Map"
   ]
  },
  {
   "cell_type": "code",
   "execution_count": null,
   "metadata": {},
   "outputs": [],
   "source": []
  }
 ],
 "metadata": {
  "kernelspec": {
   "display_name": "geemap",
   "language": "python",
   "name": "python3"
  },
  "language_info": {
   "codemirror_mode": {
    "name": "ipython",
    "version": 3
   },
   "file_extension": ".py",
   "mimetype": "text/x-python",
   "name": "python",
   "nbconvert_exporter": "python",
   "pygments_lexer": "ipython3",
   "version": "3.9.16"
  },
  "vscode": {
   "interpreter": {
    "hash": "3bd38b858981f1e9cd68139c3154e421d5aec162b00fbb2323643b90bba82a61"
   }
  }
 },
 "nbformat": 4,
 "nbformat_minor": 4
}

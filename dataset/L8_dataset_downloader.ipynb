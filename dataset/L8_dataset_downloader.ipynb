{
 "cells": [
  {
   "cell_type": "code",
   "execution_count": 1,
   "metadata": {},
   "outputs": [],
   "source": [
    "import ee\n",
    "import geemap"
   ]
  },
  {
   "cell_type": "code",
   "execution_count": 2,
   "metadata": {},
   "outputs": [],
   "source": [
    "Map = geemap.Map()"
   ]
  },
  {
   "cell_type": "code",
   "execution_count": 3,
   "metadata": {},
   "outputs": [],
   "source": [
    "ee.Initialize()"
   ]
  },
  {
   "cell_type": "code",
   "execution_count": 4,
   "metadata": {},
   "outputs": [],
   "source": [
    "from utils.utils import correct_image_shape, milsec2date, read_csv\n",
    "from utils.ee_utils import get_cloud_mask, get_square_roi, get_mask_ones_ratio"
   ]
  },
  {
   "cell_type": "code",
   "execution_count": 5,
   "metadata": {},
   "outputs": [
    {
     "data": {
      "application/vnd.jupyter.widget-view+json": {
       "model_id": "82b8d48ec340401fa6d569c9e1d81c5a",
       "version_major": 2,
       "version_minor": 0
      },
      "text/plain": [
       "Map(center=[20, 0], controls=(WidgetControl(options=['position', 'transparent_bg'], widget=HBox(children=(Togg…"
      ]
     },
     "metadata": {},
     "output_type": "display_data"
    }
   ],
   "source": [
    "roi = get_square_roi(52.37962731,7.164954376, roi_size=1920, return_gee_object=True)\n",
    "Map = geemap.Map(zoom=12)\n",
    "Map.addLayer(roi)\n",
    "Map.centerObject(roi)\n",
    "Map"
   ]
  },
  {
   "cell_type": "code",
   "execution_count": null,
   "metadata": {},
   "outputs": [],
   "source": []
  },
  {
   "cell_type": "code",
   "execution_count": 6,
   "metadata": {},
   "outputs": [
    {
     "name": "stdout",
     "output_type": "stream",
     "text": [
      "6\n",
      "Date: ['2015-04-15', '2015-07-04', '2015-08-05', '2015-08-21', '2015-09-29', '2015-09-29']\n"
     ]
    }
   ],
   "source": [
    "l8 = ee.ImageCollection('LANDSAT/LC08/C02/T1_L2') \\\n",
    "                .filterDate('2015-01-01', '2015-12-31') \\\n",
    "                .filter(ee.Filter.lt('CLOUD_COVER',10)) \\\n",
    "                .filterBounds(roi) \\\n",
    "                #.filter(ee.Filter.contains('.geo', roi)) #this line checks if the scene completly covers the roi, which mean roi is in the scene\n",
    "print(l8.size().getInfo())\n",
    "print('Date:',milsec2date(l8.aggregate_array('system:time_start').getInfo()))"
   ]
  },
  {
   "cell_type": "code",
   "execution_count": 7,
   "metadata": {},
   "outputs": [],
   "source": [
    "l8_img = l8.median().clip(roi).multiply(2.75e-05).add(-0.2)\n",
    "bands = ['SR_B1','SR_B2','SR_B3','SR_B4','SR_B5','SR_B6','SR_B7']\n",
    "l8_img = l8_img.select(bands)"
   ]
  },
  {
   "cell_type": "code",
   "execution_count": 8,
   "metadata": {},
   "outputs": [
    {
     "data": {
      "application/vnd.jupyter.widget-view+json": {
       "model_id": "ba6ba497627f40c89eb904ea75d1f22f",
       "version_major": 2,
       "version_minor": 0
      },
      "text/plain": [
       "l8.tif: |          | 0.00/623k (raw) [  0.0%] in 00:00 (eta:     ?)"
      ]
     },
     "metadata": {},
     "output_type": "display_data"
    },
    {
     "name": "stderr",
     "output_type": "stream",
     "text": [
      "There is no STAC entry for: None\n"
     ]
    }
   ],
   "source": [
    "geemap.download_ee_image(l8_img, \"l8.tif\",crs='EPSG:3857', scale=30,region = roi)"
   ]
  },
  {
   "cell_type": "code",
   "execution_count": 9,
   "metadata": {},
   "outputs": [
    {
     "name": "stdout",
     "output_type": "stream",
     "text": [
      "(7, 106, 105)\n",
      "(106, 105, 7)\n",
      "0.007336249999999989 0.5202662499999999\n"
     ]
    }
   ],
   "source": [
    "from skimage import io\n",
    "import numpy as np\n",
    "l8_np = io.imread('l8.tif')\n",
    "print(l8_np.shape)\n",
    "l8_np = correct_image_shape(l8_np)\n",
    "print(l8_np.shape)\n",
    "print(np.min(l8_np),np.max(l8_np))"
   ]
  },
  {
   "cell_type": "code",
   "execution_count": 10,
   "metadata": {},
   "outputs": [
    {
     "data": {
      "text/plain": [
       "<matplotlib.image.AxesImage at 0x22f680ed4c0>"
      ]
     },
     "execution_count": 10,
     "metadata": {},
     "output_type": "execute_result"
    },
    {
     "data": {
      "image/png": "[encoded data removed]",
      "text/plain": [
       "<Figure size 640x480 with 1 Axes>"
      ]
     },
     "metadata": {},
     "output_type": "display_data"
    }
   ],
   "source": [
    "import matplotlib.pyplot as plt\n",
    "plt.imshow(l8_np[:,:,[3,2,1]])"
   ]
  },
  {
   "cell_type": "code",
   "execution_count": 11,
   "metadata": {},
   "outputs": [
    {
     "data": {
      "text/html": [
       "<div>\n",
       "<style scoped>\n",
       "    .dataframe tbody tr th:only-of-type {\n",
       "        vertical-align: middle;\n",
       "    }\n",
       "\n",
       "    .dataframe tbody tr th {\n",
       "        vertical-align: top;\n",
       "    }\n",
       "\n",
       "    .dataframe thead th {\n",
       "        text-align: right;\n",
       "    }\n",
       "</style>\n",
       "<table border=\"1\" class=\"dataframe\">\n",
       "  <thead>\n",
       "    <tr style=\"text-align: right;\">\n",
       "      <th></th>\n",
       "      <th>Piont_id</th>\n",
       "      <th>long</th>\n",
       "      <th>lat</th>\n",
       "    </tr>\n",
       "  </thead>\n",
       "  <tbody>\n",
       "    <tr>\n",
       "      <th>0</th>\n",
       "      <td>40463116</td>\n",
       "      <td>6.072879</td>\n",
       "      <td>51.088722</td>\n",
       "    </tr>\n",
       "    <tr>\n",
       "      <th>1</th>\n",
       "      <td>40463188</td>\n",
       "      <td>6.016994</td>\n",
       "      <td>51.734784</td>\n",
       "    </tr>\n",
       "    <tr>\n",
       "      <th>2</th>\n",
       "      <td>40523090</td>\n",
       "      <td>6.177697</td>\n",
       "      <td>50.858239</td>\n",
       "    </tr>\n",
       "    <tr>\n",
       "      <th>3</th>\n",
       "      <td>40523108</td>\n",
       "      <td>6.164374</td>\n",
       "      <td>51.019789</td>\n",
       "    </tr>\n",
       "    <tr>\n",
       "      <th>4</th>\n",
       "      <td>40543118</td>\n",
       "      <td>6.185448</td>\n",
       "      <td>51.110477</td>\n",
       "    </tr>\n",
       "    <tr>\n",
       "      <th>...</th>\n",
       "      <td>...</td>\n",
       "      <td>...</td>\n",
       "      <td>...</td>\n",
       "    </tr>\n",
       "    <tr>\n",
       "      <th>1681</th>\n",
       "      <td>46543152</td>\n",
       "      <td>14.786924</td>\n",
       "      <td>51.380586</td>\n",
       "    </tr>\n",
       "    <tr>\n",
       "      <th>1682</th>\n",
       "      <td>46563124</td>\n",
       "      <td>14.789346</td>\n",
       "      <td>51.128352</td>\n",
       "    </tr>\n",
       "    <tr>\n",
       "      <th>1683</th>\n",
       "      <td>46603108</td>\n",
       "      <td>14.831361</td>\n",
       "      <td>50.982524</td>\n",
       "    </tr>\n",
       "    <tr>\n",
       "      <th>1684</th>\n",
       "      <td>46623118</td>\n",
       "      <td>14.869216</td>\n",
       "      <td>51.070995</td>\n",
       "    </tr>\n",
       "    <tr>\n",
       "      <th>1685</th>\n",
       "      <td>46643144</td>\n",
       "      <td>14.922565</td>\n",
       "      <td>51.302893</td>\n",
       "    </tr>\n",
       "  </tbody>\n",
       "</table>\n",
       "<p>1686 rows × 3 columns</p>\n",
       "</div>"
      ],
      "text/plain": [
       "      Piont_id       long        lat\n",
       "0     40463116   6.072879  51.088722\n",
       "1     40463188   6.016994  51.734784\n",
       "2     40523090   6.177697  50.858239\n",
       "3     40523108   6.164374  51.019789\n",
       "4     40543118   6.185448  51.110477\n",
       "...        ...        ...        ...\n",
       "1681  46543152  14.786924  51.380586\n",
       "1682  46563124  14.789346  51.128352\n",
       "1683  46603108  14.831361  50.982524\n",
       "1684  46623118  14.869216  51.070995\n",
       "1685  46643144  14.922565  51.302893\n",
       "\n",
       "[1686 rows x 3 columns]"
      ]
     },
     "execution_count": 11,
     "metadata": {},
     "output_type": "execute_result"
    }
   ],
   "source": [
    "df = read_csv(\"LUCAS_2015_Germany.csv\")\n",
    "df"
   ]
  },
  {
   "cell_type": "code",
   "execution_count": 12,
   "metadata": {},
   "outputs": [
    {
     "name": "stdout",
     "output_type": "stream",
     "text": [
      "Point 0 -> Date: ['2015-01-07', '2015-03-12', '2015-07-11', '2015-08-03', '2015-09-29', '2015-09-29', '2015-12-09']\n",
      "Point 1 -> Date: ['2015-01-07', '2015-03-12', '2015-08-03', '2015-09-29', '2015-12-09']\n",
      "Point 2 -> Date: ['2015-07-11', '2015-09-29', '2015-09-29']\n",
      "Point 3 -> Date: ['2015-01-07', '2015-03-12', '2015-07-11', '2015-08-03', '2015-09-29', '2015-09-29', '2015-12-09']\n",
      "Point 4 -> Date: ['2015-01-07', '2015-03-12', '2015-07-11', '2015-08-03', '2015-09-29', '2015-09-29', '2015-12-09']\n",
      "Point 5 -> Date: ['2015-04-15', '2015-07-04', '2015-07-11', '2015-08-05', '2015-08-21', '2015-09-29']\n"
     ]
    }
   ],
   "source": [
    "for index, row in df.iterrows():\n",
    "    print(f'Point {index}' , end=\" -> \")\n",
    "    roi = get_square_roi(row['lat'],row['long'], roi_size=1920, return_gee_object=True)\n",
    "    l8 = ee.ImageCollection('LANDSAT/LC08/C02/T1_L2') \\\n",
    "                .filterDate('2015-01-01', '2015-12-31') \\\n",
    "                .filter(ee.Filter.lt('CLOUD_COVER',10)) \\\n",
    "                .filterBounds(roi).sort('system:time_start')\n",
    "                #.filter(ee.Filter.contains('.geo', roi)) #this line checks if the scene completly covers the roi, which mean roi is in the scene\n",
    "    #print(l8.size().getInfo())\n",
    "    print('Date:',milsec2date(l8.aggregate_array('system:time_start').getInfo()))\n",
    "    \n",
    "    if index == 5:\n",
    "        break"
   ]
  },
  {
   "cell_type": "code",
   "execution_count": 14,
   "metadata": {},
   "outputs": [
    {
     "name": "stdout",
     "output_type": "stream",
     "text": [
      "6\n",
      "Date: ['2015-06-25', '2015-04-22', '2015-05-08', '2015-10-31', '2015-08-12', '2015-06-09']\n"
     ]
    }
   ],
   "source": [
    "l8_c = ee.ImageCollection('LANDSAT/LC08/C02/T1_L2') \\\n",
    "                .filterDate('2015-01-01', '2015-12-31') \\\n",
    "                .filter(ee.Filter.gt('CLOUD_COVER',20)) \\\n",
    "                .filter(ee.Filter.lt('CLOUD_COVER',60)) \\\n",
    "                .filterBounds(roi).sort('CLOUD_COVER', True)\n",
    "                #.filter(ee.Filter.contains('.geo', roi)) #this line checks if the scene completly covers the roi, which mean roi is in the scene\n",
    "print(l8_c.size().getInfo())\n",
    "print('Date:',milsec2date(l8_c.aggregate_array('system:time_start').getInfo()))"
   ]
  },
  {
   "cell_type": "code",
   "execution_count": 18,
   "metadata": {},
   "outputs": [
    {
     "name": "stdout",
     "output_type": "stream",
     "text": [
      "['QA_PIXEL']\n"
     ]
    },
    {
     "data": {
      "application/vnd.jupyter.widget-view+json": {
       "model_id": "a6a5b2b8d37045d581639b0deb980858",
       "version_major": 2,
       "version_minor": 0
      },
      "text/plain": [
       "Map(center=[20, 0], controls=(WidgetControl(options=['position', 'transparent_bg'], widget=HBox(children=(Togg…"
      ]
     },
     "metadata": {},
     "output_type": "display_data"
    }
   ],
   "source": [
    "Map = geemap.Map()\n",
    "\n",
    "l8_c_img = l8_c.first()\n",
    "qa = l8_c_img.select('QA_PIXEL')\n",
    "rgb = l8_c_img.select('SR_B4','SR_B3','SR_B2').multiply(2.75e-05).add(-0.2)\n",
    "#cloud = qa.bitwiseAnd(1<<2).And(qa.bitwiseAnd(1<<6)).Or(qa.bitwiseAnd(1<<7))\n",
    "\n",
    "# Define the cloud, cloud shadow, and snow/ice bits.\n",
    "cloud = get_cloud_mask(l8_c_img)[0]\n",
    "print(cloud.bandNames().getInfo())\n",
    "cloudShadow = get_cloud_mask(l8_c_img)[1]\n",
    "\n",
    "mask = cloud.where(cloud, 1)\n",
    "mask = mask.where(cloudShadow, 2)\n",
    "\n",
    "#Display the cloud mask on the map\n",
    "Map.addLayer(mask, {'min': 0, 'max': 1, 'palette': ['000000', 'red', 'blue']}, 'Mask')\n",
    "\n",
    "visualization = {\n",
    "  'bands': ['SR_B4', 'SR_B3', 'SR_B2'],\n",
    "  'min': 0.0,\n",
    "  'max': 0.3,\n",
    "}\n",
    "\n",
    "maskedImage = rgb.updateMask(cloud.Not())\n",
    "Map.addLayer(maskedImage.clip(roi), visualization, 'masked')\n",
    "Map.centerObject(roi)\n",
    "Map"
   ]
  },
  {
   "cell_type": "code",
   "execution_count": 16,
   "metadata": {},
   "outputs": [
    {
     "name": "stdout",
     "output_type": "stream",
     "text": [
      "['QA_PIXEL_count', 'QA_PIXEL_sum']\n",
      "Ratio of ones to total pixels: 0.03829208796529059\n"
     ]
    }
   ],
   "source": [
    "masked_cliped = cloud.clip(roi)\n",
    "\n",
    "# Compute the number of ones and total number of pixels in the mask\n",
    "stats = masked_cliped.reduceRegion(\n",
    "    reducer=ee.Reducer.sum().combine(\n",
    "        reducer2=ee.Reducer.count(),\n",
    "        sharedInputs=True\n",
    "    ),\n",
    "    geometry=masked_cliped.geometry(),\n",
    "    scale=30,\n",
    "    maxPixels=1e9\n",
    ")\n",
    "\n",
    "print(stats.keys().getInfo())\n",
    "# Extract the number of ones and total number of pixels from the result\n",
    "ones = stats.get('QA_PIXEL_sum')\n",
    "total = stats.get('QA_PIXEL_count')\n",
    "\n",
    "# Compute the ratio of ones to total pixels\n",
    "ratio = ee.Number(ones).divide(total)\n",
    "\n",
    "# Print the ratio to the console\n",
    "print('Ratio of ones to total pixels:', ratio.getInfo())\n"
   ]
  },
  {
   "cell_type": "code",
   "execution_count": 22,
   "metadata": {},
   "outputs": [],
   "source": []
  },
  {
   "cell_type": "code",
   "execution_count": 23,
   "metadata": {},
   "outputs": [
    {
     "name": "stdout",
     "output_type": "stream",
     "text": [
      "0.03829208796529059\n"
     ]
    }
   ],
   "source": [
    "print(get_mask_ones_ratio(masked_cliped))"
   ]
  },
  {
   "cell_type": "code",
   "execution_count": null,
   "metadata": {},
   "outputs": [],
   "source": []
  }
 ],
 "metadata": {
  "kernelspec": {
   "display_name": "geemap",
   "language": "python",
   "name": "python3"
  },
  "language_info": {
   "codemirror_mode": {
    "name": "ipython",
    "version": 3
   },
   "file_extension": ".py",
   "mimetype": "text/x-python",
   "name": "python",
   "nbconvert_exporter": "python",
   "pygments_lexer": "ipython3",
   "version": "3.9.16"
  },
  "orig_nbformat": 4
 },
 "nbformat": 4,
 "nbformat_minor": 2
}

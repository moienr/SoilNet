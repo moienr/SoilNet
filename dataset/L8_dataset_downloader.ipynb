{
 "cells": [
  {
   "cell_type": "code",
   "execution_count": 1,
   "metadata": {},
   "outputs": [],
   "source": [
    "import ee\n",
    "import geemap"
   ]
  },
  {
   "cell_type": "code",
   "execution_count": 2,
   "metadata": {},
   "outputs": [],
   "source": [
    "Map = geemap.Map()"
   ]
  },
  {
   "cell_type": "code",
   "execution_count": 3,
   "metadata": {},
   "outputs": [],
   "source": [
    "ee.Initialize()"
   ]
  },
  {
   "cell_type": "code",
   "execution_count": 4,
   "metadata": {},
   "outputs": [],
   "source": [
    "from utils.utils import *\n",
    "from utils.ee_utils import *\n",
    "from utils.utils import TextColors as c"
   ]
  },
  {
   "cell_type": "code",
   "execution_count": 5,
   "metadata": {},
   "outputs": [
    {
     "data": {
      "text/html": [
       "<div>\n",
       "<style scoped>\n",
       "    .dataframe tbody tr th:only-of-type {\n",
       "        vertical-align: middle;\n",
       "    }\n",
       "\n",
       "    .dataframe tbody tr th {\n",
       "        vertical-align: top;\n",
       "    }\n",
       "\n",
       "    .dataframe thead th {\n",
       "        text-align: right;\n",
       "    }\n",
       "</style>\n",
       "<table border=\"1\" class=\"dataframe\">\n",
       "  <thead>\n",
       "    <tr style=\"text-align: right;\">\n",
       "      <th></th>\n",
       "      <th>Piont_id</th>\n",
       "      <th>long</th>\n",
       "      <th>lat</th>\n",
       "    </tr>\n",
       "  </thead>\n",
       "  <tbody>\n",
       "    <tr>\n",
       "      <th>0</th>\n",
       "      <td>40463116</td>\n",
       "      <td>6.072879</td>\n",
       "      <td>51.088722</td>\n",
       "    </tr>\n",
       "    <tr>\n",
       "      <th>1</th>\n",
       "      <td>40463188</td>\n",
       "      <td>6.016994</td>\n",
       "      <td>51.734784</td>\n",
       "    </tr>\n",
       "    <tr>\n",
       "      <th>2</th>\n",
       "      <td>40523090</td>\n",
       "      <td>6.177697</td>\n",
       "      <td>50.858239</td>\n",
       "    </tr>\n",
       "    <tr>\n",
       "      <th>3</th>\n",
       "      <td>40523108</td>\n",
       "      <td>6.164374</td>\n",
       "      <td>51.019789</td>\n",
       "    </tr>\n",
       "    <tr>\n",
       "      <th>4</th>\n",
       "      <td>40543118</td>\n",
       "      <td>6.185448</td>\n",
       "      <td>51.110477</td>\n",
       "    </tr>\n",
       "    <tr>\n",
       "      <th>...</th>\n",
       "      <td>...</td>\n",
       "      <td>...</td>\n",
       "      <td>...</td>\n",
       "    </tr>\n",
       "    <tr>\n",
       "      <th>1681</th>\n",
       "      <td>46543152</td>\n",
       "      <td>14.786924</td>\n",
       "      <td>51.380586</td>\n",
       "    </tr>\n",
       "    <tr>\n",
       "      <th>1682</th>\n",
       "      <td>46563124</td>\n",
       "      <td>14.789346</td>\n",
       "      <td>51.128352</td>\n",
       "    </tr>\n",
       "    <tr>\n",
       "      <th>1683</th>\n",
       "      <td>46603108</td>\n",
       "      <td>14.831361</td>\n",
       "      <td>50.982524</td>\n",
       "    </tr>\n",
       "    <tr>\n",
       "      <th>1684</th>\n",
       "      <td>46623118</td>\n",
       "      <td>14.869216</td>\n",
       "      <td>51.070995</td>\n",
       "    </tr>\n",
       "    <tr>\n",
       "      <th>1685</th>\n",
       "      <td>46643144</td>\n",
       "      <td>14.922565</td>\n",
       "      <td>51.302893</td>\n",
       "    </tr>\n",
       "  </tbody>\n",
       "</table>\n",
       "<p>1686 rows × 3 columns</p>\n",
       "</div>"
      ],
      "text/plain": [
       "      Piont_id       long        lat\n",
       "0     40463116   6.072879  51.088722\n",
       "1     40463188   6.016994  51.734784\n",
       "2     40523090   6.177697  50.858239\n",
       "3     40523108   6.164374  51.019789\n",
       "4     40543118   6.185448  51.110477\n",
       "...        ...        ...        ...\n",
       "1681  46543152  14.786924  51.380586\n",
       "1682  46563124  14.789346  51.128352\n",
       "1683  46603108  14.831361  50.982524\n",
       "1684  46623118  14.869216  51.070995\n",
       "1685  46643144  14.922565  51.302893\n",
       "\n",
       "[1686 rows x 3 columns]"
      ]
     },
     "execution_count": 5,
     "metadata": {},
     "output_type": "execute_result"
    }
   ],
   "source": [
    "df = read_csv(\"LUCAS_2015_Germany.csv\")\n",
    "df"
   ]
  },
  {
   "cell_type": "code",
   "execution_count": 6,
   "metadata": {},
   "outputs": [
    {
     "name": "stdout",
     "output_type": "stream",
     "text": [
      "Folder \"l8_images\" already exists in the current working directory.\n"
     ]
    }
   ],
   "source": [
    "create_folder_if_not_exists('l8_images')"
   ]
  },
  {
   "cell_type": "code",
   "execution_count": 7,
   "metadata": {},
   "outputs": [],
   "source": [
    "# Config\n",
    "IMAGE_COLLECTION = ee.ImageCollection('LANDSAT/LC08/C02/T1_L2')\n",
    "WINTER_RANGES = [('2015-01-01', '2015-02-28'), ('2015-11-01', '2015-12-31')]\n",
    "NONE_WINTER_RANGES = (WINTER_RANGES[0][1], WINTER_RANGES[1][0])\n",
    "#Required Landsat bands and RS indices\n",
    "BANDS = ['SR_B1','SR_B2','SR_B3','SR_B4','SR_B5','SR_B6','SR_B7','clayIndex','ferrousIndex','carbonateIndex','rockOutcropIndex', 'NDVI']\n",
    "DFOLDER = 'l8_images//'\n"
   ]
  },
  {
   "cell_type": "code",
   "execution_count": 9,
   "metadata": {},
   "outputs": [
    {
     "name": "stdout",
     "output_type": "stream",
     "text": [
      "\u001b[1m Point 40463116 \u001b[0m Cheking for Winter Image -> \u001b[92m Found \u001b[0m\n"
     ]
    },
    {
     "data": {
      "application/vnd.jupyter.widget-view+json": {
       "model_id": "045257a5b7e24d65842d48fa75e09668",
       "version_major": 2,
       "version_minor": 0
      },
      "text/plain": [
       "40463116_150107.tif: |          | 0.00/1.02M (raw) [  0.0%] in 00:00 (eta:     ?)"
      ]
     },
     "metadata": {},
     "output_type": "display_data"
    },
    {
     "name": "stdout",
     "output_type": "stream",
     "text": [
      "\u001b[1m Point 40463188 \u001b[0m Cheking for Winter Image -> \u001b[92m Found \u001b[0m\n"
     ]
    },
    {
     "data": {
      "application/vnd.jupyter.widget-view+json": {
       "model_id": "c45f8ffe56624d0ba161f52b051d0ed4",
       "version_major": 2,
       "version_minor": 0
      },
      "text/plain": [
       "40463188_151123.tif: |          | 0.00/1.04M (raw) [  0.0%] in 00:00 (eta:     ?)"
      ]
     },
     "metadata": {},
     "output_type": "display_data"
    },
    {
     "name": "stdout",
     "output_type": "stream",
     "text": [
      "\u001b[1m Point 40523090 \u001b[0m Cheking for Winter Image -> \u001b[91m Not Found \u001b[0m Cheking for None Winter Image -> \u001b[92m Found \u001b[0m\n"
     ]
    },
    {
     "data": {
      "application/vnd.jupyter.widget-view+json": {
       "model_id": "0dd71f8c068a451a8238ada3528b31bf",
       "version_major": 2,
       "version_minor": 0
      },
      "text/plain": [
       "40523090_151031.tif: |          | 0.00/999k (raw) [  0.0%] in 00:00 (eta:     ?)"
      ]
     },
     "metadata": {},
     "output_type": "display_data"
    },
    {
     "name": "stdout",
     "output_type": "stream",
     "text": [
      "\u001b[1m Point 40523108 \u001b[0m Cheking for Winter Image -> \u001b[92m Found \u001b[0m\n"
     ]
    },
    {
     "data": {
      "application/vnd.jupyter.widget-view+json": {
       "model_id": "b513df53861941e1b2ddeadfe178f075",
       "version_major": 2,
       "version_minor": 0
      },
      "text/plain": [
       "40523108_150107.tif: |          | 0.00/1.01M (raw) [  0.0%] in 00:00 (eta:     ?)"
      ]
     },
     "metadata": {},
     "output_type": "display_data"
    },
    {
     "name": "stdout",
     "output_type": "stream",
     "text": [
      "\u001b[1m Point 40543118 \u001b[0m Cheking for Winter Image -> \u001b[92m Found \u001b[0m\n"
     ]
    },
    {
     "data": {
      "application/vnd.jupyter.widget-view+json": {
       "model_id": "3ba0d75294c64e1588fc75ae80ac9646",
       "version_major": 2,
       "version_minor": 0
      },
      "text/plain": [
       "40543118_150107.tif: |          | 0.00/1.02M (raw) [  0.0%] in 00:00 (eta:     ?)"
      ]
     },
     "metadata": {},
     "output_type": "display_data"
    },
    {
     "name": "stdout",
     "output_type": "stream",
     "text": [
      "\u001b[1m Point 40563018 \u001b[0m Cheking for Winter Image -> \u001b[91m Not Found \u001b[0m Cheking for None Winter Image -> \u001b[92m Found \u001b[0m\n"
     ]
    },
    {
     "data": {
      "application/vnd.jupyter.widget-view+json": {
       "model_id": "0ccf324d97964c8981f992f657fbe70f",
       "version_major": 2,
       "version_minor": 0
      },
      "text/plain": [
       "40563018_150415.tif: |          | 0.00/979k (raw) [  0.0%] in 00:00 (eta:     ?)"
      ]
     },
     "metadata": {},
     "output_type": "display_data"
    },
    {
     "name": "stdout",
     "output_type": "stream",
     "text": [
      "\u001b[1m Point 40563068 \u001b[0m Cheking for Winter Image -> \u001b[91m Not Found \u001b[0m Cheking for None Winter Image -> \u001b[92m Found \u001b[0m\n"
     ]
    },
    {
     "data": {
      "application/vnd.jupyter.widget-view+json": {
       "model_id": "29c756fdbeef413ea958688934254c98",
       "version_major": 2,
       "version_minor": 0
      },
      "text/plain": [
       "40563068_151031.tif: |          | 0.00/999k (raw) [  0.0%] in 00:00 (eta:     ?)"
      ]
     },
     "metadata": {},
     "output_type": "display_data"
    },
    {
     "name": "stdout",
     "output_type": "stream",
     "text": [
      "\u001b[1m Point 40563176 \u001b[0m Cheking for Winter Image -> \u001b[92m Found \u001b[0m\n"
     ]
    },
    {
     "data": {
      "application/vnd.jupyter.widget-view+json": {
       "model_id": "6e8f7cce324d4775b94baa07b4d24238",
       "version_major": 2,
       "version_minor": 0
      },
      "text/plain": [
       "40563176_150107.tif: |          | 0.00/1.04M (raw) [  0.0%] in 00:00 (eta:     ?)"
      ]
     },
     "metadata": {},
     "output_type": "display_data"
    },
    {
     "name": "stdout",
     "output_type": "stream",
     "text": [
      "\u001b[1m Point 40603138 \u001b[0m Cheking for Winter Image -> \u001b[92m Found \u001b[0m\n"
     ]
    },
    {
     "data": {
      "application/vnd.jupyter.widget-view+json": {
       "model_id": "a3a9141333c44abf832788dccdaa3f30",
       "version_major": 2,
       "version_minor": 0
      },
      "text/plain": [
       "40603138_150107.tif: |          | 0.00/1.02M (raw) [  0.0%] in 00:00 (eta:     ?)"
      ]
     },
     "metadata": {},
     "output_type": "display_data"
    },
    {
     "name": "stdout",
     "output_type": "stream",
     "text": [
      "\u001b[1m Point 40623160 \u001b[0m Cheking for Winter Image -> \u001b[92m Found \u001b[0m\n"
     ]
    },
    {
     "data": {
      "application/vnd.jupyter.widget-view+json": {
       "model_id": "10acf28a78f148b493947103c1c7b5c6",
       "version_major": 2,
       "version_minor": 0
      },
      "text/plain": [
       "40623160_150107.tif: |          | 0.00/1.03M (raw) [  0.0%] in 00:00 (eta:     ?)"
      ]
     },
     "metadata": {},
     "output_type": "display_data"
    },
    {
     "name": "stdout",
     "output_type": "stream",
     "text": [
      "\u001b[1m Point 40642990 \u001b[0m Cheking for Winter Image -> \u001b[91m Not Found \u001b[0m Cheking for None Winter Image -> \u001b[92m Found \u001b[0m\n"
     ]
    },
    {
     "data": {
      "application/vnd.jupyter.widget-view+json": {
       "model_id": "ca7045bcf9354642a4657d4afd80d591",
       "version_major": 2,
       "version_minor": 0
      },
      "text/plain": [
       "40642990_150711.tif: |          | 0.00/970k (raw) [  0.0%] in 00:00 (eta:     ?)"
      ]
     },
     "metadata": {},
     "output_type": "display_data"
    },
    {
     "name": "stdout",
     "output_type": "stream",
     "text": [
      "\u001b[1m Point 40662978 \u001b[0m Cheking for Winter Image -> \u001b[91m Not Found \u001b[0m Cheking for None Winter Image -> \u001b[92m Found \u001b[0m\n"
     ]
    },
    {
     "data": {
      "application/vnd.jupyter.widget-view+json": {
       "model_id": "f190626603ff4580827230afed96fd69",
       "version_major": 2,
       "version_minor": 0
      },
      "text/plain": [
       "40662978_150415.tif: |          | 0.00/970k (raw) [  0.0%] in 00:00 (eta:     ?)"
      ]
     },
     "metadata": {},
     "output_type": "display_data"
    },
    {
     "name": "stdout",
     "output_type": "stream",
     "text": [
      "\u001b[1m Point 40663126 \u001b[0m Cheking for Winter Image -> \u001b[91m Not Found \u001b[0m Cheking for None Winter Image -> \u001b[92m Found \u001b[0m\n"
     ]
    },
    {
     "data": {
      "application/vnd.jupyter.widget-view+json": {
       "model_id": "92c5a996109d4f75b3a4a9235f38edbd",
       "version_major": 2,
       "version_minor": 0
      },
      "text/plain": [
       "40663126_151031.tif: |          | 0.00/1.02M (raw) [  0.0%] in 00:00 (eta:     ?)"
      ]
     },
     "metadata": {},
     "output_type": "display_data"
    },
    {
     "name": "stdout",
     "output_type": "stream",
     "text": [
      "\u001b[1m Point 40663140 \u001b[0m Cheking for Winter Image -> \u001b[92m Found \u001b[0m\n"
     ]
    },
    {
     "data": {
      "application/vnd.jupyter.widget-view+json": {
       "model_id": "047418ba1ddd4af7bd81049314308ba9",
       "version_major": 2,
       "version_minor": 0
      },
      "text/plain": [
       "40663140_150107.tif: |          | 0.00/1.03M (raw) [  0.0%] in 00:00 (eta:     ?)"
      ]
     },
     "metadata": {},
     "output_type": "display_data"
    },
    {
     "name": "stdout",
     "output_type": "stream",
     "text": [
      "\u001b[1m Point 40683142 \u001b[0m Cheking for Winter Image -> \u001b[92m Found \u001b[0m\n"
     ]
    },
    {
     "data": {
      "application/vnd.jupyter.widget-view+json": {
       "model_id": "208beb166f8f415481e7927c563641aa",
       "version_major": 2,
       "version_minor": 0
      },
      "text/plain": [
       "40683142_150107.tif: |          | 0.00/1.03M (raw) [  0.0%] in 00:00 (eta:     ?)"
      ]
     },
     "metadata": {},
     "output_type": "display_data"
    },
    {
     "name": "stdout",
     "output_type": "stream",
     "text": [
      "\u001b[1m Point 40703000 \u001b[0m Cheking for Winter Image -> \u001b[91m Not Found \u001b[0m Cheking for None Winter Image -> \u001b[92m Found \u001b[0m\n"
     ]
    },
    {
     "data": {
      "application/vnd.jupyter.widget-view+json": {
       "model_id": "6e7cc2338172413299ae571775ed4b28",
       "version_major": 2,
       "version_minor": 0
      },
      "text/plain": [
       "40703000_150415.tif: |          | 0.00/960k (raw) [  0.0%] in 00:00 (eta:     ?)"
      ]
     },
     "metadata": {},
     "output_type": "display_data"
    },
    {
     "name": "stdout",
     "output_type": "stream",
     "text": [
      "\u001b[1m Point 40703108 \u001b[0m Cheking for Winter Image -> \u001b[91m Not Found \u001b[0m Cheking for None Winter Image -> \u001b[92m Found \u001b[0m\n"
     ]
    },
    {
     "data": {
      "application/vnd.jupyter.widget-view+json": {
       "model_id": "c018e83837174fa9883e0ec41d963f48",
       "version_major": 2,
       "version_minor": 0
      },
      "text/plain": [
       "40703108_150508.tif: |          | 0.00/1.01M (raw) [  0.0%] in 00:00 (eta:     ?)"
      ]
     },
     "metadata": {},
     "output_type": "display_data"
    },
    {
     "name": "stdout",
     "output_type": "stream",
     "text": [
      "\u001b[1m Point 40703132 \u001b[0m Cheking for Winter Image -> \u001b[91m Not Found \u001b[0m Cheking for None Winter Image -> \u001b[92m Found \u001b[0m\n"
     ]
    },
    {
     "data": {
      "application/vnd.jupyter.widget-view+json": {
       "model_id": "f08ad26e28f34ca18ea8a0fe92731d1d",
       "version_major": 2,
       "version_minor": 0
      },
      "text/plain": [
       "40703132_151031.tif: |          | 0.00/1.03M (raw) [  0.0%] in 00:00 (eta:     ?)"
      ]
     },
     "metadata": {},
     "output_type": "display_data"
    },
    {
     "name": "stdout",
     "output_type": "stream",
     "text": [
      "\u001b[1m Point 40703150 \u001b[0m Cheking for Winter Image -> \u001b[92m Found \u001b[0m\n"
     ]
    },
    {
     "data": {
      "application/vnd.jupyter.widget-view+json": {
       "model_id": "225aa3a1b6194faea56b7d6a2e3078ff",
       "version_major": 2,
       "version_minor": 0
      },
      "text/plain": [
       "40703150_150107.tif: |          | 0.00/1.03M (raw) [  0.0%] in 00:00 (eta:     ?)"
      ]
     },
     "metadata": {},
     "output_type": "display_data"
    },
    {
     "name": "stdout",
     "output_type": "stream",
     "text": [
      "\u001b[1m Point 40723010 \u001b[0m Cheking for Winter Image -> \u001b[91m Not Found \u001b[0m Cheking for None Winter Image -> \u001b[92m Found \u001b[0m\n"
     ]
    },
    {
     "data": {
      "application/vnd.jupyter.widget-view+json": {
       "model_id": "06d9096f286544a589c6444db750ba8b",
       "version_major": 2,
       "version_minor": 0
      },
      "text/plain": [
       "40723010_150415.tif: |          | 0.00/970k (raw) [  0.0%] in 00:00 (eta:     ?)"
      ]
     },
     "metadata": {},
     "output_type": "display_data"
    },
    {
     "name": "stdout",
     "output_type": "stream",
     "text": [
      "\u001b[1m Point 40723028 \u001b[0m Cheking for Winter Image -> \u001b[91m Not Found \u001b[0m Cheking for None Winter Image -> \u001b[92m Found \u001b[0m\n"
     ]
    },
    {
     "data": {
      "application/vnd.jupyter.widget-view+json": {
       "model_id": "32bed19443b044ae9f6bc70cf8d560fc",
       "version_major": 2,
       "version_minor": 0
      },
      "text/plain": [
       "40723028_150415.tif: |          | 0.00/979k (raw) [  0.0%] in 00:00 (eta:     ?)"
      ]
     },
     "metadata": {},
     "output_type": "display_data"
    },
    {
     "name": "stdout",
     "output_type": "stream",
     "text": [
      "\u001b[1m Point 40723046 \u001b[0m Cheking for Winter Image -> \u001b[91m Not Found \u001b[0m Cheking for None Winter Image -> \u001b[92m Found \u001b[0m\n"
     ]
    },
    {
     "data": {
      "application/vnd.jupyter.widget-view+json": {
       "model_id": "5ffe3576b92a416d9fec4eb955b7db95",
       "version_major": 2,
       "version_minor": 0
      },
      "text/plain": [
       "40723046_150415.tif: |          | 0.00/979k (raw) [  0.0%] in 00:00 (eta:     ?)"
      ]
     },
     "metadata": {},
     "output_type": "display_data"
    },
    {
     "name": "stdout",
     "output_type": "stream",
     "text": [
      "\u001b[1m Point 40723136 \u001b[0m Cheking for Winter Image -> \u001b[91m Not Found \u001b[0m Cheking for None Winter Image -> \u001b[92m Found \u001b[0m\n"
     ]
    },
    {
     "data": {
      "application/vnd.jupyter.widget-view+json": {
       "model_id": "04318033ba404708bf3214cc03d3240f",
       "version_major": 2,
       "version_minor": 0
      },
      "text/plain": [
       "40723136_151031.tif: |          | 0.00/1.03M (raw) [  0.0%] in 00:00 (eta:     ?)"
      ]
     },
     "metadata": {},
     "output_type": "display_data"
    },
    {
     "name": "stdout",
     "output_type": "stream",
     "text": [
      "\u001b[1m Point 40742928 \u001b[0m Cheking for Winter Image -> \u001b[91m Not Found \u001b[0m Cheking for None Winter Image -> \u001b[92m Found \u001b[0m\n"
     ]
    },
    {
     "data": {
      "application/vnd.jupyter.widget-view+json": {
       "model_id": "e79a718e82bf4f91ba4231568901b9c7",
       "version_major": 2,
       "version_minor": 0
      },
      "text/plain": [
       "40742928_150821.tif: |          | 0.00/950k (raw) [  0.0%] in 00:00 (eta:     ?)"
      ]
     },
     "metadata": {},
     "output_type": "display_data"
    },
    {
     "name": "stdout",
     "output_type": "stream",
     "text": [
      "\u001b[1m Point 40742986 \u001b[0m Cheking for Winter Image -> \u001b[91m Not Found \u001b[0m Cheking for None Winter Image -> \u001b[92m Found \u001b[0m\n"
     ]
    },
    {
     "data": {
      "application/vnd.jupyter.widget-view+json": {
       "model_id": "692d2b4a8c98404c9783eb5138a82eba",
       "version_major": 2,
       "version_minor": 0
      },
      "text/plain": [
       "40742986_150929.tif: |          | 0.00/960k (raw) [  0.0%] in 00:00 (eta:     ?)"
      ]
     },
     "metadata": {},
     "output_type": "display_data"
    },
    {
     "name": "stdout",
     "output_type": "stream",
     "text": [
      "\u001b[1m Point 40743036 \u001b[0m Cheking for Winter Image -> \u001b[91m Not Found \u001b[0m Cheking for None Winter Image -> \u001b[92m Found \u001b[0m\n"
     ]
    },
    {
     "data": {
      "application/vnd.jupyter.widget-view+json": {
       "model_id": "100aa6e9c7c440088b2f9d0295527dcc",
       "version_major": 2,
       "version_minor": 0
      },
      "text/plain": [
       "40743036_150415.tif: |          | 0.00/979k (raw) [  0.0%] in 00:00 (eta:     ?)"
      ]
     },
     "metadata": {},
     "output_type": "display_data"
    },
    {
     "name": "stdout",
     "output_type": "stream",
     "text": [
      "\u001b[1m Point 40743050 \u001b[0m Cheking for Winter Image -> \u001b[91m Not Found \u001b[0m Cheking for None Winter Image -> \u001b[92m Found \u001b[0m\n"
     ]
    },
    {
     "data": {
      "application/vnd.jupyter.widget-view+json": {
       "model_id": "04e555d2aba54b898738d4e3e5e7f049",
       "version_major": 2,
       "version_minor": 0
      },
      "text/plain": [
       "40743050_150415.tif: |          | 0.00/989k (raw) [  0.0%] in 00:00 (eta:     ?)"
      ]
     },
     "metadata": {},
     "output_type": "display_data"
    },
    {
     "name": "stdout",
     "output_type": "stream",
     "text": [
      "\u001b[1m Point 40743090 \u001b[0m Cheking for Winter Image -> \u001b[91m Not Found \u001b[0m Cheking for None Winter Image -> \u001b[92m Found \u001b[0m\n"
     ]
    },
    {
     "data": {
      "application/vnd.jupyter.widget-view+json": {
       "model_id": "5c43b58078d1483ab04f085da8183001",
       "version_major": 2,
       "version_minor": 0
      },
      "text/plain": [
       "40743090_150711.tif: |          | 0.00/1.01M (raw) [  0.0%] in 00:00 (eta:     ?)"
      ]
     },
     "metadata": {},
     "output_type": "display_data"
    },
    {
     "name": "stdout",
     "output_type": "stream",
     "text": [
      "\u001b[1m Point 40743104 \u001b[0m Cheking for Winter Image -> \u001b[91m Not Found \u001b[0m Cheking for None Winter Image -> \u001b[92m Found \u001b[0m\n"
     ]
    },
    {
     "data": {
      "application/vnd.jupyter.widget-view+json": {
       "model_id": "816c7ac724834b27b714d8ea0c8c3ce1",
       "version_major": 2,
       "version_minor": 0
      },
      "text/plain": [
       "40743104_150415.tif: |          | 0.00/1.01M (raw) [  0.0%] in 00:00 (eta:     ?)"
      ]
     },
     "metadata": {},
     "output_type": "display_data"
    },
    {
     "name": "stdout",
     "output_type": "stream",
     "text": [
      "\u001b[1m Point 40763196 \u001b[0m Cheking for Winter Image -> \u001b[92m Found \u001b[0m\n"
     ]
    },
    {
     "data": {
      "application/vnd.jupyter.widget-view+json": {
       "model_id": "1aac9ec25fc2485c8c7d2ed05f17391c",
       "version_major": 2,
       "version_minor": 0
      },
      "text/plain": [
       "40763196_150107.tif: |          | 0.00/1.05M (raw) [  0.0%] in 00:00 (eta:     ?)"
      ]
     },
     "metadata": {},
     "output_type": "display_data"
    },
    {
     "name": "stdout",
     "output_type": "stream",
     "text": [
      "\u001b[1m Point 40783020 \u001b[0m Cheking for Winter Image -> \u001b[91m Not Found \u001b[0m Cheking for None Winter Image -> \u001b[92m Found \u001b[0m\n"
     ]
    },
    {
     "data": {
      "application/vnd.jupyter.widget-view+json": {
       "model_id": "618720cd468f464b8fb8d96d5a1c830e",
       "version_major": 2,
       "version_minor": 0
      },
      "text/plain": [
       "40783020_150415.tif: |          | 0.00/979k (raw) [  0.0%] in 00:00 (eta:     ?)"
      ]
     },
     "metadata": {},
     "output_type": "display_data"
    },
    {
     "name": "stdout",
     "output_type": "stream",
     "text": [
      "\u001b[1m Point 40783066 \u001b[0m Cheking for Winter Image -> \u001b[91m Not Found \u001b[0m Cheking for None Winter Image -> \u001b[92m Found \u001b[0m\n"
     ]
    },
    {
     "data": {
      "application/vnd.jupyter.widget-view+json": {
       "model_id": "1f45754c3c43432da156cabaf671e10c",
       "version_major": 2,
       "version_minor": 0
      },
      "text/plain": [
       "40783066_150805.tif: |          | 0.00/999k (raw) [  0.0%] in 00:00 (eta:     ?)"
      ]
     },
     "metadata": {},
     "output_type": "display_data"
    },
    {
     "name": "stdout",
     "output_type": "stream",
     "text": [
      "\u001b[1m Point 40783084 \u001b[0m Cheking for Winter Image -> \u001b[91m Not Found \u001b[0m Cheking for None Winter Image -> \u001b[92m Found \u001b[0m\n"
     ]
    },
    {
     "data": {
      "application/vnd.jupyter.widget-view+json": {
       "model_id": "9ba0b84185384f5488a9c4391f049a1d",
       "version_major": 2,
       "version_minor": 0
      },
      "text/plain": [
       "40783084_151031.tif: |          | 0.00/999k (raw) [  0.0%] in 00:00 (eta:     ?)"
      ]
     },
     "metadata": {},
     "output_type": "display_data"
    },
    {
     "name": "stdout",
     "output_type": "stream",
     "text": [
      "\u001b[1m Point 40803052 \u001b[0m Cheking for Winter Image -> \u001b[91m Not Found \u001b[0m Cheking for None Winter Image -> \u001b[92m Found \u001b[0m\n"
     ]
    },
    {
     "data": {
      "application/vnd.jupyter.widget-view+json": {
       "model_id": "da8bd2404bce4ce78fe5ec1d16248261",
       "version_major": 2,
       "version_minor": 0
      },
      "text/plain": [
       "40803052_150415.tif: |          | 0.00/989k (raw) [  0.0%] in 00:00 (eta:     ?)"
      ]
     },
     "metadata": {},
     "output_type": "display_data"
    },
    {
     "name": "stdout",
     "output_type": "stream",
     "text": [
      "\u001b[1m Point 40822936 \u001b[0m Cheking for Winter Image -> \u001b[91m Not Found \u001b[0m Cheking for None Winter Image -> \u001b[92m Found \u001b[0m\n"
     ]
    },
    {
     "data": {
      "application/vnd.jupyter.widget-view+json": {
       "model_id": "1b02f3189bb94677acf37884d462767c",
       "version_major": 2,
       "version_minor": 0
      },
      "text/plain": [
       "40822936_150415.tif: |          | 0.00/960k (raw) [  0.0%] in 00:00 (eta:     ?)"
      ]
     },
     "metadata": {},
     "output_type": "display_data"
    },
    {
     "name": "stdout",
     "output_type": "stream",
     "text": [
      "\u001b[1m Point 40823080 \u001b[0m Cheking for Winter Image -> \u001b[91m Not Found \u001b[0m Cheking for None Winter Image -> \u001b[92m Found \u001b[0m\n"
     ]
    },
    {
     "data": {
      "application/vnd.jupyter.widget-view+json": {
       "model_id": "b658d368fa9c4b7e8500c130ac1a2403",
       "version_major": 2,
       "version_minor": 0
      },
      "text/plain": [
       "40823080_151031.tif: |          | 0.00/999k (raw) [  0.0%] in 00:00 (eta:     ?)"
      ]
     },
     "metadata": {},
     "output_type": "display_data"
    },
    {
     "name": "stdout",
     "output_type": "stream",
     "text": [
      "\u001b[1m Point 40843122 \u001b[0m Cheking for Winter Image -> \u001b[91m Not Found \u001b[0m Cheking for None Winter Image -> \u001b[92m Found \u001b[0m\n"
     ]
    },
    {
     "data": {
      "application/vnd.jupyter.widget-view+json": {
       "model_id": "0cff245dec1d47ac8187722bfbf84222",
       "version_major": 2,
       "version_minor": 0
      },
      "text/plain": [
       "40843122_150415.tif: |          | 0.00/1.02M (raw) [  0.0%] in 00:00 (eta:     ?)"
      ]
     },
     "metadata": {},
     "output_type": "display_data"
    },
    {
     "name": "stdout",
     "output_type": "stream",
     "text": [
      "\u001b[1m Point 40843158 \u001b[0m Cheking for Winter Image -> \u001b[91m Not Found \u001b[0m Cheking for None Winter Image -> \u001b[92m Found \u001b[0m\n"
     ]
    },
    {
     "data": {
      "application/vnd.jupyter.widget-view+json": {
       "model_id": "748cd1ed792b4c76b3bb85295ed3c95f",
       "version_major": 2,
       "version_minor": 0
      },
      "text/plain": [
       "40843158_150711.tif: |          | 0.00/1.03M (raw) [  0.0%] in 00:00 (eta:     ?)"
      ]
     },
     "metadata": {},
     "output_type": "display_data"
    },
    {
     "name": "stdout",
     "output_type": "stream",
     "text": [
      "\u001b[1m Point 40862974 \u001b[0m Cheking for Winter Image -> \u001b[91m Not Found \u001b[0m Cheking for None Winter Image -> \u001b[92m Found \u001b[0m\n"
     ]
    },
    {
     "data": {
      "application/vnd.jupyter.widget-view+json": {
       "model_id": "8c3c8bed10584827891c303d41c2bbf7",
       "version_major": 2,
       "version_minor": 0
      },
      "text/plain": [
       "40862974_150711.tif: |          | 0.00/950k (raw) [  0.0%] in 00:00 (eta:     ?)"
      ]
     },
     "metadata": {},
     "output_type": "display_data"
    },
    {
     "name": "stdout",
     "output_type": "stream",
     "text": [
      "\u001b[1m Point 40882942 \u001b[0m Cheking for Winter Image -> \u001b[91m Not Found \u001b[0m Cheking for None Winter Image -> \u001b[92m Found \u001b[0m\n"
     ]
    },
    {
     "data": {
      "application/vnd.jupyter.widget-view+json": {
       "model_id": "1dbbfed4d86747f29b028abefcea793b",
       "version_major": 2,
       "version_minor": 0
      },
      "text/plain": [
       "40882942_150415.tif: |          | 0.00/950k (raw) [  0.0%] in 00:00 (eta:     ?)"
      ]
     },
     "metadata": {},
     "output_type": "display_data"
    },
    {
     "name": "stdout",
     "output_type": "stream",
     "text": [
      "\u001b[1m Point 40882988 \u001b[0m Cheking for Winter Image -> \u001b[91m Not Found \u001b[0m Cheking for None Winter Image -> \u001b[92m Found \u001b[0m\n"
     ]
    },
    {
     "data": {
      "application/vnd.jupyter.widget-view+json": {
       "model_id": "51bf8ec8caf947ca8ee418440671249e",
       "version_major": 2,
       "version_minor": 0
      },
      "text/plain": [
       "40882988_150415.tif: |          | 0.00/970k (raw) [  0.0%] in 00:00 (eta:     ?)"
      ]
     },
     "metadata": {},
     "output_type": "display_data"
    },
    {
     "name": "stdout",
     "output_type": "stream",
     "text": [
      "\u001b[1m Point 40883024 \u001b[0m Cheking for Winter Image -> \u001b[91m Not Found \u001b[0m Cheking for None Winter Image -> \u001b[92m Found \u001b[0m\n"
     ]
    },
    {
     "data": {
      "application/vnd.jupyter.widget-view+json": {
       "model_id": "f27ea674d92b41b4a5cba88a648476a0",
       "version_major": 2,
       "version_minor": 0
      },
      "text/plain": [
       "40883024_150415.tif: |          | 0.00/979k (raw) [  0.0%] in 00:00 (eta:     ?)"
      ]
     },
     "metadata": {},
     "output_type": "display_data"
    },
    {
     "name": "stdout",
     "output_type": "stream",
     "text": [
      "\u001b[1m Point 40902992 \u001b[0m Cheking for Winter Image -> \u001b[91m Not Found \u001b[0m Cheking for None Winter Image -> \u001b[92m Found \u001b[0m\n"
     ]
    },
    {
     "data": {
      "application/vnd.jupyter.widget-view+json": {
       "model_id": "203b821a119f4e87bcdcadab44c033ba",
       "version_major": 2,
       "version_minor": 0
      },
      "text/plain": [
       "40902992_150415.tif: |          | 0.00/970k (raw) [  0.0%] in 00:00 (eta:     ?)"
      ]
     },
     "metadata": {},
     "output_type": "display_data"
    },
    {
     "name": "stdout",
     "output_type": "stream",
     "text": [
      "\u001b[1m Point 40903100 \u001b[0m Cheking for Winter Image -> \u001b[91m Not Found \u001b[0m Cheking for None Winter Image -> \u001b[92m Found \u001b[0m\n"
     ]
    },
    {
     "data": {
      "application/vnd.jupyter.widget-view+json": {
       "model_id": "7c138151bc834474a8c41b6401b705a0",
       "version_major": 2,
       "version_minor": 0
      },
      "text/plain": [
       "40903100_151031.tif: |          | 0.00/1.01M (raw) [  0.0%] in 00:00 (eta:     ?)"
      ]
     },
     "metadata": {},
     "output_type": "display_data"
    },
    {
     "name": "stdout",
     "output_type": "stream",
     "text": [
      "\u001b[1m Point 40923018 \u001b[0m Cheking for Winter Image -> \u001b[91m Not Found \u001b[0m Cheking for None Winter Image -> \u001b[92m Found \u001b[0m\n"
     ]
    },
    {
     "data": {
      "application/vnd.jupyter.widget-view+json": {
       "model_id": "6eb0f343be7a41b98017ab005b412963",
       "version_major": 2,
       "version_minor": 0
      },
      "text/plain": [
       "40923018_150415.tif: |          | 0.00/979k (raw) [  0.0%] in 00:00 (eta:     ?)"
      ]
     },
     "metadata": {},
     "output_type": "display_data"
    },
    {
     "name": "stdout",
     "output_type": "stream",
     "text": [
      "\u001b[1m Point 40923108 \u001b[0m Cheking for Winter Image -> \u001b[91m Not Found \u001b[0m Cheking for None Winter Image -> \u001b[92m Found \u001b[0m\n"
     ]
    },
    {
     "data": {
      "application/vnd.jupyter.widget-view+json": {
       "model_id": "4a847711f0b740a29db05a5b42ca3a73",
       "version_major": 2,
       "version_minor": 0
      },
      "text/plain": [
       "40923108_150805.tif: |          | 0.00/1.02M (raw) [  0.0%] in 00:00 (eta:     ?)"
      ]
     },
     "metadata": {},
     "output_type": "display_data"
    },
    {
     "name": "stdout",
     "output_type": "stream",
     "text": [
      "\u001b[1m Point 40923162 \u001b[0m Cheking for Winter Image -> \u001b[91m Not Found \u001b[0m Cheking for None Winter Image -> \u001b[92m Found \u001b[0m\n"
     ]
    },
    {
     "data": {
      "application/vnd.jupyter.widget-view+json": {
       "model_id": "d9d4b1978f8e4c4d9ef8fd50a1e09f4b",
       "version_major": 2,
       "version_minor": 0
      },
      "text/plain": [
       "40923162_150711.tif: |          | 0.00/1.04M (raw) [  0.0%] in 00:00 (eta:     ?)"
      ]
     },
     "metadata": {},
     "output_type": "display_data"
    },
    {
     "name": "stdout",
     "output_type": "stream",
     "text": [
      "\u001b[1m Point 40923166 \u001b[0m Cheking for Winter Image -> \u001b[91m Not Found \u001b[0m Cheking for None Winter Image -> \u001b[92m Found \u001b[0m\n"
     ]
    },
    {
     "data": {
      "application/vnd.jupyter.widget-view+json": {
       "model_id": "d05f2c3bc4204d0dbf3cb05d3a6eae9b",
       "version_major": 2,
       "version_minor": 0
      },
      "text/plain": [
       "40923166_150415.tif: |          | 0.00/1.03M (raw) [  0.0%] in 00:00 (eta:     ?)"
      ]
     },
     "metadata": {},
     "output_type": "display_data"
    },
    {
     "name": "stdout",
     "output_type": "stream",
     "text": [
      "\u001b[1m Point 40943070 \u001b[0m Cheking for Winter Image -> \u001b[91m Not Found \u001b[0m Cheking for None Winter Image -> \u001b[92m Found \u001b[0m\n"
     ]
    },
    {
     "data": {
      "application/vnd.jupyter.widget-view+json": {
       "model_id": "e0bfe1efa2604db185fb3ba28eb2638d",
       "version_major": 2,
       "version_minor": 0
      },
      "text/plain": [
       "40943070_151031.tif: |          | 0.00/999k (raw) [  0.0%] in 00:00 (eta:     ?)"
      ]
     },
     "metadata": {},
     "output_type": "display_data"
    },
    {
     "name": "stdout",
     "output_type": "stream",
     "text": [
      "\u001b[1m Point 40963080 \u001b[0m Cheking for Winter Image -> \u001b[91m Not Found \u001b[0m Cheking for None Winter Image -> \u001b[92m Found \u001b[0m\n"
     ]
    },
    {
     "data": {
      "application/vnd.jupyter.widget-view+json": {
       "model_id": "e7d92af7fb704f40b62fe6e43812cc71",
       "version_major": 2,
       "version_minor": 0
      },
      "text/plain": [
       "40963080_150415.tif: |          | 0.00/999k (raw) [  0.0%] in 00:00 (eta:     ?)"
      ]
     },
     "metadata": {},
     "output_type": "display_data"
    },
    {
     "name": "stdout",
     "output_type": "stream",
     "text": [
      "\u001b[1m Point 40963188 \u001b[0m Cheking for Winter Image -> \u001b[91m Not Found \u001b[0m Cheking for None Winter Image -> \u001b[92m Found \u001b[0m\n"
     ]
    },
    {
     "data": {
      "application/vnd.jupyter.widget-view+json": {
       "model_id": "cb9811c12b8b4af1922ed98fb92d9908",
       "version_major": 2,
       "version_minor": 0
      },
      "text/plain": [
       "40963188_151031.tif: |          | 0.00/1.05M (raw) [  0.0%] in 00:00 (eta:     ?)"
      ]
     },
     "metadata": {},
     "output_type": "display_data"
    },
    {
     "name": "stdout",
     "output_type": "stream",
     "text": [
      "\u001b[1m Point 40983082 \u001b[0m Cheking for Winter Image -> \u001b[91m Not Found \u001b[0m Cheking for None Winter Image -> \u001b[92m Found \u001b[0m\n"
     ]
    },
    {
     "data": {
      "application/vnd.jupyter.widget-view+json": {
       "model_id": "f0c2b616532e42be908b601c846c3c76",
       "version_major": 2,
       "version_minor": 0
      },
      "text/plain": [
       "40983082_150415.tif: |          | 0.00/999k (raw) [  0.0%] in 00:00 (eta:     ?)"
      ]
     },
     "metadata": {},
     "output_type": "display_data"
    },
    {
     "name": "stdout",
     "output_type": "stream",
     "text": [
      "\u001b[1m Point 41003008 \u001b[0m Cheking for Winter Image -> \u001b[91m Not Found \u001b[0m Cheking for None Winter Image -> \u001b[92m Found \u001b[0m\n"
     ]
    },
    {
     "data": {
      "application/vnd.jupyter.widget-view+json": {
       "model_id": "45ad77fab37b40a2975e33f431daa34c",
       "version_major": 2,
       "version_minor": 0
      },
      "text/plain": [
       "41003008_150415.tif: |          | 0.00/970k (raw) [  0.0%] in 00:00 (eta:     ?)"
      ]
     },
     "metadata": {},
     "output_type": "display_data"
    },
    {
     "name": "stdout",
     "output_type": "stream",
     "text": [
      "\u001b[1m Point 41003148 \u001b[0m Cheking for Winter Image -> \u001b[92m Found \u001b[0m\n"
     ]
    },
    {
     "data": {
      "application/vnd.jupyter.widget-view+json": {
       "model_id": "04b84ee62d7442bebe5d19062e73a313",
       "version_major": 2,
       "version_minor": 0
      },
      "text/plain": [
       "41003148_150226.tif: |          | 0.00/1.03M (raw) [  0.0%] in 00:00 (eta:     ?)"
      ]
     },
     "metadata": {},
     "output_type": "display_data"
    },
    {
     "name": "stdout",
     "output_type": "stream",
     "text": [
      "\u001b[1m Point 41003202 \u001b[0m Cheking for Winter Image -> \u001b[91m Not Found \u001b[0m Cheking for None Winter Image -> \u001b[92m Found \u001b[0m\n"
     ]
    },
    {
     "data": {
      "application/vnd.jupyter.widget-view+json": {
       "model_id": "71322b6dff3d4786bf81945091ec86b7",
       "version_major": 2,
       "version_minor": 0
      },
      "text/plain": [
       "41003202_151031.tif: |          | 0.00/1.05M (raw) [  0.0%] in 00:00 (eta:     ?)"
      ]
     },
     "metadata": {},
     "output_type": "display_data"
    },
    {
     "name": "stdout",
     "output_type": "stream",
     "text": [
      "\u001b[1m Point 41003224 \u001b[0m Cheking for Winter Image -> \u001b[91m Not Found \u001b[0m Cheking for None Winter Image -> \u001b[92m Found \u001b[0m\n"
     ]
    },
    {
     "data": {
      "application/vnd.jupyter.widget-view+json": {
       "model_id": "9f722be330ac479383e47e4496dbff3b",
       "version_major": 2,
       "version_minor": 0
      },
      "text/plain": [
       "41003224_151031.tif: |          | 0.00/1.06M (raw) [  0.0%] in 00:00 (eta:     ?)"
      ]
     },
     "metadata": {},
     "output_type": "display_data"
    },
    {
     "name": "stdout",
     "output_type": "stream",
     "text": [
      "\u001b[1m Point 41023194 \u001b[0m Cheking for Winter Image -> \u001b[91m Not Found \u001b[0m Cheking for None Winter Image -> \u001b[92m Found \u001b[0m\n"
     ]
    },
    {
     "data": {
      "application/vnd.jupyter.widget-view+json": {
       "model_id": "69010984f71b4272be442a49328cde6e",
       "version_major": 2,
       "version_minor": 0
      },
      "text/plain": [
       "41023194_150415.tif: |          | 0.00/1.04M (raw) [  0.0%] in 00:00 (eta:     ?)"
      ]
     },
     "metadata": {},
     "output_type": "display_data"
    },
    {
     "name": "stdout",
     "output_type": "stream",
     "text": [
      "\u001b[1m Point 41063204 \u001b[0m Cheking for Winter Image -> \u001b[91m Not Found \u001b[0m Cheking for None Winter Image -> \u001b[92m Found \u001b[0m\n"
     ]
    },
    {
     "data": {
      "application/vnd.jupyter.widget-view+json": {
       "model_id": "0a37c5076f724e498aebd41596dbb3bb",
       "version_major": 2,
       "version_minor": 0
      },
      "text/plain": [
       "41063204_151031.tif: |          | 0.00/1.05M (raw) [  0.0%] in 00:00 (eta:     ?)"
      ]
     },
     "metadata": {},
     "output_type": "display_data"
    },
    {
     "name": "stdout",
     "output_type": "stream",
     "text": [
      "\u001b[1m Point 41063212 \u001b[0m Cheking for Winter Image -> \u001b[91m Not Found \u001b[0m Cheking for None Winter Image -> \u001b[92m Found \u001b[0m\n"
     ]
    },
    {
     "data": {
      "application/vnd.jupyter.widget-view+json": {
       "model_id": "ec1d3be6dada4688b2bc317b82476e96",
       "version_major": 2,
       "version_minor": 0
      },
      "text/plain": [
       "41063212_151031.tif: |          | 0.00/1.05M (raw) [  0.0%] in 00:00 (eta:     ?)"
      ]
     },
     "metadata": {},
     "output_type": "display_data"
    },
    {
     "name": "stdout",
     "output_type": "stream",
     "text": [
      "\u001b[1m Point 41082902 \u001b[0m Cheking for Winter Image -> \u001b[91m Not Found \u001b[0m Cheking for None Winter Image -> \u001b[92m Found \u001b[0m\n"
     ]
    },
    {
     "data": {
      "application/vnd.jupyter.widget-view+json": {
       "model_id": "003ec20f0495421583ced0be349da699",
       "version_major": 2,
       "version_minor": 0
      },
      "text/plain": [
       "41082902_150314.tif: |          | 0.00/941k (raw) [  0.0%] in 00:00 (eta:     ?)"
      ]
     },
     "metadata": {},
     "output_type": "display_data"
    },
    {
     "name": "stdout",
     "output_type": "stream",
     "text": [
      "\u001b[1m Point 41083172 \u001b[0m Cheking for Winter Image -> \u001b[92m Found \u001b[0m\n"
     ]
    },
    {
     "data": {
      "application/vnd.jupyter.widget-view+json": {
       "model_id": "cfda65f1e6fd4a6aaf38697343df09a2",
       "version_major": 2,
       "version_minor": 0
      },
      "text/plain": [
       "41083172_150226.tif: |          | 0.00/1.04M (raw) [  0.0%] in 00:00 (eta:     ?)"
      ]
     },
     "metadata": {},
     "output_type": "display_data"
    },
    {
     "name": "stdout",
     "output_type": "stream",
     "text": [
      "\u001b[1m Point 41083226 \u001b[0m Cheking for Winter Image -> \u001b[91m Not Found \u001b[0m Cheking for None Winter Image -> \u001b[92m Found \u001b[0m\n"
     ]
    },
    {
     "data": {
      "application/vnd.jupyter.widget-view+json": {
       "model_id": "329dccd49ea54141a8edcfea611defe2",
       "version_major": 2,
       "version_minor": 0
      },
      "text/plain": [
       "41083226_151031.tif: |          | 0.00/1.07M (raw) [  0.0%] in 00:00 (eta:     ?)"
      ]
     },
     "metadata": {},
     "output_type": "display_data"
    },
    {
     "name": "stdout",
     "output_type": "stream",
     "text": [
      "\u001b[1m Point 41083280 \u001b[0m Cheking for Winter Image -> \u001b[92m Found \u001b[0m\n"
     ]
    },
    {
     "data": {
      "application/vnd.jupyter.widget-view+json": {
       "model_id": "5c4b8424630940f9b4c3116b0a60f8c9",
       "version_major": 2,
       "version_minor": 0
      },
      "text/plain": [
       "41083280_151123.tif: |          | 0.00/1.09M (raw) [  0.0%] in 00:00 (eta:     ?)"
      ]
     },
     "metadata": {},
     "output_type": "display_data"
    },
    {
     "name": "stdout",
     "output_type": "stream",
     "text": [
      "\u001b[1m Point 41103180 \u001b[0m Cheking for Winter Image -> \u001b[91m Not Found \u001b[0m Cheking for None Winter Image -> \u001b[92m Found \u001b[0m\n"
     ]
    },
    {
     "data": {
      "application/vnd.jupyter.widget-view+json": {
       "model_id": "415d1ff4c53a40c38c2398ad632cd287",
       "version_major": 2,
       "version_minor": 0
      },
      "text/plain": [
       "41103180_150415.tif: |          | 0.00/1.04M (raw) [  0.0%] in 00:00 (eta:     ?)"
      ]
     },
     "metadata": {},
     "output_type": "display_data"
    },
    {
     "name": "stdout",
     "output_type": "stream",
     "text": [
      "\u001b[1m Point 41103274 \u001b[0m Cheking for Winter Image -> \u001b[92m Found \u001b[0m\n"
     ]
    },
    {
     "data": {
      "application/vnd.jupyter.widget-view+json": {
       "model_id": "c29ce55735d54a1f88d473f037a31a9f",
       "version_major": 2,
       "version_minor": 0
      },
      "text/plain": [
       "41103274_151123.tif: |          | 0.00/1.08M (raw) [  0.0%] in 00:00 (eta:     ?)"
      ]
     },
     "metadata": {},
     "output_type": "display_data"
    },
    {
     "name": "stdout",
     "output_type": "stream",
     "text": [
      "\u001b[1m Point 41103284 \u001b[0m Cheking for Winter Image -> \u001b[92m Found \u001b[0m\n"
     ]
    },
    {
     "data": {
      "application/vnd.jupyter.widget-view+json": {
       "model_id": "9094cd65e9874ad1b58028ef639845bc",
       "version_major": 2,
       "version_minor": 0
      },
      "text/plain": [
       "41103284_151123.tif: |          | 0.00/1.09M (raw) [  0.0%] in 00:00 (eta:     ?)"
      ]
     },
     "metadata": {},
     "output_type": "display_data"
    },
    {
     "name": "stdout",
     "output_type": "stream",
     "text": [
      "\u001b[1m Point 41122926 \u001b[0m Cheking for Winter Image -> \u001b[91m Not Found \u001b[0m Cheking for None Winter Image -> \u001b[92m Found \u001b[0m\n"
     ]
    },
    {
     "data": {
      "application/vnd.jupyter.widget-view+json": {
       "model_id": "61102bab79aa494b9b1b7f9c52bfcd4e",
       "version_major": 2,
       "version_minor": 0
      },
      "text/plain": [
       "41122926_150704.tif: |          | 0.00/950k (raw) [  0.0%] in 00:00 (eta:     ?)"
      ]
     },
     "metadata": {},
     "output_type": "display_data"
    },
    {
     "name": "stdout",
     "output_type": "stream",
     "text": [
      "\u001b[1m Point 41122980 \u001b[0m Cheking for Winter Image -> \u001b[91m Not Found \u001b[0m Cheking for None Winter Image -> \u001b[92m Found \u001b[0m\n"
     ]
    },
    {
     "data": {
      "application/vnd.jupyter.widget-view+json": {
       "model_id": "eb5c33fe58ec4584b2612c2a77e53831",
       "version_major": 2,
       "version_minor": 0
      },
      "text/plain": [
       "41122980_150415.tif: |          | 0.00/970k (raw) [  0.0%] in 00:00 (eta:     ?)"
      ]
     },
     "metadata": {},
     "output_type": "display_data"
    },
    {
     "name": "stdout",
     "output_type": "stream",
     "text": [
      "\u001b[1m Point 41123088 \u001b[0m Cheking for Winter Image -> \u001b[91m Not Found \u001b[0m Cheking for None Winter Image -> \u001b[92m Found \u001b[0m\n"
     ]
    },
    {
     "data": {
      "application/vnd.jupyter.widget-view+json": {
       "model_id": "21cc14fbf0e842e2ba75261479449bea",
       "version_major": 2,
       "version_minor": 0
      },
      "text/plain": [
       "41123088_150415.tif: |          | 0.00/999k (raw) [  0.0%] in 00:00 (eta:     ?)"
      ]
     },
     "metadata": {},
     "output_type": "display_data"
    },
    {
     "name": "stdout",
     "output_type": "stream",
     "text": [
      "\u001b[1m Point 41123106 \u001b[0m Cheking for Winter Image -> \u001b[91m Not Found \u001b[0m Cheking for None Winter Image -> \u001b[92m Found \u001b[0m\n"
     ]
    },
    {
     "data": {
      "application/vnd.jupyter.widget-view+json": {
       "model_id": "104b1e40b04a450faf7d2c3d49dd0e71",
       "version_major": 2,
       "version_minor": 0
      },
      "text/plain": [
       "41123106_150415.tif: |          | 0.00/1.01M (raw) [  0.0%] in 00:00 (eta:     ?)"
      ]
     },
     "metadata": {},
     "output_type": "display_data"
    },
    {
     "name": "stdout",
     "output_type": "stream",
     "text": [
      "\u001b[1m Point 41143228 \u001b[0m Cheking for Winter Image -> \u001b[91m Not Found \u001b[0m Cheking for None Winter Image -> \u001b[92m Found \u001b[0m\n"
     ]
    },
    {
     "data": {
      "application/vnd.jupyter.widget-view+json": {
       "model_id": "aeb903d9721d4e599e510be994f4db8e",
       "version_major": 2,
       "version_minor": 0
      },
      "text/plain": [
       "41143228_151031.tif: |          | 0.00/1.05M (raw) [  0.0%] in 00:00 (eta:     ?)"
      ]
     },
     "metadata": {},
     "output_type": "display_data"
    },
    {
     "name": "stdout",
     "output_type": "stream",
     "text": [
      "\u001b[1m Point 41163064 \u001b[0m Cheking for Winter Image -> \u001b[91m Not Found \u001b[0m Cheking for None Winter Image -> \u001b[92m Found \u001b[0m\n"
     ]
    },
    {
     "data": {
      "application/vnd.jupyter.widget-view+json": {
       "model_id": "53751f3a970b4333a9d797d8d4002578",
       "version_major": 2,
       "version_minor": 0
      },
      "text/plain": [
       "41163064_150415.tif: |          | 0.00/999k (raw) [  0.0%] in 00:00 (eta:     ?)"
      ]
     },
     "metadata": {},
     "output_type": "display_data"
    },
    {
     "name": "stdout",
     "output_type": "stream",
     "text": [
      "\u001b[1m Point 41163150 \u001b[0m Cheking for Winter Image -> \u001b[92m Found \u001b[0m\n"
     ]
    },
    {
     "data": {
      "application/vnd.jupyter.widget-view+json": {
       "model_id": "832c6e43052d4c75956244003ab08e08",
       "version_major": 2,
       "version_minor": 0
      },
      "text/plain": [
       "41163150_150226.tif: |          | 0.00/1.03M (raw) [  0.0%] in 00:00 (eta:     ?)"
      ]
     },
     "metadata": {},
     "output_type": "display_data"
    },
    {
     "name": "stdout",
     "output_type": "stream",
     "text": [
      "\u001b[1m Point 41163190 \u001b[0m Cheking for Winter Image -> \u001b[91m Not Found \u001b[0m Cheking for None Winter Image -> \u001b[92m Found \u001b[0m\n"
     ]
    },
    {
     "data": {
      "application/vnd.jupyter.widget-view+json": {
       "model_id": "cd769ddcf0f942a0bff6e18fe3f701af",
       "version_major": 2,
       "version_minor": 0
      },
      "text/plain": [
       "41163190_151031.tif: |          | 0.00/1.05M (raw) [  0.0%] in 00:00 (eta:     ?)"
      ]
     },
     "metadata": {},
     "output_type": "display_data"
    },
    {
     "name": "stdout",
     "output_type": "stream",
     "text": [
      "\u001b[1m Point 41163214 \u001b[0m Cheking for Winter Image -> \u001b[91m Not Found \u001b[0m Cheking for None Winter Image -> \u001b[92m Found \u001b[0m\n"
     ]
    },
    {
     "data": {
      "application/vnd.jupyter.widget-view+json": {
       "model_id": "00d364cdb9584d1a9ab41efe95a373ed",
       "version_major": 2,
       "version_minor": 0
      },
      "text/plain": [
       "41163214_151031.tif: |          | 0.00/1.06M (raw) [  0.0%] in 00:00 (eta:     ?)"
      ]
     },
     "metadata": {},
     "output_type": "display_data"
    },
    {
     "name": "stdout",
     "output_type": "stream",
     "text": [
      "\u001b[1m Point 41163226 \u001b[0m Cheking for Winter Image -> \u001b[91m Not Found \u001b[0m Cheking for None Winter Image -> \u001b[92m Found \u001b[0m\n"
     ]
    },
    {
     "data": {
      "application/vnd.jupyter.widget-view+json": {
       "model_id": "ef6d9a06e64049ed9605f33fd2cc2edc",
       "version_major": 2,
       "version_minor": 0
      },
      "text/plain": [
       "41163226_151031.tif: |          | 0.00/1.06M (raw) [  0.0%] in 00:00 (eta:     ?)"
      ]
     },
     "metadata": {},
     "output_type": "display_data"
    },
    {
     "name": "stdout",
     "output_type": "stream",
     "text": [
      "\u001b[1m Point 41182936 \u001b[0m Cheking for Winter Image -> \u001b[91m Not Found \u001b[0m Cheking for None Winter Image -> \u001b[92m Found \u001b[0m\n"
     ]
    },
    {
     "data": {
      "application/vnd.jupyter.widget-view+json": {
       "model_id": "78ba05d4881044d6b471230e2aaf33d7",
       "version_major": 2,
       "version_minor": 0
      },
      "text/plain": [
       "41182936_150821.tif: |          | 0.00/950k (raw) [  0.0%] in 00:00 (eta:     ?)"
      ]
     },
     "metadata": {},
     "output_type": "display_data"
    },
    {
     "name": "stdout",
     "output_type": "stream",
     "text": [
      "\u001b[1m Point 41183274 \u001b[0m Cheking for Winter Image -> \u001b[91m Not Found \u001b[0m Cheking for None Winter Image -> \u001b[92m Found \u001b[0m\n"
     ]
    },
    {
     "data": {
      "application/vnd.jupyter.widget-view+json": {
       "model_id": "3c3418041d6142d1955fc4e545a6bad2",
       "version_major": 2,
       "version_minor": 0
      },
      "text/plain": [
       "41183274_150524.tif: |          | 0.00/1.08M (raw) [  0.0%] in 00:00 (eta:     ?)"
      ]
     },
     "metadata": {},
     "output_type": "display_data"
    },
    {
     "name": "stdout",
     "output_type": "stream",
     "text": [
      "\u001b[1m Point 41202906 \u001b[0m Cheking for Winter Image -> \u001b[91m Not Found \u001b[0m Cheking for None Winter Image -> \u001b[92m Found \u001b[0m\n"
     ]
    },
    {
     "data": {
      "application/vnd.jupyter.widget-view+json": {
       "model_id": "b9a89aad364d40709a1dab420f585ca2",
       "version_major": 2,
       "version_minor": 0
      },
      "text/plain": [
       "41202906_150805.tif: |          | 0.00/941k (raw) [  0.0%] in 00:00 (eta:     ?)"
      ]
     },
     "metadata": {},
     "output_type": "display_data"
    },
    {
     "name": "stdout",
     "output_type": "stream",
     "text": [
      "\u001b[1m Point 41203090 \u001b[0m Cheking for Winter Image -> \u001b[91m Not Found \u001b[0m Cheking for None Winter Image -> \u001b[92m Found \u001b[0m\n"
     ]
    },
    {
     "data": {
      "application/vnd.jupyter.widget-view+json": {
       "model_id": "8d272bc4e3ba49fb9751bcb44d018090",
       "version_major": 2,
       "version_minor": 0
      },
      "text/plain": [
       "41203090_150415.tif: |          | 0.00/1.01M (raw) [  0.0%] in 00:00 (eta:     ?)"
      ]
     },
     "metadata": {},
     "output_type": "display_data"
    },
    {
     "name": "stdout",
     "output_type": "stream",
     "text": [
      "\u001b[1m Point 41203198 \u001b[0m Cheking for Winter Image -> \u001b[91m Not Found \u001b[0m Cheking for None Winter Image -> \u001b[92m Found \u001b[0m\n"
     ]
    },
    {
     "data": {
      "application/vnd.jupyter.widget-view+json": {
       "model_id": "0364929ee0aa49d19eec99a8f974ef88",
       "version_major": 2,
       "version_minor": 0
      },
      "text/plain": [
       "41203198_151031.tif: |          | 0.00/1.05M (raw) [  0.0%] in 00:00 (eta:     ?)"
      ]
     },
     "metadata": {},
     "output_type": "display_data"
    },
    {
     "name": "stdout",
     "output_type": "stream",
     "text": [
      "\u001b[1m Point 41222902 \u001b[0m Cheking for Winter Image -> \u001b[91m Not Found \u001b[0m Cheking for None Winter Image -> \u001b[92m Found \u001b[0m\n"
     ]
    },
    {
     "data": {
      "application/vnd.jupyter.widget-view+json": {
       "model_id": "e3d4fc0a683a4d21aca29222e32206ca",
       "version_major": 2,
       "version_minor": 0
      },
      "text/plain": [
       "41222902_150821.tif: |          | 0.00/941k (raw) [  0.0%] in 00:00 (eta:     ?)"
      ]
     },
     "metadata": {},
     "output_type": "display_data"
    },
    {
     "name": "stdout",
     "output_type": "stream",
     "text": [
      "\u001b[1m Point 41223016 \u001b[0m Cheking for Winter Image -> \u001b[91m Not Found \u001b[0m Cheking for None Winter Image -> \u001b[92m Found \u001b[0m\n"
     ]
    },
    {
     "data": {
      "application/vnd.jupyter.widget-view+json": {
       "model_id": "6b1e1b3af8da4558985906ec49ca53ec",
       "version_major": 2,
       "version_minor": 0
      },
      "text/plain": [
       "41223016_150821.tif: |          | 0.00/979k (raw) [  0.0%] in 00:00 (eta:     ?)"
      ]
     },
     "metadata": {},
     "output_type": "display_data"
    },
    {
     "name": "stdout",
     "output_type": "stream",
     "text": [
      "\u001b[1m Point 41223034 \u001b[0m Cheking for Winter Image -> \u001b[91m Not Found \u001b[0m Cheking for None Winter Image -> \u001b[92m Found \u001b[0m\n"
     ]
    },
    {
     "data": {
      "application/vnd.jupyter.widget-view+json": {
       "model_id": "2a926d1b7b17424aaeda433406430bfd",
       "version_major": 2,
       "version_minor": 0
      },
      "text/plain": [
       "41223034_150415.tif: |          | 0.00/979k (raw) [  0.0%] in 00:00 (eta:     ?)"
      ]
     },
     "metadata": {},
     "output_type": "display_data"
    },
    {
     "name": "stdout",
     "output_type": "stream",
     "text": [
      "\u001b[1m Point 41223268 \u001b[0m Cheking for Winter Image -> \u001b[91m Not Found \u001b[0m Cheking for None Winter Image -> \u001b[92m Found \u001b[0m\n"
     ]
    },
    {
     "data": {
      "application/vnd.jupyter.widget-view+json": {
       "model_id": "5a5e9c6fac5444fe95ac449e3dd766d0",
       "version_major": 2,
       "version_minor": 0
      },
      "text/plain": [
       "41223268_150415.tif: |          | 0.00/1.08M (raw) [  0.0%] in 00:00 (eta:     ?)"
      ]
     },
     "metadata": {},
     "output_type": "display_data"
    },
    {
     "name": "stdout",
     "output_type": "stream",
     "text": [
      "\u001b[1m Point 41223280 \u001b[0m Cheking for Winter Image -> \u001b[91m Not Found \u001b[0m Cheking for None Winter Image -> \u001b[92m Found \u001b[0m\n"
     ]
    },
    {
     "data": {
      "application/vnd.jupyter.widget-view+json": {
       "model_id": "baf94761626c4e32a0b66703229d0b73",
       "version_major": 2,
       "version_minor": 0
      },
      "text/plain": [
       "41223280_150524.tif: |          | 0.00/1.09M (raw) [  0.0%] in 00:00 (eta:     ?)"
      ]
     },
     "metadata": {},
     "output_type": "display_data"
    },
    {
     "name": "stdout",
     "output_type": "stream",
     "text": [
      "\u001b[1m Point 41242898 \u001b[0m Cheking for Winter Image -> \u001b[91m Not Found \u001b[0m Cheking for None Winter Image -> \u001b[92m Found \u001b[0m\n"
     ]
    },
    {
     "data": {
      "application/vnd.jupyter.widget-view+json": {
       "model_id": "727d641acefb4aec89612d7209ac7f74",
       "version_major": 2,
       "version_minor": 0
      },
      "text/plain": [
       "41242898_150805.tif: |          | 0.00/931k (raw) [  0.0%] in 00:00 (eta:     ?)"
      ]
     },
     "metadata": {},
     "output_type": "display_data"
    },
    {
     "name": "stdout",
     "output_type": "stream",
     "text": [
      "\u001b[1m Point 41242982 \u001b[0m Cheking for Winter Image -> \u001b[91m Not Found \u001b[0m Cheking for None Winter Image -> \u001b[92m Found \u001b[0m\n"
     ]
    },
    {
     "data": {
      "application/vnd.jupyter.widget-view+json": {
       "model_id": "9597f9ec0e9b478b81921c845b5efb60",
       "version_major": 2,
       "version_minor": 0
      },
      "text/plain": [
       "41242982_150415.tif: |          | 0.00/960k (raw) [  0.0%] in 00:00 (eta:     ?)"
      ]
     },
     "metadata": {},
     "output_type": "display_data"
    },
    {
     "name": "stdout",
     "output_type": "stream",
     "text": [
      "\u001b[1m Point 41243194 \u001b[0m Cheking for Winter Image -> \u001b[91m Not Found \u001b[0m Cheking for None Winter Image -> \u001b[92m Found \u001b[0m\n"
     ]
    },
    {
     "data": {
      "application/vnd.jupyter.widget-view+json": {
       "model_id": "0830a78ea7424148b5d62017ee04d348",
       "version_major": 2,
       "version_minor": 0
      },
      "text/plain": [
       "41243194_150415.tif: |          | 0.00/1.05M (raw) [  0.0%] in 00:00 (eta:     ?)"
      ]
     },
     "metadata": {},
     "output_type": "display_data"
    },
    {
     "name": "stdout",
     "output_type": "stream",
     "text": [
      "\u001b[1m Point 41243198 \u001b[0m Cheking for Winter Image -> \u001b[91m Not Found \u001b[0m Cheking for None Winter Image -> \u001b[92m Found \u001b[0m\n"
     ]
    },
    {
     "data": {
      "application/vnd.jupyter.widget-view+json": {
       "model_id": "6fcb4ab79e7245928681c2fb6ccf4c75",
       "version_major": 2,
       "version_minor": 0
      },
      "text/plain": [
       "41243198_151031.tif: |          | 0.00/1.04M (raw) [  0.0%] in 00:00 (eta:     ?)"
      ]
     },
     "metadata": {},
     "output_type": "display_data"
    },
    {
     "name": "stdout",
     "output_type": "stream",
     "text": [
      "\u001b[1m Point 41243222 \u001b[0m Cheking for Winter Image -> \u001b[91m Not Found \u001b[0m Cheking for None Winter Image -> \u001b[92m Found \u001b[0m\n"
     ]
    },
    {
     "data": {
      "application/vnd.jupyter.widget-view+json": {
       "model_id": "26c84cabe7244dcc84c0ec35bce83fc7",
       "version_major": 2,
       "version_minor": 0
      },
      "text/plain": [
       "41243222_151031.tif: |          | 0.00/1.06M (raw) [  0.0%] in 00:00 (eta:     ?)"
      ]
     },
     "metadata": {},
     "output_type": "display_data"
    },
    {
     "name": "stdout",
     "output_type": "stream",
     "text": [
      "\u001b[1m Point 41243258 \u001b[0m Cheking for Winter Image -> \u001b[91m Not Found \u001b[0m Cheking for None Winter Image -> \u001b[92m Found \u001b[0m\n"
     ]
    },
    {
     "data": {
      "application/vnd.jupyter.widget-view+json": {
       "model_id": "7bcc399b7c3c40e098fc668a17ccf801",
       "version_major": 2,
       "version_minor": 0
      },
      "text/plain": [
       "41243258_151031.tif: |          | 0.00/1.07M (raw) [  0.0%] in 00:00 (eta:     ?)"
      ]
     },
     "metadata": {},
     "output_type": "display_data"
    },
    {
     "name": "stdout",
     "output_type": "stream",
     "text": [
      "\u001b[1m Point 41243294 \u001b[0m Cheking for Winter Image -> \u001b[91m Not Found \u001b[0m Cheking for None Winter Image -> \u001b[92m Found \u001b[0m\n"
     ]
    },
    {
     "data": {
      "application/vnd.jupyter.widget-view+json": {
       "model_id": "3334cb2d8a5941458495bd4632c04733",
       "version_major": 2,
       "version_minor": 0
      },
      "text/plain": [
       "41243294_150524.tif: |          | 0.00/1.09M (raw) [  0.0%] in 00:00 (eta:     ?)"
      ]
     },
     "metadata": {},
     "output_type": "display_data"
    },
    {
     "name": "stdout",
     "output_type": "stream",
     "text": [
      "\u001b[1m Point 41263244 \u001b[0m Cheking for Winter Image -> \u001b[91m Not Found \u001b[0m Cheking for None Winter Image -> \u001b[92m Found \u001b[0m\n"
     ]
    },
    {
     "data": {
      "application/vnd.jupyter.widget-view+json": {
       "model_id": "98df5e15ecd94e7bad436d9797d69340",
       "version_major": 2,
       "version_minor": 0
      },
      "text/plain": [
       "41263244_151031.tif: |          | 0.00/1.07M (raw) [  0.0%] in 00:00 (eta:     ?)"
      ]
     },
     "metadata": {},
     "output_type": "display_data"
    },
    {
     "name": "stdout",
     "output_type": "stream",
     "text": [
      "\u001b[1m Point 41263298 \u001b[0m Cheking for Winter Image -> \u001b[91m Not Found \u001b[0m Cheking for None Winter Image -> \u001b[92m Found \u001b[0m\n"
     ]
    },
    {
     "data": {
      "application/vnd.jupyter.widget-view+json": {
       "model_id": "fc729c56d9da44eba45291117c94cdf2",
       "version_major": 2,
       "version_minor": 0
      },
      "text/plain": [
       "41263298_150524.tif: |          | 0.00/1.10M (raw) [  0.0%] in 00:00 (eta:     ?)"
      ]
     },
     "metadata": {},
     "output_type": "display_data"
    },
    {
     "name": "stdout",
     "output_type": "stream",
     "text": [
      "\u001b[1m Point 41283108 \u001b[0m Cheking for Winter Image -> \u001b[91m Not Found \u001b[0m Cheking for None Winter Image -> \u001b[92m Found \u001b[0m\n"
     ]
    },
    {
     "data": {
      "application/vnd.jupyter.widget-view+json": {
       "model_id": "e1290ba79fa94161be8c1239a9b3d266",
       "version_major": 2,
       "version_minor": 0
      },
      "text/plain": [
       "41283108_150415.tif: |          | 0.00/1.01M (raw) [  0.0%] in 00:00 (eta:     ?)"
      ]
     },
     "metadata": {},
     "output_type": "display_data"
    },
    {
     "name": "stdout",
     "output_type": "stream",
     "text": [
      "\u001b[1m Point 41283194 \u001b[0m Cheking for Winter Image -> \u001b[92m Found \u001b[0m\n"
     ]
    },
    {
     "data": {
      "application/vnd.jupyter.widget-view+json": {
       "model_id": "fc354aeceb0b45d6a58ffbb76fa2ccd1",
       "version_major": 2,
       "version_minor": 0
      },
      "text/plain": [
       "41283194_150226.tif: |          | 0.00/1.05M (raw) [  0.0%] in 00:00 (eta:     ?)"
      ]
     },
     "metadata": {},
     "output_type": "display_data"
    },
    {
     "name": "stdout",
     "output_type": "stream",
     "text": [
      "\u001b[1m Point 41283256 \u001b[0m Cheking for Winter Image -> \u001b[92m Found \u001b[0m\n"
     ]
    },
    {
     "data": {
      "application/vnd.jupyter.widget-view+json": {
       "model_id": "2b1eb9765e14465aa52510534deaa28b",
       "version_major": 2,
       "version_minor": 0
      },
      "text/plain": [
       "41283256_150226.tif: |          | 0.00/1.07M (raw) [  0.0%] in 00:00 (eta:     ?)"
      ]
     },
     "metadata": {},
     "output_type": "display_data"
    },
    {
     "name": "stdout",
     "output_type": "stream",
     "text": [
      "\u001b[1m Point 41283292 \u001b[0m Cheking for Winter Image -> \u001b[91m Not Found \u001b[0m Cheking for None Winter Image -> \u001b[92m Found \u001b[0m\n"
     ]
    },
    {
     "data": {
      "application/vnd.jupyter.widget-view+json": {
       "model_id": "610eea95fdfb4098a1c804b004c2438b",
       "version_major": 2,
       "version_minor": 0
      },
      "text/plain": [
       "41283292_150415.tif: |          | 0.00/1.09M (raw) [  0.0%] in 00:00 (eta:     ?)"
      ]
     },
     "metadata": {},
     "output_type": "display_data"
    },
    {
     "name": "stdout",
     "output_type": "stream",
     "text": [
      "\u001b[1m Point 41302926 \u001b[0m Cheking for Winter Image -> \u001b[91m Not Found \u001b[0m Cheking for None Winter Image -> \u001b[92m Found \u001b[0m\n"
     ]
    },
    {
     "data": {
      "application/vnd.jupyter.widget-view+json": {
       "model_id": "f24db12a92aa47f7a02d12f312fdcfc2",
       "version_major": 2,
       "version_minor": 0
      },
      "text/plain": [
       "41302926_150408.tif: |          | 0.00/941k (raw) [  0.0%] in 00:00 (eta:     ?)"
      ]
     },
     "metadata": {},
     "output_type": "display_data"
    },
    {
     "name": "stdout",
     "output_type": "stream",
     "text": [
      "\u001b[1m Point 41303214 \u001b[0m Cheking for Winter Image -> \u001b[91m Not Found \u001b[0m Cheking for None Winter Image -> \u001b[92m Found \u001b[0m\n"
     ]
    },
    {
     "data": {
      "application/vnd.jupyter.widget-view+json": {
       "model_id": "db8ed36095ff40f2809ec8ed9b781acf",
       "version_major": 2,
       "version_minor": 0
      },
      "text/plain": [
       "41303214_150415.tif: |          | 0.00/1.06M (raw) [  0.0%] in 00:00 (eta:     ?)"
      ]
     },
     "metadata": {},
     "output_type": "display_data"
    }
   ],
   "source": [
    "winter_ragne_1 = ee.Filter.date(WINTER_RANGES[0][0], WINTER_RANGES[0][1])\n",
    "winter_range_2 = ee.Filter.date(WINTER_RANGES[1][0], WINTER_RANGES[1][1])\n",
    "winter_range_filter = ee.Filter.Or(winter_ragne_1, winter_range_2)\n",
    "\n",
    "non_winter_range_filter = ee.Filter.date(NONE_WINTER_RANGES[0], NONE_WINTER_RANGES[1])\n",
    "\n",
    "for index, row in df.iterrows():\n",
    "    print(f'{c.BOLD} Point {int(row[\"Piont_id\"])} {c.ENDC}' , end=\" Cheking for Winter Image -> \")\n",
    "    loop_roi = get_square_roi(row['lat'],row['long'], roi_size=1920, return_gee_object=True)\n",
    "    \n",
    "    # FIRST: Checkig if we can find an image in the WINTER_RANGE\n",
    "    l8 = IMAGE_COLLECTION.filter(winter_range_filter)\\\n",
    "                         .filterBounds(loop_roi).sort('system:time_start')\n",
    "    if l8.size().getInfo() > 0:                     \n",
    "        #clip the image collection to the roi                     \n",
    "        l8 = l8.map(lambda img: img.clip(loop_roi))\n",
    "        \n",
    "        # discard images with high null pixels\n",
    "        l8 = l8.map(lambda img: img.set('not_null_pixels', get_not_nulls_ratio(img,loop_roi)))\n",
    "        l8 = l8.filter(ee.Filter.gt('not_null_pixels',0.7))\n",
    "        \n",
    "        # Ratiometric correction\n",
    "        l8 = l8.map(lambda img: radiometric_correction(img))\n",
    "        # add roi cloud cover and cloud shadow property # the index 2 is for the combination of cloud and cloud shadow mask\n",
    "        l8 = l8.map(lambda img: img.set('roi_cloud_cover', get_mask_ones_ratio(get_cloud_mask(img)[2])))\n",
    "        l8 = l8.filter(ee.Filter.lt('roi_cloud_cover',10)) \n",
    "        \n",
    "        # add roi snow cover property\n",
    "        l8 = l8.map(lambda img: img.set('roi_snow_cover', get_mask_ones_ratio(get_snow_mask(img))))\n",
    "        l8 = l8.filter(ee.Filter.lt('roi_snow_cover',10)) \n",
    "\n",
    "    if l8.size().getInfo() > 0:\n",
    "        print (f'{c.OKGREEN} Found {c.ENDC}')\n",
    "        l8_image = add_mineral_indices(l8.sort('system:time_start').first())\n",
    "\n",
    "    else: # if we can't find an image in the WINTER_RANGE, we check the NONE_WINTER_RANGE\n",
    "        print (f'{c.FAIL} Not Found {c.ENDC}', end=\" Cheking for None Winter Image -> \")\n",
    "        l8 = IMAGE_COLLECTION.filter(non_winter_range_filter)\\\n",
    "                             .filterBounds(loop_roi).sort('system:time_start')\n",
    "                             \n",
    "        #clip the image collection to the roi                     \n",
    "        l8 = l8.map(lambda img: img.clip(loop_roi))\n",
    "                    \n",
    "        # discard images with high null pixels\n",
    "        l8 = l8.map(lambda img: img.set('not_null_pixels', get_not_nulls_ratio(img,loop_roi)))\n",
    "        l8 = l8.filter(ee.Filter.gt('not_null_pixels',0.7))\n",
    "\n",
    "        # Ratiometric correction\n",
    "        l8 = l8.map(lambda img: radiometric_correction(img))\n",
    "        \n",
    "        # add roi cloud cover and cloud shadow property # the index 2 is for the combination of cloud and cloud shadow mask\n",
    "        l8 = l8.map(lambda img: img.set('roi_cloud_cover', get_mask_ones_ratio(get_cloud_mask(img)[2])))\n",
    "        l8 = l8.filter(ee.Filter.lt('roi_cloud_cover',10)) \n",
    "        \n",
    "        # add roi snow cover property\n",
    "        l8 = l8.map(lambda img: img.set('roi_snow_cover', get_mask_ones_ratio(get_snow_mask(img))))\n",
    "        l8 = l8.filter(ee.Filter.lt('roi_snow_cover',10)) \n",
    "        \n",
    "        l8 = l8.map(lambda img: img.set('roi_mean_ndvi', get_mean_ndvi(img)))  \n",
    "        \n",
    "        if l8.size().getInfo() > 0:\n",
    "            print(f'{c.OKGREEN} Found {c.ENDC}')\n",
    "            l8_image = add_mineral_indices(l8.sort('roi_mean_ndvi').first())\n",
    "        else:\n",
    "            print(f'{c.FAIL} No Image Found For this ROI! {c.ENDC}')\n",
    "\n",
    "    if l8.size().getInfo() > 0:    \n",
    "        date = ee.Date(l8_image.get('system:time_start')).format('YYMMdd').getInfo()\n",
    "        name = f\"{int(row['Piont_id'])}_{date}.tif\"\n",
    "        geemap.download_ee_image(l8_image.select(BANDS), DFOLDER+ name,crs='EPSG:3857', scale=30,region = loop_roi)\n",
    "                       \n",
    "    #print('Date:',milsec2date(l8.aggregate_array('system:time_start').getInfo()))\n",
    "    \n",
    "    if index == 100:\n",
    "        break"
   ]
  },
  {
   "attachments": {},
   "cell_type": "markdown",
   "metadata": {},
   "source": [
    "## Testing some outputs"
   ]
  },
  {
   "cell_type": "code",
   "execution_count": 9,
   "metadata": {},
   "outputs": [
    {
     "data": {
      "text/plain": [
       "'150711'"
      ]
     },
     "execution_count": 9,
     "metadata": {},
     "output_type": "execute_result"
    }
   ],
   "source": [
    "date = ee.Date(l8_image.get('system:time_start')).format('YYMMdd').getInfo()\n",
    "date"
   ]
  },
  {
   "cell_type": "code",
   "execution_count": 10,
   "metadata": {},
   "outputs": [
    {
     "name": "stdout",
     "output_type": "stream",
     "text": [
      "0.6243017765281128\n"
     ]
    },
    {
     "data": {
      "application/vnd.jupyter.widget-view+json": {
       "model_id": "212952de7b014a3381e1bbd9a5009b4f",
       "version_major": 2,
       "version_minor": 0
      },
      "text/plain": [
       "Map(center=[20, 0], controls=(WidgetControl(options=['position', 'transparent_bg'], widget=HBox(children=(Togg…"
      ]
     },
     "metadata": {},
     "output_type": "display_data"
    }
   ],
   "source": [
    "Map = geemap.Map()\n",
    "# l8_c_img = l8.sort('roi_mean_ndvi',True).first()\n",
    "l8_c_img = l8.sort('system:time_start',True).first()\n",
    "print(l8_c_img.get('roi_mean_ndvi').getInfo())\n",
    "visualization = {\n",
    "  'bands': ['SR_B4', 'SR_B3', 'SR_B2'],\n",
    "  'min': 0.0,\n",
    "  'max': 0.3,\n",
    "}\n",
    "\n",
    "cloud = get_cloud_mask(l8_c_img)[2]\n",
    "\n",
    "\n",
    "Map.addLayer(cloud, {'min': 0, 'max': 1, 'palette': ['black','red']}, 'cloud')\n",
    "Map.addLayer(l8_c_img, visualization, 'rgb')\n",
    "Map.centerObject(loop_roi)\n",
    "Map"
   ]
  }
 ],
 "metadata": {
  "kernelspec": {
   "display_name": "geemap",
   "language": "python",
   "name": "python3"
  },
  "language_info": {
   "codemirror_mode": {
    "name": "ipython",
    "version": 3
   },
   "file_extension": ".py",
   "mimetype": "text/x-python",
   "name": "python",
   "nbconvert_exporter": "python",
   "pygments_lexer": "ipython3",
   "version": "3.9.16"
  },
  "orig_nbformat": 4
 },
 "nbformat": 4,
 "nbformat_minor": 2
}

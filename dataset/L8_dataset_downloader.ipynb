{
 "cells": [
  {
   "cell_type": "code",
   "execution_count": 28,
   "metadata": {},
   "outputs": [],
   "source": [
    "import ee\n",
    "import geemap"
   ]
  },
  {
   "cell_type": "code",
   "execution_count": 29,
   "metadata": {},
   "outputs": [],
   "source": [
    "Map = geemap.Map()"
   ]
  },
  {
   "cell_type": "code",
   "execution_count": 30,
   "metadata": {},
   "outputs": [],
   "source": [
    "ee.Initialize()"
   ]
  },
  {
   "cell_type": "code",
   "execution_count": 31,
   "metadata": {},
   "outputs": [],
   "source": [
    "from utils.utils import correct_image_shape, milsec2date, read_csv\n",
    "from utils.ee_utils import *"
   ]
  },
  {
   "cell_type": "code",
   "execution_count": 58,
   "metadata": {},
   "outputs": [
    {
     "data": {
      "application/vnd.jupyter.widget-view+json": {
       "model_id": "c658b9bd76d346868af2a86aa6068d8f",
       "version_major": 2,
       "version_minor": 0
      },
      "text/plain": [
       "Map(center=[20, 0], controls=(WidgetControl(options=['position', 'transparent_bg'], widget=HBox(children=(Togg…"
      ]
     },
     "metadata": {},
     "output_type": "display_data"
    }
   ],
   "source": [
    "# roi = get_square_roi(52.37962731,7.164954376, roi_size=1920, return_gee_object=True)\n",
    "roi = get_square_roi(53.10515397,13.30088236, roi_size=1920, return_gee_object=True)\n",
    "Map = geemap.Map(zoom=12)\n",
    "Map.addLayer(roi)\n",
    "Map.centerObject(roi)\n",
    "Map"
   ]
  },
  {
   "cell_type": "code",
   "execution_count": null,
   "metadata": {},
   "outputs": [],
   "source": []
  },
  {
   "cell_type": "code",
   "execution_count": 59,
   "metadata": {},
   "outputs": [
    {
     "name": "stdout",
     "output_type": "stream",
     "text": [
      "7\n",
      "Date: ['2015-04-10', '2015-10-03', '2015-03-25', '2015-09-01', '2015-10-03', '2015-06-04', '2015-10-10']\n"
     ]
    }
   ],
   "source": [
    "l8 = ee.ImageCollection('LANDSAT/LC08/C02/T1_L2') \\\n",
    "                .filterDate('2015-01-01', '2015-12-31') \\\n",
    "                .filter(ee.Filter.lt('CLOUD_COVER',10)) \\\n",
    "                .filterBounds(roi) \\\n",
    "                #.filter(ee.Filter.contains('.geo', roi)) #this line checks if the scene completly covers the roi, which mean roi is in the scene\n",
    "print(l8.size().getInfo())\n",
    "print('Date:',milsec2date(l8.aggregate_array('system:time_start').getInfo()))"
   ]
  },
  {
   "cell_type": "code",
   "execution_count": 60,
   "metadata": {},
   "outputs": [],
   "source": [
    "l8_img = l8.median().clip(roi).multiply(2.75e-05).add(-0.2)\n",
    "bands = ['SR_B1','SR_B2','SR_B3','SR_B4','SR_B5','SR_B6','SR_B7']\n",
    "l8_img = l8_img.select(bands)"
   ]
  },
  {
   "cell_type": "code",
   "execution_count": 61,
   "metadata": {},
   "outputs": [
    {
     "data": {
      "application/vnd.jupyter.widget-view+json": {
       "model_id": "5d2aea3984d34b74b9604610dd968c5d",
       "version_major": 2,
       "version_minor": 0
      },
      "text/plain": [
       "l8.tif: |          | 0.00/629k (raw) [  0.0%] in 00:00 (eta:     ?)"
      ]
     },
     "metadata": {},
     "output_type": "display_data"
    }
   ],
   "source": [
    "geemap.download_ee_image(l8_img, \"l8.tif\",crs='EPSG:3857', scale=30,region = roi)"
   ]
  },
  {
   "cell_type": "code",
   "execution_count": 62,
   "metadata": {},
   "outputs": [
    {
     "name": "stdout",
     "output_type": "stream",
     "text": [
      "(7, 106, 106)\n",
      "(106, 106, 7)\n",
      "-0.0011612500000000026 0.52133875\n"
     ]
    }
   ],
   "source": [
    "from skimage import io\n",
    "import numpy as np\n",
    "l8_np = io.imread('l8.tif')\n",
    "print(l8_np.shape)\n",
    "l8_np = correct_image_shape(l8_np)\n",
    "print(l8_np.shape)\n",
    "print(np.min(l8_np),np.max(l8_np))"
   ]
  },
  {
   "cell_type": "code",
   "execution_count": 63,
   "metadata": {},
   "outputs": [
    {
     "data": {
      "text/plain": [
       "<matplotlib.image.AxesImage at 0x27552970130>"
      ]
     },
     "execution_count": 63,
     "metadata": {},
     "output_type": "execute_result"
    },
    {
     "data": {
      "image/png": "[encoded data removed]",
      "text/plain": [
       "<Figure size 640x480 with 1 Axes>"
      ]
     },
     "metadata": {},
     "output_type": "display_data"
    }
   ],
   "source": [
    "import matplotlib.pyplot as plt\n",
    "plt.imshow(l8_np[:,:,[3,2,1]])"
   ]
  },
  {
   "cell_type": "code",
   "execution_count": 64,
   "metadata": {},
   "outputs": [
    {
     "data": {
      "text/html": [
       "<div>\n",
       "<style scoped>\n",
       "    .dataframe tbody tr th:only-of-type {\n",
       "        vertical-align: middle;\n",
       "    }\n",
       "\n",
       "    .dataframe tbody tr th {\n",
       "        vertical-align: top;\n",
       "    }\n",
       "\n",
       "    .dataframe thead th {\n",
       "        text-align: right;\n",
       "    }\n",
       "</style>\n",
       "<table border=\"1\" class=\"dataframe\">\n",
       "  <thead>\n",
       "    <tr style=\"text-align: right;\">\n",
       "      <th></th>\n",
       "      <th>Piont_id</th>\n",
       "      <th>long</th>\n",
       "      <th>lat</th>\n",
       "    </tr>\n",
       "  </thead>\n",
       "  <tbody>\n",
       "    <tr>\n",
       "      <th>0</th>\n",
       "      <td>40463116</td>\n",
       "      <td>6.072879</td>\n",
       "      <td>51.088722</td>\n",
       "    </tr>\n",
       "    <tr>\n",
       "      <th>1</th>\n",
       "      <td>40463188</td>\n",
       "      <td>6.016994</td>\n",
       "      <td>51.734784</td>\n",
       "    </tr>\n",
       "    <tr>\n",
       "      <th>2</th>\n",
       "      <td>40523090</td>\n",
       "      <td>6.177697</td>\n",
       "      <td>50.858239</td>\n",
       "    </tr>\n",
       "    <tr>\n",
       "      <th>3</th>\n",
       "      <td>40523108</td>\n",
       "      <td>6.164374</td>\n",
       "      <td>51.019789</td>\n",
       "    </tr>\n",
       "    <tr>\n",
       "      <th>4</th>\n",
       "      <td>40543118</td>\n",
       "      <td>6.185448</td>\n",
       "      <td>51.110477</td>\n",
       "    </tr>\n",
       "    <tr>\n",
       "      <th>...</th>\n",
       "      <td>...</td>\n",
       "      <td>...</td>\n",
       "      <td>...</td>\n",
       "    </tr>\n",
       "    <tr>\n",
       "      <th>1681</th>\n",
       "      <td>46543152</td>\n",
       "      <td>14.786924</td>\n",
       "      <td>51.380586</td>\n",
       "    </tr>\n",
       "    <tr>\n",
       "      <th>1682</th>\n",
       "      <td>46563124</td>\n",
       "      <td>14.789346</td>\n",
       "      <td>51.128352</td>\n",
       "    </tr>\n",
       "    <tr>\n",
       "      <th>1683</th>\n",
       "      <td>46603108</td>\n",
       "      <td>14.831361</td>\n",
       "      <td>50.982524</td>\n",
       "    </tr>\n",
       "    <tr>\n",
       "      <th>1684</th>\n",
       "      <td>46623118</td>\n",
       "      <td>14.869216</td>\n",
       "      <td>51.070995</td>\n",
       "    </tr>\n",
       "    <tr>\n",
       "      <th>1685</th>\n",
       "      <td>46643144</td>\n",
       "      <td>14.922565</td>\n",
       "      <td>51.302893</td>\n",
       "    </tr>\n",
       "  </tbody>\n",
       "</table>\n",
       "<p>1686 rows × 3 columns</p>\n",
       "</div>"
      ],
      "text/plain": [
       "      Piont_id       long        lat\n",
       "0     40463116   6.072879  51.088722\n",
       "1     40463188   6.016994  51.734784\n",
       "2     40523090   6.177697  50.858239\n",
       "3     40523108   6.164374  51.019789\n",
       "4     40543118   6.185448  51.110477\n",
       "...        ...        ...        ...\n",
       "1681  46543152  14.786924  51.380586\n",
       "1682  46563124  14.789346  51.128352\n",
       "1683  46603108  14.831361  50.982524\n",
       "1684  46623118  14.869216  51.070995\n",
       "1685  46643144  14.922565  51.302893\n",
       "\n",
       "[1686 rows x 3 columns]"
      ]
     },
     "execution_count": 64,
     "metadata": {},
     "output_type": "execute_result"
    }
   ],
   "source": [
    "df = read_csv(\"LUCAS_2015_Germany.csv\")\n",
    "df"
   ]
  },
  {
   "cell_type": "code",
   "execution_count": 65,
   "metadata": {},
   "outputs": [
    {
     "name": "stdout",
     "output_type": "stream",
     "text": [
      "Point 0 -> Date: ['2015-01-07', '2015-03-12', '2015-07-11', '2015-08-03', '2015-09-29', '2015-09-29', '2015-12-09']\n",
      "Point 1 -> Date: ['2015-01-07', '2015-03-12', '2015-08-03', '2015-09-29', '2015-12-09']\n",
      "Point 2 -> Date: ['2015-07-11', '2015-09-29', '2015-09-29']\n",
      "Point 3 -> Date: ['2015-01-07', '2015-03-12', '2015-07-11', '2015-08-03', '2015-09-29', '2015-09-29', '2015-12-09']\n"
     ]
    }
   ],
   "source": [
    "for index, row in df.iterrows():\n",
    "    print(f'Point {index}' , end=\" -> \")\n",
    "    loop_roi = get_square_roi(row['lat'],row['long'], roi_size=1920, return_gee_object=True)\n",
    "    l8 = ee.ImageCollection('LANDSAT/LC08/C02/T1_L2') \\\n",
    "                .filterDate('2015-01-01', '2015-12-31') \\\n",
    "                .filter(ee.Filter.lt('CLOUD_COVER',10)) \\\n",
    "                .filterBounds(loop_roi).sort('system:time_start')\n",
    "                #.filter(ee.Filter.contains('.geo', loop_roi)) #this line checks if the scene completly covers the roi, which mean roi is in the scene\n",
    "    #print(l8.size().getInfo())\n",
    "    print('Date:',milsec2date(l8.aggregate_array('system:time_start').getInfo()))\n",
    "    \n",
    "    if index == 3:\n",
    "        break"
   ]
  },
  {
   "cell_type": "code",
   "execution_count": 66,
   "metadata": {},
   "outputs": [
    {
     "name": "stdout",
     "output_type": "stream",
     "text": [
      "17\n",
      "Date: ['2015-06-29', '2015-10-26', '2015-12-06', '2015-08-07', '2015-09-17', '2015-05-03', '2015-09-17', '2015-07-06', '2015-02-05', '2015-09-01', '2015-08-16', '2015-06-13', '2015-03-09', '2015-05-19', '2015-02-21', '2015-07-15', '2015-11-27']\n"
     ]
    }
   ],
   "source": [
    "l8_c = ee.ImageCollection('LANDSAT/LC08/C02/T1_L2') \\\n",
    "                .filterDate('2015-01-01', '2015-12-31') \\\n",
    "                .filter(ee.Filter.gt('CLOUD_COVER',20)) \\\n",
    "                .filter(ee.Filter.lt('CLOUD_COVER',60)) \\\n",
    "                .filterBounds(roi).sort('CLOUD_COVER', True)\n",
    "                #.filter(ee.Filter.contains('.geo', roi)) #this line checks if the scene completly covers the roi, which mean roi is in the scene\n",
    "print(l8_c.size().getInfo())\n",
    "print('Date:',milsec2date(l8_c.aggregate_array('system:time_start').getInfo()))"
   ]
  },
  {
   "cell_type": "code",
   "execution_count": 67,
   "metadata": {},
   "outputs": [
    {
     "name": "stdout",
     "output_type": "stream",
     "text": [
      "['QA_PIXEL']\n"
     ]
    },
    {
     "data": {
      "application/vnd.jupyter.widget-view+json": {
       "model_id": "fa85f75fb47648a29d313e268d213e40",
       "version_major": 2,
       "version_minor": 0
      },
      "text/plain": [
       "Map(center=[20, 0], controls=(WidgetControl(options=['position', 'transparent_bg'], widget=HBox(children=(Togg…"
      ]
     },
     "metadata": {},
     "output_type": "display_data"
    }
   ],
   "source": [
    "Map = geemap.Map()\n",
    "\n",
    "l8_c_img = l8_c.first()\n",
    "qa = l8_c_img.select('QA_PIXEL')\n",
    "rgb = l8_c_img.select('SR_B4','SR_B3','SR_B2').multiply(2.75e-05).add(-0.2)\n",
    "#cloud = qa.bitwiseAnd(1<<2).And(qa.bitwiseAnd(1<<6)).Or(qa.bitwiseAnd(1<<7))\n",
    "\n",
    "# Define the cloud, cloud shadow, and snow/ice bits.\n",
    "cloud = get_cloud_mask(l8_c_img)[0]\n",
    "print(cloud.bandNames().getInfo())\n",
    "cloudShadow = get_cloud_mask(l8_c_img)[1]\n",
    "\n",
    "mask = cloud.where(cloud, 1)\n",
    "mask = mask.where(cloudShadow, 2)\n",
    "\n",
    "#Display the cloud mask on the map\n",
    "Map.addLayer(mask, {'min': 0, 'max': 1, 'palette': ['000000', 'red', 'blue']}, 'Mask')\n",
    "\n",
    "visualization = {\n",
    "  'bands': ['SR_B4', 'SR_B3', 'SR_B2'],\n",
    "  'min': 0.0,\n",
    "  'max': 0.3,\n",
    "}\n",
    "\n",
    "maskedImage = rgb.updateMask(cloud.Not())\n",
    "Map.addLayer(maskedImage.clip(roi), visualization, 'masked')\n",
    "Map.centerObject(roi)\n",
    "Map"
   ]
  },
  {
   "cell_type": "code",
   "execution_count": 68,
   "metadata": {},
   "outputs": [
    {
     "name": "stdout",
     "output_type": "stream",
     "text": [
      "['QA_PIXEL_count', 'QA_PIXEL_sum']\n",
      "Ratio of ones to total pixels: 0.05371925070194308\n"
     ]
    }
   ],
   "source": [
    "masked_cliped = cloud.clip(roi)\n",
    "\n",
    "# Compute the number of ones and total number of pixels in the mask\n",
    "stats = masked_cliped.reduceRegion(\n",
    "    reducer=ee.Reducer.sum().combine(\n",
    "        reducer2=ee.Reducer.count(),\n",
    "        sharedInputs=True\n",
    "    ),\n",
    "    geometry=masked_cliped.geometry(),\n",
    "    scale=30,\n",
    "    maxPixels=1e9\n",
    ")\n",
    "\n",
    "print(stats.keys().getInfo())\n",
    "# Extract the number of ones and total number of pixels from the result\n",
    "ones = stats.get('QA_PIXEL_sum')\n",
    "total = stats.get('QA_PIXEL_count')\n",
    "\n",
    "# Compute the ratio of ones to total pixels\n",
    "ratio = ee.Number(ones).divide(total)\n",
    "\n",
    "# Print the ratio to the console\n",
    "print('Ratio of ones to total pixels:', ratio.getInfo())\n"
   ]
  },
  {
   "cell_type": "code",
   "execution_count": 69,
   "metadata": {},
   "outputs": [
    {
     "name": "stdout",
     "output_type": "stream",
     "text": [
      "0.05371925070194308\n"
     ]
    }
   ],
   "source": [
    "print(get_mask_ones_ratio(masked_cliped).getInfo())"
   ]
  },
  {
   "cell_type": "code",
   "execution_count": 70,
   "metadata": {},
   "outputs": [
    {
     "name": "stdout",
     "output_type": "stream",
     "text": [
      "17\n",
      "17\n"
     ]
    }
   ],
   "source": [
    "l8_c = ee.ImageCollection('LANDSAT/LC08/C02/T1_L2') \\\n",
    "                .filterDate('2015-01-01', '2015-12-31') \\\n",
    "                .filter(ee.Filter.gt('CLOUD_COVER',20)) \\\n",
    "                .filter(ee.Filter.lt('CLOUD_COVER',60)) \\\n",
    "                .filterBounds(roi).sort('CLOUD_COVER', True)\n",
    "                #.filter(ee.Filter.contains('.geo', roi)) #this line checks if the scene completly covers the roi, which mean roi is in the scene\n",
    "print(l8_c.size().getInfo())\n",
    "lc8_cliped = l8_c.map(lambda img: img.clip(roi))\n",
    "# lc8_cloud_masks = lc8_cliped.map(lambda img: get_cloud_mask(img)[0])\n",
    "# print(lc8_cloud_masks.first().bandNames().getInfo())\n",
    "lc8_cliped_w_ratio = lc8_cliped.map(lambda img: img.set('roi_cloud_ratio', get_mask_ones_ratio(get_cloud_mask(img)[0])))\n",
    "print(lc8_cliped_w_ratio.size().getInfo())\n"
   ]
  },
  {
   "cell_type": "code",
   "execution_count": 71,
   "metadata": {},
   "outputs": [
    {
     "data": {
      "text/plain": [
       "{'roi_cloud_ratio': 0.05371925070194308,\n",
       " 'system:footprint': {'type': 'Polygon',\n",
       "  'coordinates': [[[12.776946558894407, 52.60583512789748],\n",
       "    [12.805215731823385, 52.60583512789748],\n",
       "    [12.805215731823386, 52.62310963131346],\n",
       "    [12.776946558894409, 52.62310963131346],\n",
       "    [12.776946558894407, 52.60583512789748]]]},\n",
       " 'DATA_SOURCE_ELEVATION': 'GLS2000',\n",
       " 'WRS_TYPE': 2,\n",
       " 'REFLECTANCE_ADD_BAND_1': -0.2,\n",
       " 'REFLECTANCE_ADD_BAND_2': -0.2,\n",
       " 'DATUM': 'WGS84',\n",
       " 'REFLECTANCE_ADD_BAND_3': -0.2,\n",
       " 'REFLECTANCE_ADD_BAND_4': -0.2,\n",
       " 'REFLECTANCE_ADD_BAND_5': -0.2,\n",
       " 'REFLECTANCE_ADD_BAND_6': -0.2,\n",
       " 'REFLECTANCE_ADD_BAND_7': -0.2,\n",
       " 'REFLECTIVE_SAMPLES': 8051,\n",
       " 'GROUND_CONTROL_POINTS_VERSION': 5,\n",
       " 'SUN_AZIMUTH': 150.25124739,\n",
       " 'DATA_SOURCE_TIRS_STRAY_LIGHT_CORRECTION': 'TIRS',\n",
       " 'UTM_ZONE': 33,\n",
       " 'DATE_ACQUIRED': '2015-06-29',\n",
       " 'ELLIPSOID': 'WGS84',\n",
       " 'system:time_end': 1435572116023,\n",
       " 'DATA_SOURCE_PRESSURE': 'Calculated',\n",
       " 'LANDSAT_PRODUCT_ID': 'LC08_L2SP_193023_20150629_20200909_02_T1',\n",
       " 'STATION_ID': 'LGN',\n",
       " 'TEMPERATURE_ADD_BAND_ST_B10': 149,\n",
       " 'DATA_SOURCE_REANALYSIS': 'GEOS-5 FP-IT',\n",
       " 'REFLECTANCE_MULT_BAND_7': 2.75e-05,\n",
       " 'system:time_start': 1435572116023,\n",
       " 'REFLECTANCE_MULT_BAND_6': 2.75e-05,\n",
       " 'L1_PROCESSING_LEVEL': 'L1TP',\n",
       " 'PROCESSING_SOFTWARE_VERSION': 'LPGS_15.3.1c',\n",
       " 'L1_DATE_PRODUCT_GENERATED': '2020-09-09T05:24:31Z',\n",
       " 'ORIENTATION': 'NORTH_UP',\n",
       " 'REFLECTANCE_MULT_BAND_1': 2.75e-05,\n",
       " 'WRS_ROW': 23,\n",
       " 'REFLECTANCE_MULT_BAND_3': 2.75e-05,\n",
       " 'REFLECTANCE_MULT_BAND_2': 2.75e-05,\n",
       " 'TARGET_WRS_ROW': 23,\n",
       " 'REFLECTANCE_MULT_BAND_5': 2.75e-05,\n",
       " 'REFLECTANCE_MULT_BAND_4': 2.75e-05,\n",
       " 'THERMAL_LINES': 8141,\n",
       " 'TIRS_SSM_POSITION_STATUS': 'NOMINAL',\n",
       " 'GRID_CELL_SIZE_THERMAL': 30,\n",
       " 'IMAGE_QUALITY_TIRS': 9,\n",
       " 'TRUNCATION_OLI': 'UPPER',\n",
       " 'NADIR_OFFNADIR': 'NADIR',\n",
       " 'CLOUD_COVER': 20.28,\n",
       " 'REQUEST_ID': 'L2',\n",
       " 'EARTH_SUN_DISTANCE': 1.0165844,\n",
       " 'GEOMETRIC_RMSE_VERIFY': 4.454,\n",
       " 'TIRS_SSM_MODEL': 'ACTUAL',\n",
       " 'COLLECTION_CATEGORY': 'T1',\n",
       " 'SCENE_CENTER_TIME': '10:01:56.0236230Z',\n",
       " 'GRID_CELL_SIZE_REFLECTIVE': 30,\n",
       " 'SUN_ELEVATION': 57.50067731,\n",
       " 'ALGORITHM_SOURCE_SURFACE_TEMPERATURE': 'st_1.3.0',\n",
       " 'TEMPERATURE_MAXIMUM_BAND_ST_B10': 372.999941,\n",
       " 'CLOUD_COVER_LAND': 20.25,\n",
       " 'GEOMETRIC_RMSE_MODEL': 8.105,\n",
       " 'ROLL_ANGLE': -0.001,\n",
       " 'COLLECTION_NUMBER': 2,\n",
       " 'DATE_PRODUCT_GENERATED': 1599629682000,\n",
       " 'L1_REQUEST_ID': 'L2',\n",
       " 'DATA_SOURCE_OZONE': 'MODIS',\n",
       " 'SATURATION_BAND_1': 'Y',\n",
       " 'DATA_SOURCE_WATER_VAPOR': 'MODIS',\n",
       " 'SATURATION_BAND_2': 'Y',\n",
       " 'SATURATION_BAND_3': 'Y',\n",
       " 'IMAGE_QUALITY_OLI': 9,\n",
       " 'SATURATION_BAND_4': 'Y',\n",
       " 'LANDSAT_SCENE_ID': 'LC81930232015180LGN01',\n",
       " 'SATURATION_BAND_5': 'Y',\n",
       " 'MAP_PROJECTION': 'UTM',\n",
       " 'SATURATION_BAND_6': 'Y',\n",
       " 'SENSOR_ID': 'OLI_TIRS',\n",
       " 'SATURATION_BAND_7': 'Y',\n",
       " 'SATURATION_BAND_8': 'N',\n",
       " 'WRS_PATH': 193,\n",
       " 'SATURATION_BAND_9': 'N',\n",
       " 'TARGET_WRS_PATH': 193,\n",
       " 'L1_PROCESSING_SOFTWARE_VERSION': 'LPGS_15.3.1c',\n",
       " 'TEMPERATURE_MULT_BAND_ST_B10': 0.00341802,\n",
       " 'L1_LANDSAT_PRODUCT_ID': 'LC08_L1TP_193023_20150629_20200909_02_T1',\n",
       " 'PROCESSING_LEVEL': 'L2SP',\n",
       " 'ALGORITHM_SOURCE_SURFACE_REFLECTANCE': 'LaSRC_1.5.0',\n",
       " 'GROUND_CONTROL_POINTS_MODEL': 481,\n",
       " 'SPACECRAFT_ID': 'LANDSAT_8',\n",
       " 'TEMPERATURE_MINIMUM_BAND_ST_B10': 149.003418,\n",
       " 'GEOMETRIC_RMSE_MODEL_Y': 6.189,\n",
       " 'REFLECTIVE_LINES': 8141,\n",
       " 'GEOMETRIC_RMSE_MODEL_X': 5.232,\n",
       " 'THERMAL_SAMPLES': 8051,\n",
       " 'system:asset_size': 973602162,\n",
       " 'DATA_SOURCE_AIR_TEMPERATURE': 'MODIS',\n",
       " 'GROUND_CONTROL_POINTS_VERIFY': 106,\n",
       " 'system:index': 'LC08_193023_20150629'}"
      ]
     },
     "execution_count": 71,
     "metadata": {},
     "output_type": "execute_result"
    }
   ],
   "source": [
    "lc8_cliped_w_ratio.first().getInfo()['properties']"
   ]
  },
  {
   "cell_type": "code",
   "execution_count": 72,
   "metadata": {},
   "outputs": [
    {
     "data": {
      "text/plain": [
       "[0.05371925070194308,\n",
       " 0.8661333035469112,\n",
       " 0.14321737297069365,\n",
       " 0.8212116557992768,\n",
       " 0,\n",
       " 0.1265317900243411,\n",
       " 0,\n",
       " 0.14024564489930796,\n",
       " 0,\n",
       " 0.30371808661721617,\n",
       " 0.9698194737405765,\n",
       " 0.49162091813690584,\n",
       " 0.8149353358364625,\n",
       " 0,\n",
       " 0.970895088028087,\n",
       " 0.40031383724232944,\n",
       " 0.8803283953030537]"
      ]
     },
     "execution_count": 72,
     "metadata": {},
     "output_type": "execute_result"
    }
   ],
   "source": [
    "lc8_cliped_w_ratio.aggregate_array('roi_cloud_ratio').getInfo()"
   ]
  },
  {
   "cell_type": "code",
   "execution_count": 73,
   "metadata": {},
   "outputs": [],
   "source": [
    "# picking images where `roi_cloud_ratio` is less than 0.1\n",
    "lc8_cliped_w_ratio_filtered=lc8_cliped_w_ratio.filter(ee.Filter.lt('roi_cloud_ratio',0.1)) "
   ]
  },
  {
   "cell_type": "code",
   "execution_count": 74,
   "metadata": {},
   "outputs": [
    {
     "data": {
      "text/plain": [
       "[0.05371925070194308, 0, 0, 0, 0]"
      ]
     },
     "execution_count": 74,
     "metadata": {},
     "output_type": "execute_result"
    }
   ],
   "source": [
    "lc8_cliped_w_ratio_filtered.aggregate_array('roi_cloud_ratio').getInfo()"
   ]
  },
  {
   "cell_type": "code",
   "execution_count": 75,
   "metadata": {},
   "outputs": [],
   "source": [
    "from typing import List\n",
    "def get_mean_ndvi(image, bands: List[str] = ['SR_B5', 'SR_B4']):\n",
    "    \"\"\"\n",
    "    Returns the mean NDVI of the given image.\n",
    "    \"\"\"\n",
    "    # Compute NDVI\n",
    "    ndvi = image.normalizedDifference(bands)\n",
    "    \n",
    "    # Compute mean of NDVI\n",
    "    mean_ndvi = ndvi.reduceRegion(\n",
    "        reducer=ee.Reducer.mean(),\n",
    "        geometry=image.geometry(),\n",
    "        scale=image.projection().nominalScale(),\n",
    "        maxPixels=1e13\n",
    "    ).get('nd')\n",
    "    \n",
    "    return mean_ndvi"
   ]
  },
  {
   "cell_type": "code",
   "execution_count": 76,
   "metadata": {},
   "outputs": [
    {
     "name": "stdout",
     "output_type": "stream",
     "text": [
      "5\n",
      "5\n"
     ]
    }
   ],
   "source": [
    "print(lc8_cliped_w_ratio_filtered.size().getInfo())\n",
    "lc8_cliped = lc8_cliped_w_ratio_filtered.map(lambda img: img.clip(roi))\n",
    "lc8_cliped_w_mean_ndvi = lc8_cliped.map(lambda img: img.set('roi_mean_ndvi', get_mean_ndvi(img)))\n",
    "print(lc8_cliped_w_mean_ndvi.size().getInfo())"
   ]
  },
  {
   "cell_type": "code",
   "execution_count": 77,
   "metadata": {},
   "outputs": [
    {
     "data": {
      "text/plain": [
       "[0.30064084727372414,\n",
       " 0.23953914383505753,\n",
       " 0.12796924562306547,\n",
       " 0.18674043965551856,\n",
       " 0.4198177989192243]"
      ]
     },
     "execution_count": 77,
     "metadata": {},
     "output_type": "execute_result"
    }
   ],
   "source": [
    "lc8_cliped_w_mean_ndvi.aggregate_array('roi_mean_ndvi').getInfo()"
   ]
  },
  {
   "cell_type": "code",
   "execution_count": 78,
   "metadata": {},
   "outputs": [
    {
     "name": "stdout",
     "output_type": "stream",
     "text": [
      "0.4198177989192243\n",
      "0.12796924562306547\n"
     ]
    },
    {
     "data": {
      "application/vnd.jupyter.widget-view+json": {
       "model_id": "97beaa68b13d4dffb0e7e8dd1b760381",
       "version_major": 2,
       "version_minor": 0
      },
      "text/plain": [
       "Map(center=[20, 0], controls=(WidgetControl(options=['position', 'transparent_bg'], widget=HBox(children=(Togg…"
      ]
     },
     "metadata": {},
     "output_type": "display_data"
    }
   ],
   "source": [
    "Map = geemap.Map()\n",
    "# sort lc8_cliped_w_mean_ndvi based on roi_mean_ndvi\n",
    "lc8_cliped_w_mean_ndvi_sorted_ascending = lc8_cliped_w_mean_ndvi.sort('roi_mean_ndvi', False)\n",
    "print(lc8_cliped_w_mean_ndvi_sorted_ascending.first().getInfo()['properties']['roi_mean_ndvi'])\n",
    "lc8_cliped_w_mean_ndvi_sorted_descending = lc8_cliped_w_mean_ndvi.sort('roi_mean_ndvi', True)\n",
    "print(lc8_cliped_w_mean_ndvi_sorted_descending.first().getInfo()['properties']['roi_mean_ndvi'])\n",
    "visualization = {\n",
    "  'bands': ['SR_B4', 'SR_B3', 'SR_B2'],\n",
    "\n",
    "}\n",
    "Map.addLayer(lc8_cliped_w_mean_ndvi_sorted_ascending.first(), visualization, 'highest mean NDVI')\n",
    "\n",
    "Map.addLayer(lc8_cliped_w_mean_ndvi_sorted_descending.first(), visualization, 'image with lowest mean NDVI')\n",
    "\n",
    "\n",
    "Map.centerObject(roi)\n",
    "Map"
   ]
  },
  {
   "cell_type": "code",
   "execution_count": 86,
   "metadata": {},
   "outputs": [
    {
     "data": {
      "text/plain": [
       "[0.12796924562306547,\n",
       " 0.18674043965551856,\n",
       " 0.23953914383505753,\n",
       " 0.30064084727372414,\n",
       " 0.4198177989192243]"
      ]
     },
     "execution_count": 86,
     "metadata": {},
     "output_type": "execute_result"
    }
   ],
   "source": [
    "lc8_cliped_w_mean_ndvi_sorted_descending.aggregate_array('roi_mean_ndvi').getInfo()"
   ]
  },
  {
   "cell_type": "code",
   "execution_count": 101,
   "metadata": {},
   "outputs": [],
   "source": [
    "def get_null_pixel_ratio(image,roi):\n",
    "    \"\"\"\n",
    "    Returns the ratio of null pixels to all of the pixels in an ee.Image.\n",
    "\n",
    "    Parameters:\n",
    "    -----------\n",
    "    image : ee.Image\n",
    "        The image to compute the ratio for.\n",
    "\n",
    "    Returns:\n",
    "    --------\n",
    "    null_ratio : float\n",
    "        The ratio of null pixels to all of the pixels in the image.\n",
    "\n",
    "    \"\"\"\n",
    "    # Count the number of null pixels in the image\n",
    "    mask = image.mask().clip(roi)\n",
    "    null_pixels = mask.reduceRegion(reducer=ee.Reducer.sum(), geometry=roi, scale=image.projection().nominalScale()).values().get(0)\n",
    "    \n",
    "    # Count the total number of pixels in the image\n",
    "    total_pixels = image.select(0).reduceRegion(reducer=ee.Reducer.count(), geometry=roi, scale=image.projection().nominalScale()).values().get(0)\n",
    "    \n",
    "    # Compute the ratio of null pixels to all of the pixels\n",
    "    null_ratio = ee.Number(null_pixels).divide(total_pixels)\n",
    "    \n",
    "    return null_ratio.getInfo()"
   ]
  },
  {
   "cell_type": "code",
   "execution_count": 103,
   "metadata": {},
   "outputs": [],
   "source": [
    "def is_col_empty(im_collection):\n",
    "  '''if collection is empty returns `True`, if has vlues returns `False`'''\n",
    "  dates = im_collection.aggregate_array('system:time_start').getInfo()\n",
    "  if dates:\n",
    "    return False\n",
    "  else:\n",
    "    return True"
   ]
  },
  {
   "cell_type": "code",
   "execution_count": 104,
   "metadata": {},
   "outputs": [],
   "source": [
    "def dict_to_int(dic):\n",
    "  pix_num = list(dic.items())[0][1] \n",
    "  return pix_num"
   ]
  },
  {
   "cell_type": "code",
   "execution_count": 115,
   "metadata": {},
   "outputs": [],
   "source": [
    "def mosaic_covers_roi(imgecollection, roi, ref_band_name = 0,acceptance_rate = 0.95,scale = 100 , optimum_pix_num = 10000):\n",
    "  '''\n",
    "  the input is an image collection that has beed filterd by date and boundry\n",
    "\n",
    "  Returns\n",
    "  ---\n",
    "  *  `True`  if the ratio of image to whole area is bigger that acceptance rate\n",
    "  *  `False` the collection is empy or the ratio of image to whole area is smaller that acceptance rate\n",
    "  '''\n",
    "  if is_col_empty(imgecollection): # first we check if collection is not empty\n",
    "    print('Collection was empty!')\n",
    "    return False\n",
    "\n",
    "\n",
    "  img = imgecollection.first().clip(roi).select(ref_band_name) # convertin image to mosaic and clip it by roi\n",
    "  mask = img.mask().clip(roi) # create the mask and clip it by roi - clip is important beucase mask convers the whole globe\n",
    "\n",
    "  img_pix_dict = img.reduceRegion(reducer=ee.Reducer.count(),geometry= roi,scale=scale).getInfo() # counting pixels\n",
    "  msk_pix_dict = mask.reduceRegion(reducer=ee.Reducer.count(),geometry= roi,scale=scale).getInfo()\n",
    "\n",
    "  img_pix_int = dict_to_int(img_pix_dict) # count() output is a dict , we need numbers \n",
    "  msk_pix_int = dict_to_int(msk_pix_dict)\n",
    "\n",
    " # if we chose the scale too high it the reuslat woudlnt be acurate, so we worte this functino as a \n",
    " # recursive function, so it comes back and devides sacle by a factor of 10 and tries again\n",
    "  if msk_pix_int <= optimum_pix_num:\n",
    "    print('WARNING: low pixel nubmer - recurse activated - scale droped to ',round(scale/10))\n",
    "    return mosaic_covers_roi(imgecollection, roi, ref_band_name, acceptance_rate,scale = round(scale/10))  # the return is crosial for a recursive func, i missed it the first time\n",
    "  else:\n",
    "    print(f'Mosiac Covers {(img_pix_int/msk_pix_int) * 100} percent of the roi',' - detail: ',f'Image Pixels = {img_pix_int} / All Pixels = {msk_pix_int}')\n",
    "    #print(f'Image Pixels = {img_pix_int} / All Pixels = {msk_pix_int}')\n",
    "    if img_pix_int >= acceptance_rate * msk_pix_int: \n",
    "      print('Mosaic Coverege Accepted')\n",
    "      return True\n",
    "    else:\n",
    "      print('Mosaic Coverege Not Accepted')\n",
    "      return False"
   ]
  },
  {
   "cell_type": "code",
   "execution_count": 116,
   "metadata": {},
   "outputs": [
    {
     "name": "stdout",
     "output_type": "stream",
     "text": [
      "WARNING: low pixel nubmer - recurse activated - scale droped to  10\n",
      "Mosiac Covers 28.892512569642616 percent of the roi  - detail:  Image Pixels = 10631 / All Pixels = 36795\n",
      "Mosaic Coverege Not Accepted\n"
     ]
    },
    {
     "data": {
      "text/plain": [
       "False"
      ]
     },
     "execution_count": 116,
     "metadata": {},
     "output_type": "execute_result"
    }
   ],
   "source": [
    "mosaic_covers_roi(lc8_cliped_w_mean_ndvi_sorted_descending,roi)"
   ]
  },
  {
   "cell_type": "code",
   "execution_count": 100,
   "metadata": {},
   "outputs": [
    {
     "ename": "EEException",
     "evalue": "A mapped function's arguments cannot be used in client-side operations",
     "output_type": "error",
     "traceback": [
      "\u001b[1;31m---------------------------------------------------------------------------\u001b[0m",
      "\u001b[1;31mEEException\u001b[0m                               Traceback (most recent call last)",
      "Cell \u001b[1;32mIn[100], line 1\u001b[0m\n\u001b[1;32m----> 1\u001b[0m lc8_cliped_w_mean_ndvi_sorted_descending\u001b[39m.\u001b[39;49mmap(\u001b[39mlambda\u001b[39;49;00m img: img\u001b[39m.\u001b[39;49mset(\u001b[39m'\u001b[39;49m\u001b[39mnull_pixel_ratio\u001b[39;49m\u001b[39m'\u001b[39;49m, get_null_pixel_ratio(img,roi)))\n",
      "File \u001b[1;32mc:\\Users\\moi3n\\miniconda3\\envs\\geemap\\lib\\site-packages\\ee\\collection.py:204\u001b[0m, in \u001b[0;36mCollection.map\u001b[1;34m(self, algorithm, opt_dropNulls)\u001b[0m\n\u001b[0;32m    202\u001b[0m element_type \u001b[39m=\u001b[39m \u001b[39mself\u001b[39m\u001b[39m.\u001b[39melementType()\n\u001b[0;32m    203\u001b[0m with_cast \u001b[39m=\u001b[39m \u001b[39mlambda\u001b[39;00m e: algorithm(element_type(e))\n\u001b[1;32m--> 204\u001b[0m \u001b[39mreturn\u001b[39;00m \u001b[39mself\u001b[39m\u001b[39m.\u001b[39m_cast(apifunction\u001b[39m.\u001b[39;49mApiFunction\u001b[39m.\u001b[39;49mcall_(\n\u001b[0;32m    205\u001b[0m     \u001b[39m'\u001b[39;49m\u001b[39mCollection.map\u001b[39;49m\u001b[39m'\u001b[39;49m, \u001b[39mself\u001b[39;49m, with_cast, opt_dropNulls))\n",
      "File \u001b[1;32mc:\\Users\\moi3n\\miniconda3\\envs\\geemap\\lib\\site-packages\\ee\\apifunction.py:81\u001b[0m, in \u001b[0;36mApiFunction.call_\u001b[1;34m(cls, name, *args, **kwargs)\u001b[0m\n\u001b[0;32m     68\u001b[0m \u001b[39m@classmethod\u001b[39m\n\u001b[0;32m     69\u001b[0m \u001b[39mdef\u001b[39;00m \u001b[39mcall_\u001b[39m(\u001b[39mcls\u001b[39m, name, \u001b[39m*\u001b[39margs, \u001b[39m*\u001b[39m\u001b[39m*\u001b[39mkwargs):\n\u001b[0;32m     70\u001b[0m \u001b[39m  \u001b[39m\u001b[39m\"\"\"Call a named API function with positional and keyword arguments.\u001b[39;00m\n\u001b[0;32m     71\u001b[0m \n\u001b[0;32m     72\u001b[0m \u001b[39m  Args:\u001b[39;00m\n\u001b[1;32m   (...)\u001b[0m\n\u001b[0;32m     79\u001b[0m \u001b[39m    a recognized return type, the returned value will be cast to that type.\u001b[39;00m\n\u001b[0;32m     80\u001b[0m \u001b[39m  \"\"\"\u001b[39;00m\n\u001b[1;32m---> 81\u001b[0m   \u001b[39mreturn\u001b[39;00m \u001b[39mcls\u001b[39m\u001b[39m.\u001b[39mlookup(name)\u001b[39m.\u001b[39mcall(\u001b[39m*\u001b[39margs, \u001b[39m*\u001b[39m\u001b[39m*\u001b[39mkwargs)\n",
      "File \u001b[1;32mc:\\Users\\moi3n\\miniconda3\\envs\\geemap\\lib\\site-packages\\ee\\function.py:67\u001b[0m, in \u001b[0;36mFunction.call\u001b[1;34m(self, *args, **kwargs)\u001b[0m\n\u001b[0;32m     55\u001b[0m \u001b[39mdef\u001b[39;00m \u001b[39mcall\u001b[39m(\u001b[39mself\u001b[39m, \u001b[39m*\u001b[39margs, \u001b[39m*\u001b[39m\u001b[39m*\u001b[39mkwargs):\n\u001b[0;32m     56\u001b[0m \u001b[39m  \u001b[39m\u001b[39m\"\"\"Calls the function with the given positional and keyword arguments.\u001b[39;00m\n\u001b[0;32m     57\u001b[0m \n\u001b[0;32m     58\u001b[0m \u001b[39m  Args:\u001b[39;00m\n\u001b[1;32m   (...)\u001b[0m\n\u001b[0;32m     65\u001b[0m \u001b[39m    to that type.\u001b[39;00m\n\u001b[0;32m     66\u001b[0m \u001b[39m  \"\"\"\u001b[39;00m\n\u001b[1;32m---> 67\u001b[0m   \u001b[39mreturn\u001b[39;00m \u001b[39mself\u001b[39;49m\u001b[39m.\u001b[39;49mapply(\u001b[39mself\u001b[39;49m\u001b[39m.\u001b[39;49mnameArgs(args, kwargs))\n",
      "File \u001b[1;32mc:\\Users\\moi3n\\miniconda3\\envs\\geemap\\lib\\site-packages\\ee\\function.py:80\u001b[0m, in \u001b[0;36mFunction.apply\u001b[1;34m(self, named_args)\u001b[0m\n\u001b[0;32m     69\u001b[0m \u001b[39mdef\u001b[39;00m \u001b[39mapply\u001b[39m(\u001b[39mself\u001b[39m, named_args):\n\u001b[0;32m     70\u001b[0m \u001b[39m  \u001b[39m\u001b[39m\"\"\"Calls the function with a dictionary of named arguments.\u001b[39;00m\n\u001b[0;32m     71\u001b[0m \n\u001b[0;32m     72\u001b[0m \u001b[39m  Args:\u001b[39;00m\n\u001b[1;32m   (...)\u001b[0m\n\u001b[0;32m     78\u001b[0m \u001b[39m    to that type.\u001b[39;00m\n\u001b[0;32m     79\u001b[0m \u001b[39m  \"\"\"\u001b[39;00m\n\u001b[1;32m---> 80\u001b[0m   result \u001b[39m=\u001b[39m computedobject\u001b[39m.\u001b[39mComputedObject(\u001b[39mself\u001b[39m, \u001b[39mself\u001b[39;49m\u001b[39m.\u001b[39;49mpromoteArgs(named_args))\n\u001b[0;32m     81\u001b[0m   \u001b[39mreturn\u001b[39;00m Function\u001b[39m.\u001b[39m_promoter(result, \u001b[39mself\u001b[39m\u001b[39m.\u001b[39mgetReturnType())\n",
      "File \u001b[1;32mc:\\Users\\moi3n\\miniconda3\\envs\\geemap\\lib\\site-packages\\ee\\function.py:107\u001b[0m, in \u001b[0;36mFunction.promoteArgs\u001b[1;34m(self, args)\u001b[0m\n\u001b[0;32m    105\u001b[0m name \u001b[39m=\u001b[39m spec[\u001b[39m'\u001b[39m\u001b[39mname\u001b[39m\u001b[39m'\u001b[39m]\n\u001b[0;32m    106\u001b[0m \u001b[39mif\u001b[39;00m name \u001b[39min\u001b[39;00m args:\n\u001b[1;32m--> 107\u001b[0m   promoted_args[name] \u001b[39m=\u001b[39m Function\u001b[39m.\u001b[39;49m_promoter(args[name], spec[\u001b[39m'\u001b[39;49m\u001b[39mtype\u001b[39;49m\u001b[39m'\u001b[39;49m])\n\u001b[0;32m    108\u001b[0m \u001b[39melif\u001b[39;00m \u001b[39mnot\u001b[39;00m spec\u001b[39m.\u001b[39mget(\u001b[39m'\u001b[39m\u001b[39moptional\u001b[39m\u001b[39m'\u001b[39m):\n\u001b[0;32m    109\u001b[0m   \u001b[39mraise\u001b[39;00m ee_exception\u001b[39m.\u001b[39mEEException(\n\u001b[0;32m    110\u001b[0m       \u001b[39m'\u001b[39m\u001b[39mRequired argument (\u001b[39m\u001b[39m%s\u001b[39;00m\u001b[39m) missing to function: \u001b[39m\u001b[39m%s\u001b[39;00m\u001b[39m'\u001b[39m\n\u001b[0;32m    111\u001b[0m       \u001b[39m%\u001b[39m (name, \u001b[39mself\u001b[39m\u001b[39m.\u001b[39mname))\n",
      "File \u001b[1;32mc:\\Users\\moi3n\\miniconda3\\envs\\geemap\\lib\\site-packages\\ee\\__init__.py:257\u001b[0m, in \u001b[0;36m_Promote\u001b[1;34m(arg, klass)\u001b[0m\n\u001b[0;32m    254\u001b[0m \u001b[39melif\u001b[39;00m callable(arg):\n\u001b[0;32m    255\u001b[0m   \u001b[39m# A native function that needs to be wrapped.\u001b[39;00m\n\u001b[0;32m    256\u001b[0m   args_count \u001b[39m=\u001b[39m \u001b[39mlen\u001b[39m(inspect\u001b[39m.\u001b[39mgetfullargspec(arg)\u001b[39m.\u001b[39margs)\n\u001b[1;32m--> 257\u001b[0m   \u001b[39mreturn\u001b[39;00m CustomFunction\u001b[39m.\u001b[39;49mcreate(arg, \u001b[39m'\u001b[39;49m\u001b[39mObject\u001b[39;49m\u001b[39m'\u001b[39;49m, [\u001b[39m'\u001b[39;49m\u001b[39mObject\u001b[39;49m\u001b[39m'\u001b[39;49m] \u001b[39m*\u001b[39;49m args_count)\n\u001b[0;32m    258\u001b[0m \u001b[39melif\u001b[39;00m \u001b[39misinstance\u001b[39m(arg, Encodable):\n\u001b[0;32m    259\u001b[0m   \u001b[39m# An ee.Function or a computed function like the return value of\u001b[39;00m\n\u001b[0;32m    260\u001b[0m   \u001b[39m# Image.parseExpression().\u001b[39;00m\n\u001b[0;32m    261\u001b[0m   \u001b[39mreturn\u001b[39;00m arg\n",
      "File \u001b[1;32mc:\\Users\\moi3n\\miniconda3\\envs\\geemap\\lib\\site-packages\\ee\\customfunction.py:124\u001b[0m, in \u001b[0;36mCustomFunction.create\u001b[1;34m(func, return_type, arg_types)\u001b[0m\n\u001b[0;32m    118\u001b[0m args \u001b[39m=\u001b[39m [{\u001b[39m'\u001b[39m\u001b[39mname\u001b[39m\u001b[39m'\u001b[39m: \u001b[39mNone\u001b[39;00m, \u001b[39m'\u001b[39m\u001b[39mtype\u001b[39m\u001b[39m'\u001b[39m: StringifyType(i)} \u001b[39mfor\u001b[39;00m i \u001b[39min\u001b[39;00m arg_types]\n\u001b[0;32m    119\u001b[0m signature \u001b[39m=\u001b[39m {\n\u001b[0;32m    120\u001b[0m     \u001b[39m'\u001b[39m\u001b[39mname\u001b[39m\u001b[39m'\u001b[39m: \u001b[39m'\u001b[39m\u001b[39m'\u001b[39m,\n\u001b[0;32m    121\u001b[0m     \u001b[39m'\u001b[39m\u001b[39mreturns\u001b[39m\u001b[39m'\u001b[39m: StringifyType(return_type),\n\u001b[0;32m    122\u001b[0m     \u001b[39m'\u001b[39m\u001b[39margs\u001b[39m\u001b[39m'\u001b[39m: args\n\u001b[0;32m    123\u001b[0m }\n\u001b[1;32m--> 124\u001b[0m \u001b[39mreturn\u001b[39;00m CustomFunction(signature, func)\n",
      "File \u001b[1;32mc:\\Users\\moi3n\\miniconda3\\envs\\geemap\\lib\\site-packages\\ee\\customfunction.py:42\u001b[0m, in \u001b[0;36mCustomFunction.__init__\u001b[1;34m(self, signature, body)\u001b[0m\n\u001b[0;32m     28\u001b[0m \u001b[39m\u001b[39m\u001b[39m\"\"\"Creates a function defined by a given expression with unbound variables.\u001b[39;00m\n\u001b[0;32m     29\u001b[0m \n\u001b[0;32m     30\u001b[0m \u001b[39mThe expression is created by evaluating the given function\u001b[39;00m\n\u001b[1;32m   (...)\u001b[0m\n\u001b[0;32m     37\u001b[0m \u001b[39m  body: The Python function to evaluate.\u001b[39;00m\n\u001b[0;32m     38\u001b[0m \u001b[39m\"\"\"\u001b[39;00m\n\u001b[0;32m     39\u001b[0m variables \u001b[39m=\u001b[39m [CustomFunction\u001b[39m.\u001b[39mvariable(arg[\u001b[39m'\u001b[39m\u001b[39mtype\u001b[39m\u001b[39m'\u001b[39m], arg[\u001b[39m'\u001b[39m\u001b[39mname\u001b[39m\u001b[39m'\u001b[39m])\n\u001b[0;32m     40\u001b[0m              \u001b[39mfor\u001b[39;00m arg \u001b[39min\u001b[39;00m signature[\u001b[39m'\u001b[39m\u001b[39margs\u001b[39m\u001b[39m'\u001b[39m]]\n\u001b[1;32m---> 42\u001b[0m \u001b[39mif\u001b[39;00m body(\u001b[39m*\u001b[39;49mvariables) \u001b[39mis\u001b[39;00m \u001b[39mNone\u001b[39;00m:\n\u001b[0;32m     43\u001b[0m   \u001b[39mraise\u001b[39;00m ee_exception\u001b[39m.\u001b[39mEEException(\u001b[39m'\u001b[39m\u001b[39mUser-defined methods must return a value\u001b[39m\u001b[39m'\u001b[39m)\n\u001b[0;32m     45\u001b[0m \u001b[39m# The signature of the function.\u001b[39;00m\n",
      "File \u001b[1;32mc:\\Users\\moi3n\\miniconda3\\envs\\geemap\\lib\\site-packages\\ee\\collection.py:203\u001b[0m, in \u001b[0;36mCollection.map.<locals>.<lambda>\u001b[1;34m(e)\u001b[0m\n\u001b[0;32m    185\u001b[0m \u001b[39m\u001b[39m\u001b[39m\"\"\"Maps an algorithm over a collection.\u001b[39;00m\n\u001b[0;32m    186\u001b[0m \n\u001b[0;32m    187\u001b[0m \u001b[39mArgs:\u001b[39;00m\n\u001b[1;32m   (...)\u001b[0m\n\u001b[0;32m    200\u001b[0m \u001b[39m  ee_exception.EEException: if algorithm is not a function.\u001b[39;00m\n\u001b[0;32m    201\u001b[0m \u001b[39m\"\"\"\u001b[39;00m\n\u001b[0;32m    202\u001b[0m element_type \u001b[39m=\u001b[39m \u001b[39mself\u001b[39m\u001b[39m.\u001b[39melementType()\n\u001b[1;32m--> 203\u001b[0m with_cast \u001b[39m=\u001b[39m \u001b[39mlambda\u001b[39;00m e: algorithm(element_type(e))\n\u001b[0;32m    204\u001b[0m \u001b[39mreturn\u001b[39;00m \u001b[39mself\u001b[39m\u001b[39m.\u001b[39m_cast(apifunction\u001b[39m.\u001b[39mApiFunction\u001b[39m.\u001b[39mcall_(\n\u001b[0;32m    205\u001b[0m     \u001b[39m'\u001b[39m\u001b[39mCollection.map\u001b[39m\u001b[39m'\u001b[39m, \u001b[39mself\u001b[39m, with_cast, opt_dropNulls))\n",
      "Cell \u001b[1;32mIn[100], line 1\u001b[0m, in \u001b[0;36m<lambda>\u001b[1;34m(img)\u001b[0m\n\u001b[1;32m----> 1\u001b[0m lc8_cliped_w_mean_ndvi_sorted_descending\u001b[39m.\u001b[39mmap(\u001b[39mlambda\u001b[39;00m img: img\u001b[39m.\u001b[39mset(\u001b[39m'\u001b[39m\u001b[39mnull_pixel_ratio\u001b[39m\u001b[39m'\u001b[39m, get_null_pixel_ratio(img,roi)))\n",
      "Cell \u001b[1;32mIn[96], line 26\u001b[0m, in \u001b[0;36mget_null_pixel_ratio\u001b[1;34m(image, roi)\u001b[0m\n\u001b[0;32m     23\u001b[0m \u001b[39m# Compute the ratio of null pixels to all of the pixels\u001b[39;00m\n\u001b[0;32m     24\u001b[0m null_ratio \u001b[39m=\u001b[39m ee\u001b[39m.\u001b[39mNumber(null_pixels)\u001b[39m.\u001b[39mdivide(total_pixels)\n\u001b[1;32m---> 26\u001b[0m \u001b[39mreturn\u001b[39;00m null_ratio\u001b[39m.\u001b[39;49mgetInfo()\n",
      "File \u001b[1;32mc:\\Users\\moi3n\\miniconda3\\envs\\geemap\\lib\\site-packages\\ee\\computedobject.py:96\u001b[0m, in \u001b[0;36mComputedObject.getInfo\u001b[1;34m(self)\u001b[0m\n\u001b[0;32m     90\u001b[0m \u001b[39mdef\u001b[39;00m \u001b[39mgetInfo\u001b[39m(\u001b[39mself\u001b[39m):\n\u001b[0;32m     91\u001b[0m \u001b[39m  \u001b[39m\u001b[39m\"\"\"Fetch and return information about this object.\u001b[39;00m\n\u001b[0;32m     92\u001b[0m \n\u001b[0;32m     93\u001b[0m \u001b[39m  Returns:\u001b[39;00m\n\u001b[0;32m     94\u001b[0m \u001b[39m    The object can evaluate to anything.\u001b[39;00m\n\u001b[0;32m     95\u001b[0m \u001b[39m  \"\"\"\u001b[39;00m\n\u001b[1;32m---> 96\u001b[0m   \u001b[39mreturn\u001b[39;00m data\u001b[39m.\u001b[39;49mcomputeValue(\u001b[39mself\u001b[39;49m)\n",
      "File \u001b[1;32mc:\\Users\\moi3n\\miniconda3\\envs\\geemap\\lib\\site-packages\\ee\\data.py:895\u001b[0m, in \u001b[0;36mcomputeValue\u001b[1;34m(obj)\u001b[0m\n\u001b[0;32m    886\u001b[0m \u001b[39mdef\u001b[39;00m \u001b[39mcomputeValue\u001b[39m(obj):\n\u001b[0;32m    887\u001b[0m \u001b[39m  \u001b[39m\u001b[39m\"\"\"Sends a request to compute a value.\u001b[39;00m\n\u001b[0;32m    888\u001b[0m \n\u001b[0;32m    889\u001b[0m \u001b[39m  Args:\u001b[39;00m\n\u001b[1;32m   (...)\u001b[0m\n\u001b[0;32m    893\u001b[0m \u001b[39m    The result of evaluating that object on the server.\u001b[39;00m\n\u001b[0;32m    894\u001b[0m \u001b[39m  \"\"\"\u001b[39;00m\n\u001b[1;32m--> 895\u001b[0m   body \u001b[39m=\u001b[39m {\u001b[39m'\u001b[39m\u001b[39mexpression\u001b[39m\u001b[39m'\u001b[39m: serializer\u001b[39m.\u001b[39;49mencode(obj, for_cloud_api\u001b[39m=\u001b[39;49m\u001b[39mTrue\u001b[39;49;00m)}\n\u001b[0;32m    896\u001b[0m   _maybe_populate_workload_tag(body)\n\u001b[0;32m    898\u001b[0m   \u001b[39mreturn\u001b[39;00m _execute_cloud_call(\n\u001b[0;32m    899\u001b[0m       _get_cloud_api_resource()\u001b[39m.\u001b[39mprojects()\u001b[39m.\u001b[39mvalue()\u001b[39m.\u001b[39mcompute(\n\u001b[0;32m    900\u001b[0m           body\u001b[39m=\u001b[39mbody,\n\u001b[0;32m    901\u001b[0m           project\u001b[39m=\u001b[39m_get_projects_path(),\n\u001b[0;32m    902\u001b[0m           prettyPrint\u001b[39m=\u001b[39m\u001b[39mFalse\u001b[39;00m))[\u001b[39m'\u001b[39m\u001b[39mresult\u001b[39m\u001b[39m'\u001b[39m]\n",
      "File \u001b[1;32mc:\\Users\\moi3n\\miniconda3\\envs\\geemap\\lib\\site-packages\\ee\\serializer.py:296\u001b[0m, in \u001b[0;36mencode\u001b[1;34m(obj, is_compound, for_cloud_api, unbound_name)\u001b[0m\n\u001b[0;32m    280\u001b[0m \u001b[39m\u001b[39m\u001b[39m\"\"\"Serialize an object to a JSON-compatible structure for API calls.\u001b[39;00m\n\u001b[0;32m    281\u001b[0m \n\u001b[0;32m    282\u001b[0m \u001b[39mArgs:\u001b[39;00m\n\u001b[1;32m   (...)\u001b[0m\n\u001b[0;32m    292\u001b[0m \u001b[39m  A JSON-compatible structure representing the input.\u001b[39;00m\n\u001b[0;32m    293\u001b[0m \u001b[39m\"\"\"\u001b[39;00m\n\u001b[0;32m    294\u001b[0m serializer \u001b[39m=\u001b[39m Serializer(\n\u001b[0;32m    295\u001b[0m     is_compound, for_cloud_api\u001b[39m=\u001b[39mfor_cloud_api, unbound_name\u001b[39m=\u001b[39munbound_name)\n\u001b[1;32m--> 296\u001b[0m \u001b[39mreturn\u001b[39;00m serializer\u001b[39m.\u001b[39;49m_encode(obj)\n",
      "File \u001b[1;32mc:\\Users\\moi3n\\miniconda3\\envs\\geemap\\lib\\site-packages\\ee\\serializer.py:79\u001b[0m, in \u001b[0;36mSerializer._encode\u001b[1;34m(self, obj)\u001b[0m\n\u001b[0;32m     70\u001b[0m \u001b[39m\u001b[39m\u001b[39m\"\"\"Encodes a top level object to be executed server-side.\u001b[39;00m\n\u001b[0;32m     71\u001b[0m \n\u001b[0;32m     72\u001b[0m \u001b[39mArgs:\u001b[39;00m\n\u001b[1;32m   (...)\u001b[0m\n\u001b[0;32m     76\u001b[0m \u001b[39m  An encoded object ready for JSON serialization.\u001b[39;00m\n\u001b[0;32m     77\u001b[0m \u001b[39m\"\"\"\u001b[39;00m\n\u001b[0;32m     78\u001b[0m \u001b[39mif\u001b[39;00m \u001b[39mself\u001b[39m\u001b[39m.\u001b[39m_for_cloud_api:\n\u001b[1;32m---> 79\u001b[0m   \u001b[39mreturn\u001b[39;00m \u001b[39mself\u001b[39;49m\u001b[39m.\u001b[39;49m_encode_for_cloud_api(obj)\n\u001b[0;32m     80\u001b[0m value \u001b[39m=\u001b[39m \u001b[39mself\u001b[39m\u001b[39m.\u001b[39m_encode_value(obj)\n\u001b[0;32m     81\u001b[0m \u001b[39mif\u001b[39;00m \u001b[39mself\u001b[39m\u001b[39m.\u001b[39m_is_compound:\n",
      "File \u001b[1;32mc:\\Users\\moi3n\\miniconda3\\envs\\geemap\\lib\\site-packages\\ee\\serializer.py:97\u001b[0m, in \u001b[0;36mSerializer._encode_for_cloud_api\u001b[1;34m(self, obj)\u001b[0m\n\u001b[0;32m     95\u001b[0m \u001b[39mdef\u001b[39;00m \u001b[39m_encode_for_cloud_api\u001b[39m(\u001b[39mself\u001b[39m, obj):\n\u001b[0;32m     96\u001b[0m \u001b[39m  \u001b[39m\u001b[39m\"\"\"Encodes an object as an Expression or quasi-Expression.\"\"\"\u001b[39;00m\n\u001b[1;32m---> 97\u001b[0m   value \u001b[39m=\u001b[39m \u001b[39mself\u001b[39;49m\u001b[39m.\u001b[39;49m_encode_cloud_object(obj)\n\u001b[0;32m     98\u001b[0m   \u001b[39mif\u001b[39;00m \u001b[39mself\u001b[39m\u001b[39m.\u001b[39m_is_compound:\n\u001b[0;32m     99\u001b[0m     \u001b[39m# Wrap the scopes and final value into an Expression.\u001b[39;00m\n\u001b[0;32m    100\u001b[0m     value \u001b[39m=\u001b[39m _ExpressionOptimizer(value, \u001b[39mself\u001b[39m\u001b[39m.\u001b[39m_scope)\u001b[39m.\u001b[39moptimize()\n",
      "File \u001b[1;32mc:\\Users\\moi3n\\miniconda3\\envs\\geemap\\lib\\site-packages\\ee\\serializer.py:219\u001b[0m, in \u001b[0;36mSerializer._encode_cloud_object\u001b[1;34m(self, obj)\u001b[0m\n\u001b[0;32m    207\u001b[0m   result \u001b[39m=\u001b[39m {\n\u001b[0;32m    208\u001b[0m       \u001b[39m'\u001b[39m\u001b[39mfunctionInvocationValue\u001b[39m\u001b[39m'\u001b[39m: {\n\u001b[0;32m    209\u001b[0m           \u001b[39m'\u001b[39m\u001b[39mfunctionName\u001b[39m\u001b[39m'\u001b[39m: \u001b[39m'\u001b[39m\u001b[39mDate\u001b[39m\u001b[39m'\u001b[39m,\n\u001b[1;32m   (...)\u001b[0m\n\u001b[0;32m    215\u001b[0m       }\n\u001b[0;32m    216\u001b[0m   }\n\u001b[0;32m    217\u001b[0m \u001b[39melif\u001b[39;00m \u001b[39misinstance\u001b[39m(obj, encodable\u001b[39m.\u001b[39mEncodable):\n\u001b[0;32m    218\u001b[0m   \u001b[39m# Some objects know how to encode themselves.\u001b[39;00m\n\u001b[1;32m--> 219\u001b[0m   result \u001b[39m=\u001b[39m obj\u001b[39m.\u001b[39;49mencode_cloud_value(\u001b[39mself\u001b[39;49m\u001b[39m.\u001b[39;49m_encode_cloud_object)\n\u001b[0;32m    220\u001b[0m \u001b[39melif\u001b[39;00m \u001b[39misinstance\u001b[39m(obj, (\u001b[39mlist\u001b[39m, \u001b[39mtuple\u001b[39m)):\n\u001b[0;32m    221\u001b[0m   \u001b[39m# Lists are encoded recursively.\u001b[39;00m\n\u001b[0;32m    222\u001b[0m   \u001b[39mif\u001b[39;00m \u001b[39mself\u001b[39m\u001b[39m.\u001b[39m_is_compound:\n",
      "File \u001b[1;32mc:\\Users\\moi3n\\miniconda3\\envs\\geemap\\lib\\site-packages\\ee\\ee_number.py:74\u001b[0m, in \u001b[0;36mNumber.encode_cloud_value\u001b[1;34m(self, opt_encoder)\u001b[0m\n\u001b[0;32m     72\u001b[0m   \u001b[39mreturn\u001b[39;00m _cloud_api_utils\u001b[39m.\u001b[39mencode_number_as_cloud_value(\u001b[39mself\u001b[39m\u001b[39m.\u001b[39m_number)\n\u001b[0;32m     73\u001b[0m \u001b[39melse\u001b[39;00m:\n\u001b[1;32m---> 74\u001b[0m   \u001b[39mreturn\u001b[39;00m \u001b[39msuper\u001b[39;49m(Number, \u001b[39mself\u001b[39;49m)\u001b[39m.\u001b[39;49mencode_cloud_value(opt_encoder)\n",
      "File \u001b[1;32mc:\\Users\\moi3n\\miniconda3\\envs\\geemap\\lib\\site-packages\\ee\\computedobject.py:150\u001b[0m, in \u001b[0;36mComputedObject.encode_cloud_value\u001b[1;34m(self, encoder)\u001b[0m\n\u001b[0;32m    148\u001b[0m   value \u001b[39m=\u001b[39m \u001b[39mself\u001b[39m\u001b[39m.\u001b[39margs[name]\n\u001b[0;32m    149\u001b[0m   \u001b[39mif\u001b[39;00m value \u001b[39mis\u001b[39;00m \u001b[39mnot\u001b[39;00m \u001b[39mNone\u001b[39;00m:\n\u001b[1;32m--> 150\u001b[0m     encoded_args[name] \u001b[39m=\u001b[39m {\u001b[39m'\u001b[39m\u001b[39mvalueReference\u001b[39m\u001b[39m'\u001b[39m: encoder(value)}\n\u001b[0;32m    151\u001b[0m invocation[\u001b[39m'\u001b[39m\u001b[39marguments\u001b[39m\u001b[39m'\u001b[39m] \u001b[39m=\u001b[39m encoded_args\n\u001b[0;32m    152\u001b[0m \u001b[39mreturn\u001b[39;00m {\u001b[39m'\u001b[39m\u001b[39mfunctionInvocationValue\u001b[39m\u001b[39m'\u001b[39m: invocation}\n",
      "File \u001b[1;32mc:\\Users\\moi3n\\miniconda3\\envs\\geemap\\lib\\site-packages\\ee\\serializer.py:219\u001b[0m, in \u001b[0;36mSerializer._encode_cloud_object\u001b[1;34m(self, obj)\u001b[0m\n\u001b[0;32m    207\u001b[0m   result \u001b[39m=\u001b[39m {\n\u001b[0;32m    208\u001b[0m       \u001b[39m'\u001b[39m\u001b[39mfunctionInvocationValue\u001b[39m\u001b[39m'\u001b[39m: {\n\u001b[0;32m    209\u001b[0m           \u001b[39m'\u001b[39m\u001b[39mfunctionName\u001b[39m\u001b[39m'\u001b[39m: \u001b[39m'\u001b[39m\u001b[39mDate\u001b[39m\u001b[39m'\u001b[39m,\n\u001b[1;32m   (...)\u001b[0m\n\u001b[0;32m    215\u001b[0m       }\n\u001b[0;32m    216\u001b[0m   }\n\u001b[0;32m    217\u001b[0m \u001b[39melif\u001b[39;00m \u001b[39misinstance\u001b[39m(obj, encodable\u001b[39m.\u001b[39mEncodable):\n\u001b[0;32m    218\u001b[0m   \u001b[39m# Some objects know how to encode themselves.\u001b[39;00m\n\u001b[1;32m--> 219\u001b[0m   result \u001b[39m=\u001b[39m obj\u001b[39m.\u001b[39;49mencode_cloud_value(\u001b[39mself\u001b[39;49m\u001b[39m.\u001b[39;49m_encode_cloud_object)\n\u001b[0;32m    220\u001b[0m \u001b[39melif\u001b[39;00m \u001b[39misinstance\u001b[39m(obj, (\u001b[39mlist\u001b[39m, \u001b[39mtuple\u001b[39m)):\n\u001b[0;32m    221\u001b[0m   \u001b[39m# Lists are encoded recursively.\u001b[39;00m\n\u001b[0;32m    222\u001b[0m   \u001b[39mif\u001b[39;00m \u001b[39mself\u001b[39m\u001b[39m.\u001b[39m_is_compound:\n",
      "File \u001b[1;32mc:\\Users\\moi3n\\miniconda3\\envs\\geemap\\lib\\site-packages\\ee\\ee_number.py:74\u001b[0m, in \u001b[0;36mNumber.encode_cloud_value\u001b[1;34m(self, opt_encoder)\u001b[0m\n\u001b[0;32m     72\u001b[0m   \u001b[39mreturn\u001b[39;00m _cloud_api_utils\u001b[39m.\u001b[39mencode_number_as_cloud_value(\u001b[39mself\u001b[39m\u001b[39m.\u001b[39m_number)\n\u001b[0;32m     73\u001b[0m \u001b[39melse\u001b[39;00m:\n\u001b[1;32m---> 74\u001b[0m   \u001b[39mreturn\u001b[39;00m \u001b[39msuper\u001b[39;49m(Number, \u001b[39mself\u001b[39;49m)\u001b[39m.\u001b[39;49mencode_cloud_value(opt_encoder)\n",
      "File \u001b[1;32mc:\\Users\\moi3n\\miniconda3\\envs\\geemap\\lib\\site-packages\\ee\\computedobject.py:150\u001b[0m, in \u001b[0;36mComputedObject.encode_cloud_value\u001b[1;34m(self, encoder)\u001b[0m\n\u001b[0;32m    148\u001b[0m   value \u001b[39m=\u001b[39m \u001b[39mself\u001b[39m\u001b[39m.\u001b[39margs[name]\n\u001b[0;32m    149\u001b[0m   \u001b[39mif\u001b[39;00m value \u001b[39mis\u001b[39;00m \u001b[39mnot\u001b[39;00m \u001b[39mNone\u001b[39;00m:\n\u001b[1;32m--> 150\u001b[0m     encoded_args[name] \u001b[39m=\u001b[39m {\u001b[39m'\u001b[39m\u001b[39mvalueReference\u001b[39m\u001b[39m'\u001b[39m: encoder(value)}\n\u001b[0;32m    151\u001b[0m invocation[\u001b[39m'\u001b[39m\u001b[39marguments\u001b[39m\u001b[39m'\u001b[39m] \u001b[39m=\u001b[39m encoded_args\n\u001b[0;32m    152\u001b[0m \u001b[39mreturn\u001b[39;00m {\u001b[39m'\u001b[39m\u001b[39mfunctionInvocationValue\u001b[39m\u001b[39m'\u001b[39m: invocation}\n",
      "File \u001b[1;32mc:\\Users\\moi3n\\miniconda3\\envs\\geemap\\lib\\site-packages\\ee\\serializer.py:219\u001b[0m, in \u001b[0;36mSerializer._encode_cloud_object\u001b[1;34m(self, obj)\u001b[0m\n\u001b[0;32m    207\u001b[0m   result \u001b[39m=\u001b[39m {\n\u001b[0;32m    208\u001b[0m       \u001b[39m'\u001b[39m\u001b[39mfunctionInvocationValue\u001b[39m\u001b[39m'\u001b[39m: {\n\u001b[0;32m    209\u001b[0m           \u001b[39m'\u001b[39m\u001b[39mfunctionName\u001b[39m\u001b[39m'\u001b[39m: \u001b[39m'\u001b[39m\u001b[39mDate\u001b[39m\u001b[39m'\u001b[39m,\n\u001b[1;32m   (...)\u001b[0m\n\u001b[0;32m    215\u001b[0m       }\n\u001b[0;32m    216\u001b[0m   }\n\u001b[0;32m    217\u001b[0m \u001b[39melif\u001b[39;00m \u001b[39misinstance\u001b[39m(obj, encodable\u001b[39m.\u001b[39mEncodable):\n\u001b[0;32m    218\u001b[0m   \u001b[39m# Some objects know how to encode themselves.\u001b[39;00m\n\u001b[1;32m--> 219\u001b[0m   result \u001b[39m=\u001b[39m obj\u001b[39m.\u001b[39;49mencode_cloud_value(\u001b[39mself\u001b[39;49m\u001b[39m.\u001b[39;49m_encode_cloud_object)\n\u001b[0;32m    220\u001b[0m \u001b[39melif\u001b[39;00m \u001b[39misinstance\u001b[39m(obj, (\u001b[39mlist\u001b[39m, \u001b[39mtuple\u001b[39m)):\n\u001b[0;32m    221\u001b[0m   \u001b[39m# Lists are encoded recursively.\u001b[39;00m\n\u001b[0;32m    222\u001b[0m   \u001b[39mif\u001b[39;00m \u001b[39mself\u001b[39m\u001b[39m.\u001b[39m_is_compound:\n",
      "File \u001b[1;32mc:\\Users\\moi3n\\miniconda3\\envs\\geemap\\lib\\site-packages\\ee\\ee_list.py:74\u001b[0m, in \u001b[0;36mList.encode_cloud_value\u001b[1;34m(self, opt_encoder)\u001b[0m\n\u001b[0;32m     72\u001b[0m   \u001b[39mreturn\u001b[39;00m {\u001b[39m'\u001b[39m\u001b[39mvalueReference\u001b[39m\u001b[39m'\u001b[39m: opt_encoder(\u001b[39mself\u001b[39m\u001b[39m.\u001b[39m_list)}\n\u001b[0;32m     73\u001b[0m \u001b[39melse\u001b[39;00m:\n\u001b[1;32m---> 74\u001b[0m   \u001b[39mreturn\u001b[39;00m \u001b[39msuper\u001b[39;49m(List, \u001b[39mself\u001b[39;49m)\u001b[39m.\u001b[39;49mencode_cloud_value(opt_encoder)\n",
      "File \u001b[1;32mc:\\Users\\moi3n\\miniconda3\\envs\\geemap\\lib\\site-packages\\ee\\computedobject.py:150\u001b[0m, in \u001b[0;36mComputedObject.encode_cloud_value\u001b[1;34m(self, encoder)\u001b[0m\n\u001b[0;32m    148\u001b[0m   value \u001b[39m=\u001b[39m \u001b[39mself\u001b[39m\u001b[39m.\u001b[39margs[name]\n\u001b[0;32m    149\u001b[0m   \u001b[39mif\u001b[39;00m value \u001b[39mis\u001b[39;00m \u001b[39mnot\u001b[39;00m \u001b[39mNone\u001b[39;00m:\n\u001b[1;32m--> 150\u001b[0m     encoded_args[name] \u001b[39m=\u001b[39m {\u001b[39m'\u001b[39m\u001b[39mvalueReference\u001b[39m\u001b[39m'\u001b[39m: encoder(value)}\n\u001b[0;32m    151\u001b[0m invocation[\u001b[39m'\u001b[39m\u001b[39marguments\u001b[39m\u001b[39m'\u001b[39m] \u001b[39m=\u001b[39m encoded_args\n\u001b[0;32m    152\u001b[0m \u001b[39mreturn\u001b[39;00m {\u001b[39m'\u001b[39m\u001b[39mfunctionInvocationValue\u001b[39m\u001b[39m'\u001b[39m: invocation}\n",
      "File \u001b[1;32mc:\\Users\\moi3n\\miniconda3\\envs\\geemap\\lib\\site-packages\\ee\\serializer.py:219\u001b[0m, in \u001b[0;36mSerializer._encode_cloud_object\u001b[1;34m(self, obj)\u001b[0m\n\u001b[0;32m    207\u001b[0m   result \u001b[39m=\u001b[39m {\n\u001b[0;32m    208\u001b[0m       \u001b[39m'\u001b[39m\u001b[39mfunctionInvocationValue\u001b[39m\u001b[39m'\u001b[39m: {\n\u001b[0;32m    209\u001b[0m           \u001b[39m'\u001b[39m\u001b[39mfunctionName\u001b[39m\u001b[39m'\u001b[39m: \u001b[39m'\u001b[39m\u001b[39mDate\u001b[39m\u001b[39m'\u001b[39m,\n\u001b[1;32m   (...)\u001b[0m\n\u001b[0;32m    215\u001b[0m       }\n\u001b[0;32m    216\u001b[0m   }\n\u001b[0;32m    217\u001b[0m \u001b[39melif\u001b[39;00m \u001b[39misinstance\u001b[39m(obj, encodable\u001b[39m.\u001b[39mEncodable):\n\u001b[0;32m    218\u001b[0m   \u001b[39m# Some objects know how to encode themselves.\u001b[39;00m\n\u001b[1;32m--> 219\u001b[0m   result \u001b[39m=\u001b[39m obj\u001b[39m.\u001b[39;49mencode_cloud_value(\u001b[39mself\u001b[39;49m\u001b[39m.\u001b[39;49m_encode_cloud_object)\n\u001b[0;32m    220\u001b[0m \u001b[39melif\u001b[39;00m \u001b[39misinstance\u001b[39m(obj, (\u001b[39mlist\u001b[39m, \u001b[39mtuple\u001b[39m)):\n\u001b[0;32m    221\u001b[0m   \u001b[39m# Lists are encoded recursively.\u001b[39;00m\n\u001b[0;32m    222\u001b[0m   \u001b[39mif\u001b[39;00m \u001b[39mself\u001b[39m\u001b[39m.\u001b[39m_is_compound:\n",
      "File \u001b[1;32mc:\\Users\\moi3n\\miniconda3\\envs\\geemap\\lib\\site-packages\\ee\\dictionary.py:74\u001b[0m, in \u001b[0;36mDictionary.encode_cloud_value\u001b[1;34m(self, opt_encoder)\u001b[0m\n\u001b[0;32m     72\u001b[0m   \u001b[39mreturn\u001b[39;00m {\u001b[39m'\u001b[39m\u001b[39mvalueReference\u001b[39m\u001b[39m'\u001b[39m: opt_encoder(\u001b[39mself\u001b[39m\u001b[39m.\u001b[39m_dictionary)}\n\u001b[0;32m     73\u001b[0m \u001b[39melse\u001b[39;00m:\n\u001b[1;32m---> 74\u001b[0m   \u001b[39mreturn\u001b[39;00m \u001b[39msuper\u001b[39;49m(Dictionary, \u001b[39mself\u001b[39;49m)\u001b[39m.\u001b[39;49mencode_cloud_value(opt_encoder)\n",
      "File \u001b[1;32mc:\\Users\\moi3n\\miniconda3\\envs\\geemap\\lib\\site-packages\\ee\\computedobject.py:150\u001b[0m, in \u001b[0;36mComputedObject.encode_cloud_value\u001b[1;34m(self, encoder)\u001b[0m\n\u001b[0;32m    148\u001b[0m   value \u001b[39m=\u001b[39m \u001b[39mself\u001b[39m\u001b[39m.\u001b[39margs[name]\n\u001b[0;32m    149\u001b[0m   \u001b[39mif\u001b[39;00m value \u001b[39mis\u001b[39;00m \u001b[39mnot\u001b[39;00m \u001b[39mNone\u001b[39;00m:\n\u001b[1;32m--> 150\u001b[0m     encoded_args[name] \u001b[39m=\u001b[39m {\u001b[39m'\u001b[39m\u001b[39mvalueReference\u001b[39m\u001b[39m'\u001b[39m: encoder(value)}\n\u001b[0;32m    151\u001b[0m invocation[\u001b[39m'\u001b[39m\u001b[39marguments\u001b[39m\u001b[39m'\u001b[39m] \u001b[39m=\u001b[39m encoded_args\n\u001b[0;32m    152\u001b[0m \u001b[39mreturn\u001b[39;00m {\u001b[39m'\u001b[39m\u001b[39mfunctionInvocationValue\u001b[39m\u001b[39m'\u001b[39m: invocation}\n",
      "File \u001b[1;32mc:\\Users\\moi3n\\miniconda3\\envs\\geemap\\lib\\site-packages\\ee\\serializer.py:219\u001b[0m, in \u001b[0;36mSerializer._encode_cloud_object\u001b[1;34m(self, obj)\u001b[0m\n\u001b[0;32m    207\u001b[0m   result \u001b[39m=\u001b[39m {\n\u001b[0;32m    208\u001b[0m       \u001b[39m'\u001b[39m\u001b[39mfunctionInvocationValue\u001b[39m\u001b[39m'\u001b[39m: {\n\u001b[0;32m    209\u001b[0m           \u001b[39m'\u001b[39m\u001b[39mfunctionName\u001b[39m\u001b[39m'\u001b[39m: \u001b[39m'\u001b[39m\u001b[39mDate\u001b[39m\u001b[39m'\u001b[39m,\n\u001b[1;32m   (...)\u001b[0m\n\u001b[0;32m    215\u001b[0m       }\n\u001b[0;32m    216\u001b[0m   }\n\u001b[0;32m    217\u001b[0m \u001b[39melif\u001b[39;00m \u001b[39misinstance\u001b[39m(obj, encodable\u001b[39m.\u001b[39mEncodable):\n\u001b[0;32m    218\u001b[0m   \u001b[39m# Some objects know how to encode themselves.\u001b[39;00m\n\u001b[1;32m--> 219\u001b[0m   result \u001b[39m=\u001b[39m obj\u001b[39m.\u001b[39;49mencode_cloud_value(\u001b[39mself\u001b[39;49m\u001b[39m.\u001b[39;49m_encode_cloud_object)\n\u001b[0;32m    220\u001b[0m \u001b[39melif\u001b[39;00m \u001b[39misinstance\u001b[39m(obj, (\u001b[39mlist\u001b[39m, \u001b[39mtuple\u001b[39m)):\n\u001b[0;32m    221\u001b[0m   \u001b[39m# Lists are encoded recursively.\u001b[39;00m\n\u001b[0;32m    222\u001b[0m   \u001b[39mif\u001b[39;00m \u001b[39mself\u001b[39m\u001b[39m.\u001b[39m_is_compound:\n",
      "File \u001b[1;32mc:\\Users\\moi3n\\miniconda3\\envs\\geemap\\lib\\site-packages\\ee\\computedobject.py:150\u001b[0m, in \u001b[0;36mComputedObject.encode_cloud_value\u001b[1;34m(self, encoder)\u001b[0m\n\u001b[0;32m    148\u001b[0m   value \u001b[39m=\u001b[39m \u001b[39mself\u001b[39m\u001b[39m.\u001b[39margs[name]\n\u001b[0;32m    149\u001b[0m   \u001b[39mif\u001b[39;00m value \u001b[39mis\u001b[39;00m \u001b[39mnot\u001b[39;00m \u001b[39mNone\u001b[39;00m:\n\u001b[1;32m--> 150\u001b[0m     encoded_args[name] \u001b[39m=\u001b[39m {\u001b[39m'\u001b[39m\u001b[39mvalueReference\u001b[39m\u001b[39m'\u001b[39m: encoder(value)}\n\u001b[0;32m    151\u001b[0m invocation[\u001b[39m'\u001b[39m\u001b[39marguments\u001b[39m\u001b[39m'\u001b[39m] \u001b[39m=\u001b[39m encoded_args\n\u001b[0;32m    152\u001b[0m \u001b[39mreturn\u001b[39;00m {\u001b[39m'\u001b[39m\u001b[39mfunctionInvocationValue\u001b[39m\u001b[39m'\u001b[39m: invocation}\n",
      "File \u001b[1;32mc:\\Users\\moi3n\\miniconda3\\envs\\geemap\\lib\\site-packages\\ee\\serializer.py:219\u001b[0m, in \u001b[0;36mSerializer._encode_cloud_object\u001b[1;34m(self, obj)\u001b[0m\n\u001b[0;32m    207\u001b[0m   result \u001b[39m=\u001b[39m {\n\u001b[0;32m    208\u001b[0m       \u001b[39m'\u001b[39m\u001b[39mfunctionInvocationValue\u001b[39m\u001b[39m'\u001b[39m: {\n\u001b[0;32m    209\u001b[0m           \u001b[39m'\u001b[39m\u001b[39mfunctionName\u001b[39m\u001b[39m'\u001b[39m: \u001b[39m'\u001b[39m\u001b[39mDate\u001b[39m\u001b[39m'\u001b[39m,\n\u001b[1;32m   (...)\u001b[0m\n\u001b[0;32m    215\u001b[0m       }\n\u001b[0;32m    216\u001b[0m   }\n\u001b[0;32m    217\u001b[0m \u001b[39melif\u001b[39;00m \u001b[39misinstance\u001b[39m(obj, encodable\u001b[39m.\u001b[39mEncodable):\n\u001b[0;32m    218\u001b[0m   \u001b[39m# Some objects know how to encode themselves.\u001b[39;00m\n\u001b[1;32m--> 219\u001b[0m   result \u001b[39m=\u001b[39m obj\u001b[39m.\u001b[39;49mencode_cloud_value(\u001b[39mself\u001b[39;49m\u001b[39m.\u001b[39;49m_encode_cloud_object)\n\u001b[0;32m    220\u001b[0m \u001b[39melif\u001b[39;00m \u001b[39misinstance\u001b[39m(obj, (\u001b[39mlist\u001b[39m, \u001b[39mtuple\u001b[39m)):\n\u001b[0;32m    221\u001b[0m   \u001b[39m# Lists are encoded recursively.\u001b[39;00m\n\u001b[0;32m    222\u001b[0m   \u001b[39mif\u001b[39;00m \u001b[39mself\u001b[39m\u001b[39m.\u001b[39m_is_compound:\n",
      "File \u001b[1;32mc:\\Users\\moi3n\\miniconda3\\envs\\geemap\\lib\\site-packages\\ee\\computedobject.py:150\u001b[0m, in \u001b[0;36mComputedObject.encode_cloud_value\u001b[1;34m(self, encoder)\u001b[0m\n\u001b[0;32m    148\u001b[0m   value \u001b[39m=\u001b[39m \u001b[39mself\u001b[39m\u001b[39m.\u001b[39margs[name]\n\u001b[0;32m    149\u001b[0m   \u001b[39mif\u001b[39;00m value \u001b[39mis\u001b[39;00m \u001b[39mnot\u001b[39;00m \u001b[39mNone\u001b[39;00m:\n\u001b[1;32m--> 150\u001b[0m     encoded_args[name] \u001b[39m=\u001b[39m {\u001b[39m'\u001b[39m\u001b[39mvalueReference\u001b[39m\u001b[39m'\u001b[39m: encoder(value)}\n\u001b[0;32m    151\u001b[0m invocation[\u001b[39m'\u001b[39m\u001b[39marguments\u001b[39m\u001b[39m'\u001b[39m] \u001b[39m=\u001b[39m encoded_args\n\u001b[0;32m    152\u001b[0m \u001b[39mreturn\u001b[39;00m {\u001b[39m'\u001b[39m\u001b[39mfunctionInvocationValue\u001b[39m\u001b[39m'\u001b[39m: invocation}\n",
      "File \u001b[1;32mc:\\Users\\moi3n\\miniconda3\\envs\\geemap\\lib\\site-packages\\ee\\serializer.py:219\u001b[0m, in \u001b[0;36mSerializer._encode_cloud_object\u001b[1;34m(self, obj)\u001b[0m\n\u001b[0;32m    207\u001b[0m   result \u001b[39m=\u001b[39m {\n\u001b[0;32m    208\u001b[0m       \u001b[39m'\u001b[39m\u001b[39mfunctionInvocationValue\u001b[39m\u001b[39m'\u001b[39m: {\n\u001b[0;32m    209\u001b[0m           \u001b[39m'\u001b[39m\u001b[39mfunctionName\u001b[39m\u001b[39m'\u001b[39m: \u001b[39m'\u001b[39m\u001b[39mDate\u001b[39m\u001b[39m'\u001b[39m,\n\u001b[1;32m   (...)\u001b[0m\n\u001b[0;32m    215\u001b[0m       }\n\u001b[0;32m    216\u001b[0m   }\n\u001b[0;32m    217\u001b[0m \u001b[39melif\u001b[39;00m \u001b[39misinstance\u001b[39m(obj, encodable\u001b[39m.\u001b[39mEncodable):\n\u001b[0;32m    218\u001b[0m   \u001b[39m# Some objects know how to encode themselves.\u001b[39;00m\n\u001b[1;32m--> 219\u001b[0m   result \u001b[39m=\u001b[39m obj\u001b[39m.\u001b[39;49mencode_cloud_value(\u001b[39mself\u001b[39;49m\u001b[39m.\u001b[39;49m_encode_cloud_object)\n\u001b[0;32m    220\u001b[0m \u001b[39melif\u001b[39;00m \u001b[39misinstance\u001b[39m(obj, (\u001b[39mlist\u001b[39m, \u001b[39mtuple\u001b[39m)):\n\u001b[0;32m    221\u001b[0m   \u001b[39m# Lists are encoded recursively.\u001b[39;00m\n\u001b[0;32m    222\u001b[0m   \u001b[39mif\u001b[39;00m \u001b[39mself\u001b[39m\u001b[39m.\u001b[39m_is_compound:\n",
      "File \u001b[1;32mc:\\Users\\moi3n\\miniconda3\\envs\\geemap\\lib\\site-packages\\ee\\computedobject.py:135\u001b[0m, in \u001b[0;36mComputedObject.encode_cloud_value\u001b[1;34m(self, encoder)\u001b[0m\n\u001b[0;32m    128\u001b[0m     ref \u001b[39m=\u001b[39m encoder\u001b[39m.\u001b[39m\u001b[39m__self__\u001b[39m\u001b[39m.\u001b[39munbound_name\n\u001b[0;32m    129\u001b[0m   \u001b[39mif\u001b[39;00m ref \u001b[39mis\u001b[39;00m \u001b[39mNone\u001b[39;00m:\n\u001b[0;32m    130\u001b[0m     \u001b[39m# We are trying to call getInfo() or make some other server call inside\u001b[39;00m\n\u001b[0;32m    131\u001b[0m     \u001b[39m# a function passed to collection.map() or .iterate(), and the call uses\u001b[39;00m\n\u001b[0;32m    132\u001b[0m     \u001b[39m# one of the function arguments. The argument will be unbound outside of\u001b[39;00m\n\u001b[0;32m    133\u001b[0m     \u001b[39m# the map operation and cannot be evaluated. See the Count Functions\u001b[39;00m\n\u001b[0;32m    134\u001b[0m     \u001b[39m# case in customfunction.py for details on the unbound_name mechanism.\u001b[39;00m\n\u001b[1;32m--> 135\u001b[0m     \u001b[39mraise\u001b[39;00m ee_exception\u001b[39m.\u001b[39mEEException(\n\u001b[0;32m    136\u001b[0m         \u001b[39m'\u001b[39m\u001b[39mA mapped function\u001b[39m\u001b[39m\\'\u001b[39;00m\u001b[39ms arguments cannot be used in client-side operations\u001b[39m\u001b[39m'\u001b[39m\n\u001b[0;32m    137\u001b[0m     )\n\u001b[0;32m    138\u001b[0m   \u001b[39mreturn\u001b[39;00m {\u001b[39m'\u001b[39m\u001b[39margumentReference\u001b[39m\u001b[39m'\u001b[39m: ref}\n\u001b[0;32m    139\u001b[0m \u001b[39melse\u001b[39;00m:\n",
      "\u001b[1;31mEEException\u001b[0m: A mapped function's arguments cannot be used in client-side operations"
     ]
    }
   ],
   "source": [
    "lc8_cliped_w_mean_ndvi_sorted_descending.map(lambda img: img.set('null_pixel_ratio', get_null_pixel_ratio(img,roi)))"
   ]
  },
  {
   "cell_type": "code",
   "execution_count": null,
   "metadata": {},
   "outputs": [],
   "source": []
  }
 ],
 "metadata": {
  "kernelspec": {
   "display_name": "geemap",
   "language": "python",
   "name": "python3"
  },
  "language_info": {
   "codemirror_mode": {
    "name": "ipython",
    "version": 3
   },
   "file_extension": ".py",
   "mimetype": "text/x-python",
   "name": "python",
   "nbconvert_exporter": "python",
   "pygments_lexer": "ipython3",
   "version": "3.9.16"
  },
  "orig_nbformat": 4
 },
 "nbformat": 4,
 "nbformat_minor": 2
}

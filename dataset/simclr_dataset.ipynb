{
 "cells": [
  {
   "cell_type": "code",
   "execution_count": null,
   "metadata": {},
   "outputs": [],
   "source": [
    "import ee\n",
    "import geemap\n",
    "import math \n",
    "import json\n",
    "import pandas as pd\n",
    "from utils.utils import *\n",
    "from utils.ee_utils import *\n",
    "from utils.utils import TextColors as c\n",
    "from tqdm import tqdm"
   ]
  },
  {
   "cell_type": "code",
   "execution_count": null,
   "metadata": {},
   "outputs": [],
   "source": [
    "Map = geemap.Map()\n",
    "# ee.Initialize()"
   ]
  },
  {
   "cell_type": "code",
   "execution_count": null,
   "metadata": {},
   "outputs": [],
   "source": [
    "# for LUCAS dataset\n",
    "with open(\"shapefiles\\Europe.geojson\") as f: geojson = json.load(f)\n",
    "eruope_roi = geemap.geojson_to_ee(geojson)\n",
    "\n",
    "# # for RacA dataset\n",
    "# with open(\"shapefiles\\contiguous-usa.geojson\") as f: geojson = json.load(f)\n",
    "# eruope_roi = geemap.geojson_to_ee(geojson)"
   ]
  },
  {
   "cell_type": "code",
   "execution_count": null,
   "metadata": {},
   "outputs": [],
   "source": [
    "SIMCLR_CSV_PATH = \"simclr/\"\n",
    "# check if the folder exists, if not create it\n",
    "if not os.path.exists(SIMCLR_CSV_PATH):\n",
    "    os.makedirs(SIMCLR_CSV_PATH)"
   ]
  },
  {
   "cell_type": "code",
   "execution_count": null,
   "metadata": {},
   "outputs": [],
   "source": [
    "# NUM_POINTS = 1000 # should be 1000 for Nafiseh\n",
    "# NUM_CSV_FILES = 100 # must be 100 for Nafiseh\n",
    "\n",
    "\n",
    "# In case you face issues downloading samples due to numerical problems, consider decreasing the numbers by 40,000.\n",
    "NUM_POINTS = 1000 # should be 1000 for Nafiseh\n",
    "NUM_CSV_FILES = 70 # must be 100 for Nafiseh"
   ]
  },
  {
   "cell_type": "code",
   "execution_count": null,
   "metadata": {},
   "outputs": [],
   "source": [
    "for i in range(NUM_CSV_FILES):\n",
    "    df = random_point_csv_generator(eruope_roi, num_points= NUM_POINTS,\n",
    "                                    file_name=SIMCLR_CSV_PATH + \"random_points_LUCAS_\" + str(i),\n",
    "                                    start_id=10000000 + i*NUM_POINTS, seed=i)\n",
    "    print(f\"{c.OKGREEN}Successfully generated {SIMCLR_CSV_PATH + 'random_points_LUCAS_' + str(i)}.csv file.{c.ENDC}\") "
   ]
  },
  {
   "cell_type": "code",
   "execution_count": null,
   "metadata": {},
   "outputs": [],
   "source": [
    "random_point = df.sample(n=1)"
   ]
  },
  {
   "cell_type": "code",
   "execution_count": null,
   "metadata": {},
   "outputs": [],
   "source": [
    "random_point"
   ]
  },
  {
   "cell_type": "code",
   "execution_count": null,
   "metadata": {},
   "outputs": [],
   "source": [
    "lat = random_point['lat'].values[0]\n",
    "lon = random_point['long'].values[0]\n",
    "roi = get_square_roi(lat,lon, roi_size=10000, return_gee_object=True)\n",
    "Map.addLayer(eruope_roi, {}, 'Europe')\n",
    "Map.addLayer(roi, {}, 'ROI')\n",
    "Map.centerObject(roi, 10)\n",
    "land_cover = ee.ImageCollection('ESA/WorldCover/v100').first().clip(roi)\n",
    "vis = {'bands': ['Map']}\n",
    "Map.addLayer(land_cover, vis, 'Land Cover')\n",
    "Map\n"
   ]
  },
  {
   "cell_type": "markdown",
   "metadata": {},
   "source": [
    "| Value | Description |\n",
    "|---|---|\n",
    "| 10  | Tree cover |\n",
    "| 20  | Shrubland |\n",
    "| 30  | Grassland |\n",
    "| 40 | Cropland |\n",
    "| 50 |  Built-up |\n",
    "| 60 |  Bare / sparse vegetation |\n",
    "| 70 |  Snow and ice |\n",
    "| 80 | Permanent water bodies |\n",
    "| 90 |  Herbaceous wetland |\n",
    "| 95 |  Mangroves |\n",
    "| 100 |  Moss and lichen |"
   ]
  },
  {
   "cell_type": "code",
   "execution_count": null,
   "metadata": {},
   "outputs": [],
   "source": [
    "# read csv files in SIMCLR_CSV_PATH as a pandas dataframe\n",
    "csv_files = [SIMCLR_CSV_PATH + file for file in os.listdir(SIMCLR_CSV_PATH) if file.endswith('.csv')]\n",
    "\n",
    "for file in csv_files:\n",
    "    df = pd.read_csv(file)\n",
    "    print(f\"{c.OKGREEN}Successfully read {file}.{c.ENDC}\")\n",
    "    df['unwanted_cover_percentage'] = 0\n",
    "    loop = tqdm(df.iterrows(), total=df.shape[0], position=0, leave=True)\n",
    "    for point in loop:\n",
    "        lat = point[1]['lat']\n",
    "        lon = point[1]['long']\n",
    "        roi = get_square_roi(lat,lon, roi_size=1920, return_gee_object=True)\n",
    "        land_cover = ee.ImageCollection('ESA/WorldCover/v100').first().clip(roi)\n",
    "        percentage = calculate_land_cover_percentage(land_cover, [80,90,50,100,95], roi=roi, scale=30).getInfo()\n",
    "        df.loc[point[0], 'unwanted_cover'] = percentage\n",
    "        loop.set_postfix({'unwanted_cover_percentage': percentage})\n",
    "        # save the dataframe to the same csv file\n",
    "    df.to_csv(file, index=True, index_label='OID_')"
   ]
  },
  {
   "cell_type": "code",
   "execution_count": null,
   "metadata": {},
   "outputs": [],
   "source": [
    "# # read csv files in SIMCLR_CSV_PATH as a pandas dataframe\n",
    "# csv_files = [SIMCLR_CSV_PATH + file for file in os.listdir(SIMCLR_CSV_PATH) if file.endswith('.csv')]\n",
    "\n",
    "# for file in csv_files:\n",
    "#     df = pd.read_csv(file)\n",
    "#     print(f\"Successfully read {file}.\")\n",
    "#     df['unwanted_cover_percentage'] = 0\n",
    "#     loop = tqdm(df.iterrows(), total=df.shape[0], position=0, leave=True)\n",
    "#     percentage_tasks = []\n",
    "#     for point in loop:\n",
    "#         lat = point[1]['lat']\n",
    "#         lon = point[1]['long']\n",
    "#         roi = get_square_roi(lat,lon, roi_size=1920, return_gee_object=True)\n",
    "#         land_cover = ee.ImageCollection('ESA/WorldCover/v100').first().clip(roi)\n",
    "#         percentage_task = calculate_land_cover_percentage(land_cover, [80,90,50,100,95], scale=30, roi=roi)\n",
    "#         percentage_tasks.append(percentage_task)\n",
    "#         loop.set_postfix({'unwanted_cover_percentage': 'Calculating...'})\n",
    "\n",
    "#     # After the loop, call getInfo() on all tasks\n",
    "#     for i, task in enumerate(tqdm(percentage_tasks, desc='Getting info', position=0, leave=True)):\n",
    "#         df.loc[i, 'unwanted_cover'] = task.getInfo()\n",
    "\n",
    "#     # save the dataframe to the same csv file\n",
    "#     df.to_csv(file, index=True, index_label='OID_')"
   ]
  },
  {
   "cell_type": "code",
   "execution_count": null,
   "metadata": {},
   "outputs": [],
   "source": []
  },
  {
   "cell_type": "code",
   "execution_count": null,
   "metadata": {},
   "outputs": [],
   "source": []
  }
 ],
 "metadata": {
  "kernelspec": {
   "display_name": "pytorchGPU",
   "language": "python",
   "name": "python3"
  },
  "language_info": {
   "codemirror_mode": {
    "name": "ipython",
    "version": 3
   },
   "file_extension": ".py",
   "mimetype": "text/x-python",
   "name": "python",
   "nbconvert_exporter": "python",
   "pygments_lexer": "ipython3",
   "version": "3.8.13"
  }
 },
 "nbformat": 4,
 "nbformat_minor": 2
}

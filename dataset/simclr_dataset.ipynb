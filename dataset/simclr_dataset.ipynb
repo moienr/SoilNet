{
 "cells": [
  {
   "cell_type": "code",
   "execution_count": 1,
   "metadata": {},
   "outputs": [],
   "source": [
    "import ee\n",
    "import geemap\n",
    "import math \n",
    "import json\n",
    "import pandas as pd\n",
    "from utils.utils import *\n",
    "from utils.ee_utils import *\n",
    "from utils.utils import TextColors as c\n",
    "from tqdm import tqdm"
   ]
  },
  {
   "cell_type": "code",
   "execution_count": 2,
   "metadata": {},
   "outputs": [],
   "source": [
    "Map = geemap.Map()\n",
    "# ee.Initialize()"
   ]
  },
  {
   "cell_type": "code",
   "execution_count": 3,
   "metadata": {},
   "outputs": [],
   "source": [
    "# for LUCAS dataset\n",
    "with open(\"shapefiles\\Europe.geojson\") as f: geojson = json.load(f)\n",
    "eruope_roi = geemap.geojson_to_ee(geojson)\n",
    "\n",
    "# # for RacA dataset\n",
    "# with open(\"shapefiles\\contiguous-usa.geojson\") as f: geojson = json.load(f)\n",
    "# eruope_roi = geemap.geojson_to_ee(geojson)"
   ]
  },
  {
   "cell_type": "code",
   "execution_count": 4,
   "metadata": {},
   "outputs": [],
   "source": [
    "SIMCLR_CSV_PATH = \"simclr/\"\n",
    "# check if the folder exists, if not create it\n",
    "if not os.path.exists(SIMCLR_CSV_PATH):\n",
    "    os.makedirs(SIMCLR_CSV_PATH)"
   ]
  },
  {
   "cell_type": "code",
   "execution_count": 5,
   "metadata": {},
   "outputs": [],
   "source": [
    "# NUM_POINTS = 1000 # should be 1000 for Nafiseh\n",
    "# NUM_CSV_FILES = 100 # must be 100 for Nafiseh\n",
    "\n",
    "\n",
    "# In case you face issues downloading samples due to numerical problems, consider decreasing the numbers by 40,000.\n",
    "NUM_POINTS = 1000 # should be 1000 for Nafiseh\n",
    "NUM_CSV_FILES = 70 # must be 100 for Nafiseh"
   ]
  },
  {
   "cell_type": "code",
   "execution_count": 6,
   "metadata": {},
   "outputs": [
    {
     "name": "stdout",
     "output_type": "stream",
     "text": [
      "\u001b[92mSuccessfully generated simclr/random_points_LUCAS_0.csv file.\u001b[0m\n",
      "\u001b[92mSuccessfully generated simclr/random_points_LUCAS_1.csv file.\u001b[0m\n",
      "\u001b[92mSuccessfully generated simclr/random_points_LUCAS_2.csv file.\u001b[0m\n",
      "\u001b[92mSuccessfully generated simclr/random_points_LUCAS_3.csv file.\u001b[0m\n",
      "\u001b[92mSuccessfully generated simclr/random_points_LUCAS_4.csv file.\u001b[0m\n",
      "\u001b[92mSuccessfully generated simclr/random_points_LUCAS_5.csv file.\u001b[0m\n",
      "\u001b[92mSuccessfully generated simclr/random_points_LUCAS_6.csv file.\u001b[0m\n",
      "\u001b[92mSuccessfully generated simclr/random_points_LUCAS_7.csv file.\u001b[0m\n",
      "\u001b[92mSuccessfully generated simclr/random_points_LUCAS_8.csv file.\u001b[0m\n",
      "\u001b[92mSuccessfully generated simclr/random_points_LUCAS_9.csv file.\u001b[0m\n",
      "\u001b[92mSuccessfully generated simclr/random_points_LUCAS_10.csv file.\u001b[0m\n",
      "\u001b[92mSuccessfully generated simclr/random_points_LUCAS_11.csv file.\u001b[0m\n",
      "\u001b[92mSuccessfully generated simclr/random_points_LUCAS_12.csv file.\u001b[0m\n",
      "\u001b[92mSuccessfully generated simclr/random_points_LUCAS_13.csv file.\u001b[0m\n",
      "\u001b[92mSuccessfully generated simclr/random_points_LUCAS_14.csv file.\u001b[0m\n",
      "\u001b[92mSuccessfully generated simclr/random_points_LUCAS_15.csv file.\u001b[0m\n",
      "\u001b[92mSuccessfully generated simclr/random_points_LUCAS_16.csv file.\u001b[0m\n",
      "\u001b[92mSuccessfully generated simclr/random_points_LUCAS_17.csv file.\u001b[0m\n",
      "\u001b[92mSuccessfully generated simclr/random_points_LUCAS_18.csv file.\u001b[0m\n",
      "\u001b[92mSuccessfully generated simclr/random_points_LUCAS_19.csv file.\u001b[0m\n",
      "\u001b[92mSuccessfully generated simclr/random_points_LUCAS_20.csv file.\u001b[0m\n",
      "\u001b[92mSuccessfully generated simclr/random_points_LUCAS_21.csv file.\u001b[0m\n",
      "\u001b[92mSuccessfully generated simclr/random_points_LUCAS_22.csv file.\u001b[0m\n",
      "\u001b[92mSuccessfully generated simclr/random_points_LUCAS_23.csv file.\u001b[0m\n",
      "\u001b[92mSuccessfully generated simclr/random_points_LUCAS_24.csv file.\u001b[0m\n",
      "\u001b[92mSuccessfully generated simclr/random_points_LUCAS_25.csv file.\u001b[0m\n",
      "\u001b[92mSuccessfully generated simclr/random_points_LUCAS_26.csv file.\u001b[0m\n",
      "\u001b[92mSuccessfully generated simclr/random_points_LUCAS_27.csv file.\u001b[0m\n",
      "\u001b[92mSuccessfully generated simclr/random_points_LUCAS_28.csv file.\u001b[0m\n",
      "\u001b[92mSuccessfully generated simclr/random_points_LUCAS_29.csv file.\u001b[0m\n",
      "\u001b[92mSuccessfully generated simclr/random_points_LUCAS_30.csv file.\u001b[0m\n",
      "\u001b[92mSuccessfully generated simclr/random_points_LUCAS_31.csv file.\u001b[0m\n",
      "\u001b[92mSuccessfully generated simclr/random_points_LUCAS_32.csv file.\u001b[0m\n",
      "\u001b[92mSuccessfully generated simclr/random_points_LUCAS_33.csv file.\u001b[0m\n",
      "\u001b[92mSuccessfully generated simclr/random_points_LUCAS_34.csv file.\u001b[0m\n",
      "\u001b[92mSuccessfully generated simclr/random_points_LUCAS_35.csv file.\u001b[0m\n",
      "\u001b[92mSuccessfully generated simclr/random_points_LUCAS_36.csv file.\u001b[0m\n",
      "\u001b[92mSuccessfully generated simclr/random_points_LUCAS_37.csv file.\u001b[0m\n",
      "\u001b[92mSuccessfully generated simclr/random_points_LUCAS_38.csv file.\u001b[0m\n",
      "\u001b[92mSuccessfully generated simclr/random_points_LUCAS_39.csv file.\u001b[0m\n",
      "\u001b[92mSuccessfully generated simclr/random_points_LUCAS_40.csv file.\u001b[0m\n",
      "\u001b[92mSuccessfully generated simclr/random_points_LUCAS_41.csv file.\u001b[0m\n",
      "\u001b[92mSuccessfully generated simclr/random_points_LUCAS_42.csv file.\u001b[0m\n",
      "\u001b[92mSuccessfully generated simclr/random_points_LUCAS_43.csv file.\u001b[0m\n",
      "\u001b[92mSuccessfully generated simclr/random_points_LUCAS_44.csv file.\u001b[0m\n",
      "\u001b[92mSuccessfully generated simclr/random_points_LUCAS_45.csv file.\u001b[0m\n",
      "\u001b[92mSuccessfully generated simclr/random_points_LUCAS_46.csv file.\u001b[0m\n",
      "\u001b[92mSuccessfully generated simclr/random_points_LUCAS_47.csv file.\u001b[0m\n",
      "\u001b[92mSuccessfully generated simclr/random_points_LUCAS_48.csv file.\u001b[0m\n",
      "\u001b[92mSuccessfully generated simclr/random_points_LUCAS_49.csv file.\u001b[0m\n",
      "\u001b[92mSuccessfully generated simclr/random_points_LUCAS_50.csv file.\u001b[0m\n",
      "\u001b[92mSuccessfully generated simclr/random_points_LUCAS_51.csv file.\u001b[0m\n",
      "\u001b[92mSuccessfully generated simclr/random_points_LUCAS_52.csv file.\u001b[0m\n",
      "\u001b[92mSuccessfully generated simclr/random_points_LUCAS_53.csv file.\u001b[0m\n",
      "\u001b[92mSuccessfully generated simclr/random_points_LUCAS_54.csv file.\u001b[0m\n",
      "\u001b[92mSuccessfully generated simclr/random_points_LUCAS_55.csv file.\u001b[0m\n",
      "\u001b[92mSuccessfully generated simclr/random_points_LUCAS_56.csv file.\u001b[0m\n",
      "\u001b[92mSuccessfully generated simclr/random_points_LUCAS_57.csv file.\u001b[0m\n",
      "\u001b[92mSuccessfully generated simclr/random_points_LUCAS_58.csv file.\u001b[0m\n",
      "\u001b[92mSuccessfully generated simclr/random_points_LUCAS_59.csv file.\u001b[0m\n",
      "\u001b[92mSuccessfully generated simclr/random_points_LUCAS_60.csv file.\u001b[0m\n",
      "\u001b[92mSuccessfully generated simclr/random_points_LUCAS_61.csv file.\u001b[0m\n",
      "\u001b[92mSuccessfully generated simclr/random_points_LUCAS_62.csv file.\u001b[0m\n",
      "\u001b[92mSuccessfully generated simclr/random_points_LUCAS_63.csv file.\u001b[0m\n",
      "\u001b[92mSuccessfully generated simclr/random_points_LUCAS_64.csv file.\u001b[0m\n",
      "\u001b[92mSuccessfully generated simclr/random_points_LUCAS_65.csv file.\u001b[0m\n",
      "\u001b[92mSuccessfully generated simclr/random_points_LUCAS_66.csv file.\u001b[0m\n",
      "\u001b[92mSuccessfully generated simclr/random_points_LUCAS_67.csv file.\u001b[0m\n",
      "\u001b[92mSuccessfully generated simclr/random_points_LUCAS_68.csv file.\u001b[0m\n",
      "\u001b[92mSuccessfully generated simclr/random_points_LUCAS_69.csv file.\u001b[0m\n"
     ]
    }
   ],
   "source": [
    "for i in range(NUM_CSV_FILES):\n",
    "    df = random_point_csv_generator(eruope_roi, num_points= NUM_POINTS,\n",
    "                                    file_name=SIMCLR_CSV_PATH + \"random_points_LUCAS_\" + str(i),\n",
    "                                    start_id=10000000 + i*NUM_POINTS, seed=i)\n",
    "    print(f\"{c.OKGREEN}Successfully generated {SIMCLR_CSV_PATH + 'random_points_LUCAS_' + str(i)}.csv file.{c.ENDC}\") "
   ]
  },
  {
   "cell_type": "code",
   "execution_count": 7,
   "metadata": {},
   "outputs": [],
   "source": [
    "random_point = df.sample(n=1)"
   ]
  },
  {
   "cell_type": "code",
   "execution_count": 8,
   "metadata": {},
   "outputs": [
    {
     "data": {
      "text/html": [
       "<div>\n",
       "<style scoped>\n",
       "    .dataframe tbody tr th:only-of-type {\n",
       "        vertical-align: middle;\n",
       "    }\n",
       "\n",
       "    .dataframe tbody tr th {\n",
       "        vertical-align: top;\n",
       "    }\n",
       "\n",
       "    .dataframe thead th {\n",
       "        text-align: right;\n",
       "    }\n",
       "</style>\n",
       "<table border=\"1\" class=\"dataframe\">\n",
       "  <thead>\n",
       "    <tr style=\"text-align: right;\">\n",
       "      <th></th>\n",
       "      <th>Point_ID</th>\n",
       "      <th>long</th>\n",
       "      <th>lat</th>\n",
       "      <th>OC</th>\n",
       "    </tr>\n",
       "  </thead>\n",
       "  <tbody>\n",
       "    <tr>\n",
       "      <th>123</th>\n",
       "      <td>10069123</td>\n",
       "      <td>36.626848</td>\n",
       "      <td>57.725056</td>\n",
       "      <td>0.0</td>\n",
       "    </tr>\n",
       "  </tbody>\n",
       "</table>\n",
       "</div>"
      ],
      "text/plain": [
       "     Point_ID       long        lat   OC\n",
       "123  10069123  36.626848  57.725056  0.0"
      ]
     },
     "execution_count": 8,
     "metadata": {},
     "output_type": "execute_result"
    }
   ],
   "source": [
    "random_point"
   ]
  },
  {
   "cell_type": "code",
   "execution_count": 9,
   "metadata": {},
   "outputs": [
    {
     "data": {
      "application/vnd.jupyter.widget-view+json": {
       "model_id": "7323f23c3c2e4c4db667c3b735dcfa95",
       "version_major": 2,
       "version_minor": 0
      },
      "text/plain": [
       "Map(center=[57.72505541733041, 36.626992849527824], controls=(WidgetControl(options=['position', 'transparent_…"
      ]
     },
     "metadata": {},
     "output_type": "display_data"
    }
   ],
   "source": [
    "lat = random_point['lat'].values[0]\n",
    "lon = random_point['long'].values[0]\n",
    "roi = get_square_roi(lat,lon, roi_size=10000, return_gee_object=True)\n",
    "Map.addLayer(eruope_roi, {}, 'Europe')\n",
    "Map.addLayer(roi, {}, 'ROI')\n",
    "Map.centerObject(roi, 10)\n",
    "land_cover = ee.ImageCollection('ESA/WorldCover/v100').first().clip(roi)\n",
    "vis = {'bands': ['Map']}\n",
    "Map.addLayer(land_cover, vis, 'Land Cover')\n",
    "Map\n"
   ]
  },
  {
   "cell_type": "markdown",
   "metadata": {},
   "source": [
    "| Value | Description |\n",
    "|---|---|\n",
    "| 10  | Tree cover |\n",
    "| 20  | Shrubland |\n",
    "| 30  | Grassland |\n",
    "| 40 | Cropland |\n",
    "| 50 |  Built-up |\n",
    "| 60 |  Bare / sparse vegetation |\n",
    "| 70 |  Snow and ice |\n",
    "| 80 | Permanent water bodies |\n",
    "| 90 |  Herbaceous wetland |\n",
    "| 95 |  Mangroves |\n",
    "| 100 |  Moss and lichen |"
   ]
  },
  {
   "cell_type": "code",
   "execution_count": 10,
   "metadata": {},
   "outputs": [
    {
     "name": "stdout",
     "output_type": "stream",
     "text": [
      "\u001b[92mSuccessfully read simclr/random_points_LUCAS_0.csv.\u001b[0m\n"
     ]
    },
    {
     "name": "stderr",
     "output_type": "stream",
     "text": [
      "100%|██████████| 1000/1000 [07:57<00:00,  2.09it/s, unwanted_cover_percentage=0.0319]\n"
     ]
    },
    {
     "name": "stdout",
     "output_type": "stream",
     "text": [
      "\u001b[92mSuccessfully read simclr/random_points_LUCAS_1.csv.\u001b[0m\n"
     ]
    },
    {
     "name": "stderr",
     "output_type": "stream",
     "text": [
      "100%|██████████| 1000/1000 [07:52<00:00,  2.11it/s, unwanted_cover_percentage=0]     \n"
     ]
    },
    {
     "name": "stdout",
     "output_type": "stream",
     "text": [
      "\u001b[92mSuccessfully read simclr/random_points_LUCAS_10.csv.\u001b[0m\n"
     ]
    },
    {
     "name": "stderr",
     "output_type": "stream",
     "text": [
      "100%|██████████| 1000/1000 [07:12<00:00,  2.31it/s, unwanted_cover_percentage=0.658] \n"
     ]
    },
    {
     "name": "stdout",
     "output_type": "stream",
     "text": [
      "\u001b[92mSuccessfully read simclr/random_points_LUCAS_11.csv.\u001b[0m\n"
     ]
    },
    {
     "name": "stderr",
     "output_type": "stream",
     "text": [
      "100%|██████████| 1000/1000 [07:08<00:00,  2.34it/s, unwanted_cover_percentage=6.03]  \n"
     ]
    },
    {
     "name": "stdout",
     "output_type": "stream",
     "text": [
      "\u001b[92mSuccessfully read simclr/random_points_LUCAS_12.csv.\u001b[0m\n"
     ]
    },
    {
     "name": "stderr",
     "output_type": "stream",
     "text": [
      "100%|██████████| 1000/1000 [06:58<00:00,  2.39it/s, unwanted_cover_percentage=0.106] \n"
     ]
    },
    {
     "name": "stdout",
     "output_type": "stream",
     "text": [
      "\u001b[92mSuccessfully read simclr/random_points_LUCAS_13.csv.\u001b[0m\n"
     ]
    },
    {
     "name": "stderr",
     "output_type": "stream",
     "text": [
      "100%|██████████| 1000/1000 [06:58<00:00,  2.39it/s, unwanted_cover_percentage=0.432] \n"
     ]
    },
    {
     "name": "stdout",
     "output_type": "stream",
     "text": [
      "\u001b[92mSuccessfully read simclr/random_points_LUCAS_14.csv.\u001b[0m\n"
     ]
    },
    {
     "name": "stderr",
     "output_type": "stream",
     "text": [
      "100%|██████████| 1000/1000 [06:49<00:00,  2.44it/s, unwanted_cover_percentage=7.64]  \n"
     ]
    },
    {
     "name": "stdout",
     "output_type": "stream",
     "text": [
      "\u001b[92mSuccessfully read simclr/random_points_LUCAS_15.csv.\u001b[0m\n"
     ]
    },
    {
     "name": "stderr",
     "output_type": "stream",
     "text": [
      "100%|██████████| 1000/1000 [07:39<00:00,  2.18it/s, unwanted_cover_percentage=0]     \n"
     ]
    },
    {
     "name": "stdout",
     "output_type": "stream",
     "text": [
      "\u001b[92mSuccessfully read simclr/random_points_LUCAS_16.csv.\u001b[0m\n"
     ]
    },
    {
     "name": "stderr",
     "output_type": "stream",
     "text": [
      "100%|██████████| 1000/1000 [07:00<00:00,  2.38it/s, unwanted_cover_percentage=0]      \n"
     ]
    },
    {
     "name": "stdout",
     "output_type": "stream",
     "text": [
      "\u001b[92mSuccessfully read simclr/random_points_LUCAS_17.csv.\u001b[0m\n"
     ]
    },
    {
     "name": "stderr",
     "output_type": "stream",
     "text": [
      "100%|██████████| 1000/1000 [06:42<00:00,  2.48it/s, unwanted_cover_percentage=0.231] \n"
     ]
    },
    {
     "name": "stdout",
     "output_type": "stream",
     "text": [
      "\u001b[92mSuccessfully read simclr/random_points_LUCAS_18.csv.\u001b[0m\n"
     ]
    },
    {
     "name": "stderr",
     "output_type": "stream",
     "text": [
      "100%|██████████| 1000/1000 [07:08<00:00,  2.33it/s, unwanted_cover_percentage=23.3] \n"
     ]
    },
    {
     "name": "stdout",
     "output_type": "stream",
     "text": [
      "\u001b[92mSuccessfully read simclr/random_points_LUCAS_19.csv.\u001b[0m\n"
     ]
    },
    {
     "name": "stderr",
     "output_type": "stream",
     "text": [
      "100%|██████████| 1000/1000 [07:33<00:00,  2.20it/s, unwanted_cover_percentage=0]     \n"
     ]
    },
    {
     "name": "stdout",
     "output_type": "stream",
     "text": [
      "\u001b[92mSuccessfully read simclr/random_points_LUCAS_2.csv.\u001b[0m\n"
     ]
    },
    {
     "name": "stderr",
     "output_type": "stream",
     "text": [
      "100%|██████████| 1000/1000 [08:30<00:00,  1.96it/s, unwanted_cover_percentage=0]     \n"
     ]
    },
    {
     "name": "stdout",
     "output_type": "stream",
     "text": [
      "\u001b[92mSuccessfully read simclr/random_points_LUCAS_20.csv.\u001b[0m\n"
     ]
    },
    {
     "name": "stderr",
     "output_type": "stream",
     "text": [
      "100%|██████████| 1000/1000 [07:33<00:00,  2.21it/s, unwanted_cover_percentage=1.01]  \n"
     ]
    },
    {
     "name": "stdout",
     "output_type": "stream",
     "text": [
      "\u001b[92mSuccessfully read simclr/random_points_LUCAS_21.csv.\u001b[0m\n"
     ]
    },
    {
     "name": "stderr",
     "output_type": "stream",
     "text": [
      "100%|██████████| 1000/1000 [07:09<00:00,  2.33it/s, unwanted_cover_percentage=0.183] \n"
     ]
    },
    {
     "name": "stdout",
     "output_type": "stream",
     "text": [
      "\u001b[92mSuccessfully read simclr/random_points_LUCAS_22.csv.\u001b[0m\n"
     ]
    },
    {
     "name": "stderr",
     "output_type": "stream",
     "text": [
      "100%|██████████| 1000/1000 [08:29<00:00,  1.96it/s, unwanted_cover_percentage=0]      \n"
     ]
    },
    {
     "name": "stdout",
     "output_type": "stream",
     "text": [
      "\u001b[92mSuccessfully read simclr/random_points_LUCAS_23.csv.\u001b[0m\n"
     ]
    },
    {
     "name": "stderr",
     "output_type": "stream",
     "text": [
      "100%|██████████| 1000/1000 [07:47<00:00,  2.14it/s, unwanted_cover_percentage=1.61]  \n"
     ]
    },
    {
     "name": "stdout",
     "output_type": "stream",
     "text": [
      "\u001b[92mSuccessfully read simclr/random_points_LUCAS_24.csv.\u001b[0m\n"
     ]
    },
    {
     "name": "stderr",
     "output_type": "stream",
     "text": [
      "100%|██████████| 1000/1000 [07:16<00:00,  2.29it/s, unwanted_cover_percentage=3.79]  \n"
     ]
    },
    {
     "name": "stdout",
     "output_type": "stream",
     "text": [
      "\u001b[92mSuccessfully read simclr/random_points_LUCAS_25.csv.\u001b[0m\n"
     ]
    },
    {
     "name": "stderr",
     "output_type": "stream",
     "text": [
      "100%|██████████| 1000/1000 [08:22<00:00,  1.99it/s, unwanted_cover_percentage=45.6]  \n"
     ]
    },
    {
     "name": "stdout",
     "output_type": "stream",
     "text": [
      "\u001b[92mSuccessfully read simclr/random_points_LUCAS_26.csv.\u001b[0m\n"
     ]
    },
    {
     "name": "stderr",
     "output_type": "stream",
     "text": [
      "100%|██████████| 1000/1000 [07:50<00:00,  2.13it/s, unwanted_cover_percentage=63.1]  \n"
     ]
    },
    {
     "name": "stdout",
     "output_type": "stream",
     "text": [
      "\u001b[92mSuccessfully read simclr/random_points_LUCAS_27.csv.\u001b[0m\n"
     ]
    },
    {
     "name": "stderr",
     "output_type": "stream",
     "text": [
      "100%|██████████| 1000/1000 [07:04<00:00,  2.36it/s, unwanted_cover_percentage=3.21] \n"
     ]
    },
    {
     "name": "stdout",
     "output_type": "stream",
     "text": [
      "\u001b[92mSuccessfully read simclr/random_points_LUCAS_28.csv.\u001b[0m\n"
     ]
    },
    {
     "name": "stderr",
     "output_type": "stream",
     "text": [
      "100%|██████████| 1000/1000 [07:16<00:00,  2.29it/s, unwanted_cover_percentage=0]     \n"
     ]
    },
    {
     "name": "stdout",
     "output_type": "stream",
     "text": [
      "\u001b[92mSuccessfully read simclr/random_points_LUCAS_29.csv.\u001b[0m\n"
     ]
    },
    {
     "name": "stderr",
     "output_type": "stream",
     "text": [
      "100%|██████████| 1000/1000 [07:26<00:00,  2.24it/s, unwanted_cover_percentage=81.9]  \n"
     ]
    },
    {
     "name": "stdout",
     "output_type": "stream",
     "text": [
      "\u001b[92mSuccessfully read simclr/random_points_LUCAS_3.csv.\u001b[0m\n"
     ]
    },
    {
     "name": "stderr",
     "output_type": "stream",
     "text": [
      "100%|██████████| 1000/1000 [07:41<00:00,  2.17it/s, unwanted_cover_percentage=58.1]  \n"
     ]
    },
    {
     "name": "stdout",
     "output_type": "stream",
     "text": [
      "\u001b[92mSuccessfully read simclr/random_points_LUCAS_30.csv.\u001b[0m\n"
     ]
    },
    {
     "name": "stderr",
     "output_type": "stream",
     "text": [
      "100%|██████████| 1000/1000 [07:15<00:00,  2.29it/s, unwanted_cover_percentage=0]     \n"
     ]
    },
    {
     "name": "stdout",
     "output_type": "stream",
     "text": [
      "\u001b[92mSuccessfully read simclr/random_points_LUCAS_31.csv.\u001b[0m\n"
     ]
    },
    {
     "name": "stderr",
     "output_type": "stream",
     "text": [
      "100%|██████████| 1000/1000 [07:10<00:00,  2.32it/s, unwanted_cover_percentage=0]     \n"
     ]
    },
    {
     "name": "stdout",
     "output_type": "stream",
     "text": [
      "\u001b[92mSuccessfully read simclr/random_points_LUCAS_32.csv.\u001b[0m\n"
     ]
    },
    {
     "name": "stderr",
     "output_type": "stream",
     "text": [
      "100%|██████████| 1000/1000 [08:33<00:00,  1.95it/s, unwanted_cover_percentage=0]     \n"
     ]
    },
    {
     "name": "stdout",
     "output_type": "stream",
     "text": [
      "\u001b[92mSuccessfully read simclr/random_points_LUCAS_33.csv.\u001b[0m\n"
     ]
    },
    {
     "name": "stderr",
     "output_type": "stream",
     "text": [
      "100%|██████████| 1000/1000 [08:04<00:00,  2.06it/s, unwanted_cover_percentage=1.14]  \n"
     ]
    },
    {
     "name": "stdout",
     "output_type": "stream",
     "text": [
      "\u001b[92mSuccessfully read simclr/random_points_LUCAS_34.csv.\u001b[0m\n"
     ]
    },
    {
     "name": "stderr",
     "output_type": "stream",
     "text": [
      "100%|██████████| 1000/1000 [07:46<00:00,  2.15it/s, unwanted_cover_percentage=2.98]  \n"
     ]
    },
    {
     "name": "stdout",
     "output_type": "stream",
     "text": [
      "\u001b[92mSuccessfully read simclr/random_points_LUCAS_35.csv.\u001b[0m\n"
     ]
    },
    {
     "name": "stderr",
     "output_type": "stream",
     "text": [
      "100%|██████████| 1000/1000 [07:00<00:00,  2.38it/s, unwanted_cover_percentage=0.607] \n"
     ]
    },
    {
     "name": "stdout",
     "output_type": "stream",
     "text": [
      "\u001b[92mSuccessfully read simclr/random_points_LUCAS_36.csv.\u001b[0m\n"
     ]
    },
    {
     "name": "stderr",
     "output_type": "stream",
     "text": [
      "100%|██████████| 1000/1000 [07:07<00:00,  2.34it/s, unwanted_cover_percentage=0]     \n"
     ]
    },
    {
     "name": "stdout",
     "output_type": "stream",
     "text": [
      "\u001b[92mSuccessfully read simclr/random_points_LUCAS_37.csv.\u001b[0m\n"
     ]
    },
    {
     "name": "stderr",
     "output_type": "stream",
     "text": [
      "100%|██████████| 1000/1000 [07:11<00:00,  2.32it/s, unwanted_cover_percentage=2.01]  \n"
     ]
    },
    {
     "name": "stdout",
     "output_type": "stream",
     "text": [
      "\u001b[92mSuccessfully read simclr/random_points_LUCAS_38.csv.\u001b[0m\n"
     ]
    },
    {
     "name": "stderr",
     "output_type": "stream",
     "text": [
      "100%|██████████| 1000/1000 [07:03<00:00,  2.36it/s, unwanted_cover_percentage=99.1]  \n"
     ]
    },
    {
     "name": "stdout",
     "output_type": "stream",
     "text": [
      "\u001b[92mSuccessfully read simclr/random_points_LUCAS_39.csv.\u001b[0m\n"
     ]
    },
    {
     "name": "stderr",
     "output_type": "stream",
     "text": [
      "100%|██████████| 1000/1000 [07:46<00:00,  2.14it/s, unwanted_cover_percentage=0.887] \n"
     ]
    },
    {
     "name": "stdout",
     "output_type": "stream",
     "text": [
      "\u001b[92mSuccessfully read simclr/random_points_LUCAS_4.csv.\u001b[0m\n"
     ]
    },
    {
     "name": "stderr",
     "output_type": "stream",
     "text": [
      "100%|██████████| 1000/1000 [08:01<00:00,  2.07it/s, unwanted_cover_percentage=1.84] \n"
     ]
    },
    {
     "name": "stdout",
     "output_type": "stream",
     "text": [
      "\u001b[92mSuccessfully read simclr/random_points_LUCAS_40.csv.\u001b[0m\n"
     ]
    },
    {
     "name": "stderr",
     "output_type": "stream",
     "text": [
      "100%|██████████| 1000/1000 [09:44<00:00,  1.71it/s, unwanted_cover_percentage=0]      \n"
     ]
    },
    {
     "name": "stdout",
     "output_type": "stream",
     "text": [
      "\u001b[92mSuccessfully read simclr/random_points_LUCAS_41.csv.\u001b[0m\n"
     ]
    },
    {
     "name": "stderr",
     "output_type": "stream",
     "text": [
      "100%|██████████| 1000/1000 [08:32<00:00,  1.95it/s, unwanted_cover_percentage=0.473] \n"
     ]
    },
    {
     "name": "stdout",
     "output_type": "stream",
     "text": [
      "\u001b[92mSuccessfully read simclr/random_points_LUCAS_42.csv.\u001b[0m\n"
     ]
    },
    {
     "name": "stderr",
     "output_type": "stream",
     "text": [
      "100%|██████████| 1000/1000 [08:53<00:00,  1.87it/s, unwanted_cover_percentage=0.0336] \n"
     ]
    },
    {
     "name": "stdout",
     "output_type": "stream",
     "text": [
      "\u001b[92mSuccessfully read simclr/random_points_LUCAS_43.csv.\u001b[0m\n"
     ]
    },
    {
     "name": "stderr",
     "output_type": "stream",
     "text": [
      "100%|██████████| 1000/1000 [08:36<00:00,  1.94it/s, unwanted_cover_percentage=0.535]  \n"
     ]
    },
    {
     "name": "stdout",
     "output_type": "stream",
     "text": [
      "\u001b[92mSuccessfully read simclr/random_points_LUCAS_44.csv.\u001b[0m\n"
     ]
    },
    {
     "name": "stderr",
     "output_type": "stream",
     "text": [
      "100%|██████████| 1000/1000 [08:32<00:00,  1.95it/s, unwanted_cover_percentage=2.77]  \n"
     ]
    },
    {
     "name": "stdout",
     "output_type": "stream",
     "text": [
      "\u001b[92mSuccessfully read simclr/random_points_LUCAS_45.csv.\u001b[0m\n"
     ]
    },
    {
     "name": "stderr",
     "output_type": "stream",
     "text": [
      "100%|██████████| 1000/1000 [09:33<00:00,  1.74it/s, unwanted_cover_percentage=13.5]  \n"
     ]
    },
    {
     "name": "stdout",
     "output_type": "stream",
     "text": [
      "\u001b[92mSuccessfully read simclr/random_points_LUCAS_46.csv.\u001b[0m\n"
     ]
    },
    {
     "name": "stderr",
     "output_type": "stream",
     "text": [
      "100%|██████████| 1000/1000 [09:55<00:00,  1.68it/s, unwanted_cover_percentage=0]     \n"
     ]
    },
    {
     "name": "stdout",
     "output_type": "stream",
     "text": [
      "\u001b[92mSuccessfully read simclr/random_points_LUCAS_47.csv.\u001b[0m\n"
     ]
    },
    {
     "name": "stderr",
     "output_type": "stream",
     "text": [
      "100%|██████████| 1000/1000 [09:59<00:00,  1.67it/s, unwanted_cover_percentage=1.76]  \n"
     ]
    },
    {
     "name": "stdout",
     "output_type": "stream",
     "text": [
      "\u001b[92mSuccessfully read simclr/random_points_LUCAS_48.csv.\u001b[0m\n"
     ]
    },
    {
     "name": "stderr",
     "output_type": "stream",
     "text": [
      "100%|██████████| 1000/1000 [09:53<00:00,  1.68it/s, unwanted_cover_percentage=25.9]  \n"
     ]
    },
    {
     "name": "stdout",
     "output_type": "stream",
     "text": [
      "\u001b[92mSuccessfully read simclr/random_points_LUCAS_49.csv.\u001b[0m\n"
     ]
    },
    {
     "name": "stderr",
     "output_type": "stream",
     "text": [
      "100%|██████████| 1000/1000 [10:07<00:00,  1.65it/s, unwanted_cover_percentage=0.885] \n"
     ]
    },
    {
     "name": "stdout",
     "output_type": "stream",
     "text": [
      "\u001b[92mSuccessfully read simclr/random_points_LUCAS_5.csv.\u001b[0m\n"
     ]
    },
    {
     "name": "stderr",
     "output_type": "stream",
     "text": [
      "100%|██████████| 1000/1000 [09:41<00:00,  1.72it/s, unwanted_cover_percentage=0]     \n"
     ]
    },
    {
     "name": "stdout",
     "output_type": "stream",
     "text": [
      "\u001b[92mSuccessfully read simclr/random_points_LUCAS_50.csv.\u001b[0m\n"
     ]
    },
    {
     "name": "stderr",
     "output_type": "stream",
     "text": [
      "100%|██████████| 1000/1000 [10:56<00:00,  1.52it/s, unwanted_cover_percentage=1.69]  \n"
     ]
    },
    {
     "name": "stdout",
     "output_type": "stream",
     "text": [
      "\u001b[92mSuccessfully read simclr/random_points_LUCAS_51.csv.\u001b[0m\n"
     ]
    },
    {
     "name": "stderr",
     "output_type": "stream",
     "text": [
      "100%|██████████| 1000/1000 [09:25<00:00,  1.77it/s, unwanted_cover_percentage=0.00231]\n"
     ]
    },
    {
     "name": "stdout",
     "output_type": "stream",
     "text": [
      "\u001b[92mSuccessfully read simclr/random_points_LUCAS_52.csv.\u001b[0m\n"
     ]
    },
    {
     "name": "stderr",
     "output_type": "stream",
     "text": [
      "100%|██████████| 1000/1000 [08:56<00:00,  1.86it/s, unwanted_cover_percentage=0]      \n"
     ]
    },
    {
     "name": "stdout",
     "output_type": "stream",
     "text": [
      "\u001b[92mSuccessfully read simclr/random_points_LUCAS_53.csv.\u001b[0m\n"
     ]
    },
    {
     "name": "stderr",
     "output_type": "stream",
     "text": [
      "100%|██████████| 1000/1000 [09:07<00:00,  1.83it/s, unwanted_cover_percentage=33.2]   \n"
     ]
    },
    {
     "name": "stdout",
     "output_type": "stream",
     "text": [
      "\u001b[92mSuccessfully read simclr/random_points_LUCAS_54.csv.\u001b[0m\n"
     ]
    },
    {
     "name": "stderr",
     "output_type": "stream",
     "text": [
      "100%|██████████| 1000/1000 [09:07<00:00,  1.82it/s, unwanted_cover_percentage=0]     \n"
     ]
    },
    {
     "name": "stdout",
     "output_type": "stream",
     "text": [
      "\u001b[92mSuccessfully read simclr/random_points_LUCAS_55.csv.\u001b[0m\n"
     ]
    },
    {
     "name": "stderr",
     "output_type": "stream",
     "text": [
      "100%|██████████| 1000/1000 [08:37<00:00,  1.93it/s, unwanted_cover_percentage=0]     \n"
     ]
    },
    {
     "name": "stdout",
     "output_type": "stream",
     "text": [
      "\u001b[92mSuccessfully read simclr/random_points_LUCAS_56.csv.\u001b[0m\n"
     ]
    },
    {
     "name": "stderr",
     "output_type": "stream",
     "text": [
      "100%|██████████| 1000/1000 [09:14<00:00,  1.80it/s, unwanted_cover_percentage=0.072] \n"
     ]
    },
    {
     "name": "stdout",
     "output_type": "stream",
     "text": [
      "\u001b[92mSuccessfully read simclr/random_points_LUCAS_57.csv.\u001b[0m\n"
     ]
    },
    {
     "name": "stderr",
     "output_type": "stream",
     "text": [
      "100%|██████████| 1000/1000 [09:24<00:00,  1.77it/s, unwanted_cover_percentage=0.0109]\n"
     ]
    },
    {
     "name": "stdout",
     "output_type": "stream",
     "text": [
      "\u001b[92mSuccessfully read simclr/random_points_LUCAS_58.csv.\u001b[0m\n"
     ]
    },
    {
     "name": "stderr",
     "output_type": "stream",
     "text": [
      "100%|██████████| 1000/1000 [08:30<00:00,  1.96it/s, unwanted_cover_percentage=20.1]  \n"
     ]
    },
    {
     "name": "stdout",
     "output_type": "stream",
     "text": [
      "\u001b[92mSuccessfully read simclr/random_points_LUCAS_59.csv.\u001b[0m\n"
     ]
    },
    {
     "name": "stderr",
     "output_type": "stream",
     "text": [
      "100%|██████████| 1000/1000 [09:00<00:00,  1.85it/s, unwanted_cover_percentage=3.44]  \n"
     ]
    },
    {
     "name": "stdout",
     "output_type": "stream",
     "text": [
      "\u001b[92mSuccessfully read simclr/random_points_LUCAS_6.csv.\u001b[0m\n"
     ]
    },
    {
     "name": "stderr",
     "output_type": "stream",
     "text": [
      "100%|██████████| 1000/1000 [08:49<00:00,  1.89it/s, unwanted_cover_percentage=2.67]  \n"
     ]
    },
    {
     "name": "stdout",
     "output_type": "stream",
     "text": [
      "\u001b[92mSuccessfully read simclr/random_points_LUCAS_60.csv.\u001b[0m\n"
     ]
    },
    {
     "name": "stderr",
     "output_type": "stream",
     "text": [
      "100%|██████████| 1000/1000 [08:52<00:00,  1.88it/s, unwanted_cover_percentage=1.86]  \n"
     ]
    },
    {
     "name": "stdout",
     "output_type": "stream",
     "text": [
      "\u001b[92mSuccessfully read simclr/random_points_LUCAS_61.csv.\u001b[0m\n"
     ]
    },
    {
     "name": "stderr",
     "output_type": "stream",
     "text": [
      "100%|██████████| 1000/1000 [08:51<00:00,  1.88it/s, unwanted_cover_percentage=2.25]  \n"
     ]
    },
    {
     "name": "stdout",
     "output_type": "stream",
     "text": [
      "\u001b[92mSuccessfully read simclr/random_points_LUCAS_62.csv.\u001b[0m\n"
     ]
    },
    {
     "name": "stderr",
     "output_type": "stream",
     "text": [
      "100%|██████████| 1000/1000 [14:15<00:00,  1.17it/s, unwanted_cover_percentage=0.094] \n"
     ]
    },
    {
     "name": "stdout",
     "output_type": "stream",
     "text": [
      "\u001b[92mSuccessfully read simclr/random_points_LUCAS_63.csv.\u001b[0m\n"
     ]
    },
    {
     "name": "stderr",
     "output_type": "stream",
     "text": [
      "100%|██████████| 1000/1000 [09:09<00:00,  1.82it/s, unwanted_cover_percentage=1.82]  \n"
     ]
    },
    {
     "name": "stdout",
     "output_type": "stream",
     "text": [
      "\u001b[92mSuccessfully read simclr/random_points_LUCAS_64.csv.\u001b[0m\n"
     ]
    },
    {
     "name": "stderr",
     "output_type": "stream",
     "text": [
      "100%|██████████| 1000/1000 [08:55<00:00,  1.87it/s, unwanted_cover_percentage=2.7]    \n"
     ]
    },
    {
     "name": "stdout",
     "output_type": "stream",
     "text": [
      "\u001b[92mSuccessfully read simclr/random_points_LUCAS_65.csv.\u001b[0m\n"
     ]
    },
    {
     "name": "stderr",
     "output_type": "stream",
     "text": [
      "100%|██████████| 1000/1000 [08:49<00:00,  1.89it/s, unwanted_cover_percentage=7.06]  \n"
     ]
    },
    {
     "name": "stdout",
     "output_type": "stream",
     "text": [
      "\u001b[92mSuccessfully read simclr/random_points_LUCAS_66.csv.\u001b[0m\n"
     ]
    },
    {
     "name": "stderr",
     "output_type": "stream",
     "text": [
      "100%|██████████| 1000/1000 [09:27<00:00,  1.76it/s, unwanted_cover_percentage=0]     \n"
     ]
    },
    {
     "name": "stdout",
     "output_type": "stream",
     "text": [
      "\u001b[92mSuccessfully read simclr/random_points_LUCAS_67.csv.\u001b[0m\n"
     ]
    },
    {
     "name": "stderr",
     "output_type": "stream",
     "text": [
      "100%|██████████| 1000/1000 [08:36<00:00,  1.94it/s, unwanted_cover_percentage=0]     \n"
     ]
    },
    {
     "name": "stdout",
     "output_type": "stream",
     "text": [
      "\u001b[92mSuccessfully read simclr/random_points_LUCAS_68.csv.\u001b[0m\n"
     ]
    },
    {
     "name": "stderr",
     "output_type": "stream",
     "text": [
      "100%|██████████| 1000/1000 [08:30<00:00,  1.96it/s, unwanted_cover_percentage=0.127]  \n"
     ]
    },
    {
     "name": "stdout",
     "output_type": "stream",
     "text": [
      "\u001b[92mSuccessfully read simclr/random_points_LUCAS_69.csv.\u001b[0m\n"
     ]
    },
    {
     "name": "stderr",
     "output_type": "stream",
     "text": [
      "100%|██████████| 1000/1000 [08:11<00:00,  2.04it/s, unwanted_cover_percentage=0.0279]\n"
     ]
    },
    {
     "ename": "FileNotFoundError",
     "evalue": "[Errno 2] No such file or directory: 'simclr/random_points_LUCAS_7.csv'",
     "output_type": "error",
     "traceback": [
      "\u001b[1;31m---------------------------------------------------------------------------\u001b[0m",
      "\u001b[1;31mFileNotFoundError\u001b[0m                         Traceback (most recent call last)",
      "Input \u001b[1;32mIn [10]\u001b[0m, in \u001b[0;36m<cell line: 4>\u001b[1;34m()\u001b[0m\n\u001b[0;32m      2\u001b[0m csv_files \u001b[38;5;241m=\u001b[39m [SIMCLR_CSV_PATH \u001b[38;5;241m+\u001b[39m file \u001b[38;5;28;01mfor\u001b[39;00m file \u001b[38;5;129;01min\u001b[39;00m os\u001b[38;5;241m.\u001b[39mlistdir(SIMCLR_CSV_PATH) \u001b[38;5;28;01mif\u001b[39;00m file\u001b[38;5;241m.\u001b[39mendswith(\u001b[38;5;124m'\u001b[39m\u001b[38;5;124m.csv\u001b[39m\u001b[38;5;124m'\u001b[39m)]\n\u001b[0;32m      4\u001b[0m \u001b[38;5;28;01mfor\u001b[39;00m file \u001b[38;5;129;01min\u001b[39;00m csv_files:\n\u001b[1;32m----> 5\u001b[0m     df \u001b[38;5;241m=\u001b[39m \u001b[43mpd\u001b[49m\u001b[38;5;241;43m.\u001b[39;49m\u001b[43mread_csv\u001b[49m\u001b[43m(\u001b[49m\u001b[43mfile\u001b[49m\u001b[43m)\u001b[49m\n\u001b[0;32m      6\u001b[0m     \u001b[38;5;28mprint\u001b[39m(\u001b[38;5;124mf\u001b[39m\u001b[38;5;124m\"\u001b[39m\u001b[38;5;132;01m{\u001b[39;00mc\u001b[38;5;241m.\u001b[39mOKGREEN\u001b[38;5;132;01m}\u001b[39;00m\u001b[38;5;124mSuccessfully read \u001b[39m\u001b[38;5;132;01m{\u001b[39;00mfile\u001b[38;5;132;01m}\u001b[39;00m\u001b[38;5;124m.\u001b[39m\u001b[38;5;132;01m{\u001b[39;00mc\u001b[38;5;241m.\u001b[39mENDC\u001b[38;5;132;01m}\u001b[39;00m\u001b[38;5;124m\"\u001b[39m)\n\u001b[0;32m      7\u001b[0m     df[\u001b[38;5;124m'\u001b[39m\u001b[38;5;124munwanted_cover_percentage\u001b[39m\u001b[38;5;124m'\u001b[39m] \u001b[38;5;241m=\u001b[39m \u001b[38;5;241m0\u001b[39m\n",
      "File \u001b[1;32mc:\\Users\\nkakhani\\anaconda3\\envs\\EarthEngine\\lib\\site-packages\\pandas\\util\\_decorators.py:311\u001b[0m, in \u001b[0;36mdeprecate_nonkeyword_arguments.<locals>.decorate.<locals>.wrapper\u001b[1;34m(*args, **kwargs)\u001b[0m\n\u001b[0;32m    305\u001b[0m \u001b[38;5;28;01mif\u001b[39;00m \u001b[38;5;28mlen\u001b[39m(args) \u001b[38;5;241m>\u001b[39m num_allow_args:\n\u001b[0;32m    306\u001b[0m     warnings\u001b[38;5;241m.\u001b[39mwarn(\n\u001b[0;32m    307\u001b[0m         msg\u001b[38;5;241m.\u001b[39mformat(arguments\u001b[38;5;241m=\u001b[39marguments),\n\u001b[0;32m    308\u001b[0m         \u001b[38;5;167;01mFutureWarning\u001b[39;00m,\n\u001b[0;32m    309\u001b[0m         stacklevel\u001b[38;5;241m=\u001b[39mstacklevel,\n\u001b[0;32m    310\u001b[0m     )\n\u001b[1;32m--> 311\u001b[0m \u001b[38;5;28;01mreturn\u001b[39;00m \u001b[43mfunc\u001b[49m\u001b[43m(\u001b[49m\u001b[38;5;241;43m*\u001b[39;49m\u001b[43margs\u001b[49m\u001b[43m,\u001b[49m\u001b[43m \u001b[49m\u001b[38;5;241;43m*\u001b[39;49m\u001b[38;5;241;43m*\u001b[39;49m\u001b[43mkwargs\u001b[49m\u001b[43m)\u001b[49m\n",
      "File \u001b[1;32mc:\\Users\\nkakhani\\anaconda3\\envs\\EarthEngine\\lib\\site-packages\\pandas\\io\\parsers\\readers.py:680\u001b[0m, in \u001b[0;36mread_csv\u001b[1;34m(filepath_or_buffer, sep, delimiter, header, names, index_col, usecols, squeeze, prefix, mangle_dupe_cols, dtype, engine, converters, true_values, false_values, skipinitialspace, skiprows, skipfooter, nrows, na_values, keep_default_na, na_filter, verbose, skip_blank_lines, parse_dates, infer_datetime_format, keep_date_col, date_parser, dayfirst, cache_dates, iterator, chunksize, compression, thousands, decimal, lineterminator, quotechar, quoting, doublequote, escapechar, comment, encoding, encoding_errors, dialect, error_bad_lines, warn_bad_lines, on_bad_lines, delim_whitespace, low_memory, memory_map, float_precision, storage_options)\u001b[0m\n\u001b[0;32m    665\u001b[0m kwds_defaults \u001b[38;5;241m=\u001b[39m _refine_defaults_read(\n\u001b[0;32m    666\u001b[0m     dialect,\n\u001b[0;32m    667\u001b[0m     delimiter,\n\u001b[1;32m   (...)\u001b[0m\n\u001b[0;32m    676\u001b[0m     defaults\u001b[38;5;241m=\u001b[39m{\u001b[38;5;124m\"\u001b[39m\u001b[38;5;124mdelimiter\u001b[39m\u001b[38;5;124m\"\u001b[39m: \u001b[38;5;124m\"\u001b[39m\u001b[38;5;124m,\u001b[39m\u001b[38;5;124m\"\u001b[39m},\n\u001b[0;32m    677\u001b[0m )\n\u001b[0;32m    678\u001b[0m kwds\u001b[38;5;241m.\u001b[39mupdate(kwds_defaults)\n\u001b[1;32m--> 680\u001b[0m \u001b[38;5;28;01mreturn\u001b[39;00m \u001b[43m_read\u001b[49m\u001b[43m(\u001b[49m\u001b[43mfilepath_or_buffer\u001b[49m\u001b[43m,\u001b[49m\u001b[43m \u001b[49m\u001b[43mkwds\u001b[49m\u001b[43m)\u001b[49m\n",
      "File \u001b[1;32mc:\\Users\\nkakhani\\anaconda3\\envs\\EarthEngine\\lib\\site-packages\\pandas\\io\\parsers\\readers.py:575\u001b[0m, in \u001b[0;36m_read\u001b[1;34m(filepath_or_buffer, kwds)\u001b[0m\n\u001b[0;32m    572\u001b[0m _validate_names(kwds\u001b[38;5;241m.\u001b[39mget(\u001b[38;5;124m\"\u001b[39m\u001b[38;5;124mnames\u001b[39m\u001b[38;5;124m\"\u001b[39m, \u001b[38;5;28;01mNone\u001b[39;00m))\n\u001b[0;32m    574\u001b[0m \u001b[38;5;66;03m# Create the parser.\u001b[39;00m\n\u001b[1;32m--> 575\u001b[0m parser \u001b[38;5;241m=\u001b[39m \u001b[43mTextFileReader\u001b[49m\u001b[43m(\u001b[49m\u001b[43mfilepath_or_buffer\u001b[49m\u001b[43m,\u001b[49m\u001b[43m \u001b[49m\u001b[38;5;241;43m*\u001b[39;49m\u001b[38;5;241;43m*\u001b[39;49m\u001b[43mkwds\u001b[49m\u001b[43m)\u001b[49m\n\u001b[0;32m    577\u001b[0m \u001b[38;5;28;01mif\u001b[39;00m chunksize \u001b[38;5;129;01mor\u001b[39;00m iterator:\n\u001b[0;32m    578\u001b[0m     \u001b[38;5;28;01mreturn\u001b[39;00m parser\n",
      "File \u001b[1;32mc:\\Users\\nkakhani\\anaconda3\\envs\\EarthEngine\\lib\\site-packages\\pandas\\io\\parsers\\readers.py:934\u001b[0m, in \u001b[0;36mTextFileReader.__init__\u001b[1;34m(self, f, engine, **kwds)\u001b[0m\n\u001b[0;32m    931\u001b[0m     \u001b[38;5;28mself\u001b[39m\u001b[38;5;241m.\u001b[39moptions[\u001b[38;5;124m\"\u001b[39m\u001b[38;5;124mhas_index_names\u001b[39m\u001b[38;5;124m\"\u001b[39m] \u001b[38;5;241m=\u001b[39m kwds[\u001b[38;5;124m\"\u001b[39m\u001b[38;5;124mhas_index_names\u001b[39m\u001b[38;5;124m\"\u001b[39m]\n\u001b[0;32m    933\u001b[0m \u001b[38;5;28mself\u001b[39m\u001b[38;5;241m.\u001b[39mhandles: IOHandles \u001b[38;5;241m|\u001b[39m \u001b[38;5;28;01mNone\u001b[39;00m \u001b[38;5;241m=\u001b[39m \u001b[38;5;28;01mNone\u001b[39;00m\n\u001b[1;32m--> 934\u001b[0m \u001b[38;5;28mself\u001b[39m\u001b[38;5;241m.\u001b[39m_engine \u001b[38;5;241m=\u001b[39m \u001b[38;5;28;43mself\u001b[39;49m\u001b[38;5;241;43m.\u001b[39;49m\u001b[43m_make_engine\u001b[49m\u001b[43m(\u001b[49m\u001b[43mf\u001b[49m\u001b[43m,\u001b[49m\u001b[43m \u001b[49m\u001b[38;5;28;43mself\u001b[39;49m\u001b[38;5;241;43m.\u001b[39;49m\u001b[43mengine\u001b[49m\u001b[43m)\u001b[49m\n",
      "File \u001b[1;32mc:\\Users\\nkakhani\\anaconda3\\envs\\EarthEngine\\lib\\site-packages\\pandas\\io\\parsers\\readers.py:1218\u001b[0m, in \u001b[0;36mTextFileReader._make_engine\u001b[1;34m(self, f, engine)\u001b[0m\n\u001b[0;32m   1214\u001b[0m     mode \u001b[38;5;241m=\u001b[39m \u001b[38;5;124m\"\u001b[39m\u001b[38;5;124mrb\u001b[39m\u001b[38;5;124m\"\u001b[39m\n\u001b[0;32m   1215\u001b[0m \u001b[38;5;66;03m# error: No overload variant of \"get_handle\" matches argument types\u001b[39;00m\n\u001b[0;32m   1216\u001b[0m \u001b[38;5;66;03m# \"Union[str, PathLike[str], ReadCsvBuffer[bytes], ReadCsvBuffer[str]]\"\u001b[39;00m\n\u001b[0;32m   1217\u001b[0m \u001b[38;5;66;03m# , \"str\", \"bool\", \"Any\", \"Any\", \"Any\", \"Any\", \"Any\"\u001b[39;00m\n\u001b[1;32m-> 1218\u001b[0m \u001b[38;5;28mself\u001b[39m\u001b[38;5;241m.\u001b[39mhandles \u001b[38;5;241m=\u001b[39m \u001b[43mget_handle\u001b[49m\u001b[43m(\u001b[49m\u001b[43m  \u001b[49m\u001b[38;5;66;43;03m# type: ignore[call-overload]\u001b[39;49;00m\n\u001b[0;32m   1219\u001b[0m \u001b[43m    \u001b[49m\u001b[43mf\u001b[49m\u001b[43m,\u001b[49m\n\u001b[0;32m   1220\u001b[0m \u001b[43m    \u001b[49m\u001b[43mmode\u001b[49m\u001b[43m,\u001b[49m\n\u001b[0;32m   1221\u001b[0m \u001b[43m    \u001b[49m\u001b[43mencoding\u001b[49m\u001b[38;5;241;43m=\u001b[39;49m\u001b[38;5;28;43mself\u001b[39;49m\u001b[38;5;241;43m.\u001b[39;49m\u001b[43moptions\u001b[49m\u001b[38;5;241;43m.\u001b[39;49m\u001b[43mget\u001b[49m\u001b[43m(\u001b[49m\u001b[38;5;124;43m\"\u001b[39;49m\u001b[38;5;124;43mencoding\u001b[39;49m\u001b[38;5;124;43m\"\u001b[39;49m\u001b[43m,\u001b[49m\u001b[43m \u001b[49m\u001b[38;5;28;43;01mNone\u001b[39;49;00m\u001b[43m)\u001b[49m\u001b[43m,\u001b[49m\n\u001b[0;32m   1222\u001b[0m \u001b[43m    \u001b[49m\u001b[43mcompression\u001b[49m\u001b[38;5;241;43m=\u001b[39;49m\u001b[38;5;28;43mself\u001b[39;49m\u001b[38;5;241;43m.\u001b[39;49m\u001b[43moptions\u001b[49m\u001b[38;5;241;43m.\u001b[39;49m\u001b[43mget\u001b[49m\u001b[43m(\u001b[49m\u001b[38;5;124;43m\"\u001b[39;49m\u001b[38;5;124;43mcompression\u001b[39;49m\u001b[38;5;124;43m\"\u001b[39;49m\u001b[43m,\u001b[49m\u001b[43m \u001b[49m\u001b[38;5;28;43;01mNone\u001b[39;49;00m\u001b[43m)\u001b[49m\u001b[43m,\u001b[49m\n\u001b[0;32m   1223\u001b[0m \u001b[43m    \u001b[49m\u001b[43mmemory_map\u001b[49m\u001b[38;5;241;43m=\u001b[39;49m\u001b[38;5;28;43mself\u001b[39;49m\u001b[38;5;241;43m.\u001b[39;49m\u001b[43moptions\u001b[49m\u001b[38;5;241;43m.\u001b[39;49m\u001b[43mget\u001b[49m\u001b[43m(\u001b[49m\u001b[38;5;124;43m\"\u001b[39;49m\u001b[38;5;124;43mmemory_map\u001b[39;49m\u001b[38;5;124;43m\"\u001b[39;49m\u001b[43m,\u001b[49m\u001b[43m \u001b[49m\u001b[38;5;28;43;01mFalse\u001b[39;49;00m\u001b[43m)\u001b[49m\u001b[43m,\u001b[49m\n\u001b[0;32m   1224\u001b[0m \u001b[43m    \u001b[49m\u001b[43mis_text\u001b[49m\u001b[38;5;241;43m=\u001b[39;49m\u001b[43mis_text\u001b[49m\u001b[43m,\u001b[49m\n\u001b[0;32m   1225\u001b[0m \u001b[43m    \u001b[49m\u001b[43merrors\u001b[49m\u001b[38;5;241;43m=\u001b[39;49m\u001b[38;5;28;43mself\u001b[39;49m\u001b[38;5;241;43m.\u001b[39;49m\u001b[43moptions\u001b[49m\u001b[38;5;241;43m.\u001b[39;49m\u001b[43mget\u001b[49m\u001b[43m(\u001b[49m\u001b[38;5;124;43m\"\u001b[39;49m\u001b[38;5;124;43mencoding_errors\u001b[39;49m\u001b[38;5;124;43m\"\u001b[39;49m\u001b[43m,\u001b[49m\u001b[43m \u001b[49m\u001b[38;5;124;43m\"\u001b[39;49m\u001b[38;5;124;43mstrict\u001b[39;49m\u001b[38;5;124;43m\"\u001b[39;49m\u001b[43m)\u001b[49m\u001b[43m,\u001b[49m\n\u001b[0;32m   1226\u001b[0m \u001b[43m    \u001b[49m\u001b[43mstorage_options\u001b[49m\u001b[38;5;241;43m=\u001b[39;49m\u001b[38;5;28;43mself\u001b[39;49m\u001b[38;5;241;43m.\u001b[39;49m\u001b[43moptions\u001b[49m\u001b[38;5;241;43m.\u001b[39;49m\u001b[43mget\u001b[49m\u001b[43m(\u001b[49m\u001b[38;5;124;43m\"\u001b[39;49m\u001b[38;5;124;43mstorage_options\u001b[39;49m\u001b[38;5;124;43m\"\u001b[39;49m\u001b[43m,\u001b[49m\u001b[43m \u001b[49m\u001b[38;5;28;43;01mNone\u001b[39;49;00m\u001b[43m)\u001b[49m\u001b[43m,\u001b[49m\n\u001b[0;32m   1227\u001b[0m \u001b[43m\u001b[49m\u001b[43m)\u001b[49m\n\u001b[0;32m   1228\u001b[0m \u001b[38;5;28;01massert\u001b[39;00m \u001b[38;5;28mself\u001b[39m\u001b[38;5;241m.\u001b[39mhandles \u001b[38;5;129;01mis\u001b[39;00m \u001b[38;5;129;01mnot\u001b[39;00m \u001b[38;5;28;01mNone\u001b[39;00m\n\u001b[0;32m   1229\u001b[0m f \u001b[38;5;241m=\u001b[39m \u001b[38;5;28mself\u001b[39m\u001b[38;5;241m.\u001b[39mhandles\u001b[38;5;241m.\u001b[39mhandle\n",
      "File \u001b[1;32mc:\\Users\\nkakhani\\anaconda3\\envs\\EarthEngine\\lib\\site-packages\\pandas\\io\\common.py:786\u001b[0m, in \u001b[0;36mget_handle\u001b[1;34m(path_or_buf, mode, encoding, compression, memory_map, is_text, errors, storage_options)\u001b[0m\n\u001b[0;32m    781\u001b[0m \u001b[38;5;28;01melif\u001b[39;00m \u001b[38;5;28misinstance\u001b[39m(handle, \u001b[38;5;28mstr\u001b[39m):\n\u001b[0;32m    782\u001b[0m     \u001b[38;5;66;03m# Check whether the filename is to be opened in binary mode.\u001b[39;00m\n\u001b[0;32m    783\u001b[0m     \u001b[38;5;66;03m# Binary mode does not support 'encoding' and 'newline'.\u001b[39;00m\n\u001b[0;32m    784\u001b[0m     \u001b[38;5;28;01mif\u001b[39;00m ioargs\u001b[38;5;241m.\u001b[39mencoding \u001b[38;5;129;01mand\u001b[39;00m \u001b[38;5;124m\"\u001b[39m\u001b[38;5;124mb\u001b[39m\u001b[38;5;124m\"\u001b[39m \u001b[38;5;129;01mnot\u001b[39;00m \u001b[38;5;129;01min\u001b[39;00m ioargs\u001b[38;5;241m.\u001b[39mmode:\n\u001b[0;32m    785\u001b[0m         \u001b[38;5;66;03m# Encoding\u001b[39;00m\n\u001b[1;32m--> 786\u001b[0m         handle \u001b[38;5;241m=\u001b[39m \u001b[38;5;28;43mopen\u001b[39;49m\u001b[43m(\u001b[49m\n\u001b[0;32m    787\u001b[0m \u001b[43m            \u001b[49m\u001b[43mhandle\u001b[49m\u001b[43m,\u001b[49m\n\u001b[0;32m    788\u001b[0m \u001b[43m            \u001b[49m\u001b[43mioargs\u001b[49m\u001b[38;5;241;43m.\u001b[39;49m\u001b[43mmode\u001b[49m\u001b[43m,\u001b[49m\n\u001b[0;32m    789\u001b[0m \u001b[43m            \u001b[49m\u001b[43mencoding\u001b[49m\u001b[38;5;241;43m=\u001b[39;49m\u001b[43mioargs\u001b[49m\u001b[38;5;241;43m.\u001b[39;49m\u001b[43mencoding\u001b[49m\u001b[43m,\u001b[49m\n\u001b[0;32m    790\u001b[0m \u001b[43m            \u001b[49m\u001b[43merrors\u001b[49m\u001b[38;5;241;43m=\u001b[39;49m\u001b[43merrors\u001b[49m\u001b[43m,\u001b[49m\n\u001b[0;32m    791\u001b[0m \u001b[43m            \u001b[49m\u001b[43mnewline\u001b[49m\u001b[38;5;241;43m=\u001b[39;49m\u001b[38;5;124;43m\"\u001b[39;49m\u001b[38;5;124;43m\"\u001b[39;49m\u001b[43m,\u001b[49m\n\u001b[0;32m    792\u001b[0m \u001b[43m        \u001b[49m\u001b[43m)\u001b[49m\n\u001b[0;32m    793\u001b[0m     \u001b[38;5;28;01melse\u001b[39;00m:\n\u001b[0;32m    794\u001b[0m         \u001b[38;5;66;03m# Binary mode\u001b[39;00m\n\u001b[0;32m    795\u001b[0m         handle \u001b[38;5;241m=\u001b[39m \u001b[38;5;28mopen\u001b[39m(handle, ioargs\u001b[38;5;241m.\u001b[39mmode)\n",
      "\u001b[1;31mFileNotFoundError\u001b[0m: [Errno 2] No such file or directory: 'simclr/random_points_LUCAS_7.csv'"
     ]
    }
   ],
   "source": [
    "# read csv files in SIMCLR_CSV_PATH as a pandas dataframe\n",
    "csv_files = [SIMCLR_CSV_PATH + file for file in os.listdir(SIMCLR_CSV_PATH) if file.endswith('.csv')]\n",
    "\n",
    "for file in csv_files:\n",
    "    df = pd.read_csv(file)\n",
    "    print(f\"{c.OKGREEN}Successfully read {file}.{c.ENDC}\")\n",
    "    df['unwanted_cover_percentage'] = 0\n",
    "    loop = tqdm(df.iterrows(), total=df.shape[0], position=0, leave=True)\n",
    "    for point in loop:\n",
    "        lat = point[1]['lat']\n",
    "        lon = point[1]['long']\n",
    "        roi = get_square_roi(lat,lon, roi_size=1920, return_gee_object=True)\n",
    "        land_cover = ee.ImageCollection('ESA/WorldCover/v100').first().clip(roi)\n",
    "        percentage = calculate_land_cover_percentage(land_cover, [80,90,50,100,95], roi=roi, scale=30).getInfo()\n",
    "        df.loc[point[0], 'unwanted_cover'] = percentage\n",
    "        loop.set_postfix({'unwanted_cover_percentage': percentage})\n",
    "        # save the dataframe to the same csv file\n",
    "    df.to_csv(file, index=True, index_label='OID_')"
   ]
  },
  {
   "cell_type": "code",
   "execution_count": null,
   "metadata": {},
   "outputs": [],
   "source": [
    "# # read csv files in SIMCLR_CSV_PATH as a pandas dataframe\n",
    "# csv_files = [SIMCLR_CSV_PATH + file for file in os.listdir(SIMCLR_CSV_PATH) if file.endswith('.csv')]\n",
    "\n",
    "# for file in csv_files:\n",
    "#     df = pd.read_csv(file)\n",
    "#     print(f\"Successfully read {file}.\")\n",
    "#     df['unwanted_cover_percentage'] = 0\n",
    "#     loop = tqdm(df.iterrows(), total=df.shape[0], position=0, leave=True)\n",
    "#     percentage_tasks = []\n",
    "#     for point in loop:\n",
    "#         lat = point[1]['lat']\n",
    "#         lon = point[1]['long']\n",
    "#         roi = get_square_roi(lat,lon, roi_size=1920, return_gee_object=True)\n",
    "#         land_cover = ee.ImageCollection('ESA/WorldCover/v100').first().clip(roi)\n",
    "#         percentage_task = calculate_land_cover_percentage(land_cover, [80,90,50,100,95], scale=30, roi=roi)\n",
    "#         percentage_tasks.append(percentage_task)\n",
    "#         loop.set_postfix({'unwanted_cover_percentage': 'Calculating...'})\n",
    "\n",
    "#     # After the loop, call getInfo() on all tasks\n",
    "#     for i, task in enumerate(tqdm(percentage_tasks, desc='Getting info', position=0, leave=True)):\n",
    "#         df.loc[i, 'unwanted_cover'] = task.getInfo()\n",
    "\n",
    "#     # save the dataframe to the same csv file\n",
    "#     df.to_csv(file, index=True, index_label='OID_')"
   ]
  },
  {
   "cell_type": "code",
   "execution_count": null,
   "metadata": {},
   "outputs": [],
   "source": []
  },
  {
   "cell_type": "code",
   "execution_count": null,
   "metadata": {},
   "outputs": [],
   "source": []
  }
 ],
 "metadata": {
  "kernelspec": {
   "display_name": "pytorchGPU",
   "language": "python",
   "name": "python3"
  },
  "language_info": {
   "codemirror_mode": {
    "name": "ipython",
    "version": 3
   },
   "file_extension": ".py",
   "mimetype": "text/x-python",
   "name": "python",
   "nbconvert_exporter": "python",
   "pygments_lexer": "ipython3",
   "version": "3.8.13"
  }
 },
 "nbformat": 4,
 "nbformat_minor": 2
}

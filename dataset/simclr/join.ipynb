{
 "cells": [
  {
   "cell_type": "code",
   "execution_count": 16,
   "metadata": {},
   "outputs": [],
   "source": [
    "import os\n",
    "import pandas as pd\n",
    "\n",
    "# set the path to the directory containing the csv files\n",
    "path = \"D:\\python\\SoilNet-PreRelease\\dataset\\simclr\"\n",
    "\n",
    "# create an empty list to store the dataframes\n",
    "dfs = []\n",
    "\n",
    "# loop through all the files in the directory\n",
    "for file in os.listdir(path):\n",
    "    if file.endswith(\".csv\"):\n",
    "        # read the csv file into a dataframe\n",
    "        df = pd.read_csv(os.path.join(path, file))\n",
    "        # append the dataframe to the list\n",
    "        dfs.append(df)\n",
    "\n",
    "# concatenate the dataframes into a single dataframe\n",
    "result = pd.concat(dfs, axis=0, ignore_index=True)\n",
    "\n",
    "# save as csv\n",
    "result.to_csv('simclr.csv', index=False)\n"
   ]
  },
  {
   "cell_type": "code",
   "execution_count": 17,
   "metadata": {},
   "outputs": [
    {
     "data": {
      "text/plain": [
       "<Axes: >"
      ]
     },
     "execution_count": 17,
     "metadata": {},
     "output_type": "execute_result"
    },
    {
     "data": {
      "image/png": "[encoded data removed]",
      "text/plain": [
       "<Figure size 640x480 with 1 Axes>"
      ]
     },
     "metadata": {},
     "output_type": "display_data"
    }
   ],
   "source": [
    "result['unwanted_cover'].hist()\n"
   ]
  },
  {
   "cell_type": "code",
   "execution_count": 18,
   "metadata": {},
   "outputs": [],
   "source": [
    "result.drop('unwanted_cover_percentage', axis=1, inplace=True)\n",
    "result.drop('OID_.1', axis=1, inplace=True)\n"
   ]
  },
  {
   "cell_type": "code",
   "execution_count": 19,
   "metadata": {},
   "outputs": [
    {
     "data": {
      "text/html": [
       "<div>\n",
       "<style scoped>\n",
       "    .dataframe tbody tr th:only-of-type {\n",
       "        vertical-align: middle;\n",
       "    }\n",
       "\n",
       "    .dataframe tbody tr th {\n",
       "        vertical-align: top;\n",
       "    }\n",
       "\n",
       "    .dataframe thead th {\n",
       "        text-align: right;\n",
       "    }\n",
       "</style>\n",
       "<table border=\"1\" class=\"dataframe\">\n",
       "  <thead>\n",
       "    <tr style=\"text-align: right;\">\n",
       "      <th></th>\n",
       "      <th>OID_</th>\n",
       "      <th>Point_ID</th>\n",
       "      <th>long</th>\n",
       "      <th>lat</th>\n",
       "      <th>OC</th>\n",
       "      <th>unwanted_cover</th>\n",
       "    </tr>\n",
       "  </thead>\n",
       "  <tbody>\n",
       "    <tr>\n",
       "      <th>0</th>\n",
       "      <td>0</td>\n",
       "      <td>10000000</td>\n",
       "      <td>15.199207</td>\n",
       "      <td>51.085627</td>\n",
       "      <td>0.0</td>\n",
       "      <td>1.450103</td>\n",
       "    </tr>\n",
       "    <tr>\n",
       "      <th>1</th>\n",
       "      <td>1</td>\n",
       "      <td>10000001</td>\n",
       "      <td>65.327603</td>\n",
       "      <td>67.841837</td>\n",
       "      <td>0.0</td>\n",
       "      <td>19.997281</td>\n",
       "    </tr>\n",
       "    <tr>\n",
       "      <th>2</th>\n",
       "      <td>2</td>\n",
       "      <td>10000002</td>\n",
       "      <td>64.489674</td>\n",
       "      <td>66.816687</td>\n",
       "      <td>0.0</td>\n",
       "      <td>31.578916</td>\n",
       "    </tr>\n",
       "    <tr>\n",
       "      <th>3</th>\n",
       "      <td>3</td>\n",
       "      <td>10000003</td>\n",
       "      <td>15.913581</td>\n",
       "      <td>47.762230</td>\n",
       "      <td>0.0</td>\n",
       "      <td>1.716912</td>\n",
       "    </tr>\n",
       "    <tr>\n",
       "      <th>4</th>\n",
       "      <td>4</td>\n",
       "      <td>10000004</td>\n",
       "      <td>41.153108</td>\n",
       "      <td>49.221456</td>\n",
       "      <td>0.0</td>\n",
       "      <td>0.143495</td>\n",
       "    </tr>\n",
       "  </tbody>\n",
       "</table>\n",
       "</div>"
      ],
      "text/plain": [
       "   OID_  Point_ID       long        lat   OC  unwanted_cover\n",
       "0     0  10000000  15.199207  51.085627  0.0        1.450103\n",
       "1     1  10000001  65.327603  67.841837  0.0       19.997281\n",
       "2     2  10000002  64.489674  66.816687  0.0       31.578916\n",
       "3     3  10000003  15.913581  47.762230  0.0        1.716912\n",
       "4     4  10000004  41.153108  49.221456  0.0        0.143495"
      ]
     },
     "execution_count": 19,
     "metadata": {},
     "output_type": "execute_result"
    }
   ],
   "source": [
    "result.head()"
   ]
  },
  {
   "cell_type": "code",
   "execution_count": 20,
   "metadata": {},
   "outputs": [
    {
     "data": {
      "text/plain": [
       "OID_              175384\n",
       "Point_ID          175384\n",
       "long              175384\n",
       "lat               175384\n",
       "OC                175384\n",
       "unwanted_cover    175384\n",
       "dtype: int64"
      ]
     },
     "execution_count": 20,
     "metadata": {},
     "output_type": "execute_result"
    }
   ],
   "source": [
    "result = result[result['unwanted_cover'] <= 20]\n",
    "result.count()"
   ]
  },
  {
   "cell_type": "code",
   "execution_count": null,
   "metadata": {},
   "outputs": [],
   "source": []
  },
  {
   "cell_type": "code",
   "execution_count": 21,
   "metadata": {},
   "outputs": [],
   "source": [
    "result.to_csv('simclr.csv', index=False)"
   ]
  },
  {
   "cell_type": "code",
   "execution_count": null,
   "metadata": {},
   "outputs": [],
   "source": []
  }
 ],
 "metadata": {
  "kernelspec": {
   "display_name": "geemap",
   "language": "python",
   "name": "python3"
  },
  "language_info": {
   "codemirror_mode": {
    "name": "ipython",
    "version": 3
   },
   "file_extension": ".py",
   "mimetype": "text/x-python",
   "name": "python",
   "nbconvert_exporter": "python",
   "pygments_lexer": "ipython3",
   "version": "3.9.16"
  }
 },
 "nbformat": 4,
 "nbformat_minor": 2
}

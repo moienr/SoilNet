{
 "cells": [
  {
   "cell_type": "code",
   "execution_count": 1,
   "metadata": {},
   "outputs": [
    {
     "name": "stderr",
     "output_type": "stream",
     "text": [
      "c:\\Users\\moi3n\\miniconda3\\envs\\pytorchGPU\\lib\\site-packages\\tqdm\\auto.py:21: TqdmWarning: IProgress not found. Please update jupyter and ipywidgets. See https://ipywidgets.readthedocs.io/en/stable/user_install.html\n",
      "  from .autonotebook import tqdm as notebook_tqdm\n"
     ]
    }
   ],
   "source": [
    "from train_utils import *\n",
    "import torch\n",
    "from torch.utils.data import DataLoader\n",
    "from dataset.dataset_loader import SNDataset,SNDatasetClimate, myNormalize, myToTensor, Augmentations\n",
    "from torchvision import transforms\n",
    "import random\n",
    "import numpy as np\n",
    "from dataset.utils.utils import TextColors as tc\n",
    "from plot_utils.plot import plot_train_test_losses\n",
    "from datetime import date, datetime\n",
    "import torch.nn.functional as F\n",
    "import cv2\n",
    "import json"
   ]
  },
  {
   "cell_type": "code",
   "execution_count": 2,
   "metadata": {},
   "outputs": [],
   "source": [
    "# create a folder called 'results' in the current directory if it doesn't exist\n",
    "if not os.path.exists('results'):\n",
    "    os.mkdir('results')"
   ]
  },
  {
   "cell_type": "code",
   "execution_count": 3,
   "metadata": {},
   "outputs": [
    {
     "name": "stdout",
     "output_type": "stream",
     "text": [
      "Current Date and Time: 2023-05-25 11:53:41\n"
     ]
    }
   ],
   "source": [
    "# Format the date and time\n",
    "now = datetime.now()\n",
    "start_string = now.strftime(\"%Y-%m-%d %H:%M:%S\")\n",
    "print(\"Current Date and Time:\", start_string)"
   ]
  },
  {
   "cell_type": "code",
   "execution_count": 4,
   "metadata": {},
   "outputs": [
    {
     "data": {
      "text/plain": [
       "'Moien'"
      ]
     },
     "execution_count": 4,
     "metadata": {},
     "output_type": "execute_result"
    }
   ],
   "source": [
    "import os\n",
    "os.getcwd()\n",
    "\n",
    "NAFISEH = \"Nafiseh\"\n",
    "MOIEN = \"Moien\"\n",
    "\n",
    "if \"d:\" in os.getcwd():\n",
    "    USER = MOIEN\n",
    "elif \"c:\" in os.getcwd():\n",
    "    USER = NAFISEH\n",
    "else:\n",
    "    raise Exception(\"Unknown user\")\n",
    "\n",
    "USER"
   ]
  },
  {
   "cell_type": "code",
   "execution_count": 5,
   "metadata": {},
   "outputs": [
    {
     "data": {
      "text/plain": [
       "'cuda'"
      ]
     },
     "execution_count": 5,
     "metadata": {},
     "output_type": "execute_result"
    }
   ],
   "source": [
    "# Setup device-agnostic code\n",
    "device = \"cuda\" if torch.cuda.is_available() else \"cpu\"\n",
    "device"
   ]
  },
  {
   "cell_type": "code",
   "execution_count": 6,
   "metadata": {},
   "outputs": [],
   "source": [
    "# CONFIG\n",
    "NUM_WORKERS = 6 if USER == NAFISEH else 2\n",
    "TRAIN_BATCH_SIZE = 32 if USER == NAFISEH else 4\n",
    "TEST_BATCH_SIZE = 32 if USER == NAFISEH else 4\n",
    "LEARNING_RATE = 1e-4 if USER == NAFISEH else 1e-4\n",
    "NUM_EPOCHS = 50 if USER == NAFISEH else 2\n",
    "LR_SCHEDULER = \"step\" # step, plateau or None\n",
    "\n",
    "OC_MAX = 87\n",
    "USE_SRTM = True\n",
    "\n",
    "USE_SPATIAL_ATTENTION = True if USER == NAFISEH else True\n",
    "RESNET_VERSION = 'v1' # v1 or v2\n",
    "USE_LSTM_BRANCH = False"
   ]
  },
  {
   "cell_type": "code",
   "execution_count": 7,
   "metadata": {},
   "outputs": [],
   "source": [
    "\n",
    "if USE_SRTM:\n",
    "    mynorm = myNormalize(img_bands_min_max =[[(0,7),(0,1)], [(7,12),(-1,1)], [(12), (-4,2963)], [(13), (0, 90)]], oc_min = 0, oc_max = OC_MAX)\n",
    "else:\n",
    "    mynorm = myNormalize(img_bands_min_max =[[(0,7),(0,1)], [(7,12),(-1,1)]], oc_min = 0, oc_max = OC_MAX)\n",
    "    \n",
    "my_to_tensor = myToTensor()\n",
    "my_augmentation = Augmentations()\n",
    "train_transform = transforms.Compose([mynorm, my_to_tensor,my_augmentation])\n",
    "test_transform = transforms.Compose([mynorm, my_to_tensor])"
   ]
  },
  {
   "cell_type": "code",
   "execution_count": 8,
   "metadata": {},
   "outputs": [],
   "source": [
    "if USER == MOIEN:\n",
    "    train_l8_folder_path = 'D:\\python\\SoilNet\\dataset\\l8_images\\\\train\\\\'\n",
    "    test_l8_folder_path = 'D:\\python\\SoilNet\\dataset\\l8_images\\\\test\\\\'\n",
    "    val_l8_folder_path = 'D:\\python\\SoilNet\\dataset\\l8_images\\\\val\\\\'\n",
    "    lucas_csv_path = 'D:\\python\\SoilNet\\dataset\\LUCAS_2015_all.csv'\n",
    "    climate_csv_folder_path = \"D:\\\\python\\\\SoilNet\\\\dataset\\\\Climate\\\\All\\\\filled\\\\\"\n",
    "    \n",
    "elif USER == NAFISEH:\n",
    "    train_l8_folder_path = 'C:\\\\Users\\\\nkakhani\\\\_Multimodal\\\\SoilNet-3\\\\SoilNet\\\\dataset\\\\l8_images\\\\train'\n",
    "    test_l8_folder_path = 'C:\\\\Users\\\\nkakhani\\\\_Multimodal\\\\SoilNet-3\\\\SoilNet\\\\dataset\\\\l8_images\\\\test'\n",
    "    val_l8_folder_path = 'C:\\\\Users\\\\nkakhani\\\\_Multimodal\\\\SoilNet-3\\\\SoilNet\\\\dataset\\\\l8_images\\\\val'\n",
    "    lucas_csv_path = 'C:\\\\Users\\\\nkakhani\\\\_Multimodal\\\\SoilNet-3\\\\SoilNet\\\\dataset\\\\LUCAS_2015_all.csv'\n",
    "    climate_csv_folder_path = 'C:\\\\Users\\\\nkakhani\\\\_Multimodal\\\\SoilNet-3\\\\SoilNet\\\\dataset\\\\Climate\\\\All\\\\filled'"
   ]
  },
  {
   "cell_type": "code",
   "execution_count": 9,
   "metadata": {},
   "outputs": [],
   "source": [
    "bands = [0,1,2,3,4,5,6,7,8,9,10,11] if not USE_SRTM else [0,1,2,3,4,5,6,7,8,9,10,11,12,13]\n",
    "\n",
    "\n",
    "################################# IF Not USE_LSTM_BRANCH ###############################\n",
    "if not USE_LSTM_BRANCH: # NOT USING THE CLIMATE DATA\n",
    "    train_ds = SNDataset(train_l8_folder_path, lucas_csv_path,l8_bands=bands, transform=train_transform)\n",
    "    test_ds =  SNDataset(test_l8_folder_path, lucas_csv_path,l8_bands=bands, transform=test_transform)\n",
    "    val_ds = SNDataset(val_l8_folder_path, lucas_csv_path,l8_bands=bands, transform=test_transform)\n",
    "    test_ds_w_id =  SNDataset(test_l8_folder_path, lucas_csv_path,l8_bands=bands, transform=test_transform, return_point_id=True)\n",
    "    \n",
    "################################### IF USE_LSTM_BRANCH #################################\n",
    "else: # USING THE CLIMATE DATA\n",
    "    train_ds = SNDatasetClimate(train_l8_folder_path,\n",
    "                                    lucas_csv_path,\n",
    "                                    climate_csv_folder_path,\n",
    "                                    l8_bands=bands, transform=train_transform)\n",
    "\n",
    "    test_ds = SNDatasetClimate(test_l8_folder_path,\n",
    "                                lucas_csv_path,\n",
    "                                climate_csv_folder_path,\n",
    "                                l8_bands=bands, transform=test_transform)\n",
    "    \n",
    "    val_ds = SNDatasetClimate(val_l8_folder_path,\n",
    "                                lucas_csv_path,\n",
    "                                climate_csv_folder_path,\n",
    "                                l8_bands=bands, transform=test_transform)\n",
    "    \n",
    "    test_ds_w_id = SNDatasetClimate(test_l8_folder_path,\n",
    "                                lucas_csv_path,\n",
    "                                climate_csv_folder_path,\n",
    "                                l8_bands=bands, transform=test_transform, return_point_id=True)\n",
    "    \n"
   ]
  },
  {
   "cell_type": "code",
   "execution_count": 10,
   "metadata": {},
   "outputs": [
    {
     "data": {
      "text/plain": [
       "14"
      ]
     },
     "execution_count": 10,
     "metadata": {},
     "output_type": "execute_result"
    }
   ],
   "source": [
    "# COUNTING the csv files in the csv folder\n",
    "CSV_FILES = [f for f in os.listdir(climate_csv_folder_path) if f.endswith('.csv')]\n",
    "NUM_CLIMATE_FEATURES = len(CSV_FILES)\n",
    "NUM_CLIMATE_FEATURES"
   ]
  },
  {
   "cell_type": "code",
   "execution_count": 11,
   "metadata": {},
   "outputs": [],
   "source": [
    "from soilnet.soil_net import SoilNetFC, ResNet, ResNetLSTM"
   ]
  },
  {
   "cell_type": "code",
   "execution_count": 12,
   "metadata": {},
   "outputs": [],
   "source": [
    "# train_dl = DataLoader(train_ds, batch_size=TRAIN_BATCH_SIZE, shuffle=True, num_workers=NUM_WORKERS)\n",
    "# # Get image and label from custom DataLoader\n",
    "# img_custom, climate,label_custom = next(iter(train_dl))\n",
    "# print(f\"Image shape: {img_custom.shape} -> [batch_size, color_channels, height, width]\")\n",
    "# print(f\"Climate shape: {climate.shape} -> [batch_size, climate_channels]\")\n",
    "# print(f\"Label shape: {label_custom.shape}\")\n",
    "# img_gpu = img_custom.to(device)\n",
    "# print(img_gpu.device, img_gpu.shape)\n",
    "# print(img_gpu.shape)\n",
    "# y = model(img_gpu)\n",
    "# y.detach()"
   ]
  },
  {
   "cell_type": "code",
   "execution_count": 13,
   "metadata": {},
   "outputs": [],
   "source": [
    "cv_results = {\"train_loss\": [],\n",
    "               \"val_loss\": [],\n",
    "               \"MAE\": [],\n",
    "               \"RMSE\": [],\n",
    "               \"R2\": []\n",
    "    }"
   ]
  },
  {
   "cell_type": "code",
   "execution_count": 14,
   "metadata": {},
   "outputs": [
    {
     "name": "stdout",
     "output_type": "stream",
     "text": [
      "Current Date and Time: D_2023_05_25_T_11_53\n"
     ]
    }
   ],
   "source": [
    "from datetime import date, datetime\n",
    "# Format the date and time\n",
    "now = datetime.now()\n",
    "run_name = now.strftime(\"D_%Y_%m_%d_T_%H_%M\")\n",
    "print(\"Current Date and Time:\", run_name)\n",
    "# create a folder called 'results' in the current directory if it doesn't exist\n",
    "if not os.path.exists('results'):\n",
    "    os.mkdir('results')"
   ]
  },
  {
   "cell_type": "code",
   "execution_count": 15,
   "metadata": {},
   "outputs": [],
   "source": [
    "SEEDS = [1] if USER == MOIEN else [1, 4, 69, 75, 79, 128, 474, 786, 2048, 3333]"
   ]
  },
  {
   "cell_type": "code",
   "execution_count": 16,
   "metadata": {},
   "outputs": [
    {
     "name": "stdout",
     "output_type": "stream",
     "text": [
      "\u001b[1;45m CROSS VAL 1 \u001b[0m\n",
      "Adjusting learning rate of group 0 to 1.0000e-04.\n",
      "\u001b[92m Epoch 1\n",
      "------------------------------- \u001b[0m\n"
     ]
    },
    {
     "name": "stderr",
     "output_type": "stream",
     "text": [
      "100%|██████████| 13/13 [00:08<00:00,  1.61it/s, Train_Loss=0.12] \n"
     ]
    },
    {
     "name": "stdout",
     "output_type": "stream",
     "text": [
      "\u001b[96m Epoch 1 Results: |  train_loss: 0.12036340970259446 |  val_loss: 0.11771835673313874  \u001b[0m\n",
      "\n",
      "Adjusting learning rate of group 0 to 1.0000e-04.\n",
      "\u001b[92m Epoch 2\n",
      "------------------------------- \u001b[0m\n"
     ]
    },
    {
     "name": "stderr",
     "output_type": "stream",
     "text": [
      "100%|██████████| 13/13 [00:05<00:00,  2.51it/s, Train_Loss=0.112]\n"
     ]
    },
    {
     "name": "stdout",
     "output_type": "stream",
     "text": [
      "\u001b[96m Epoch 2 Results: |  train_loss: 0.11152823068774663 |  val_loss: 0.11970322550489353  \u001b[0m\n",
      "\n",
      "Adjusting learning rate of group 0 to 1.0000e-04.\n",
      "Saving checkpoint=> Done!\n",
      "\u001b[1;42m MAE improved to 0.09629625683793655 \u001b[0m\n"
     ]
    }
   ],
   "source": [
    "best_mae = 1000 # just a big number, since our data is normalized between 0 and 1, mae is between 0 and 1 too.\n",
    "best_seed = SEEDS[0]\n",
    "for idx, seed in enumerate(SEEDS):\n",
    "    print(tc.BOLD_BAKGROUNDs.PURPLE, f\"CROSS VAL {idx+1}\", tc.ENDC)\n",
    "    \n",
    "    \n",
    "    train_dl = DataLoader(train_ds, batch_size=TRAIN_BATCH_SIZE, shuffle=True, num_workers=NUM_WORKERS)\n",
    "    test_dl = DataLoader(test_ds, batch_size=TEST_BATCH_SIZE, shuffle=False, num_workers=NUM_WORKERS)\n",
    "    val_dl = DataLoader(val_ds, batch_size=TEST_BATCH_SIZE, shuffle=False, num_workers=NUM_WORKERS)\n",
    "    \n",
    "    #model = SoilNetFC(cnn_in_channels=12, regresor_input_from_cnn=1024, hidden_size=128).to(device)\n",
    "    architecture = \"101+GLAM\" if USE_SPATIAL_ATTENTION else \"101\"\n",
    "    if USE_LSTM_BRANCH:\n",
    "        model = ResNetLSTM(resnet_architecture=architecture, resnet_version= RESNET_VERSION,\n",
    "                           cnn_in_channels=len(bands), regresor_input_from_cnn=1024,\n",
    "                           lstm_n_features= NUM_CLIMATE_FEATURES, lstm_n_layers= 2, lstm_out= 128,\n",
    "                           hidden_size=128).to(device)\n",
    "    else:\n",
    "        model = ResNet(resnet_architecture=architecture, resnet_version= RESNET_VERSION,\n",
    "                       cnn_in_channels=len(bands), regresor_input_from_cnn=1024, hidden_size=128).to(device)\n",
    "    \n",
    "    random.seed(seed)\n",
    "    np.random.seed(seed)\n",
    "    torch.manual_seed(seed)\n",
    "    \n",
    "    # Saving the model on the last epoch\n",
    "    save_model_path = f\"results/RUN_{run_name}_{USER}.pth.tar\"\n",
    "    \n",
    "    results = train(model, train_dl, test_dl, val_dl,\n",
    "                    torch.optim.Adam(model.parameters(), lr=LEARNING_RATE),\n",
    "                    RMSELoss(), epochs=NUM_EPOCHS, lr_scheduler=LR_SCHEDULER,\n",
    "                    save_model_path= save_model_path,\n",
    "                    save_model_if_mae_lower_than= best_mae,\n",
    "                    )\n",
    "\n",
    "    \n",
    "    cv_results['train_loss'].append(results['train_loss'])\n",
    "    cv_results['val_loss'].append(results['val_loss'])\n",
    "    cv_results['MAE'].append(results['MAE'][0])\n",
    "    cv_results['RMSE'].append(results['RMSE'][0])\n",
    "    cv_results['R2'].append(results['R2'][0])\n",
    "    \n",
    "    if results['MAE'][0] < best_mae:\n",
    "        best_mae = results['MAE'][0]\n",
    "        best_seed = seed\n",
    "        print(tc.BOLD_BAKGROUNDs.GREEN, f\"MAE improved to {best_mae}\", tc.ENDC)\n",
    "    \n",
    "        "
   ]
  },
  {
   "cell_type": "code",
   "execution_count": 17,
   "metadata": {},
   "outputs": [
    {
     "data": {
      "text/plain": [
       "((1, 2), (1, 2))"
      ]
     },
     "execution_count": 17,
     "metadata": {},
     "output_type": "execute_result"
    }
   ],
   "source": [
    "train_arr = np.asarray(cv_results['train_loss'])\n",
    "val_arr = np.asarray(cv_results['val_loss'])\n",
    "train_arr.shape, val_arr.shape"
   ]
  },
  {
   "cell_type": "code",
   "execution_count": 18,
   "metadata": {},
   "outputs": [
    {
     "data": {
      "image/png": "[encoded data removed]",
      "text/plain": [
       "<Figure size 640x480 with 1 Axes>"
      ]
     },
     "metadata": {},
     "output_type": "display_data"
    }
   ],
   "source": [
    "plot_train_test_losses(train_arr,val_arr, title=\"Train/Validation Losses\", x_label=\"Epochs\", y_label=\"RMSE\",\n",
    "                       min_max_bounds= True, tight_x_lim= True,\n",
    "                       train_legend = \"Train\", test_legend = \"Validation\",\n",
    "                       save_path=f\"results/RUN_{run_name}_{USER}.png\")"
   ]
  },
  {
   "cell_type": "code",
   "execution_count": 19,
   "metadata": {},
   "outputs": [],
   "source": [
    "import csv"
   ]
  },
  {
   "cell_type": "code",
   "execution_count": 20,
   "metadata": {},
   "outputs": [
    {
     "name": "stdout",
     "output_type": "stream",
     "text": [
      "Current Date and Time: 2023-05-25 11:54:20\n"
     ]
    }
   ],
   "source": [
    "# Format the date and time\n",
    "now = datetime.now()\n",
    "finish_string = now.strftime(\"%Y-%m-%d %H:%M:%S\")\n",
    "print(\"Current Date and Time:\", finish_string)"
   ]
  },
  {
   "cell_type": "code",
   "execution_count": 21,
   "metadata": {},
   "outputs": [
    {
     "data": {
      "text/plain": [
       "([0.09629625683793655], [0.1154435549217921], [-1.3021734677828276])"
      ]
     },
     "execution_count": 21,
     "metadata": {},
     "output_type": "execute_result"
    }
   ],
   "source": [
    "cv_results[\"MAE\"],cv_results['RMSE'],cv_results[\"R2\"]"
   ]
  },
  {
   "cell_type": "code",
   "execution_count": 22,
   "metadata": {},
   "outputs": [
    {
     "data": {
      "text/plain": [
       "(0.09629625683793655, 0.1154435549217921, -1.3021734677828276)"
      ]
     },
     "execution_count": 22,
     "metadata": {},
     "output_type": "execute_result"
    }
   ],
   "source": [
    "cv_results_full = {}\n",
    "cv_results_full['MAE_MEAN'] = np.mean(cv_results['MAE'])\n",
    "cv_results_full['RMSE_MEAN'] = np.mean(cv_results['RMSE'])\n",
    "cv_results_full['R2_MEAN'] = np.mean(cv_results['R2'])\n",
    "cv_results_full['MAE_MEAN'],cv_results_full['RMSE_MEAN'],cv_results_full['R2_MEAN']"
   ]
  },
  {
   "cell_type": "code",
   "execution_count": 23,
   "metadata": {},
   "outputs": [],
   "source": [
    "cv_results_full['USE_LSTM_BRANCH'] = USE_LSTM_BRANCH\n",
    "cv_results_full['NUM_CLIMATE_FEATURES'] = NUM_CLIMATE_FEATURES if USE_LSTM_BRANCH else None\n",
    "cv_results_full['CSV_FILES'] = CSV_FILES if USE_LSTM_BRANCH else None\n",
    "cv_results_full['NUM_WORKERS'] = NUM_WORKERS\n",
    "cv_results_full['TRAIN_BATCH_SIZE'] = TRAIN_BATCH_SIZE\n",
    "cv_results_full['TEST_BATCH_SIZE'] = TEST_BATCH_SIZE\n",
    "cv_results_full['LEARNING_RATE'] = LEARNING_RATE\n",
    "cv_results_full['NUM_EPOCHS'] = NUM_EPOCHS\n",
    "cv_results_full['LR_SCHEDULER'] = LR_SCHEDULER\n",
    "cv_results_full['RESNET_VERSION'] = RESNET_VERSION\n",
    "cv_results_full['USE_SPATIAL_ATTENTION'] = USE_SPATIAL_ATTENTION\n",
    "cv_results_full['Best Seed'] = best_seed\n",
    "cv_results_full['SEEDS'] = SEEDS\n",
    "cv_results_full['OC_MAX'] = OC_MAX\n",
    "cv_results_full['USE_SRTM'] = USE_SRTM\n",
    "cv_results_full['TIME'] = {\"start\": start_string, \"finish\": finish_string}\n",
    "cv_results_full['cv_results'] = cv_results"
   ]
  },
  {
   "cell_type": "code",
   "execution_count": 24,
   "metadata": {},
   "outputs": [],
   "source": [
    "with open(f\"results/RUN_{run_name}_{USER}.json\", \"w\") as fp:\n",
    "    json.dump(cv_results_full, fp, indent=4)"
   ]
  },
  {
   "cell_type": "code",
   "execution_count": 25,
   "metadata": {},
   "outputs": [],
   "source": [
    "# READ JSON FILE\n",
    "# with open(\"results/my_dict.json\", \"r\") as fp:\n",
    "#     my_dict = json.load(fp)\n",
    "\n",
    "# print(my_dict)"
   ]
  },
  {
   "attachments": {},
   "cell_type": "markdown",
   "metadata": {},
   "source": [
    "# Analysis"
   ]
  },
  {
   "attachments": {},
   "cell_type": "markdown",
   "metadata": {},
   "source": [
    "## Save Outputs"
   ]
  },
  {
   "attachments": {},
   "cell_type": "markdown",
   "metadata": {},
   "source": [
    "### Loading the Best Model\n",
    "Loading the best model from all the coross validation runs."
   ]
  },
  {
   "cell_type": "code",
   "execution_count": 36,
   "metadata": {},
   "outputs": [
    {
     "name": "stdout",
     "output_type": "stream",
     "text": [
      "Loading checkpoint=> Done!\n",
      "Model loaded\n"
     ]
    }
   ],
   "source": [
    "load_checkpoint(model=model, optimizer=torch.optim.Adam(model.parameters(), lr=LEARNING_RATE),filename=f\"results/RUN_{run_name}_{USER}.pth.tar\")\n",
    "model.eval()\n",
    "print(\"Model loaded\")"
   ]
  },
  {
   "cell_type": "code",
   "execution_count": 27,
   "metadata": {},
   "outputs": [],
   "source": [
    "test_dl_w_id = DataLoader(test_ds_w_id, batch_size=TEST_BATCH_SIZE, shuffle=False, num_workers=NUM_WORKERS)"
   ]
  },
  {
   "cell_type": "code",
   "execution_count": 28,
   "metadata": {},
   "outputs": [],
   "source": [
    "test_step_w_id(model=model, data_loader=test_dl_w_id, loss_fn=nn.L1Loss(), verbose=False, csv_file=f\"results/RUN_{run_name}_{USER}.csv\")"
   ]
  },
  {
   "attachments": {},
   "cell_type": "markdown",
   "metadata": {},
   "source": [
    "## Visualize Spatial Attention"
   ]
  },
  {
   "cell_type": "code",
   "execution_count": 29,
   "metadata": {},
   "outputs": [],
   "source": [
    "if not USE_SPATIAL_ATTENTION or USE_LSTM_BRANCH:\n",
    "    raise Exception(\"The Next Part of the Notebook is only available for the model with Spatial Attention and no LSTM Branch\")"
   ]
  },
  {
   "cell_type": "code",
   "execution_count": 30,
   "metadata": {},
   "outputs": [],
   "source": [
    "BATCH_N = 1\n",
    "IMG_IN_BATCH = 2"
   ]
  },
  {
   "cell_type": "code",
   "execution_count": 31,
   "metadata": {},
   "outputs": [
    {
     "data": {
      "text/plain": [
       "(torch.Size([4, 14, 64, 64]), torch.Size([4]))"
      ]
     },
     "execution_count": 31,
     "metadata": {},
     "output_type": "execute_result"
    }
   ],
   "source": [
    "batch_loader = BatchLoader(test_dl)\n",
    "batch = batch_loader(BATCH_N)\n",
    "batch[0].shape, batch[1].shape"
   ]
  },
  {
   "cell_type": "code",
   "execution_count": 32,
   "metadata": {},
   "outputs": [
    {
     "data": {
      "text/plain": [
       "<module 'plot_utils' from 'd:\\\\python\\\\SoilNet\\\\plot_utils\\\\__init__.py'>"
      ]
     },
     "execution_count": 32,
     "metadata": {},
     "output_type": "execute_result"
    }
   ],
   "source": [
    "import sys\n",
    "import importlib\n",
    "importlib.reload(sys.modules['plot_utils'])"
   ]
  },
  {
   "cell_type": "code",
   "execution_count": 33,
   "metadata": {},
   "outputs": [],
   "source": [
    "from plot_utils.plot import *\n",
    "from PIL import Image"
   ]
  },
  {
   "cell_type": "code",
   "execution_count": 34,
   "metadata": {},
   "outputs": [],
   "source": [
    "# check if results/attention_maps folder exists if not create it\n",
    "if not os.path.exists(\"results/attention_maps\"):\n",
    "    os.makedirs(\"results/attention_maps\")"
   ]
  },
  {
   "cell_type": "code",
   "execution_count": 35,
   "metadata": {},
   "outputs": [
    {
     "name": "stdout",
     "output_type": "stream",
     "text": [
      "torch.Size([4, 1])\n",
      "torch.Size([4, 1, 8, 8])\n"
     ]
    },
    {
     "data": {
      "image/png": "[encoded data removed]",
      "text/plain": [
       "<Figure size 1000x500 with 2 Axes>"
      ]
     },
     "metadata": {},
     "output_type": "display_data"
    }
   ],
   "source": [
    "ABS_ATT = False\n",
    "ALPHA = 0.3\n",
    "with torch.no_grad():\n",
    "    out = model(batch[0].to(device))\n",
    "    print(out.shape)\n",
    "    print(model.cnn.glam.local_spatial_att.att_map.shape)\n",
    "    img_rgb = batch[0][0].permute(1,2,0)[:,:,[3,2,1]].detach().cpu().numpy()\n",
    "    img_rgb = convert2uint8(normalize(img_rgb))\n",
    "    \n",
    "    att_map = model.cnn.glam.local_spatial_att.att_map\n",
    "    att_map = F.interpolate(att_map, size=(64, 64), mode='bicubic', align_corners=True)[IMG_IN_BATCH].detach().cpu().numpy()[0]\n",
    "    att_map = np.abs(att_map) if ABS_ATT else att_map\n",
    "    att_map = convert2uint8(normalize(att_map))   \n",
    "    \n",
    "    colormap = cv2.applyColorMap(att_map, cv2.COLORMAP_JET)\n",
    "    \n",
    "    img_colormaped = cv2.addWeighted(img_rgb, 1 - ALPHA, colormap, ALPHA, 0)\n",
    "\n",
    "    display_images(img_rgb, img_colormaped, [\"Image\", \"Attention Map\"], \"Attention Map Visualization\", figsize=(10,5), savepath=f\"results/attention_maps/RUN_{run_name}_{USER}_b{BATCH_N}_{IMG_IN_BATCH}.png\")\n",
    "    \n",
    "    # Save img_rgband img_colormaped as jpg files\n",
    "    cv2.imwrite(f\"results/attention_maps/RUN_{run_name}_{USER}_b{BATCH_N}_{IMG_IN_BATCH}_img_rgb.png\", cv2.cvtColor(img_rgb, cv2.COLOR_RGB2BGR))\n",
    "    cv2.imwrite(f\"results/attention_maps/RUN_{run_name}_{USER}_b{BATCH_N}_{IMG_IN_BATCH}_img_colormaped.png\", cv2.cvtColor(img_colormaped, cv2.COLOR_RGB2BGR))\n",
    "    \n",
    "    \n",
    "    "
   ]
  },
  {
   "cell_type": "code",
   "execution_count": null,
   "metadata": {},
   "outputs": [],
   "source": []
  },
  {
   "cell_type": "code",
   "execution_count": null,
   "metadata": {},
   "outputs": [],
   "source": []
  }
 ],
 "metadata": {
  "kernelspec": {
   "display_name": "pytorchGPU",
   "language": "python",
   "name": "python3"
  },
  "language_info": {
   "codemirror_mode": {
    "name": "ipython",
    "version": 3
   },
   "file_extension": ".py",
   "mimetype": "text/x-python",
   "name": "python",
   "nbconvert_exporter": "python",
   "pygments_lexer": "ipython3",
   "version": "3.9.16"
  },
  "orig_nbformat": 4,
  "vscode": {
   "interpreter": {
    "hash": "5c74e58d50e1361e9a22e65e4f4b85ac48544f43f48a101259d9c47c27371742"
   }
  }
 },
 "nbformat": 4,
 "nbformat_minor": 2
}

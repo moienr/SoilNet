{
 "cells": [
  {
   "cell_type": "code",
   "execution_count": 1,
   "metadata": {},
   "outputs": [],
   "source": [
    "EXP_NAME = 'LUCAS_Transformer_NoImage'"
   ]
  },
  {
   "cell_type": "code",
   "execution_count": 2,
   "metadata": {},
   "outputs": [],
   "source": [
    "from train_utils import *\n",
    "import torch\n",
    "from torch.utils.data import DataLoader\n",
    "from torchvision import transforms\n",
    "import random\n",
    "import numpy as np\n",
    "from dataset.utils.utils import TextColors as tc\n",
    "from plot_utils.plot import plot_train_test_losses\n",
    "from datetime import date, datetime\n",
    "import torch.nn.functional as F\n",
    "import cv2\n",
    "import json\n",
    "import warnings"
   ]
  },
  {
   "cell_type": "code",
   "execution_count": 3,
   "metadata": {},
   "outputs": [],
   "source": [
    "DATASET = 'LUCAS' # 'LUCAS', 'RaCA'\n",
    "\n",
    "if DATASET == 'LUCAS':\n",
    "    from dataset.dataset_loader import SNDataset,SNDatasetClimate, myNormalize, myToTensor, Augmentations\n",
    "    OC_MAX = 87\n",
    "    # OC_MAX = 560.2\n",
    "if DATASET == 'RaCA':\n",
    "    from dataset.dataset_loader_us import SNDataset,SNDatasetClimate, myNormalize, myToTensor, Augmentations\n",
    "    OC_MAX = 4115"
   ]
  },
  {
   "cell_type": "code",
   "execution_count": 4,
   "metadata": {},
   "outputs": [],
   "source": [
    "# create a folder called 'results' in the current directory if it doesn't exist\n",
    "if not os.path.exists('results'):\n",
    "    os.mkdir('results')"
   ]
  },
  {
   "cell_type": "code",
   "execution_count": 5,
   "metadata": {},
   "outputs": [
    {
     "name": "stdout",
     "output_type": "stream",
     "text": [
      "Current Date and Time: 2024-03-26 11:42:36\n"
     ]
    }
   ],
   "source": [
    "# Format the date and time\n",
    "now = datetime.now()\n",
    "start_string = now.strftime(\"%Y-%m-%d %H:%M:%S\")\n",
    "print(\"Current Date and Time:\", start_string)"
   ]
  },
  {
   "cell_type": "code",
   "execution_count": 6,
   "metadata": {},
   "outputs": [
    {
     "data": {
      "text/plain": [
       "'Nafiseh'"
      ]
     },
     "execution_count": 6,
     "metadata": {},
     "output_type": "execute_result"
    }
   ],
   "source": [
    "import os\n",
    "os.getcwd()\n",
    "\n",
    "NAFISEH = \"Nafiseh\"\n",
    "MOIEN = \"Moien\"\n",
    "\n",
    "if \"d:\" in os.getcwd():\n",
    "    USER = MOIEN\n",
    "elif \"c:\" in os.getcwd():\n",
    "    USER = NAFISEH\n",
    "else:\n",
    "    raise Exception(\"Unknown user\")\n",
    "\n",
    "USER"
   ]
  },
  {
   "cell_type": "code",
   "execution_count": 7,
   "metadata": {},
   "outputs": [
    {
     "data": {
      "text/plain": [
       "'cuda'"
      ]
     },
     "execution_count": 7,
     "metadata": {},
     "output_type": "execute_result"
    }
   ],
   "source": [
    "# Setup device-agnostic code\n",
    "device = \"cuda\" if torch.cuda.is_available() else \"cpu\"\n",
    "device"
   ]
  },
  {
   "cell_type": "code",
   "execution_count": 8,
   "metadata": {},
   "outputs": [],
   "source": [
    "# CONFIG\n",
    "NUM_WORKERS = 6 if USER == NAFISEH else 2\n",
    "TRAIN_BATCH_SIZE = 32 if USER == NAFISEH else 4\n",
    "TEST_BATCH_SIZE = 32 if USER == NAFISEH else 4\n",
    "LEARNING_RATE = 1e-4 if USER == NAFISEH else 1e-3\n",
    "NUM_EPOCHS = 20 if USER == NAFISEH else 2\n",
    "LR_SCHEDULER = \"step\" # step, plateau or None\n",
    "\n",
    "USE_SRTM = True\n",
    "\n",
    "USE_SPATIAL_ATTENTION = False if USER == NAFISEH else False\n",
    "\n",
    "CNN_ARCHITECTURE = \"ViT\" # vgg16 or resnet101 or \"ViT\" or resnet50\n",
    "RNN_ARCHITECTURE = 'Transformer' # LSTM, GRU, RNN, Transformer\n",
    "REG_VERSION = 1 if USER == NAFISEH else 1\n",
    "\n",
    "USE_LSTM_BRANCH = True\n",
    "\n",
    "if USE_LSTM_BRANCH == True:\n",
    "   \n",
    "   USE_PRIM_CLIM = True\n",
    "   USE_SEC_CLIM = True\n",
    "\n",
    "else:\n",
    "  USE_PRIM_CLIM = False\n",
    "  USE_SEC_CLIM = False\n",
    "\n",
    "#%%%%%%%%%%%%%%%%%%%%%%%%%% Using Only Climate Data %%%%%%%%%%%%%%%%%%%%%%%%%%%%%%%%%%%%%%%%%%%%%%%%%%%%%%%\n",
    "\n",
    "JUST_LSTM = True # Using Only Climate Data\n",
    "\n",
    "if JUST_LSTM:\n",
    "    USE_LSTM_BRANCH = True\n",
    "    USE_SPATIAL_ATTENTION = False\n",
    "\n",
    "LOG_LOSS = True\n",
    "SAVE_TRAIN_DATA_METRICS = True\n",
    "\n",
    "#%%%%%%%%%%%%%%%%%%%%%%%%%%%%%%%%%%%%%%%%%%%%%%%%%%%%%%%%%%%%%%%%%%%%%%%%%%%%%%%%%%%%%%%%%%%%%%%%%%%%%%%%%%%\n",
    "#%%%%%%%%%%%%%%%%%%%%%%%%%% SSl Section %%%%%%%%%%%%%%%%%%%%%%%%%%%%%%%%%%%%%%%%%%%%%%%%%%%%%%%%%%%%%%%%%%%%\n",
    "#%%%%%%%%%%%%%%%%%%%%%%%%%%%%%%%%%%%%%%%%%%%%%%%%%%%%%%%%%%%%%%%%%%%%%%%%%%%%%%%%%%%%%%%%%%%%%%%%%%%%%%%%%%%\n",
    "\n",
    "LOAD_SIMCLR_MODEL = False\n",
    "\n",
    "\n",
    "if DATASET == 'LUCAS':\n",
    "  # SIMCLR_PATH = \"C:\\\\Users\\\\nkakhani\\\\_Multimodal\\\\SoilNet-7\\\\SoilNet-PreRelease\\\\results\\\\RUN_LUCAS_Self_ViT_trans_D_2024_02_26_T_13_35_Nafiseh_SelfSupervised.pth\"\n",
    "  # SIMCLR_PATH = \"C:\\\\Users\\\\nkakhani\\\\_Multimodal\\\\SoilNet-7\\\\SoilNet-PreRelease\\\\results\\\\RUN_LUCAS_Self_ViT_LSTM_D_2024_02_27_T_11_21_Nafiseh_SelfSupervised.pth\"\n",
    "  SIMCLR_PATH = \"C:\\\\Users\\\\nkakhani\\\\_Multimodal\\\\SoilNet-7\\\\SoilNet-PreRelease\\\\results\\\\RUN_LUCAS_Self_CNN_Trans_D_2024_02_29_T_18_02_Nafiseh_SelfSupervised.pth\"\n",
    "\n",
    " \n",
    "  \n",
    "  #Large samples for LUCAS: Saved on 27.02.2024\n",
    "\n",
    "if DATASET == 'RaCA':\n",
    "  # SIMCLR_PATH = \"C:\\\\Users\\\\nkakhani\\\\_Multimodal\\\\SoilNet-7\\\\SoilNet-PreRelease\\\\results\\\\RUN_RaCA_Self_D_2024_02_08_T_12_00_Nafiseh_SelfSupervised.pth\"\n",
    "  # SIMCLR_PATH = \"C:\\\\Users\\\\nkakhani\\\\_Multimodal\\\\SoilNet-7\\\\SoilNet-PreRelease\\\\results\\\\RUN_RaCA_Self_LSTM_D_2024_02_13_T_18_14_Nafiseh_SelfSupervised.pth\"\n",
    "  SIMCLR_PATH = \"C:\\\\Users\\\\nkakhani\\\\_Multimodal\\\\SoilNet-7\\\\SoilNet-PreRelease\\\\results\\\\RUN_RaCA_Self_CNN_trans_D_2024_02_14_T_12_14_Nafiseh_SelfSupervised.pth\"\n",
    "  \n",
    "\n",
    "if LOAD_SIMCLR_MODEL:\n",
    "    if USE_LSTM_BRANCH == False:\n",
    "        raise Exception(\"LOAD_SIMCLR_MODEL is enabled but LSTM branch is disabled. Please enable LSTM branch.\")\n",
    "    if JUST_LSTM:\n",
    "        raise Exception(\"LOAD_SIMCLR_MODEL is enabled but JUST_LSTM is enabled. Please disable JUST_LSTM.\")\n",
    "\n",
    "if LOAD_SIMCLR_MODEL:\n",
    "    print(\"\\033[91m\\033[1m\\033[5mWARNING!\\033[0m\")\n",
    "    print(\"\\033[93m Loading SimCLR Model is enabled.\\\n",
    "        \\n This will overwrite Chosen Architectures\\\n",
    "        \\n Also, make sure that LSTM is enabled. \\033[0m\")    "
   ]
  },
  {
   "cell_type": "code",
   "execution_count": 9,
   "metadata": {},
   "outputs": [],
   "source": [
    "\n",
    "if USE_SRTM:\n",
    "    mynorm = myNormalize(img_bands_min_max =[[(0,7),(0,1)], [(7,12),(-1,1)], [(12), (-4,2963)], [(13), (0, 90)]], oc_min = 0, oc_max = OC_MAX)\n",
    "else:\n",
    "    mynorm = myNormalize(img_bands_min_max =[[(0,7),(0,1)], [(7,12),(-1,1)]], oc_min = 0, oc_max = OC_MAX)\n",
    "    \n",
    "my_to_tensor = myToTensor()\n",
    "my_augmentation = Augmentations()\n",
    "train_transform = transforms.Compose([mynorm, my_to_tensor,my_augmentation])\n",
    "test_transform = transforms.Compose([mynorm, my_to_tensor])"
   ]
  },
  {
   "cell_type": "code",
   "execution_count": 10,
   "metadata": {},
   "outputs": [],
   "source": [
    "if USER == MOIEN:\n",
    "    train_l8_folder_path = 'D:\\python\\SoilNet\\dataset\\l8_images\\\\train\\\\'\n",
    "    test_l8_folder_path = 'D:\\python\\SoilNet\\dataset\\l8_images\\\\test\\\\'\n",
    "    val_l8_folder_path = 'D:\\python\\SoilNet\\dataset\\l8_images\\\\val\\\\'\n",
    "    testval_l8_folder_path = 'D:\\python\\SoilNet\\dataset\\l8_images\\\\val\\\\'\n",
    "    lucas_csv_path = 'D:\\python\\SoilNet\\dataset\\LUCAS_2015_all.csv'\n",
    "    climate_csv_folder_path = \"D:\\\\python\\\\SoilNet\\\\dataset\\\\Climate\\\\All\\\\filled\\\\\"\n",
    "    \n",
    "elif USER == NAFISEH:\n",
    "\n",
    "    if DATASET == 'LUCAS':\n",
    "     train_l8_folder_path = 'C:\\\\Users\\\\nkakhani\\\\_Multimodal\\\\SoilNet-3\\\\SoilNet\\\\dataset\\\\l8_images\\\\train'\n",
    "     test_l8_folder_path = 'C:\\\\Users\\\\nkakhani\\\\_Multimodal\\\\SoilNet-3\\\\SoilNet\\\\dataset\\\\l8_images\\\\test'\n",
    "     val_l8_folder_path = 'C:\\\\Users\\\\nkakhani\\\\_Multimodal\\\\SoilNet-3\\\\SoilNet\\\\dataset\\\\l8_images\\\\val'\n",
    "     testval_l8_folder_path = 'C:\\\\Users\\\\nkakhani\\\\_Multimodal\\\\SoilNet-3\\\\SoilNet\\\\dataset\\\\l8_images\\\\test_val'\n",
    "     lucas_csv_path = 'C:\\\\Users\\\\nkakhani\\\\_Multimodal\\\\SoilNet-3\\\\SoilNet\\\\dataset\\\\LUCAS_2015_all.csv'\n",
    "     climate_csv_folder_path = 'C:\\\\Users\\\\nkakhani\\\\_Multimodal\\\\SoilNet-3\\\\SoilNet\\\\dataset\\\\Climate\\\\All\\\\filled'\n",
    "\n",
    "    if DATASET == 'RaCA':\n",
    "     train_l8_folder_path = 'C:\\\\Users\\\\nkakhani\\\\_Multimodal\\\\SoilNet-7\\\\SoilNet-PreRelease\\\\dataset\\\\l8_images_us\\\\train'\n",
    "     test_l8_folder_path = 'C:\\\\Users\\\\nkakhani\\\\_Multimodal\\\\SoilNet-7\\\\SoilNet-PreRelease\\\\dataset\\\\l8_images_us\\\\test'\n",
    "     val_l8_folder_path = 'C:\\\\Users\\\\nkakhani\\\\_Multimodal\\\\SoilNet-7\\\\SoilNet-PreRelease\\\\dataset\\\\l8_images_us\\\\val'\n",
    "     testval_l8_folder_path = 'C:\\\\Users\\\\nkakhani\\\\_Multimodal\\\\SoilNet-7\\\\SoilNet-PreRelease\\\\dataset\\\\l8_images_us\\\\test_val'\n",
    "     lucas_csv_path = \"C:\\\\Users\\\\nkakhani\\\\_Multimodal\\\\SoilNet-7\\\\SoilNet-PreRelease\\\\dataset\\\\RapidCarbon_OC.csv\"\n",
    "     climate_csv_folder_path = 'C:\\\\Users\\\\nkakhani\\\\_Multimodal\\\\SoilNet-7\\\\SoilNet-PreRelease\\\\dataset\\\\Climate\\\\RaCA\\\\filled'\n",
    "\n",
    "     if USE_LSTM_BRANCH: \n",
    "\n",
    "        if USE_PRIM_CLIM and not USE_SEC_CLIM:\n",
    "           climate_csv_folder_path = 'C:\\\\Users\\\\nkakhani\\\\_Multimodal\\\\SoilNet-7\\\\SoilNet-PreRelease\\\\dataset\\\\Climate\\\\RaCA\\\\filled\\\\PrimClim'\n",
    "\n",
    "        if USE_SEC_CLIM and not USE_PRIM_CLIM:\n",
    "           climate_csv_folder_path = 'C:\\\\Users\\\\nkakhani\\\\_Multimodal\\\\SoilNet-7\\\\SoilNet-PreRelease\\\\dataset\\\\Climate\\\\RaCA\\\\filled\\\\SecClim'\n",
    "\n",
    "        if USE_SEC_CLIM and USE_PRIM_CLIM:\n",
    "           climate_csv_folder_path = 'C:\\\\Users\\\\nkakhani\\\\_Multimodal\\\\SoilNet-7\\\\SoilNet-PreRelease\\\\dataset\\\\Climate\\\\RaCA\\\\filled'"
   ]
  },
  {
   "cell_type": "code",
   "execution_count": 11,
   "metadata": {},
   "outputs": [],
   "source": [
    "bands = [0,1,2,3,4,5,6,7,8,9,10,11] if not USE_SRTM else [0,1,2,3,4,5,6,7,8,9,10,11,12,13]\n",
    "\n",
    "\n",
    "################################# IF Not USE_LSTM_BRANCH ###############################\n",
    "if not USE_LSTM_BRANCH: # NOT USING THE CLIMATE DATA\n",
    "\n",
    "    train_ds = SNDataset(train_l8_folder_path, lucas_csv_path,l8_bands=bands, transform=train_transform)\n",
    "    test_ds =  SNDataset(test_l8_folder_path, lucas_csv_path,l8_bands=bands, transform=test_transform)\n",
    "    val_ds = SNDataset(val_l8_folder_path, lucas_csv_path,l8_bands=bands, transform=test_transform)\n",
    "    test_ds_w_id =  SNDataset(test_l8_folder_path, lucas_csv_path,l8_bands=bands, transform=test_transform, return_point_id=True)\n",
    "    testval_ds_w_id =  SNDataset(testval_l8_folder_path, lucas_csv_path,l8_bands=bands, transform=test_transform, return_point_id=True)\n",
    "    \n",
    "################################### IF USE_LSTM_BRANCH #################################\n",
    "else: # USING THE CLIMATE DATA\n",
    "    train_ds = SNDatasetClimate(train_l8_folder_path,\n",
    "                                    lucas_csv_path,\n",
    "                                    climate_csv_folder_path,\n",
    "                                    l8_bands=bands, transform=train_transform)\n",
    "\n",
    "    test_ds = SNDatasetClimate(test_l8_folder_path,\n",
    "                                lucas_csv_path,\n",
    "                                climate_csv_folder_path,\n",
    "                                l8_bands=bands, transform=test_transform)\n",
    "    \n",
    "    val_ds = SNDatasetClimate(val_l8_folder_path,\n",
    "                                lucas_csv_path,\n",
    "                                climate_csv_folder_path,\n",
    "                                l8_bands=bands, transform=test_transform)\n",
    "    \n",
    "    test_ds_w_id = SNDatasetClimate(test_l8_folder_path,\n",
    "                                lucas_csv_path,\n",
    "                                climate_csv_folder_path,\n",
    "                                l8_bands=bands, transform=test_transform, return_point_id=True)\n",
    "\n",
    "    testval_ds_w_id = SNDatasetClimate(testval_l8_folder_path,\n",
    "                                lucas_csv_path,\n",
    "                                climate_csv_folder_path,\n",
    "                                l8_bands=bands, transform=test_transform, return_point_id=True)\n",
    "    \n"
   ]
  },
  {
   "cell_type": "code",
   "execution_count": 12,
   "metadata": {},
   "outputs": [
    {
     "data": {
      "text/plain": [
       "61"
      ]
     },
     "execution_count": 12,
     "metadata": {},
     "output_type": "execute_result"
    }
   ],
   "source": [
    "SEQ_LEN = testval_ds_w_id[0][0][1].shape[0]\n",
    "SEQ_LEN # max sequence length for Transformer model set up"
   ]
  },
  {
   "cell_type": "code",
   "execution_count": 13,
   "metadata": {},
   "outputs": [
    {
     "data": {
      "text/plain": [
       "11"
      ]
     },
     "execution_count": 13,
     "metadata": {},
     "output_type": "execute_result"
    }
   ],
   "source": [
    "# COUNTING the csv files in the csv folder\n",
    "CSV_FILES = [f for f in os.listdir(climate_csv_folder_path) if f.endswith('.csv')]\n",
    "NUM_CLIMATE_FEATURES = len(CSV_FILES)\n",
    "NUM_CLIMATE_FEATURES"
   ]
  },
  {
   "cell_type": "code",
   "execution_count": 14,
   "metadata": {},
   "outputs": [
    {
     "name": "stdout",
     "output_type": "stream",
     "text": [
      "__name__: submodules.src.transformer.transformer\n"
     ]
    }
   ],
   "source": [
    "from soilnet.soil_net import SoilNet, SoilNetLSTM, SoilNetSimCLRwRegHead, SoilNetJustLSTM"
   ]
  },
  {
   "cell_type": "code",
   "execution_count": 15,
   "metadata": {},
   "outputs": [],
   "source": [
    "# train_dl = DataLoader(train_ds, batch_size=TRAIN_BATCH_SIZE, shuffle=True, num_workers=NUM_WORKERS)\n",
    "# # Get image and label from custom DataLoader\n",
    "# img_custom, climate,label_custom = next(iter(train_dl))\n",
    "# print(f\"Image shape: {img_custom.shape} -> [batch_size, color_channels, height, width]\")\n",
    "# print(f\"Climate shape: {climate.shape} -> [batch_size, climate_channels]\")\n",
    "# print(f\"Label shape: {label_custom.shape}\")\n",
    "# img_gpu = img_custom.to(device)\n",
    "# print(img_gpu.device, img_gpu.shape)\n",
    "# print(img_gpu.shape)\n",
    "# y = model(img_gpu)\n",
    "# y.detach()"
   ]
  },
  {
   "cell_type": "code",
   "execution_count": 16,
   "metadata": {},
   "outputs": [],
   "source": [
    "cv_results = {\"train_loss\": [],\n",
    "               \"val_loss\": [],\n",
    "               \"MAE\": [],\n",
    "               \"RMSE\": [],\n",
    "               \"R2\": [],\n",
    "               \"train_MAE\": [],\n",
    "                \"train_RMSE\": [],\n",
    "                \"train_R2\": []\n",
    "    }"
   ]
  },
  {
   "cell_type": "code",
   "execution_count": 17,
   "metadata": {},
   "outputs": [
    {
     "name": "stdout",
     "output_type": "stream",
     "text": [
      "Current Date and Time: D_2024_03_26_T_11_42\n"
     ]
    }
   ],
   "source": [
    "from datetime import date, datetime\n",
    "# Format the date and time\n",
    "now = datetime.now()\n",
    "run_name = now.strftime(\"D_%Y_%m_%d_T_%H_%M\")\n",
    "print(\"Current Date and Time:\", run_name)\n",
    "# create a folder called 'results' in the current directory if it doesn't exist\n",
    "if not os.path.exists('results'):\n",
    "    os.mkdir('results')"
   ]
  },
  {
   "cell_type": "code",
   "execution_count": 18,
   "metadata": {},
   "outputs": [],
   "source": [
    "SEEDS = [1, 4] \n",
    "# SEEDS = [75]\n",
    "# SEEDS = [1] if USER == MOIEN else [1, 4, 69, 75, 79, 128, 474, 786, 2048, 3333]"
   ]
  },
  {
   "cell_type": "code",
   "execution_count": 19,
   "metadata": {},
   "outputs": [],
   "source": [
    "# from skimage import io\n",
    "# import os\n",
    "\n",
    "# folder_path = 'C:\\\\Users\\\\nkakhani\\\\_Multimodal\\\\SoilNet-7\\\\SoilNet-PreRelease\\\\dataset\\\\l8_images_us\\\\train'\n",
    "\n",
    "# # Iterate over files in the folder\n",
    "# for filename in os.listdir(folder_path):\n",
    "#     # Construct the full path to each image file\n",
    "#     file_path = os.path.join(folder_path, filename)\n",
    "\n",
    "#     try:\n",
    "#         # Load the image\n",
    "#         l8_img = io.imread(file_path)\n",
    "#         # Process the loaded image or perform any other operations\n",
    "#     except Exception as e:\n",
    "#         print(f\"Error loading image {file_path}: {e}\")\n",
    "#         # Handle the error or skip the file if necessary\n"
   ]
  },
  {
   "cell_type": "code",
   "execution_count": 20,
   "metadata": {},
   "outputs": [
    {
     "name": "stdout",
     "output_type": "stream",
     "text": [
      "\u001b[1;45m CROSS VAL 1 \u001b[0m\n",
      "Adjusting learning rate of group 0 to 1.0000e-04.\n",
      "\u001b[92m Epoch 1\n",
      "------------------------------- \u001b[0m\n"
     ]
    },
    {
     "name": "stderr",
     "output_type": "stream",
     "text": [
      "100%|██████████| 478/478 [00:41<00:00, 11.63it/s, Train_Loss=0.159]\n"
     ]
    },
    {
     "name": "stdout",
     "output_type": "stream",
     "text": [
      "\u001b[96m Epoch 1 Results: |  train_loss: 0.15851419370730552 |  val_loss: 0.1577561144595561  \u001b[0m\n",
      "\n",
      "Adjusting learning rate of group 0 to 1.0000e-04.\n",
      "\u001b[92m Epoch 2\n",
      "------------------------------- \u001b[0m\n"
     ]
    },
    {
     "name": "stderr",
     "output_type": "stream",
     "text": [
      "100%|██████████| 478/478 [00:39<00:00, 12.17it/s, Train_Loss=0.154]\n"
     ]
    },
    {
     "name": "stdout",
     "output_type": "stream",
     "text": [
      "\u001b[96m Epoch 2 Results: |  train_loss: 0.1543790446633325 |  val_loss: 0.1521097051816574  \u001b[0m\n",
      "\n",
      "Adjusting learning rate of group 0 to 1.0000e-04.\n",
      "\u001b[92m Epoch 3\n",
      "------------------------------- \u001b[0m\n"
     ]
    },
    {
     "name": "stderr",
     "output_type": "stream",
     "text": [
      "100%|██████████| 478/478 [00:39<00:00, 12.06it/s, Train_Loss=0.152]\n"
     ]
    },
    {
     "name": "stdout",
     "output_type": "stream",
     "text": [
      "\u001b[96m Epoch 3 Results: |  train_loss: 0.1515681113595743 |  val_loss: 0.15218086983414664  \u001b[0m\n",
      "\n",
      "Adjusting learning rate of group 0 to 1.0000e-04.\n",
      "\u001b[92m Epoch 4\n",
      "------------------------------- \u001b[0m\n"
     ]
    },
    {
     "name": "stderr",
     "output_type": "stream",
     "text": [
      "100%|██████████| 478/478 [00:41<00:00, 11.58it/s, Train_Loss=0.151]\n"
     ]
    },
    {
     "name": "stdout",
     "output_type": "stream",
     "text": [
      "\u001b[96m Epoch 4 Results: |  train_loss: 0.15110499202955716 |  val_loss: 0.14986374828478563  \u001b[0m\n",
      "\n",
      "Adjusting learning rate of group 0 to 1.0000e-04.\n",
      "\u001b[92m Epoch 5\n",
      "------------------------------- \u001b[0m\n"
     ]
    },
    {
     "name": "stderr",
     "output_type": "stream",
     "text": [
      "100%|██████████| 478/478 [00:40<00:00, 11.68it/s, Train_Loss=0.15] \n"
     ]
    },
    {
     "name": "stdout",
     "output_type": "stream",
     "text": [
      "\u001b[96m Epoch 5 Results: |  train_loss: 0.14983036367526614 |  val_loss: 0.1502978200821773  \u001b[0m\n",
      "\n",
      "Adjusting learning rate of group 0 to 1.0000e-04.\n",
      "\u001b[92m Epoch 6\n",
      "------------------------------- \u001b[0m\n"
     ]
    },
    {
     "name": "stderr",
     "output_type": "stream",
     "text": [
      "100%|██████████| 478/478 [00:41<00:00, 11.65it/s, Train_Loss=0.15] \n"
     ]
    },
    {
     "name": "stdout",
     "output_type": "stream",
     "text": [
      "\u001b[96m Epoch 6 Results: |  train_loss: 0.14997337859856533 |  val_loss: 0.14927495427537654  \u001b[0m\n",
      "\n",
      "Adjusting learning rate of group 0 to 1.0000e-04.\n",
      "\u001b[92m Epoch 7\n",
      "------------------------------- \u001b[0m\n"
     ]
    },
    {
     "name": "stderr",
     "output_type": "stream",
     "text": [
      "100%|██████████| 478/478 [00:40<00:00, 11.78it/s, Train_Loss=0.15] \n"
     ]
    },
    {
     "name": "stdout",
     "output_type": "stream",
     "text": [
      "\u001b[96m Epoch 7 Results: |  train_loss: 0.14954351385954034 |  val_loss: 0.14996108342555986  \u001b[0m\n",
      "\n",
      "Adjusting learning rate of group 0 to 1.0000e-04.\n",
      "\u001b[92m Epoch 8\n",
      "------------------------------- \u001b[0m\n"
     ]
    },
    {
     "name": "stderr",
     "output_type": "stream",
     "text": [
      "100%|██████████| 478/478 [00:39<00:00, 12.20it/s, Train_Loss=0.151]\n"
     ]
    },
    {
     "name": "stdout",
     "output_type": "stream",
     "text": [
      "\u001b[96m Epoch 8 Results: |  train_loss: 0.15065231163319684 |  val_loss: 0.1499840007635994  \u001b[0m\n",
      "\n",
      "Adjusting learning rate of group 0 to 1.0000e-04.\n",
      "\u001b[92m Epoch 9\n",
      "------------------------------- \u001b[0m\n"
     ]
    },
    {
     "name": "stderr",
     "output_type": "stream",
     "text": [
      "100%|██████████| 478/478 [00:40<00:00, 11.71it/s, Train_Loss=0.15]  \n"
     ]
    },
    {
     "name": "stdout",
     "output_type": "stream",
     "text": [
      "\u001b[96m Epoch 9 Results: |  train_loss: 0.14969595047844006 |  val_loss: 0.15252403321041577  \u001b[0m\n",
      "\n",
      "Adjusting learning rate of group 0 to 1.0000e-04.\n",
      "\u001b[92m Epoch 10\n",
      "------------------------------- \u001b[0m\n"
     ]
    },
    {
     "name": "stderr",
     "output_type": "stream",
     "text": [
      "100%|██████████| 478/478 [00:40<00:00, 11.75it/s, Train_Loss=0.151]\n"
     ]
    },
    {
     "name": "stdout",
     "output_type": "stream",
     "text": [
      "\u001b[96m Epoch 10 Results: |  train_loss: 0.15057402108815424 |  val_loss: 0.150128406782945  \u001b[0m\n",
      "\n",
      "Adjusting learning rate of group 0 to 2.0000e-05.\n",
      "\u001b[92m Epoch 11\n",
      "------------------------------- \u001b[0m\n"
     ]
    },
    {
     "name": "stderr",
     "output_type": "stream",
     "text": [
      "100%|██████████| 478/478 [00:40<00:00, 11.76it/s, Train_Loss=0.147]\n"
     ]
    },
    {
     "name": "stdout",
     "output_type": "stream",
     "text": [
      "\u001b[96m Epoch 11 Results: |  train_loss: 0.1471967212855816 |  val_loss: 0.14772083000212477  \u001b[0m\n",
      "\n",
      "Adjusting learning rate of group 0 to 2.0000e-05.\n",
      "\u001b[92m Epoch 12\n",
      "------------------------------- \u001b[0m\n"
     ]
    },
    {
     "name": "stderr",
     "output_type": "stream",
     "text": [
      "100%|██████████| 478/478 [00:38<00:00, 12.35it/s, Train_Loss=0.146]\n"
     ]
    },
    {
     "name": "stdout",
     "output_type": "stream",
     "text": [
      "\u001b[96m Epoch 12 Results: |  train_loss: 0.14628734745116415 |  val_loss: 0.14740120457566303  \u001b[0m\n",
      "\n",
      "Adjusting learning rate of group 0 to 2.0000e-05.\n",
      "\u001b[92m Epoch 13\n",
      "------------------------------- \u001b[0m\n"
     ]
    },
    {
     "name": "stderr",
     "output_type": "stream",
     "text": [
      "100%|██████████| 478/478 [00:40<00:00, 11.91it/s, Train_Loss=0.146]\n"
     ]
    },
    {
     "name": "stdout",
     "output_type": "stream",
     "text": [
      "\u001b[96m Epoch 13 Results: |  train_loss: 0.14553890322728635 |  val_loss: 0.14690386606515318  \u001b[0m\n",
      "\n",
      "Adjusting learning rate of group 0 to 2.0000e-05.\n",
      "\u001b[92m Epoch 14\n",
      "------------------------------- \u001b[0m\n"
     ]
    },
    {
     "name": "stderr",
     "output_type": "stream",
     "text": [
      "100%|██████████| 478/478 [00:39<00:00, 12.02it/s, Train_Loss=0.144]\n"
     ]
    },
    {
     "name": "stdout",
     "output_type": "stream",
     "text": [
      "\u001b[96m Epoch 14 Results: |  train_loss: 0.14433168641692923 |  val_loss: 0.1468853614144567  \u001b[0m\n",
      "\n",
      "Adjusting learning rate of group 0 to 2.0000e-05.\n",
      "\u001b[92m Epoch 15\n",
      "------------------------------- \u001b[0m\n"
     ]
    },
    {
     "name": "stderr",
     "output_type": "stream",
     "text": [
      "100%|██████████| 478/478 [00:39<00:00, 12.22it/s, Train_Loss=0.145]\n"
     ]
    },
    {
     "name": "stdout",
     "output_type": "stream",
     "text": [
      "\u001b[96m Epoch 15 Results: |  train_loss: 0.14459383900756617 |  val_loss: 0.14706068642545436  \u001b[0m\n",
      "\n",
      "Adjusting learning rate of group 0 to 2.0000e-05.\n",
      "\u001b[92m Epoch 16\n",
      "------------------------------- \u001b[0m\n"
     ]
    },
    {
     "name": "stderr",
     "output_type": "stream",
     "text": [
      "100%|██████████| 478/478 [01:07<00:00,  7.06it/s, Train_Loss=0.144]\n"
     ]
    },
    {
     "name": "stdout",
     "output_type": "stream",
     "text": [
      "\u001b[96m Epoch 16 Results: |  train_loss: 0.144199727983779 |  val_loss: 0.14628105729386426  \u001b[0m\n",
      "\n",
      "Adjusting learning rate of group 0 to 2.0000e-05.\n",
      "\u001b[92m Epoch 17\n",
      "------------------------------- \u001b[0m\n"
     ]
    },
    {
     "name": "stderr",
     "output_type": "stream",
     "text": [
      "100%|██████████| 478/478 [01:07<00:00,  7.13it/s, Train_Loss=0.144]\n"
     ]
    },
    {
     "name": "stdout",
     "output_type": "stream",
     "text": [
      "\u001b[96m Epoch 17 Results: |  train_loss: 0.14381866624664563 |  val_loss: 0.14662947295152623  \u001b[0m\n",
      "\n",
      "Adjusting learning rate of group 0 to 2.0000e-05.\n",
      "\u001b[92m Epoch 18\n",
      "------------------------------- \u001b[0m\n"
     ]
    },
    {
     "name": "stderr",
     "output_type": "stream",
     "text": [
      "100%|██████████| 478/478 [01:06<00:00,  7.15it/s, Train_Loss=0.143]\n"
     ]
    },
    {
     "name": "stdout",
     "output_type": "stream",
     "text": [
      "\u001b[96m Epoch 18 Results: |  train_loss: 0.143419535074648 |  val_loss: 0.14657939322616742  \u001b[0m\n",
      "\n",
      "Adjusting learning rate of group 0 to 2.0000e-05.\n",
      "\u001b[92m Epoch 19\n",
      "------------------------------- \u001b[0m\n"
     ]
    },
    {
     "name": "stderr",
     "output_type": "stream",
     "text": [
      "100%|██████████| 478/478 [01:06<00:00,  7.16it/s, Train_Loss=0.143]\n"
     ]
    },
    {
     "name": "stdout",
     "output_type": "stream",
     "text": [
      "\u001b[96m Epoch 19 Results: |  train_loss: 0.14341623657168703 |  val_loss: 0.14594620034314584  \u001b[0m\n",
      "\n",
      "Adjusting learning rate of group 0 to 2.0000e-05.\n",
      "\u001b[92m Epoch 20\n",
      "------------------------------- \u001b[0m\n"
     ]
    },
    {
     "name": "stderr",
     "output_type": "stream",
     "text": [
      "100%|██████████| 478/478 [01:08<00:00,  7.02it/s, Train_Loss=0.143]\n"
     ]
    },
    {
     "name": "stdout",
     "output_type": "stream",
     "text": [
      "\u001b[96m Epoch 20 Results: |  train_loss: 0.14256478616944418 |  val_loss: 0.1463287552629692  \u001b[0m\n",
      "\n",
      "Adjusting learning rate of group 0 to 4.0000e-06.\n",
      "\u001b[1;42m Best RMSE improved to 0.20970340576158822 \u001b[0m\n",
      "Saving checkpoint=> Done!\n",
      "\u001b[1;41m Worst RMSE worsened to 0.20970340576158822 \u001b[0m\n",
      "Saving checkpoint=> Done!\n",
      "This Runs RMSE: 0.20970340576158822\n",
      "\u001b[1;45m CROSS VAL 2 \u001b[0m\n",
      "Adjusting learning rate of group 0 to 1.0000e-04.\n",
      "\u001b[92m Epoch 1\n",
      "------------------------------- \u001b[0m\n"
     ]
    },
    {
     "name": "stderr",
     "output_type": "stream",
     "text": [
      "100%|██████████| 478/478 [01:07<00:00,  7.08it/s, Train_Loss=0.161]\n"
     ]
    },
    {
     "name": "stdout",
     "output_type": "stream",
     "text": [
      "\u001b[96m Epoch 1 Results: |  train_loss: 0.16062251885254014 |  val_loss: 0.15510868929002597  \u001b[0m\n",
      "\n",
      "Adjusting learning rate of group 0 to 1.0000e-04.\n",
      "\u001b[92m Epoch 2\n",
      "------------------------------- \u001b[0m\n"
     ]
    },
    {
     "name": "stderr",
     "output_type": "stream",
     "text": [
      "100%|██████████| 478/478 [01:06<00:00,  7.14it/s, Train_Loss=0.157]\n"
     ]
    },
    {
     "name": "stdout",
     "output_type": "stream",
     "text": [
      "\u001b[96m Epoch 2 Results: |  train_loss: 0.15667821954795505 |  val_loss: 0.1593168685617654  \u001b[0m\n",
      "\n",
      "Adjusting learning rate of group 0 to 1.0000e-04.\n",
      "\u001b[92m Epoch 3\n",
      "------------------------------- \u001b[0m\n"
     ]
    },
    {
     "name": "stderr",
     "output_type": "stream",
     "text": [
      "100%|██████████| 478/478 [01:06<00:00,  7.14it/s, Train_Loss=0.155]\n"
     ]
    },
    {
     "name": "stdout",
     "output_type": "stream",
     "text": [
      "\u001b[96m Epoch 3 Results: |  train_loss: 0.15478506838614473 |  val_loss: 0.15698511169656462  \u001b[0m\n",
      "\n",
      "Adjusting learning rate of group 0 to 1.0000e-04.\n",
      "\u001b[92m Epoch 4\n",
      "------------------------------- \u001b[0m\n"
     ]
    },
    {
     "name": "stderr",
     "output_type": "stream",
     "text": [
      "100%|██████████| 478/478 [01:06<00:00,  7.14it/s, Train_Loss=0.153]\n"
     ]
    },
    {
     "name": "stdout",
     "output_type": "stream",
     "text": [
      "\u001b[96m Epoch 4 Results: |  train_loss: 0.1533779820357157 |  val_loss: 0.15119167455080626  \u001b[0m\n",
      "\n",
      "Adjusting learning rate of group 0 to 1.0000e-04.\n",
      "\u001b[92m Epoch 5\n",
      "------------------------------- \u001b[0m\n"
     ]
    },
    {
     "name": "stderr",
     "output_type": "stream",
     "text": [
      "100%|██████████| 478/478 [01:06<00:00,  7.14it/s, Train_Loss=0.153]\n"
     ]
    },
    {
     "name": "stdout",
     "output_type": "stream",
     "text": [
      "\u001b[96m Epoch 5 Results: |  train_loss: 0.15293106587923222 |  val_loss: 0.1520358136166697  \u001b[0m\n",
      "\n",
      "Adjusting learning rate of group 0 to 1.0000e-04.\n",
      "\u001b[92m Epoch 6\n",
      "------------------------------- \u001b[0m\n"
     ]
    },
    {
     "name": "stderr",
     "output_type": "stream",
     "text": [
      "100%|██████████| 478/478 [01:07<00:00,  7.08it/s, Train_Loss=0.161]\n"
     ]
    },
    {
     "name": "stdout",
     "output_type": "stream",
     "text": [
      "\u001b[96m Epoch 6 Results: |  train_loss: 0.16060741379794716 |  val_loss: 0.1551814274187537  \u001b[0m\n",
      "\n",
      "Adjusting learning rate of group 0 to 1.0000e-04.\n",
      "\u001b[92m Epoch 7\n",
      "------------------------------- \u001b[0m\n"
     ]
    },
    {
     "name": "stderr",
     "output_type": "stream",
     "text": [
      "100%|██████████| 478/478 [01:07<00:00,  7.11it/s, Train_Loss=0.157]\n"
     ]
    },
    {
     "name": "stdout",
     "output_type": "stream",
     "text": [
      "\u001b[96m Epoch 7 Results: |  train_loss: 0.15654559603358412 |  val_loss: 0.15510938705309577  \u001b[0m\n",
      "\n",
      "Adjusting learning rate of group 0 to 1.0000e-04.\n",
      "\u001b[92m Epoch 8\n",
      "------------------------------- \u001b[0m\n"
     ]
    },
    {
     "name": "stderr",
     "output_type": "stream",
     "text": [
      "100%|██████████| 478/478 [01:07<00:00,  7.09it/s, Train_Loss=0.154]\n"
     ]
    },
    {
     "name": "stdout",
     "output_type": "stream",
     "text": [
      "\u001b[96m Epoch 8 Results: |  train_loss: 0.15398416529452452 |  val_loss: 0.15439613773554994  \u001b[0m\n",
      "\n",
      "Adjusting learning rate of group 0 to 1.0000e-04.\n",
      "\u001b[92m Epoch 9\n",
      "------------------------------- \u001b[0m\n"
     ]
    },
    {
     "name": "stderr",
     "output_type": "stream",
     "text": [
      "100%|██████████| 478/478 [01:07<00:00,  7.08it/s, Train_Loss=0.154]\n"
     ]
    },
    {
     "name": "stdout",
     "output_type": "stream",
     "text": [
      "\u001b[96m Epoch 9 Results: |  train_loss: 0.15384638945427898 |  val_loss: 0.15296141722280046  \u001b[0m\n",
      "\n",
      "Adjusting learning rate of group 0 to 1.0000e-04.\n",
      "\u001b[92m Epoch 10\n",
      "------------------------------- \u001b[0m\n"
     ]
    },
    {
     "name": "stderr",
     "output_type": "stream",
     "text": [
      "100%|██████████| 478/478 [01:06<00:00,  7.17it/s, Train_Loss=0.153]\n"
     ]
    },
    {
     "name": "stdout",
     "output_type": "stream",
     "text": [
      "\u001b[96m Epoch 10 Results: |  train_loss: 0.15254053241226465 |  val_loss: 0.1584776731720869  \u001b[0m\n",
      "\n",
      "Adjusting learning rate of group 0 to 2.0000e-05.\n",
      "\u001b[92m Epoch 11\n",
      "------------------------------- \u001b[0m\n"
     ]
    },
    {
     "name": "stderr",
     "output_type": "stream",
     "text": [
      "100%|██████████| 478/478 [01:07<00:00,  7.13it/s, Train_Loss=0.151]\n"
     ]
    },
    {
     "name": "stdout",
     "output_type": "stream",
     "text": [
      "\u001b[96m Epoch 11 Results: |  train_loss: 0.1513886303333059 |  val_loss: 0.1522145404115967  \u001b[0m\n",
      "\n",
      "Adjusting learning rate of group 0 to 2.0000e-05.\n",
      "\u001b[92m Epoch 12\n",
      "------------------------------- \u001b[0m\n"
     ]
    },
    {
     "name": "stderr",
     "output_type": "stream",
     "text": [
      "100%|██████████| 478/478 [01:07<00:00,  7.13it/s, Train_Loss=0.149]\n"
     ]
    },
    {
     "name": "stdout",
     "output_type": "stream",
     "text": [
      "\u001b[96m Epoch 12 Results: |  train_loss: 0.1493106295654714 |  val_loss: 0.15146087833504746  \u001b[0m\n",
      "\n",
      "Adjusting learning rate of group 0 to 2.0000e-05.\n",
      "\u001b[92m Epoch 13\n",
      "------------------------------- \u001b[0m\n"
     ]
    },
    {
     "name": "stderr",
     "output_type": "stream",
     "text": [
      "100%|██████████| 478/478 [01:07<00:00,  7.12it/s, Train_Loss=0.149]\n"
     ]
    },
    {
     "name": "stdout",
     "output_type": "stream",
     "text": [
      "\u001b[96m Epoch 13 Results: |  train_loss: 0.14881047631407382 |  val_loss: 0.1496378741618516  \u001b[0m\n",
      "\n",
      "Adjusting learning rate of group 0 to 2.0000e-05.\n",
      "\u001b[92m Epoch 14\n",
      "------------------------------- \u001b[0m\n"
     ]
    },
    {
     "name": "stderr",
     "output_type": "stream",
     "text": [
      "100%|██████████| 478/478 [01:06<00:00,  7.16it/s, Train_Loss=0.148]\n"
     ]
    },
    {
     "name": "stdout",
     "output_type": "stream",
     "text": [
      "\u001b[96m Epoch 14 Results: |  train_loss: 0.147579709325126 |  val_loss: 0.1493926587096159  \u001b[0m\n",
      "\n",
      "Adjusting learning rate of group 0 to 2.0000e-05.\n",
      "\u001b[92m Epoch 15\n",
      "------------------------------- \u001b[0m\n"
     ]
    },
    {
     "name": "stderr",
     "output_type": "stream",
     "text": [
      "100%|██████████| 478/478 [01:06<00:00,  7.14it/s, Train_Loss=0.147]\n"
     ]
    },
    {
     "name": "stdout",
     "output_type": "stream",
     "text": [
      "\u001b[96m Epoch 15 Results: |  train_loss: 0.14716733038176052 |  val_loss: 0.14881139788506687  \u001b[0m\n",
      "\n",
      "Adjusting learning rate of group 0 to 2.0000e-05.\n",
      "\u001b[92m Epoch 16\n",
      "------------------------------- \u001b[0m\n"
     ]
    },
    {
     "name": "stderr",
     "output_type": "stream",
     "text": [
      "100%|██████████| 478/478 [01:07<00:00,  7.13it/s, Train_Loss=0.147]\n"
     ]
    },
    {
     "name": "stdout",
     "output_type": "stream",
     "text": [
      "\u001b[96m Epoch 16 Results: |  train_loss: 0.14719846430059258 |  val_loss: 0.14855552653687587  \u001b[0m\n",
      "\n",
      "Adjusting learning rate of group 0 to 2.0000e-05.\n",
      "\u001b[92m Epoch 17\n",
      "------------------------------- \u001b[0m\n"
     ]
    },
    {
     "name": "stderr",
     "output_type": "stream",
     "text": [
      "100%|██████████| 478/478 [01:07<00:00,  7.13it/s, Train_Loss=0.147]\n"
     ]
    },
    {
     "name": "stdout",
     "output_type": "stream",
     "text": [
      "\u001b[96m Epoch 17 Results: |  train_loss: 0.14732336086147002 |  val_loss: 0.14823082472751106  \u001b[0m\n",
      "\n",
      "Adjusting learning rate of group 0 to 2.0000e-05.\n",
      "\u001b[92m Epoch 18\n",
      "------------------------------- \u001b[0m\n"
     ]
    },
    {
     "name": "stderr",
     "output_type": "stream",
     "text": [
      "100%|██████████| 478/478 [01:06<00:00,  7.14it/s, Train_Loss=0.147]\n"
     ]
    },
    {
     "name": "stdout",
     "output_type": "stream",
     "text": [
      "\u001b[96m Epoch 18 Results: |  train_loss: 0.14662477953912822 |  val_loss: 0.1476721092518689  \u001b[0m\n",
      "\n",
      "Adjusting learning rate of group 0 to 2.0000e-05.\n",
      "\u001b[92m Epoch 19\n",
      "------------------------------- \u001b[0m\n"
     ]
    },
    {
     "name": "stderr",
     "output_type": "stream",
     "text": [
      "100%|██████████| 478/478 [01:06<00:00,  7.18it/s, Train_Loss=0.146]\n"
     ]
    },
    {
     "name": "stdout",
     "output_type": "stream",
     "text": [
      "\u001b[96m Epoch 19 Results: |  train_loss: 0.14632867766099994 |  val_loss: 0.14751343817814536  \u001b[0m\n",
      "\n",
      "Adjusting learning rate of group 0 to 2.0000e-05.\n",
      "\u001b[92m Epoch 20\n",
      "------------------------------- \u001b[0m\n"
     ]
    },
    {
     "name": "stderr",
     "output_type": "stream",
     "text": [
      "100%|██████████| 478/478 [01:06<00:00,  7.16it/s, Train_Loss=0.146]\n"
     ]
    },
    {
     "name": "stdout",
     "output_type": "stream",
     "text": [
      "\u001b[96m Epoch 20 Results: |  train_loss: 0.14604987913282846 |  val_loss: 0.14699433036688445  \u001b[0m\n",
      "\n",
      "Adjusting learning rate of group 0 to 4.0000e-06.\n",
      "\u001b[1;41m Worst RMSE worsened to 0.21330785014442283 \u001b[0m\n",
      "Saving checkpoint=> Done!\n",
      "This Runs RMSE: 0.21330785014442283\n"
     ]
    }
   ],
   "source": [
    "best_mae = 1000 # just a big number, since our data is normalized between 0 and 1, mae is between 0 and 1 too.\n",
    "worst_mae = 0 # just a small number, since our data is normalized between 0 and 1, mae is between 0 and 1 too.\n",
    "\n",
    "best_rmse = 1000 # just a big number, since our data is normalized between 0 and 1, rmse is between 0 and 1 too.\n",
    "worst_rmse = 0 # just a small number, since our data is normalized between 0 and 1, rmse is between 0 and 1 too.\n",
    "\n",
    "best_seed = SEEDS[0]\n",
    "worst_seed = SEEDS[0]\n",
    "\n",
    "for idx, seed in enumerate(SEEDS):\n",
    "    print(tc.BOLD_BAKGROUNDs.PURPLE, f\"CROSS VAL {idx+1}\", tc.ENDC)\n",
    "    \n",
    "    \n",
    "    train_dl = DataLoader(train_ds, batch_size=TRAIN_BATCH_SIZE, shuffle=True, num_workers=NUM_WORKERS)\n",
    "    test_dl = DataLoader(test_ds, batch_size=TEST_BATCH_SIZE, shuffle=False, num_workers=NUM_WORKERS)\n",
    "    val_dl = DataLoader(val_ds, batch_size=TEST_BATCH_SIZE, shuffle=False, num_workers=NUM_WORKERS)\n",
    "    \n",
    "    #model = SoilNetFC(cnn_in_channels=12, regresor_input_from_cnn=1024, hidden_size=128).to(device)\n",
    "    architecture = \"101+GLAM\" if USE_SPATIAL_ATTENTION else \"101\"\n",
    "    if not JUST_LSTM:\n",
    "       if USE_LSTM_BRANCH:\n",
    "            model = SoilNetLSTM(use_glam=USE_SPATIAL_ATTENTION, cnn_arch= CNN_ARCHITECTURE, reg_version= REG_VERSION,\n",
    "                           cnn_in_channels=len(bands), regresor_input_from_cnn=1024,\n",
    "                           lstm_n_features= NUM_CLIMATE_FEATURES, lstm_n_layers= 2, lstm_out= 128,\n",
    "                           hidden_size=128, rnn_arch=RNN_ARCHITECTURE,seq_len=SEQ_LEN).to(device)\n",
    "       else:\n",
    "            model = SoilNet(use_glam=USE_SPATIAL_ATTENTION, cnn_arch = CNN_ARCHITECTURE, reg_version= REG_VERSION,\n",
    "                       cnn_in_channels=len(bands), regresor_input_from_cnn=1024, hidden_size=128).to(device)\n",
    "            \n",
    "    else:\n",
    "        model = SoilNetJustLSTM(use_glam=USE_SPATIAL_ATTENTION, cnn_arch= CNN_ARCHITECTURE, reg_version= REG_VERSION,\n",
    "                            cnn_in_channels=len(bands), regresor_input_from_cnn=1024,\n",
    "                            lstm_n_features= NUM_CLIMATE_FEATURES, lstm_n_layers= 2, lstm_out= 128,\n",
    "                            hidden_size=128, rnn_arch=RNN_ARCHITECTURE,seq_len=SEQ_LEN).to(device)\n",
    "    \n",
    "    if LOAD_SIMCLR_MODEL:\n",
    "        model = torch.load(SIMCLR_PATH).to(device)\n",
    "        model = SoilNetSimCLRwRegHead(model, hidden_size=128, reg_version=REG_VERSION).to(device)\n",
    "        \n",
    "    \n",
    "    random.seed(seed)\n",
    "    np.random.seed(seed)\n",
    "    torch.manual_seed(seed)\n",
    "    \n",
    "    # Saving the model on the last epoch\n",
    "    # save_model_path = f\"results/RUN_{EXP_NAME}_{run_name}_{USER}_best.pth.tar\"\n",
    "    save_model_path = None\n",
    "\n",
    "    \n",
    "    loss_instance = RMSLELoss() if LOG_LOSS else RMSELoss()\n",
    "        \n",
    "    optimizer = torch.optim.Adam(model.parameters(), lr=LEARNING_RATE)\n",
    "    results = train(model, train_dl, test_dl, val_dl,\n",
    "                    optimizer,\n",
    "                    loss_instance, epochs=NUM_EPOCHS, lr_scheduler=LR_SCHEDULER,\n",
    "                    save_model_path= save_model_path,\n",
    "                    save_model_if_mae_lower_than= best_rmse,\n",
    "                    save_train_data_metrics=SAVE_TRAIN_DATA_METRICS\n",
    "                    )\n",
    "\n",
    "    \n",
    "    cv_results['train_loss'].append(results['train_loss'])\n",
    "    cv_results['val_loss'].append(results['val_loss'])\n",
    "    cv_results['MAE'].append(results['MAE'][0])\n",
    "    cv_results['RMSE'].append(results['RMSE'][0])\n",
    "    cv_results['R2'].append(results['R2'][0])\n",
    "    \n",
    "    if SAVE_TRAIN_DATA_METRICS:\n",
    "        cv_results['train_MAE'].append(results['train_MAE'])\n",
    "        cv_results['train_RMSE'].append(results['train_RMSE'])\n",
    "        cv_results['train_R2'].append(results['train_R2'])\n",
    "    \n",
    "    # Stop the training loop via RMSE \n",
    "    if results['RMSE'][0] < best_rmse:\n",
    "        best_rmse = results['RMSE'][0]\n",
    "        best_seed = seed\n",
    "        print(tc.BOLD_BAKGROUNDs.GREEN, f\"Best RMSE improved to {best_rmse}\", tc.ENDC)\n",
    "        # Save the best model\n",
    "        best_model_path = f\"results/RUN_{EXP_NAME}_{run_name}_{USER}_best.pth.tar\"\n",
    "        save_checkpoint(model, optimizer=optimizer, filename=best_model_path)\n",
    "        \n",
    "    if results['RMSE'][0] > worst_rmse:\n",
    "        worst_rmse = results['RMSE'][0]\n",
    "        worst_seed = seed\n",
    "        print(tc.BOLD_BAKGROUNDs.RED, f\"Worst RMSE worsened to {worst_rmse}\", tc.ENDC)\n",
    "        # Save the worst model\n",
    "        worst_model_path = f\"results/RUN_{EXP_NAME}_{run_name}_{USER}_worst.pth.tar\"\n",
    "        save_checkpoint(model, optimizer=optimizer, filename=worst_model_path)\n",
    "        \n",
    "    print(f\"This Runs RMSE: {results['RMSE'][0]}\")\n",
    "\n",
    "\n",
    "    # Stop the training loop via MAE\n",
    "    # if results['MAE'][0] < best_mae:\n",
    "    #     best_mae = results['MAE'][0]\n",
    "    #     best_seed = seed\n",
    "    #     print(tc.BOLD_BAKGROUNDs.GREEN, f\"Best MAE improved to {best_mae}\", tc.ENDC)\n",
    "    \n",
    "    # if results['MAE'][0] > worst_mae:\n",
    "    #     worst_mae = results['MAE'][0]\n",
    "    #     worst_seed = seed\n",
    "    #     print(tc.BOLD_BAKGROUNDs.RED, f\"Worst MAE worsened to {worst_mae}\", tc.ENDC)\n",
    "    #     # Save the worst model\n",
    "    #     worst_model_path = f\"results/RUN_{EXP_NAME}_{run_name}_{USER}_worst.pth.tar\"\n",
    "    #     save_checkpoint(model, optimizer=optimizer, filename=worst_model_path)\n",
    "        \n",
    "    # print(f\"This Runs MAE: {results['MAE'][0]}\")"
   ]
  },
  {
   "cell_type": "code",
   "execution_count": 21,
   "metadata": {},
   "outputs": [
    {
     "data": {
      "text/plain": [
       "[[0.21034043201218092], [0.2144570084265336]]"
      ]
     },
     "execution_count": 21,
     "metadata": {},
     "output_type": "execute_result"
    }
   ],
   "source": [
    "cv_results['train_RMSE']"
   ]
  },
  {
   "cell_type": "code",
   "execution_count": 22,
   "metadata": {},
   "outputs": [
    {
     "data": {
      "text/plain": [
       "((2, 20), (2, 20))"
      ]
     },
     "execution_count": 22,
     "metadata": {},
     "output_type": "execute_result"
    }
   ],
   "source": [
    "train_arr = np.asarray(cv_results['train_loss'])\n",
    "val_arr = np.asarray(cv_results['val_loss'])\n",
    "train_arr.shape, val_arr.shape"
   ]
  },
  {
   "cell_type": "code",
   "execution_count": 23,
   "metadata": {},
   "outputs": [
    {
     "data": {
      "image/png": "[encoded data removed]",
      "text/plain": [
       "<Figure size 640x480 with 1 Axes>"
      ]
     },
     "metadata": {},
     "output_type": "display_data"
    }
   ],
   "source": [
    "y_label = \"RMSLE\" if LOG_LOSS else \"RMSE\"\n",
    "plot_train_test_losses(train_arr,val_arr, title=\"Train/Validation Losses\", x_label=\"Epochs\", y_label=y_label,\n",
    "                       min_max_bounds= True, tight_x_lim= True,\n",
    "                       train_legend = \"Train\", test_legend = \"Validation\",\n",
    "                       save_path=f\"results/RUN_{EXP_NAME}_{run_name}_{USER}.png\")"
   ]
  },
  {
   "cell_type": "code",
   "execution_count": 24,
   "metadata": {},
   "outputs": [],
   "source": [
    "import csv"
   ]
  },
  {
   "cell_type": "code",
   "execution_count": 25,
   "metadata": {},
   "outputs": [
    {
     "name": "stdout",
     "output_type": "stream",
     "text": [
      "Current Date and Time: 2024-03-26 12:38:13\n"
     ]
    }
   ],
   "source": [
    "# Format the date and time\n",
    "now = datetime.now()\n",
    "finish_string = now.strftime(\"%Y-%m-%d %H:%M:%S\")\n",
    "print(\"Current Date and Time:\", finish_string)"
   ]
  },
  {
   "cell_type": "code",
   "execution_count": 26,
   "metadata": {},
   "outputs": [
    {
     "data": {
      "text/plain": [
       "([0.15441198962448288, 0.15748178559171894],\n",
       " [0.20970340576158822, 0.21330785014442283],\n",
       " [0.31611145369327853, 0.2968624342967124])"
      ]
     },
     "execution_count": 26,
     "metadata": {},
     "output_type": "execute_result"
    }
   ],
   "source": [
    "cv_results[\"MAE\"],cv_results['RMSE'],cv_results[\"R2\"]"
   ]
  },
  {
   "cell_type": "code",
   "execution_count": 27,
   "metadata": {},
   "outputs": [
    {
     "data": {
      "text/plain": [
       "[0.20970340576158822, 0.21330785014442283]"
      ]
     },
     "execution_count": 27,
     "metadata": {},
     "output_type": "execute_result"
    }
   ],
   "source": [
    "# Access the values associated with the keys 'MAE' and 'RMSE'\n",
    "cv_results['MAE']\n",
    "cv_results['RMSE']\n"
   ]
  },
  {
   "cell_type": "code",
   "execution_count": 28,
   "metadata": {},
   "outputs": [
    {
     "data": {
      "text/plain": [
       "(0.1559468876081009, 0.21150562795300554, 0.30648694399499543)"
      ]
     },
     "execution_count": 28,
     "metadata": {},
     "output_type": "execute_result"
    }
   ],
   "source": [
    "cv_results_full = {}\n",
    "cv_results_full['MAE_MEAN'] = np.mean(cv_results['MAE'])\n",
    "cv_results_full['RMSE_MEAN'] = np.mean(cv_results['RMSE'])\n",
    "cv_results_full['R2_MEAN'] = np.mean(cv_results['R2'])\n",
    "\n",
    "cv_results_full['MAE_MEAN'],cv_results_full['RMSE_MEAN'],cv_results_full['R2_MEAN']"
   ]
  },
  {
   "cell_type": "code",
   "execution_count": 29,
   "metadata": {},
   "outputs": [],
   "source": [
    "cv_results_full['LOAD_SIMCLR_MODEL'] = LOAD_SIMCLR_MODEL\n",
    "cv_results_full['JUST_LSTM'] = JUST_LSTM\n",
    "cv_results_full['USE_LSTM_BRANCH'] = USE_LSTM_BRANCH\n",
    "cv_results_full['USE_PRIM_CLIM'] = USE_PRIM_CLIM\n",
    "cv_results_full['USE_SEC_CLIM'] = USE_SEC_CLIM\n",
    "cv_results_full['LOG_LOSS'] = LOG_LOSS\n",
    "cv_results_full['NUM_CLIMATE_FEATURES'] = NUM_CLIMATE_FEATURES if USE_LSTM_BRANCH else None\n",
    "cv_results_full['CSV_FILES'] = CSV_FILES if USE_LSTM_BRANCH else None\n",
    "cv_results_full['NUM_WORKERS'] = NUM_WORKERS\n",
    "cv_results_full['TRAIN_BATCH_SIZE'] = TRAIN_BATCH_SIZE\n",
    "cv_results_full['TEST_BATCH_SIZE'] = TEST_BATCH_SIZE\n",
    "cv_results_full['LEARNING_RATE'] = LEARNING_RATE\n",
    "cv_results_full['NUM_EPOCHS'] = NUM_EPOCHS\n",
    "cv_results_full['LR_SCHEDULER'] = LR_SCHEDULER\n",
    "cv_results_full['CNN_ARCHITECTURE'] = CNN_ARCHITECTURE\n",
    "cv_results_full['REG_VERSION'] = REG_VERSION\n",
    "cv_results_full['USE_SPATIAL_ATTENTION'] = USE_SPATIAL_ATTENTION\n",
    "cv_results_full['Best Seed'] = best_seed\n",
    "cv_results_full['SEEDS'] = SEEDS\n",
    "cv_results_full['OC_MAX'] = OC_MAX\n",
    "cv_results_full['USE_SRTM'] = USE_SRTM\n",
    "cv_results_full['TIME'] = {\"start\": start_string, \"finish\": finish_string}\n",
    "cv_results_full['cv_results'] = cv_results"
   ]
  },
  {
   "cell_type": "code",
   "execution_count": 30,
   "metadata": {},
   "outputs": [],
   "source": [
    "with open(f\"results/Metrics_{EXP_NAME}_{run_name}_{USER}.json\", \"w\") as fp:\n",
    "    json.dump(cv_results, fp, indent=4)"
   ]
  },
  {
   "cell_type": "code",
   "execution_count": 31,
   "metadata": {},
   "outputs": [],
   "source": [
    "# READ JSON FILE\n",
    "# with open(\"results/my_dict.json\", \"r\") as fp:\n",
    "#     my_dict = json.load(fp)\n",
    "\n",
    "# print(my_dict)"
   ]
  },
  {
   "attachments": {},
   "cell_type": "markdown",
   "metadata": {},
   "source": [
    "# Analysis"
   ]
  },
  {
   "attachments": {},
   "cell_type": "markdown",
   "metadata": {},
   "source": [
    "## Save Outputs"
   ]
  },
  {
   "cell_type": "code",
   "execution_count": 32,
   "metadata": {},
   "outputs": [],
   "source": [
    "# load_checkpoint(model=model, optimizer=torch.optim.Adam(model.parameters(), lr=LEARNING_RATE),\n",
    "#                 filename='C:\\\\Users\\\\nkakhani\\\\_Multimodal\\\\SoilNet-5\\\\SoilNet\\\\results\\\\RUN_D_2023_06_05_T_16_02_Nafiseh.pth.tar') #LSTM \n",
    "\n",
    "# load_checkpoint(model=model, optimizer=torch.optim.Adam(model.parameters(), lr=LEARNING_RATE),\n",
    "#                 filename='C:\\\\Users\\\\nkakhani\\\\_Multimodal\\\\SoilNet-5\\\\SoilNet\\\\results\\\\RUN_D_2023_06_03_T_09_41_Nafiseh.pth.tar') #GLAM \n",
    "\n",
    "# load_checkpoint(model=model, optimizer=torch.optim.Adam(model.parameters(), lr=LEARNING_RATE),\n",
    "#                 filename='C:\\\\Users\\\\nkakhani\\\\_Multimodal\\\\SoilNet-5\\\\SoilNet\\\\results\\\\RUN_D_2023_06_02_T_20_57_Nafiseh.pth.tar') #Base\n",
    "\n",
    "# model.eval()\n",
    "# print(\"Model loaded\")"
   ]
  },
  {
   "attachments": {},
   "cell_type": "markdown",
   "metadata": {},
   "source": [
    "### Loading the Best Model\n",
    "Loading the best model from all the coross validation runs."
   ]
  },
  {
   "cell_type": "code",
   "execution_count": 33,
   "metadata": {},
   "outputs": [
    {
     "name": "stdout",
     "output_type": "stream",
     "text": [
      "Loading checkpoint=> Done!\n",
      "Best Model loaded\n"
     ]
    }
   ],
   "source": [
    "load_checkpoint(model=model, optimizer=torch.optim.Adam(model.parameters(), lr=LEARNING_RATE),filename=f\"results/RUN_{EXP_NAME}_{run_name}_{USER}_best.pth.tar\")\n",
    "\n",
    "# load_checkpoint(model=model, optimizer=torch.optim.Adam(model.parameters(), lr=LEARNING_RATE),\n",
    "#                 filename=\"C:\\\\Users\\\\nkakhani\\\\_Multimodal\\\\SoilNet-7\\\\SoilNet-PreRelease\\\\results\\\\RUN_D_2024_01_29_T_18_55_Nafiseh.pth.tar\")\n",
    "\n",
    "model.eval()\n",
    "print(\"Best Model loaded\")"
   ]
  },
  {
   "cell_type": "code",
   "execution_count": 34,
   "metadata": {},
   "outputs": [],
   "source": [
    "test_dl_w_id = DataLoader(test_ds_w_id, batch_size=TEST_BATCH_SIZE, shuffle=False, num_workers=NUM_WORKERS)"
   ]
  },
  {
   "cell_type": "code",
   "execution_count": 35,
   "metadata": {},
   "outputs": [
    {
     "name": "stdout",
     "output_type": "stream",
     "text": [
      "Best model saved to results/RUN_LUCAS_Transformer_NoImage_D_2024_03_26_T_11_42_Nafiseh_best.csv\n"
     ]
    }
   ],
   "source": [
    "test_step_w_id(model=model, data_loader=test_dl_w_id, loss_fn=nn.L1Loss(), verbose=False, csv_file=f\"results/RUN_{EXP_NAME}_{run_name}_{USER}_best.csv\")\n",
    "print(f\"Best model saved to results/RUN_{EXP_NAME}_{run_name}_{USER}_best.csv\")\n",
    "# test_step_w_id(model=model, data_loader=test_dl_w_id, loss_fn=nn.L1Loss(), verbose=False, csv_file=f\"results/onlytest_{run_name}_{USER}.csv\")"
   ]
  },
  {
   "cell_type": "markdown",
   "metadata": {},
   "source": [
    "### Loading the Worst Model\n",
    "Loading the Worst model from all the coross validation runs."
   ]
  },
  {
   "cell_type": "code",
   "execution_count": 36,
   "metadata": {},
   "outputs": [
    {
     "name": "stdout",
     "output_type": "stream",
     "text": [
      "Loading checkpoint=> Done!\n",
      "Worst Model loaded\n"
     ]
    }
   ],
   "source": [
    "load_checkpoint(model=model, optimizer=torch.optim.Adam(model.parameters(), lr=LEARNING_RATE),filename=f\"results/RUN_{EXP_NAME}_{run_name}_{USER}_worst.pth.tar\")\n",
    "model.eval()\n",
    "print(\"Worst Model loaded\")"
   ]
  },
  {
   "cell_type": "code",
   "execution_count": 37,
   "metadata": {},
   "outputs": [
    {
     "name": "stdout",
     "output_type": "stream",
     "text": [
      "Worst Model saved to results/RUN_LUCAS_Transformer_NoImage_D_2024_03_26_T_11_42_Nafiseh_worst.csv\n"
     ]
    }
   ],
   "source": [
    "test_step_w_id(model=model, data_loader=test_dl_w_id, loss_fn=nn.L1Loss(), verbose=False, csv_file=f\"results/RUN_{EXP_NAME}_{run_name}_{USER}_worst.csv\")\n",
    "print(f\"Worst Model saved to results/RUN_{EXP_NAME}_{run_name}_{USER}_worst.csv\")"
   ]
  },
  {
   "cell_type": "code",
   "execution_count": 38,
   "metadata": {},
   "outputs": [],
   "source": [
    "from importlib import reload\n",
    "import train_utils\n",
    "reload(train_utils)\n",
    "from train_utils import *"
   ]
  },
  {
   "cell_type": "code",
   "execution_count": 39,
   "metadata": {},
   "outputs": [
    {
     "name": "stdout",
     "output_type": "stream",
     "text": [
      "{'RMSE': 18.883958346875602, 'R2': 0.4041378963979728, 'RPIQ': 1.4423783839918687, 'MAE': 13.461209548261419, 'MEC': 1.5572464379763862, 'CCC': 0.5740610292489169}\n"
     ]
    }
   ],
   "source": [
    "df = pd.read_csv(f\"results/RUN_{EXP_NAME}_{run_name}_{USER}_best.csv\")\n",
    "# df = pd.read_csv(\"C:\\\\Users\\\\nkakhani\\\\_Multimodal\\\\SoilNet-7\\\\SoilNet-PreRelease\\\\results\\RUN_D_2024_01_29_T_18_55_Nafiseh_best.csv\")\n",
    "\n",
    "y_true = df['y_real']* OC_MAX\n",
    "y_pred = df['y_pred']* OC_MAX\n",
    "\n",
    "rmse, r2, rpiq, mae, mec, ccc = evaluate_regression_metrics(y_true, y_pred)\n",
    "\n",
    "best_dict = {}\n",
    "best_dict['RMSE'] = rmse\n",
    "best_dict['R2'] = r2\n",
    "best_dict['RPIQ'] = rpiq\n",
    "best_dict['MAE'] = mae\n",
    "best_dict['MEC'] = mec\n",
    "best_dict['CCC'] = ccc\n",
    "\n",
    "print(best_dict)\n",
    "cv_results_full['best_dict'] = best_dict"
   ]
  },
  {
   "cell_type": "code",
   "execution_count": 40,
   "metadata": {},
   "outputs": [
    {
     "name": "stdout",
     "output_type": "stream",
     "text": [
      "{'RMSE': 19.194416384749967, 'R2': 0.3843845349889258, 'RPIQ': 1.4066159284068729, 'MAE': 13.72876938026048, 'MEC': 1.828046205992425, 'CCC': 0.5456908307183477}\n"
     ]
    }
   ],
   "source": [
    "df = pd.read_csv(f\"results/RUN_{EXP_NAME}_{run_name}_{USER}_worst.csv\")\n",
    "# df = pd.read_csv(\"C:\\\\Users\\\\nkakhani\\\\_Multimodal\\\\SoilNet-7\\\\SoilNet-PreRelease\\\\results\\RUN_D_2024_01_29_T_18_55_Nafiseh_worst.csv\")\n",
    "\n",
    "\n",
    "y_true = df['y_real']* OC_MAX\n",
    "y_pred = df['y_pred']* OC_MAX\n",
    "\n",
    "rmse, r2, rpiq, mae, mec, ccc = evaluate_regression_metrics(y_true, y_pred)\n",
    "\n",
    "worst_dict = {}\n",
    "worst_dict['RMSE'] = rmse\n",
    "worst_dict['R2'] = r2\n",
    "worst_dict['RPIQ'] = rpiq\n",
    "worst_dict['MAE'] = mae\n",
    "worst_dict['MEC'] = mec\n",
    "worst_dict['CCC'] = ccc\n",
    "\n",
    "print(worst_dict)\n",
    "cv_results_full['worst_dict'] = worst_dict"
   ]
  },
  {
   "cell_type": "code",
   "execution_count": 41,
   "metadata": {},
   "outputs": [],
   "source": [
    "with open(f\"results/RUN_{EXP_NAME}_{run_name}_{USER}.json\", \"w\") as fp:\n",
    "    json.dump(cv_results_full, fp, indent=4)"
   ]
  },
  {
   "cell_type": "code",
   "execution_count": null,
   "metadata": {},
   "outputs": [],
   "source": []
  }
 ],
 "metadata": {
  "kernelspec": {
   "display_name": "pytorchGPU",
   "language": "python",
   "name": "python3"
  },
  "language_info": {
   "codemirror_mode": {
    "name": "ipython",
    "version": 3
   },
   "file_extension": ".py",
   "mimetype": "text/x-python",
   "name": "python",
   "nbconvert_exporter": "python",
   "pygments_lexer": "ipython3",
   "version": "3.9.16"
  },
  "orig_nbformat": 4,
  "vscode": {
   "interpreter": {
    "hash": "5c74e58d50e1361e9a22e65e4f4b85ac48544f43f48a101259d9c47c27371742"
   }
  }
 },
 "nbformat": 4,
 "nbformat_minor": 2
}

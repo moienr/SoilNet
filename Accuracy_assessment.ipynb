{
 "cells": [
  {
   "cell_type": "code",
   "execution_count": 23,
   "metadata": {},
   "outputs": [],
   "source": [
    "import pandas as pd\n",
    "import numpy as np\n",
    "from sklearn.metrics import mean_squared_error, r2_score"
   ]
  },
  {
   "cell_type": "code",
   "execution_count": 24,
   "metadata": {},
   "outputs": [],
   "source": [
    "import pandas as pd\n",
    "import numpy as np\n",
    "from sklearn.metrics import mean_squared_error, r2_score\n",
    "\n",
    "def evaluate_regression_metrics(y_true, y_pred):\n",
    "    \"\"\"Calculate multiple regression evaluation metrics.\"\"\"\n",
    "    y_true = y_true * 87  # Multiply y_true by 87\n",
    "    y_pred = y_pred * 87  # Multiply y_pred by 87\n",
    "    \n",
    "    # Calculate RMSE (Root Mean Squared Error)\n",
    "    rmse = np.sqrt(mean_squared_error(y_true, y_pred))\n",
    "    \n",
    "    # Calculate R2 (R-squared)\n",
    "    r2 = r2_score(y_true, y_pred)\n",
    "    \n",
    "    # Calculate RPIQ (Relative Prediction Interval Quality)\n",
    "    y_std = np.std(y_true)\n",
    "    rpiq = 1 - (rmse / y_std)\n",
    "    \n",
    "    # Calculate MAE (Mean Absolute Error)\n",
    "    mae = np.mean(np.abs(y_true - y_pred))\n",
    "    \n",
    "    # Calculate MEC (Mean Error Correction)\n",
    "    mec = np.mean(y_true - y_pred)\n",
    "    \n",
    "    # Calculate CCC (Concordance Correlation Coefficient)\n",
    "    def concordance_correlation_coefficient(y_real, y_pred):\n",
    "        # Raw data\n",
    "        dct = {\n",
    "            'y_real': y_real,\n",
    "            'y_pred': y_pred\n",
    "        }\n",
    "        df = pd.DataFrame(dct)\n",
    "        # Remove NaNs\n",
    "        df = df.dropna()\n",
    "        # Pearson product-moment correlation coefficients\n",
    "        y_real = df['y_real']\n",
    "        y_pred = df['y_pred']\n",
    "        cor = np.corrcoef(y_real, y_pred)[0][1]\n",
    "        # Means\n",
    "        mean_real = np.mean(y_real)\n",
    "        mean_pred = np.mean(y_pred)\n",
    "        # Population variances\n",
    "        var_real = np.var(y_real)\n",
    "        var_pred = np.var(y_pred)\n",
    "        # Population standard deviations\n",
    "        sd_real = np.std(y_real)\n",
    "        sd_pred = np.std(y_pred)\n",
    "        # Calculate CCC\n",
    "        numerator = 2 * cor * sd_real * sd_pred\n",
    "        denominator = var_real + var_pred + (mean_real - mean_pred)**2\n",
    "\n",
    "        return numerator / denominator\n",
    "    \n",
    "    ccc = concordance_correlation_coefficient(y_true, y_pred)\n",
    "    \n",
    "    return rmse, r2, rpiq, mae, mec, ccc\n"
   ]
  },
  {
   "cell_type": "code",
   "execution_count": 25,
   "metadata": {},
   "outputs": [
    {
     "name": "stdout",
     "output_type": "stream",
     "text": [
      "RMSE: 19.9488\n",
      "R2: 0.3390\n",
      "RPIQ: 0.1870\n",
      "MAE: 14.3860\n",
      "MEC: 1.3990\n",
      "CCC: 0.5203\n"
     ]
    }
   ],
   "source": [
    "# Read the CSV file which is first setup: Base\n",
    "df = pd.read_csv('C:\\\\Users\\\\nkakhani\\\\_Multimodal\\\\SoilNet-5\\\\SoilNet\\\\results\\\\RUN_D_2023_06_02_T_20_57_Nafiseh.csv')\n",
    "y_true = df['y_real']\n",
    "y_pred = df['y_pred']\n",
    "\n",
    "rmse, r2, rpiq, mae, mec, ccc = evaluate_regression_metrics(y_true, y_pred)\n",
    "\n",
    "# Print the results with four digits after the decimal point\n",
    "print(\"RMSE: {:.4f}\".format(rmse))\n",
    "print(\"R2: {:.4f}\".format(r2))\n",
    "print(\"RPIQ: {:.4f}\".format(rpiq))\n",
    "print(\"MAE: {:.4f}\".format(mae))\n",
    "print(\"MEC: {:.4f}\".format(mec))\n",
    "print(\"CCC: {:.4f}\".format(ccc))\n"
   ]
  },
  {
   "cell_type": "code",
   "execution_count": 26,
   "metadata": {},
   "outputs": [
    {
     "name": "stdout",
     "output_type": "stream",
     "text": [
      "RMSE: 19.8189\n",
      "R2: 0.3476\n",
      "RPIQ: 0.1923\n",
      "MAE: 14.4492\n",
      "MEC: 0.5360\n",
      "CCC: 0.5365\n"
     ]
    }
   ],
   "source": [
    "# Read the CSV file which is second setup: added spatial attention\n",
    "df = pd.read_csv('C:\\\\Users\\\\nkakhani\\\\_Multimodal\\\\SoilNet-5\\\\SoilNet\\\\results\\\\RUN_D_2023_06_03_T_09_41_Nafiseh.csv')\n",
    "y_true = df['y_real']\n",
    "y_pred = df['y_pred']\n",
    "\n",
    "rmse, r2, rpiq, mae, mec, ccc = evaluate_regression_metrics(y_true, y_pred)\n",
    "\n",
    "# Print the results with four digits after the decimal point\n",
    "print(\"RMSE: {:.4f}\".format(rmse))\n",
    "print(\"R2: {:.4f}\".format(r2))\n",
    "print(\"RPIQ: {:.4f}\".format(rpiq))\n",
    "print(\"MAE: {:.4f}\".format(mae))\n",
    "print(\"MEC: {:.4f}\".format(mec))\n",
    "print(\"CCC: {:.4f}\".format(ccc))\n"
   ]
  },
  {
   "cell_type": "code",
   "execution_count": 29,
   "metadata": {},
   "outputs": [
    {
     "name": "stdout",
     "output_type": "stream",
     "text": [
      "RMSE: 19.2582\n",
      "R2: 0.3839\n",
      "RPIQ: 0.2151\n",
      "MAE: 13.8739\n",
      "MEC: 1.0497\n",
      "CCC: 0.5667\n"
     ]
    }
   ],
   "source": [
    "# Read the CSV file which is 3th setup: LSTM\n",
    "df = pd.read_csv('C:\\\\Users\\\\nkakhani\\\\_Multimodal\\\\SoilNet-5\\\\SoilNet\\\\results\\\\RUN_D_2023_06_05_T_16_02_Nafiseh.csv')\n",
    "y_true = df['y_real']\n",
    "y_pred = df['y_pred']\n",
    "\n",
    "rmse, r2, rpiq, mae, mec, ccc = evaluate_regression_metrics(y_true, y_pred)\n",
    "\n",
    "# Print the results with four digits after the decimal point\n",
    "print(\"RMSE: {:.4f}\".format(rmse))\n",
    "print(\"R2: {:.4f}\".format(r2))\n",
    "print(\"RPIQ: {:.4f}\".format(rpiq))\n",
    "print(\"MAE: {:.4f}\".format(mae))\n",
    "print(\"MEC: {:.4f}\".format(mec))\n",
    "print(\"CCC: {:.4f}\".format(ccc))"
   ]
  }
 ],
 "metadata": {
  "kernelspec": {
   "display_name": "pytorchGPU",
   "language": "python",
   "name": "python3"
  },
  "language_info": {
   "codemirror_mode": {
    "name": "ipython",
    "version": 3
   },
   "file_extension": ".py",
   "mimetype": "text/x-python",
   "name": "python",
   "nbconvert_exporter": "python",
   "pygments_lexer": "ipython3",
   "version": "3.9.16"
  },
  "orig_nbformat": 4
 },
 "nbformat": 4,
 "nbformat_minor": 2
}

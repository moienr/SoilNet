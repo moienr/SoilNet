{
 "cells": [
  {
   "cell_type": "code",
   "execution_count": 12,
   "metadata": {},
   "outputs": [],
   "source": [
    "import pandas as pd\n",
    "import numpy as np\n",
    "from sklearn.metrics import mean_squared_error, r2_score"
   ]
  },
  {
   "cell_type": "code",
   "execution_count": 13,
   "metadata": {},
   "outputs": [
    {
     "name": "stdout",
     "output_type": "stream",
     "text": [
      "RMSE: 0.22929656601734089\n",
      "R2: 0.3389700239417308\n",
      "RPIQ: 0.18696250021400285\n",
      "MEC: 0.016080909852413523\n",
      "CCC: 0.5202541292948064\n"
     ]
    }
   ],
   "source": [
    "\n",
    "def concordance_correlation_coefficient(y_real, y_pred):\n",
    "    \"\"\"Concordance correlation coefficient.\"\"\"\n",
    "    # Raw data\n",
    "    dct = {\n",
    "        'y_real': y_real,\n",
    "        'y_pred': y_pred\n",
    "    }\n",
    "    df = pd.DataFrame(dct)\n",
    "    # Remove NaNs\n",
    "    df = df.dropna()\n",
    "    # Pearson product-moment correlation coefficients\n",
    "    y_real = df['y_real']\n",
    "    y_pred = df['y_pred']\n",
    "    cor = np.corrcoef(y_real, y_pred)[0][1]\n",
    "    # Means\n",
    "    mean_real = np.mean(y_real)\n",
    "    mean_pred = np.mean(y_pred)\n",
    "    # Population variances\n",
    "    var_real = np.var(y_real)\n",
    "    var_pred = np.var(y_pred)\n",
    "    # Population standard deviations\n",
    "    sd_real = np.std(y_real)\n",
    "    sd_pred = np.std(y_pred)\n",
    "    # Calculate CCC\n",
    "    numerator = 2 * cor * sd_real * sd_pred\n",
    "    denominator = var_real + var_pred + (mean_real - mean_pred)**2\n",
    "\n",
    "    return numerator / denominator\n",
    "\n",
    "# Read the CSV file which is the base \n",
    "df = pd.read_csv('C:\\\\Users\\\\nkakhani\\\\_Multimodal\\\\SoilNet-5\\\\SoilNet\\\\results\\\\RUN_D_2023_06_02_T_20_57_Nafiseh.csv')\n",
    "\n",
    "# Extract the 'y_real' and 'y_pred' columns\n",
    "y_real = df['y_real']\n",
    "y_pred = df['y_pred']\n",
    "\n",
    "# Calculate RMSE (Root Mean Squared Error)\n",
    "rmse = np.sqrt(mean_squared_error(y_real, y_pred))\n",
    "\n",
    "# Calculate R2 (R-squared)\n",
    "r2 = r2_score(y_real, y_pred)\n",
    "\n",
    "# Calculate RPIQ (Relative Prediction Interval Quality)\n",
    "y_std = np.std(y_real)\n",
    "rpiq = 1 - (rmse / y_std)\n",
    "\n",
    "# Calculate MEC (Mean Error Correction)\n",
    "mec = np.mean(y_real - y_pred)\n",
    "\n",
    "# Calculate CCC (Concordance Correlation Coefficient)\n",
    "ccc = concordance_correlation_coefficient(y_real, y_pred)\n",
    "\n",
    "# Print the results\n",
    "print(\"RMSE:\", rmse)\n",
    "print(\"R2:\", r2)\n",
    "print(\"RPIQ:\", rpiq)\n",
    "print(\"MEC:\", mec)\n",
    "print(\"CCC:\", ccc)"
   ]
  },
  {
   "cell_type": "code",
   "execution_count": 14,
   "metadata": {},
   "outputs": [
    {
     "name": "stdout",
     "output_type": "stream",
     "text": [
      "RMSE: 0.22780334281729783\n",
      "R2: 0.3475514984403264\n",
      "RPIQ: 0.19225715629312456\n",
      "MEC: 0.006160398828157787\n",
      "CCC: 0.5364633131554861\n"
     ]
    }
   ],
   "source": [
    "# Read the CSV file which is second setup: added spatial attention\n",
    "df = pd.read_csv('C:\\\\Users\\\\nkakhani\\\\_Multimodal\\\\SoilNet-5\\\\SoilNet\\\\results\\\\RUN_D_2023_06_03_T_09_41_Nafiseh.csv')\n",
    "\n",
    "# Extract the 'y_real' and 'y_pred' columns\n",
    "y_real = df['y_real']\n",
    "y_pred = df['y_pred']\n",
    "\n",
    "# Calculate RMSE (Root Mean Squared Error)\n",
    "rmse = np.sqrt(mean_squared_error(y_real, y_pred))\n",
    "\n",
    "# Calculate R2 (R-squared)\n",
    "r2 = r2_score(y_real, y_pred)\n",
    "\n",
    "# Calculate RPIQ (Relative Prediction Interval Quality)\n",
    "y_std = np.std(y_real)\n",
    "rpiq = 1 - (rmse / y_std)\n",
    "\n",
    "# Calculate MEC (Mean Error Correction)\n",
    "mec = np.mean(y_real - y_pred)\n",
    "\n",
    "# Calculate CCC (Concordance Correlation Coefficient)\n",
    "ccc = concordance_correlation_coefficient(y_real, y_pred)\n",
    "\n",
    "# Print the results\n",
    "print(\"RMSE:\", rmse)\n",
    "print(\"R2:\", r2)\n",
    "print(\"RPIQ:\", rpiq)\n",
    "print(\"MEC:\", mec)\n",
    "print(\"CCC:\", ccc)"
   ]
  },
  {
   "cell_type": "code",
   "execution_count": 16,
   "metadata": {},
   "outputs": [
    {
     "name": "stdout",
     "output_type": "stream",
     "text": [
      "RMSE: 0.2083955824382181\n",
      "R2: -0.08706597990469511\n",
      "RPIQ: -0.042624563255958536\n",
      "MEC: -0.08646377299325758\n",
      "CCC: 0.42262217531833646\n"
     ]
    }
   ],
   "source": [
    "# Read the CSV file which is 4th setup: with balanced data\n",
    "df = pd.read_csv('C:\\\\Users\\\\nkakhani\\\\_Multimodal\\\\SoilNet-5\\\\SoilNet\\\\results\\\\RUN_D_2023_06_05_T_09_13_Nafiseh.csv')\n",
    "\n",
    "# Extract the 'y_real' and 'y_pred' columns\n",
    "y_real = df['y_real']\n",
    "y_pred = df['y_pred']\n",
    "\n",
    "# Calculate RMSE (Root Mean Squared Error)\n",
    "rmse = np.sqrt(mean_squared_error(y_real, y_pred))\n",
    "\n",
    "# Calculate R2 (R-squared)\n",
    "r2 = r2_score(y_real, y_pred)\n",
    "\n",
    "# Calculate RPIQ (Relative Prediction Interval Quality)\n",
    "y_std = np.std(y_real)\n",
    "rpiq = 1 - (rmse / y_std)\n",
    "\n",
    "# Calculate MEC (Mean Error Correction)\n",
    "mec = np.mean(y_real - y_pred)\n",
    "\n",
    "# Calculate CCC (Concordance Correlation Coefficient)\n",
    "ccc = concordance_correlation_coefficient(y_real, y_pred)\n",
    "\n",
    "# Print the results\n",
    "print(\"RMSE:\", rmse)\n",
    "print(\"R2:\", r2)\n",
    "print(\"RPIQ:\", rpiq)\n",
    "print(\"MEC:\", mec)\n",
    "print(\"CCC:\", ccc)"
   ]
  }
 ],
 "metadata": {
  "kernelspec": {
   "display_name": "pytorchGPU",
   "language": "python",
   "name": "python3"
  },
  "language_info": {
   "codemirror_mode": {
    "name": "ipython",
    "version": 3
   },
   "file_extension": ".py",
   "mimetype": "text/x-python",
   "name": "python",
   "nbconvert_exporter": "python",
   "pygments_lexer": "ipython3",
   "version": "3.9.16"
  },
  "orig_nbformat": 4
 },
 "nbformat": 4,
 "nbformat_minor": 2
}

{
 "cells": [
  {
   "cell_type": "code",
   "execution_count": 7,
   "metadata": {},
   "outputs": [],
   "source": [
    "import pandas as pd\n",
    "import numpy as np\n",
    "from sklearn.metrics import mean_squared_error, r2_score"
   ]
  },
  {
   "cell_type": "code",
   "execution_count": 8,
   "metadata": {},
   "outputs": [
    {
     "name": "stdout",
     "output_type": "stream",
     "text": [
      "RMSE: 0.22699898139464356\n",
      "R2: 0.34830255266345267\n",
      "RPIQ: 0.19272219940311275\n",
      "MEC: 0.010020012351307351\n",
      "CCC: 0.5299291227052048\n"
     ]
    }
   ],
   "source": [
    "\n",
    "def concordance_correlation_coefficient(y_real, y_pred):\n",
    "    \"\"\"Concordance correlation coefficient.\"\"\"\n",
    "    # Raw data\n",
    "    dct = {\n",
    "        'y_real': y_real,\n",
    "        'y_pred': y_pred\n",
    "    }\n",
    "    df = pd.DataFrame(dct)\n",
    "    # Remove NaNs\n",
    "    df = df.dropna()\n",
    "    # Pearson product-moment correlation coefficients\n",
    "    y_real = df['y_real']\n",
    "    y_pred = df['y_pred']\n",
    "    cor = np.corrcoef(y_real, y_pred)[0][1]\n",
    "    # Means\n",
    "    mean_real = np.mean(y_real)\n",
    "    mean_pred = np.mean(y_pred)\n",
    "    # Population variances\n",
    "    var_real = np.var(y_real)\n",
    "    var_pred = np.var(y_pred)\n",
    "    # Population standard deviations\n",
    "    sd_real = np.std(y_real)\n",
    "    sd_pred = np.std(y_pred)\n",
    "    # Calculate CCC\n",
    "    numerator = 2 * cor * sd_real * sd_pred\n",
    "    denominator = var_real + var_pred + (mean_real - mean_pred)**2\n",
    "\n",
    "    return numerator / denominator\n",
    "\n",
    "# Read the CSV file\n",
    "df = pd.read_csv('C:\\\\Users\\\\nkakhani\\\\_Multimodal\\\\SoilNet-5\\\\SoilNet\\\\results\\\\RUN_D_2023_05_25_T_11_30_Nafiseh.csv')\n",
    "\n",
    "# Extract the 'y_real' and 'y_pred' columns\n",
    "y_real = df['y_real']\n",
    "y_pred = df['y_pred']\n",
    "\n",
    "# Calculate RMSE (Root Mean Squared Error)\n",
    "rmse = np.sqrt(mean_squared_error(y_real, y_pred))\n",
    "\n",
    "# Calculate R2 (R-squared)\n",
    "r2 = r2_score(y_real, y_pred)\n",
    "\n",
    "# Calculate RPIQ (Relative Prediction Interval Quality)\n",
    "y_std = np.std(y_real)\n",
    "rpiq = 1 - (rmse / y_std)\n",
    "\n",
    "# Calculate MEC (Mean Error Correction)\n",
    "mec = np.mean(y_real - y_pred)\n",
    "\n",
    "# Calculate CCC (Concordance Correlation Coefficient)\n",
    "ccc = concordance_correlation_coefficient(y_real, y_pred)\n",
    "\n",
    "# Print the results\n",
    "print(\"RMSE:\", rmse)\n",
    "print(\"R2:\", r2)\n",
    "print(\"RPIQ:\", rpiq)\n",
    "print(\"MEC:\", mec)\n",
    "print(\"CCC:\", ccc)"
   ]
  }
 ],
 "metadata": {
  "kernelspec": {
   "display_name": "pytorchGPU",
   "language": "python",
   "name": "python3"
  },
  "language_info": {
   "codemirror_mode": {
    "name": "ipython",
    "version": 3
   },
   "file_extension": ".py",
   "mimetype": "text/x-python",
   "name": "python",
   "nbconvert_exporter": "python",
   "pygments_lexer": "ipython3",
   "version": "3.9.16"
  },
  "orig_nbformat": 4
 },
 "nbformat": 4,
 "nbformat_minor": 2
}

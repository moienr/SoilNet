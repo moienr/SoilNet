{
 "cells": [
  {
   "cell_type": "code",
   "execution_count": 1,
   "metadata": {},
   "outputs": [],
   "source": [
    "import matplotlib.pyplot as plt\n",
    "import numpy as np"
   ]
  },
  {
   "cell_type": "code",
   "execution_count": 2,
   "metadata": {},
   "outputs": [
    {
     "data": {
      "image/png": "[encoded data removed]",
      "text/plain": [
       "<Figure size 1000x100 with 1 Axes>"
      ]
     },
     "metadata": {},
     "output_type": "display_data"
    }
   ],
   "source": [
    "import matplotlib.pyplot as plt\n",
    "import matplotlib.colors as mcolors\n",
    "import numpy as np\n",
    "\n",
    "def create_continuous_palette(hex_colors, n_colors=256):\n",
    "    \"\"\"\n",
    "    Creates a continuous color palette from the specified hexadecimal colors.\n",
    "\n",
    "    Parameters:\n",
    "    - hex_colors: List of hexadecimal color strings.\n",
    "    - n_colors: Number of colors to generate in the palette.\n",
    "\n",
    "    Returns:\n",
    "    - A continuous colormap.\n",
    "    \"\"\"\n",
    "    # Create a color map from the hex colors\n",
    "    cmap = mcolors.LinearSegmentedColormap.from_list(\"custom_spectral\", hex_colors, N=n_colors)\n",
    "    return cmap\n",
    "\n",
    "def plot_partitioned_legend(cmap, percentages, max_value=87):\n",
    "    \"\"\"\n",
    "    Plots a legend with partitions based on specified percentages using the given colormap.\n",
    "\n",
    "    Parameters:\n",
    "    - cmap: The colormap to use for the legend.\n",
    "    - percentages: The partition percentages.\n",
    "    - max_value: The maximum value of the data range.\n",
    "    \"\"\"\n",
    "    values = percentages * max_value / 100.0\n",
    "    lengths = np.diff(values)  # Calculate lengths of each partition\n",
    "\n",
    "    fig, ax = plt.subplots(figsize=(10, 1))\n",
    "    norm = mcolors.Normalize(vmin=0, vmax=max_value)\n",
    "    \n",
    "    # Create a ScalarMappable and initialize a data array for the colorbar\n",
    "    sm = plt.cm.ScalarMappable(cmap=cmap, norm=norm)\n",
    "    sm.set_array([])\n",
    "\n",
    "    # Plot colorbar\n",
    "    cb = plt.colorbar(sm, cax=ax, orientation='horizontal', ticks=[0, max_value])\n",
    "    cb.set_label('Data Range')\n",
    "    cb.set_ticks(values[:-1])  # Set ticks at partition boundaries\n",
    "    cb.set_ticklabels([f'{p:.0f}%' for p in percentages[:-1]])\n",
    "    ax.set_title(\"Continuous Spectral Color Palette Legend\")\n",
    "\n",
    "# Hex colors for the spectral palette\n",
    "hex_colors = [\"#2B83BA\", \"#6BB0AF\", \"#ABDDA4\", \"#D4EEB1\", \"#FFFFBF\", \n",
    "              \"#FED690\", \"#FDAE61\", \"#EA633E\", \"#D7191C\"]\n",
    "\n",
    "# Percentages for the partitions\n",
    "percentages = np.array([0, 5, 12, 18, 26, 32, 39, 46, 53, 60, 68, 78, 90, 100])\n",
    "\n",
    "# Create a continuous color palette\n",
    "cmap = create_continuous_palette(hex_colors)\n",
    "\n",
    "# Plot the partitioned legend\n",
    "plot_partitioned_legend(cmap, percentages)\n"
   ]
  },
  {
   "cell_type": "code",
   "execution_count": 3,
   "metadata": {},
   "outputs": [
    {
     "data": {
      "image/png": "[encoded data removed]",
      "text/plain": [
       "<Figure size 2000x50 with 1 Axes>"
      ]
     },
     "metadata": {},
     "output_type": "display_data"
    }
   ],
   "source": [
    "import matplotlib.pyplot as plt\n",
    "import numpy as np\n",
    "from matplotlib.colors import LinearSegmentedColormap\n",
    "\n",
    "# Define the custom spectral colors\n",
    "hex_colors = [\"#2B83BA\", \"#6BB0AF\", \"#ABDDA4\", \"#D4EEB1\", \"#FFFFBF\", \n",
    "              \"#FED690\", \"#FDAE61\", \"#EA633E\", \"#D7191C\"]\n",
    "# Create a continuous colormap\n",
    "spectral_map = LinearSegmentedColormap.from_list(\"custom_spectral\", hex_colors)\n",
    "\n",
    "# Data range and percentages\n",
    "max_value = 87\n",
    "percentages = np.array([0, 5, 12, 18, 26, 32, 39, 46, 53, 60, 68, 78, 90, 100]) #LUCAS\n",
    "\n",
    "# max_value = 4115\n",
    "# percentages = np.array([0, 10, 16, 26, 26, 32, 38, 46, 62, 100]) #RaCA\n",
    "values = np.round(percentages * max_value / 100.0)\n",
    "\n",
    "# Prepare figure for the legend\n",
    "fig, ax = plt.subplots(figsize=(20, 0.5))\n",
    "gradient = np.linspace(0, 1, 256)\n",
    "gradient = np.vstack((gradient, gradient))\n",
    "\n",
    "# Display the continuous colormap\n",
    "ax.imshow(gradient, aspect='auto', cmap=spectral_map, extent=[0, max_value, 0, 1])\n",
    "\n",
    "# Draw black lines to divide fractions of data\n",
    "for value in values:\n",
    "    ax.axvline(x=value, color='black', linestyle='-', linewidth=1)\n",
    "\n",
    "# Add a black frame around the legend\n",
    "for spine in ax.spines.values():\n",
    "    spine.set_visible(True)\n",
    "    spine.set_edgecolor('black')\n",
    "    spine.set_linewidth(1)\n",
    "\n",
    "# Customize the legend appearance\n",
    "ax.set_yticks([])\n",
    "ax.set_xticks(values)\n",
    "# \n",
    "ax.set_xticklabels(values.astype(int), fontname ='sans-serif')  # Set font here\n",
    "\n",
    "\n",
    "# # Setting the font for the title and labels\n",
    "# plt.xlabel(\"Data Range (rounded values)\", fontname='Times New Roman')\n",
    "# plt.title(\"Continuous Spectral Color Palette with Data Partitions\", fontname='Times New Roman')\n",
    "\n",
    "# If you want to set Times New Roman as the default for all text in the plot:\n",
    "plt.rcParams['font.family'] = 'Calibri'\n",
    "\n",
    "# Save the plot\n",
    "plt.savefig('spectral_color_legend_transparent_LUCAS.png', dpi=200, bbox_inches='tight')\n",
    "\n",
    "plt.show()\n"
   ]
  },
  {
   "cell_type": "code",
   "execution_count": null,
   "metadata": {},
   "outputs": [],
   "source": []
  }
 ],
 "metadata": {
  "kernelspec": {
   "display_name": "geospatial",
   "language": "python",
   "name": "python3"
  },
  "language_info": {
   "codemirror_mode": {
    "name": "ipython",
    "version": 3
   },
   "file_extension": ".py",
   "mimetype": "text/x-python",
   "name": "python",
   "nbconvert_exporter": "python",
   "pygments_lexer": "ipython3",
   "version": "3.9.16"
  }
 },
 "nbformat": 4,
 "nbformat_minor": 2
}
